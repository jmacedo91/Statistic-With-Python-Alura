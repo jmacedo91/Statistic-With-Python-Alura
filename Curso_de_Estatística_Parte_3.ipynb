{
  "cells": [
    {
      "cell_type": "markdown",
      "metadata": {
        "id": "view-in-github",
        "colab_type": "text"
      },
      "source": [
        "<a href=\"https://colab.research.google.com/github/jmacedo91/Statistics-With-Python-Alura/blob/main/Curso_de_Estat%C3%ADstica_Parte_3.ipynb\" target=\"_parent\"><img src=\"https://colab.research.google.com/assets/colab-badge.svg\" alt=\"Open In Colab\"/></a>"
      ]
    },
    {
      "cell_type": "markdown",
      "metadata": {
        "id": "WvMflodMjQKe"
      },
      "source": [
        "# <font color=green size=10>CURSO DE ESTATÍSTICA - PARTE 3</font>\n",
        "\n",
        "***"
      ]
    },
    {
      "cell_type": "markdown",
      "metadata": {
        "id": "cVgsZ_E3jQKg"
      },
      "source": [
        "# <font color=green>1 CONHECENDO OS DADOS</font>\n",
        "***"
      ]
    },
    {
      "cell_type": "markdown",
      "metadata": {
        "id": "TDjqYYNojQKh"
      },
      "source": [
        "## <font color=green>1.1 Dataset do projeto</font>\n",
        "***"
      ]
    },
    {
      "cell_type": "markdown",
      "metadata": {
        "id": "iN1gIbaKjQKh"
      },
      "source": [
        "### Pesquisa Nacional por Amostra de Domicílios - 2015\n",
        "\n",
        "A <b>Pesquisa Nacional por Amostra de Domicílios - PNAD</b> investiga anualmente, de forma permanente, características gerais da população, de educação, trabalho, rendimento e habitação e outras, com periodicidade variável, de acordo com as necessidades de informação para o país, como as características sobre migração, fecundidade, nupcialidade, saúde, segurança alimentar, entre outros temas. O levantamento dessas estatísticas constitui, ao longo dos 49 anos de realização da pesquisa, um importante instrumento para formulação, validação e avaliação de políticas orientadas para o desenvolvimento socioeconômico e a melhoria das condições de vida no Brasil."
      ]
    },
    {
      "cell_type": "markdown",
      "metadata": {
        "id": "U6V7br1RjQKi"
      },
      "source": [
        "### Fonte dos Dados\n",
        "\n",
        "https://ww2.ibge.gov.br/home/estatistica/populacao/trabalhoerendimento/pnad2015/microdados.shtm"
      ]
    },
    {
      "cell_type": "markdown",
      "metadata": {
        "id": "r0Fe_qnzjQKj"
      },
      "source": [
        "### Variáveis utilizadas\n",
        "\n",
        "> ### Renda\n",
        "> ***\n",
        "\n",
        "Rendimento mensal do trabalho principal para pessoas de 10 anos ou mais de idade.\n",
        "\n",
        "> ### Idade\n",
        "> ***\n",
        "\n",
        "Idade do morador na data de referência em anos.\n",
        "\n",
        "> ### Altura (elaboração própria)\n",
        "> ***\n",
        "\n",
        "Altura do morador em metros.\n",
        "\n",
        "> ### UF\n",
        "> ***\n",
        "\n",
        "|Código|Descrição|\n",
        "|---|---|\n",
        "|11|Rondônia|\n",
        "|12|Acre|\n",
        "|13|Amazonas|\n",
        "|14|Roraima|\n",
        "|15|Pará|\n",
        "|16|Amapá|\n",
        "|17|Tocantins|\n",
        "|21|Maranhão|\n",
        "|22|Piauí|\n",
        "|23|Ceará|\n",
        "|24|Rio Grande do Norte|\n",
        "|25|Paraíba|\n",
        "|26|Pernambuco|\n",
        "|27|Alagoas|\n",
        "|28|Sergipe|\n",
        "|29|Bahia|\n",
        "|31|Minas Gerais|\n",
        "|32|Espírito Santo|\n",
        "|33|Rio de Janeiro|\n",
        "|35|São Paulo|\n",
        "|41|Paraná|\n",
        "|42|Santa Catarina|\n",
        "|43|Rio Grande do Sul|\n",
        "|50|Mato Grosso do Sul|\n",
        "|51|Mato Grosso|\n",
        "|52|Goiás|\n",
        "|53|Distrito Federal|\n",
        "\n",
        "> ### Sexo\t\n",
        "> ***\n",
        "\n",
        "|Código|Descrição|\n",
        "|---|---|\n",
        "|0|Masculino|\n",
        "|1|Feminino|\n",
        "\n",
        "> ### Anos de Estudo\n",
        "> ***\n",
        "\n",
        "|Código|Descrição|\n",
        "|---|---|\n",
        "|1|Sem instrução e menos de 1 ano|\n",
        "|2|1 ano|\n",
        "|3|2 anos|\n",
        "|4|3 anos|\n",
        "|5|4 anos|\n",
        "|6|5 anos|\n",
        "|7|6 anos|\n",
        "|8|7 anos|\n",
        "|9|8 anos|\n",
        "|10|9 anos|\n",
        "|11|10 anos|\n",
        "|12|11 anos|\n",
        "|13|12 anos|\n",
        "|14|13 anos|\n",
        "|15|14 anos|\n",
        "|16|15 anos ou mais|\n",
        "|17|Não determinados| \n",
        "||Não aplicável|\n",
        "\n",
        "> ### Cor\n",
        "> ***\n",
        "\n",
        "|Código|Descrição|\n",
        "|---|---|\n",
        "|0|Indígena|\n",
        "|2|Branca|\n",
        "|4|Preta|\n",
        "|6|Amarela|\n",
        "|8|Parda|\n",
        "|9|Sem declaração|"
      ]
    },
    {
      "cell_type": "markdown",
      "metadata": {
        "id": "OK1IQH5cX7Gb"
      },
      "source": [
        "#### <font color='red'>Observação</font>\n",
        "***\n",
        "> Os seguintes tratamentos foram realizados nos dados originais:\n",
        "> 1. Foram eliminados os registros onde a <b>Renda</b> era inválida (999 999 999 999);\n",
        "> 2. Foram eliminados os registros onde a <b>Renda</b> era missing;\n",
        "> 3. Foram considerados somente os registros das <b>Pessoas de Referência</b> de cada domicílio (responsável pelo domicílio)."
      ]
    },
    {
      "cell_type": "markdown",
      "metadata": {
        "id": "8Rw70V6ojQKk"
      },
      "source": [
        "### Importando pandas e lendo o dataset do projeto\n",
        "\n",
        "https://pandas.pydata.org/"
      ]
    },
    {
      "cell_type": "code",
      "source": [
        "from google.colab import drive\n",
        "drive.mount('/content/drive')"
      ],
      "metadata": {
        "id": "qG8BVQKttDCD",
        "colab": {
          "base_uri": "https://localhost:8080/"
        },
        "outputId": "b1220df5-1fbe-455e-e6ba-0e52b6c16fb4"
      },
      "execution_count": null,
      "outputs": [
        {
          "output_type": "stream",
          "name": "stdout",
          "text": [
            "Drive already mounted at /content/drive; to attempt to forcibly remount, call drive.mount(\"/content/drive\", force_remount=True).\n"
          ]
        }
      ]
    },
    {
      "cell_type": "code",
      "execution_count": null,
      "metadata": {
        "id": "8QgOpE-wjQKl"
      },
      "outputs": [],
      "source": [
        "import pandas as pd\n",
        "import numpy as np"
      ]
    },
    {
      "cell_type": "code",
      "execution_count": null,
      "metadata": {
        "id": "ufRZ7TLwjQKo"
      },
      "outputs": [],
      "source": [
        "dados = pd.read_csv('/content/drive/MyDrive/Colab Notebooks/Estatística com Python Parte 3: Testes de Hipóteses/dados.csv')"
      ]
    },
    {
      "cell_type": "code",
      "execution_count": null,
      "metadata": {
        "id": "GsC_WhLFjQKq",
        "scrolled": true,
        "colab": {
          "base_uri": "https://localhost:8080/"
        },
        "outputId": "39909dcd-b0f8-47c9-a2ed-5c774afe55c6"
      },
      "outputs": [
        {
          "output_type": "execute_result",
          "data": {
            "text/html": [
              "\n",
              "  <div id=\"df-cd263cf5-77fd-4dd6-8799-3305a97f1ee0\">\n",
              "    <div class=\"colab-df-container\">\n",
              "      <div>\n",
              "<style scoped>\n",
              "    .dataframe tbody tr th:only-of-type {\n",
              "        vertical-align: middle;\n",
              "    }\n",
              "\n",
              "    .dataframe tbody tr th {\n",
              "        vertical-align: top;\n",
              "    }\n",
              "\n",
              "    .dataframe thead th {\n",
              "        text-align: right;\n",
              "    }\n",
              "</style>\n",
              "<table border=\"1\" class=\"dataframe\">\n",
              "  <thead>\n",
              "    <tr style=\"text-align: right;\">\n",
              "      <th></th>\n",
              "      <th>UF</th>\n",
              "      <th>Sexo</th>\n",
              "      <th>Idade</th>\n",
              "      <th>Cor</th>\n",
              "      <th>Anos de Estudo</th>\n",
              "      <th>Renda</th>\n",
              "      <th>Altura</th>\n",
              "    </tr>\n",
              "  </thead>\n",
              "  <tbody>\n",
              "    <tr>\n",
              "      <th>0</th>\n",
              "      <td>11</td>\n",
              "      <td>0</td>\n",
              "      <td>23</td>\n",
              "      <td>8</td>\n",
              "      <td>12</td>\n",
              "      <td>800</td>\n",
              "      <td>1.603808</td>\n",
              "    </tr>\n",
              "    <tr>\n",
              "      <th>1</th>\n",
              "      <td>11</td>\n",
              "      <td>1</td>\n",
              "      <td>23</td>\n",
              "      <td>2</td>\n",
              "      <td>12</td>\n",
              "      <td>1150</td>\n",
              "      <td>1.739790</td>\n",
              "    </tr>\n",
              "    <tr>\n",
              "      <th>2</th>\n",
              "      <td>11</td>\n",
              "      <td>1</td>\n",
              "      <td>35</td>\n",
              "      <td>8</td>\n",
              "      <td>15</td>\n",
              "      <td>880</td>\n",
              "      <td>1.760444</td>\n",
              "    </tr>\n",
              "    <tr>\n",
              "      <th>3</th>\n",
              "      <td>11</td>\n",
              "      <td>0</td>\n",
              "      <td>46</td>\n",
              "      <td>2</td>\n",
              "      <td>6</td>\n",
              "      <td>3500</td>\n",
              "      <td>1.783158</td>\n",
              "    </tr>\n",
              "    <tr>\n",
              "      <th>4</th>\n",
              "      <td>11</td>\n",
              "      <td>1</td>\n",
              "      <td>47</td>\n",
              "      <td>8</td>\n",
              "      <td>9</td>\n",
              "      <td>150</td>\n",
              "      <td>1.690631</td>\n",
              "    </tr>\n",
              "  </tbody>\n",
              "</table>\n",
              "</div>\n",
              "      <button class=\"colab-df-convert\" onclick=\"convertToInteractive('df-cd263cf5-77fd-4dd6-8799-3305a97f1ee0')\"\n",
              "              title=\"Convert this dataframe to an interactive table.\"\n",
              "              style=\"display:none;\">\n",
              "        \n",
              "  <svg xmlns=\"http://www.w3.org/2000/svg\" height=\"24px\"viewBox=\"0 0 24 24\"\n",
              "       width=\"24px\">\n",
              "    <path d=\"M0 0h24v24H0V0z\" fill=\"none\"/>\n",
              "    <path d=\"M18.56 5.44l.94 2.06.94-2.06 2.06-.94-2.06-.94-.94-2.06-.94 2.06-2.06.94zm-11 1L8.5 8.5l.94-2.06 2.06-.94-2.06-.94L8.5 2.5l-.94 2.06-2.06.94zm10 10l.94 2.06.94-2.06 2.06-.94-2.06-.94-.94-2.06-.94 2.06-2.06.94z\"/><path d=\"M17.41 7.96l-1.37-1.37c-.4-.4-.92-.59-1.43-.59-.52 0-1.04.2-1.43.59L10.3 9.45l-7.72 7.72c-.78.78-.78 2.05 0 2.83L4 21.41c.39.39.9.59 1.41.59.51 0 1.02-.2 1.41-.59l7.78-7.78 2.81-2.81c.8-.78.8-2.07 0-2.86zM5.41 20L4 18.59l7.72-7.72 1.47 1.35L5.41 20z\"/>\n",
              "  </svg>\n",
              "      </button>\n",
              "      \n",
              "  <style>\n",
              "    .colab-df-container {\n",
              "      display:flex;\n",
              "      flex-wrap:wrap;\n",
              "      gap: 12px;\n",
              "    }\n",
              "\n",
              "    .colab-df-convert {\n",
              "      background-color: #E8F0FE;\n",
              "      border: none;\n",
              "      border-radius: 50%;\n",
              "      cursor: pointer;\n",
              "      display: none;\n",
              "      fill: #1967D2;\n",
              "      height: 32px;\n",
              "      padding: 0 0 0 0;\n",
              "      width: 32px;\n",
              "    }\n",
              "\n",
              "    .colab-df-convert:hover {\n",
              "      background-color: #E2EBFA;\n",
              "      box-shadow: 0px 1px 2px rgba(60, 64, 67, 0.3), 0px 1px 3px 1px rgba(60, 64, 67, 0.15);\n",
              "      fill: #174EA6;\n",
              "    }\n",
              "\n",
              "    [theme=dark] .colab-df-convert {\n",
              "      background-color: #3B4455;\n",
              "      fill: #D2E3FC;\n",
              "    }\n",
              "\n",
              "    [theme=dark] .colab-df-convert:hover {\n",
              "      background-color: #434B5C;\n",
              "      box-shadow: 0px 1px 3px 1px rgba(0, 0, 0, 0.15);\n",
              "      filter: drop-shadow(0px 1px 2px rgba(0, 0, 0, 0.3));\n",
              "      fill: #FFFFFF;\n",
              "    }\n",
              "  </style>\n",
              "\n",
              "      <script>\n",
              "        const buttonEl =\n",
              "          document.querySelector('#df-cd263cf5-77fd-4dd6-8799-3305a97f1ee0 button.colab-df-convert');\n",
              "        buttonEl.style.display =\n",
              "          google.colab.kernel.accessAllowed ? 'block' : 'none';\n",
              "\n",
              "        async function convertToInteractive(key) {\n",
              "          const element = document.querySelector('#df-cd263cf5-77fd-4dd6-8799-3305a97f1ee0');\n",
              "          const dataTable =\n",
              "            await google.colab.kernel.invokeFunction('convertToInteractive',\n",
              "                                                     [key], {});\n",
              "          if (!dataTable) return;\n",
              "\n",
              "          const docLinkHtml = 'Like what you see? Visit the ' +\n",
              "            '<a target=\"_blank\" href=https://colab.research.google.com/notebooks/data_table.ipynb>data table notebook</a>'\n",
              "            + ' to learn more about interactive tables.';\n",
              "          element.innerHTML = '';\n",
              "          dataTable['output_type'] = 'display_data';\n",
              "          await google.colab.output.renderOutput(dataTable, element);\n",
              "          const docLink = document.createElement('div');\n",
              "          docLink.innerHTML = docLinkHtml;\n",
              "          element.appendChild(docLink);\n",
              "        }\n",
              "      </script>\n",
              "    </div>\n",
              "  </div>\n",
              "  "
            ],
            "text/plain": [
              "   UF  Sexo  Idade  Cor  Anos de Estudo  Renda    Altura\n",
              "0  11     0     23    8              12    800  1.603808\n",
              "1  11     1     23    2              12   1150  1.739790\n",
              "2  11     1     35    8              15    880  1.760444\n",
              "3  11     0     46    2               6   3500  1.783158\n",
              "4  11     1     47    8               9    150  1.690631"
            ]
          },
          "metadata": {},
          "execution_count": 4
        }
      ],
      "source": [
        "dados.head()"
      ]
    },
    {
      "cell_type": "markdown",
      "metadata": {
        "id": "nk65O0lepz57"
      },
      "source": [
        "# <font color=green>2 TESTES DE HIPÓTESES</font>\n",
        "***"
      ]
    },
    {
      "cell_type": "markdown",
      "metadata": {
        "id": "OjHpQHFHpsi3"
      },
      "source": [
        "Testes estatísticos são regras de decisão que permitem avaliar a razoabilidade das hipóteses feitas sobre os parâmetros populacionais e aceitá-las ou rejeitá-las como provavelmente verdadeiras ou falsas tendo como base uma amostra."
      ]
    },
    {
      "cell_type": "markdown",
      "metadata": {
        "id": "qjqWccNspsi4"
      },
      "source": [
        "## <font color=green>2.1 Teste de normalidade</font>\n",
        "***"
      ]
    },
    {
      "cell_type": "markdown",
      "metadata": {
        "id": "O79kHHwYpsi5"
      },
      "source": [
        "### Importando bibliotecas\n",
        "https://docs.scipy.org/doc/scipy/reference/generated/scipy.stats.normaltest.html"
      ]
    },
    {
      "cell_type": "code",
      "execution_count": null,
      "metadata": {
        "id": "3LwfaqpFpsi5"
      },
      "outputs": [],
      "source": [
        "from scipy.stats import normaltest"
      ]
    },
    {
      "cell_type": "markdown",
      "metadata": {
        "id": "abDn-nKLpsi7"
      },
      "source": [
        "A função *normaltest* testa a hipótese nula $H_0$ de que a amostra é proveniente de uma distribuição normal."
      ]
    },
    {
      "cell_type": "markdown",
      "metadata": {
        "id": "gRDJ86zTpsi8"
      },
      "source": [
        "### Definindo a significância do teste ($\\alpha$)"
      ]
    },
    {
      "cell_type": "code",
      "execution_count": null,
      "metadata": {
        "id": "3s6ZAdCOpsi9"
      },
      "outputs": [],
      "source": [
        "significancia = 0.05"
      ]
    },
    {
      "cell_type": "markdown",
      "metadata": {
        "id": "sppYIE51psi_"
      },
      "source": [
        "### Testando a variável Renda"
      ]
    },
    {
      "cell_type": "code",
      "execution_count": null,
      "metadata": {
        "id": "IZpa91lHpsi_",
        "colab": {
          "base_uri": "https://localhost:8080/"
        },
        "outputId": "d561dc9a-18a0-4dc5-d129-b5f8719f3a43"
      },
      "outputs": [
        {
          "output_type": "execute_result",
          "data": {
            "text/plain": [
              "<matplotlib.axes._subplots.AxesSubplot at 0x7f9b9ad79c50>"
            ]
          },
          "metadata": {},
          "execution_count": 7
        },
        {
          "output_type": "display_data",
          "data": {
            "image/png": "[encoded data removed]",
            "text/plain": [
              "<Figure size 432x288 with 1 Axes>"
            ]
          },
          "metadata": {
            "needs_background": "light"
          }
        }
      ],
      "source": [
        "dados.Renda.hist(bins = 50)"
      ]
    },
    {
      "cell_type": "markdown",
      "metadata": {
        "id": "qKeNZ0PUpsjC"
      },
      "source": [
        "### <font color='red'>Critério do valor $p$</font>\n",
        "\n",
        "> ### Rejeitar $H_0$ se o valor $p\\leq 0,05$"
      ]
    },
    {
      "cell_type": "code",
      "execution_count": null,
      "metadata": {
        "id": "060ahVrrpsjD",
        "colab": {
          "base_uri": "https://localhost:8080/"
        },
        "outputId": "9e2b41eb-d796-4ea3-9a9a-da1c39326691"
      },
      "outputs": [
        {
          "output_type": "stream",
          "name": "stdout",
          "text": [
            "152380.75803960307\n",
            "0.0\n"
          ]
        }
      ],
      "source": [
        "stat_test, p_valor = normaltest(dados.Renda)\n",
        "print(stat_test)\n",
        "print(p_valor)"
      ]
    },
    {
      "cell_type": "code",
      "execution_count": null,
      "metadata": {
        "id": "Q4eJFGsCpsjG",
        "colab": {
          "base_uri": "https://localhost:8080/"
        },
        "outputId": "7f3ae836-98ff-43dd-87d7-9f245e39bf8c"
      },
      "outputs": [
        {
          "output_type": "execute_result",
          "data": {
            "text/plain": [
              "True"
            ]
          },
          "metadata": {},
          "execution_count": 9
        }
      ],
      "source": [
        "p_valor <= significancia # Se p_valor <= significancia a amostra não é proveniente de uma distribuição normal, a hipótese nula é rejeitada."
      ]
    },
    {
      "cell_type": "markdown",
      "metadata": {
        "id": "JkAxa9PqpsjM"
      },
      "source": [
        "### Testando a variável Altura"
      ]
    },
    {
      "cell_type": "code",
      "execution_count": null,
      "metadata": {
        "id": "n9r88dMKpsjN",
        "colab": {
          "base_uri": "https://localhost:8080/"
        },
        "outputId": "50fab433-d754-4995-ae2f-8354658500de"
      },
      "outputs": [
        {
          "output_type": "execute_result",
          "data": {
            "text/plain": [
              "<matplotlib.axes._subplots.AxesSubplot at 0x7f9b9ac0b750>"
            ]
          },
          "metadata": {},
          "execution_count": 10
        },
        {
          "output_type": "display_data",
          "data": {
            "image/png": "[encoded data removed]",
            "text/plain": [
              "<Figure size 432x288 with 1 Axes>"
            ]
          },
          "metadata": {
            "needs_background": "light"
          }
        }
      ],
      "source": [
        "dados.Altura.hist(bins = 50)"
      ]
    },
    {
      "cell_type": "markdown",
      "metadata": {
        "id": "1ADrwGb5psjQ"
      },
      "source": [
        "### <font color='red'>Critério do valor $p$</font>\n",
        "\n",
        "> ### Rejeitar $H_0$ se o valor $p\\leq 0,05$"
      ]
    },
    {
      "cell_type": "code",
      "execution_count": null,
      "metadata": {
        "id": "aV9fx6w5psjb",
        "colab": {
          "base_uri": "https://localhost:8080/"
        },
        "outputId": "567bf29b-13fd-44aa-9360-e4dc5615d85a"
      },
      "outputs": [
        {
          "output_type": "stream",
          "name": "stdout",
          "text": [
            "0.19973093957002253\n",
            "0.9049591541967501\n"
          ]
        }
      ],
      "source": [
        "stat_test, p_valor = normaltest(dados.Altura)\n",
        "print(stat_test)\n",
        "print(p_valor)"
      ]
    },
    {
      "cell_type": "code",
      "execution_count": null,
      "metadata": {
        "id": "pP-NZCthpsje",
        "colab": {
          "base_uri": "https://localhost:8080/"
        },
        "outputId": "fb590bf2-19c8-474b-f708-563aa820470d"
      },
      "outputs": [
        {
          "output_type": "execute_result",
          "data": {
            "text/plain": [
              "False"
            ]
          },
          "metadata": {},
          "execution_count": 12
        }
      ],
      "source": [
        "p_valor <= significancia # Distribuição Normal"
      ]
    },
    {
      "cell_type": "markdown",
      "metadata": {
        "id": "rWh-HSd-psji"
      },
      "source": [
        "## <font color=green>2.2 Etapas Básicas de um Teste</font>\n",
        "***"
      ]
    },
    {
      "cell_type": "markdown",
      "metadata": {
        "id": "DQF30K2Cpsjj"
      },
      "source": [
        "### **Passo 1** - formulação das hipóteses $H_0$ e $H_1$;\n",
        "\n",
        "> ### <font color='red'>Pontos importantes</font>\n",
        "> - De maneira geral, o alvo do estudo deve ser formulado como a hipótese alternativa $H_1$.\n",
        "> - A hipótese nula sempre afirma uma igualdade ou propriedade populacional, e $H_1$ a desigualdade que nega $H_0$.\n",
        "> - No caso da hipótese nula $H_0$ a igualdade pode ser representada por uma igualdade simples \"$=$\" ou por \"$\\geq$\" e \"$\\leq$\". Sempre complementar ao estabelecido pela hipótese alternativa.\n",
        "> - A hipótese alternativa $H_1$ deve definir uma desigualdade que pode ser uma diferença simples \"$\\neq$\" ou dos tipos \"$>$\" e \"$<$\".\n",
        "\n",
        "\n",
        "### **Passo 2** - escolha da distribuição amostral adequada;\n",
        "\n",
        "> ### <font color='red'>Pontos importantes</font>\n",
        "> - Quando o tamanho da amostra tiver 30 elementos ou mais, deve-se utilizar a distribuição normal, como estabelecido pelo **teorema do limite central**.\n",
        "> - Para um tamanho de amostra menor que 30 elementos, e se pudermos afirmar que a população se distribui aproximadamente como uma normal e o desvio padrão populacional for conhecido, deve-se utilizar a distribuição normal.\n",
        "> - Para um tamanho de amostra menor que 30 elementos, e se pudermos afirmar que a população se distribui aproximadamente como uma normal e o desvio padrão populacional for desconhecido, deve-se utilizar a distribuição t de Student.\n",
        "\n",
        "<img src='https://caelum-online-public.s3.amazonaws.com/1229-estatistica-parte3/01/img003.png' width=70%>\n",
        "\n",
        "### **Passo 3** - fixação da significância do teste ($\\alpha$), que define as regiões de aceitação e rejeição das hipóteses (os valores mais freqüentes são 10%, 5% e 1%);\n",
        "\n",
        "> ### <font color='red'>Pontos importantes</font>\n",
        "> - O **nível de confiança** ($1 - \\alpha$) representa a probabilidade de acerto da estimativa. De forma complementar o **nível de significância** ($\\alpha$) expressa a probabilidade de erro da estimativa.\n",
        ">\n",
        "> ![Níveis de Confiança e significância](https://caelum-online-public.s3.amazonaws.com/1229-estatistica-parte3/01/img001.png)\n",
        ">\n",
        "> - O **nível de confiança** representa o grau de confiabilidade do resultado da estimativa estar dentro de determinado intervalo. Quando fixamos em uma pesquisa um **nível de confiança** de 95%, por exemplo, estamos assumindo que existe uma probabilidade de 95% dos resultados da pesquisa representarem bem a realidade, ou seja, estarem corretos.\n",
        ">\n",
        "> ![Áreas de Aceitação e Rejeição](https://caelum-online-public.s3.amazonaws.com/1229-estatistica-parte3/01/img002.png)\n",
        "\n",
        "### **Passo 4** - cálculo da estatística-teste e verificação desse valor com as áreas de aceitação e rejeição do teste;\n",
        "\n",
        "> ### <font color='red'>Pontos importantes</font>\n",
        "> - Nos testes paramétricos, distância relativa entre a estatística amostral e o valor alegado como provável.\n",
        "> - Neste passo são obtidas as estatísticas amostrais necessárias à execução do teste (média, desvio-padrão, graus de liberdade etc.)\n",
        "\n",
        "\n",
        "### **Passo 5** - Aceitação ou rejeição da hipótese nula.\n",
        "\n",
        "> ### <font color='red'>Pontos importantes</font>\n",
        "> - No caso de o intervalo de aceitação conter a estatística-teste, aceita-se $H_0$ como estatisticamente válido e rejeita-se $H_1$ como tal.\n",
        "> - No caso de o intervalo de aceitação não conter a estatística-teste, rejeita-se $H_0$ e aceita-se $H_1$ como provavelmente verdadeira. \n",
        "> - A aceitação também se verifica com a probabilidade de cauda (p-valor): se maior que $\\alpha$, aceita-se $H_0$."
      ]
    },
    {
      "cell_type": "markdown",
      "source": [
        "Nesta aula, aprendemos:\n",
        "\n",
        "- A preparar um ambiente de trabalho no Colaboratory.\n",
        "- A executar um teste de normalidade com as ferramentas da biblioteca Scipy\n",
        "- As cinco principais etapas para elaboração de um teste de hipóteses"
      ],
      "metadata": {
        "id": "Ybt0YjNc8zR8"
      }
    },
    {
      "cell_type": "markdown",
      "metadata": {
        "id": "TXdMM0dOpsjm"
      },
      "source": [
        "---"
      ]
    },
    {
      "cell_type": "markdown",
      "metadata": {
        "id": "miGOADKYpsjn"
      },
      "source": [
        "# <font color=green>3 TESTES PARAMÉTRICOS</font>\n",
        "***"
      ]
    },
    {
      "cell_type": "markdown",
      "metadata": {
        "id": "pIHY_4Sspsjn"
      },
      "source": [
        "Quando um teste assume determinadas premissas sobre como os parâmetros de uma população se distribuem, estamos trabalhando com **Testes Paramétricos**."
      ]
    },
    {
      "cell_type": "markdown",
      "metadata": {
        "id": "rUKgxZ7_psjp"
      },
      "source": [
        "## <font color=green>3.1 Teste Bicaudal</font>\n",
        "***"
      ]
    },
    {
      "cell_type": "markdown",
      "metadata": {
        "id": "i1PMIB5cpsjp"
      },
      "source": [
        "## <font color='red'>Problema</font>"
      ]
    },
    {
      "cell_type": "markdown",
      "metadata": {
        "id": "vellTWzJpsjq"
      },
      "source": [
        "A empresa **Suco Bom** produz **sucos de frutas em embalagens de 500 ml**. Seu processo de produção é quase todo automatizado e as embalagens de sucos são preenchidas por uma máquina que às vezes apresenta um certo desajuste, levando a erros no preenchimento das embalagens para mais ou menos conteúdo. Quando o volume médio cai abaixo de 500 ml, a empresa se preocupa em perder vendas e ter problemas com os orgãos fiscalizadores. Quando o volume passa de 500 ml, a empresa começa a se preocupar com prejuízos no processo de produção.\n",
        "\n",
        "O setor de controle de qualidade da empresa **Suco Bom** extrai, periodicamente, **amostras de 50 embalagens** para monitorar o processo de produção. Para cada amostra, é realizado um **teste de hipóteses** para avaliar se o maquinário se desajustou. A equipe de controle de qualidade assume um **nível de significância de 5%**.\n",
        "\n",
        "Suponha agora que uma **amostra de 50 embalagens** foi selecionada e que a **média amostral observada foi de 503,24 ml**. **Esse valor de média amostral é suficientemente maior que 500 ml para nos fazer rejeitar a hipótese de que a média do processo é de 500 ml ao nível de significância de 5%?**"
      ]
    },
    {
      "cell_type": "markdown",
      "metadata": {
        "id": "-J15nugOpsjq"
      },
      "source": [
        "---"
      ]
    },
    {
      "cell_type": "markdown",
      "metadata": {
        "id": "076qvKgapsjr"
      },
      "source": [
        "O **teste bicaudal** é muito utilizado em **testes de qualidade**, como o apresentado em nosso problema acima. Outro exemplo é a avaliação de peças que devem ter um encaixe perfeito (porcas e parafusos, chaves e fechaduras)."
      ]
    },
    {
      "cell_type": "markdown",
      "metadata": {
        "id": "MyGUYz88psjr"
      },
      "source": [
        "![Teste Bicaudal](https://caelum-online-public.s3.amazonaws.com/1229-estatistica-parte3/01/img005.png)"
      ]
    },
    {
      "cell_type": "markdown",
      "metadata": {
        "id": "EOiKt64mpsjs"
      },
      "source": [
        "---"
      ]
    },
    {
      "cell_type": "markdown",
      "metadata": {
        "id": "011wNGXtpsjs"
      },
      "source": [
        "### Dados do problema"
      ]
    },
    {
      "cell_type": "code",
      "execution_count": null,
      "metadata": {
        "id": "lHLlGH7upsjt"
      },
      "outputs": [],
      "source": [
        "amostra = [509, 505, 495, 510, 496, 509, 497, 502, 503, 505, \n",
        "           501, 505, 510, 505, 504, 497, 506, 506, 508, 505, \n",
        "           497, 504, 500, 498, 506, 496, 508, 497, 503, 501, \n",
        "           503, 506, 499, 498, 509, 507, 503, 499, 509, 495, \n",
        "           502, 505, 504, 509, 508, 501, 505, 497, 508, 507]"
      ]
    },
    {
      "cell_type": "code",
      "execution_count": null,
      "metadata": {
        "id": "AJNH5RQtpsju",
        "scrolled": false,
        "colab": {
          "base_uri": "https://localhost:8080/"
        },
        "outputId": "37c79c66-6106-4404-fa0d-80eb79de7192"
      },
      "outputs": [
        {
          "output_type": "execute_result",
          "data": {
            "text/html": [
              "\n",
              "  <div id=\"df-94fb4bfa-0860-45ad-80c0-52bf5d8e3d91\">\n",
              "    <div class=\"colab-df-container\">\n",
              "      <div>\n",
              "<style scoped>\n",
              "    .dataframe tbody tr th:only-of-type {\n",
              "        vertical-align: middle;\n",
              "    }\n",
              "\n",
              "    .dataframe tbody tr th {\n",
              "        vertical-align: top;\n",
              "    }\n",
              "\n",
              "    .dataframe thead th {\n",
              "        text-align: right;\n",
              "    }\n",
              "</style>\n",
              "<table border=\"1\" class=\"dataframe\">\n",
              "  <thead>\n",
              "    <tr style=\"text-align: right;\">\n",
              "      <th></th>\n",
              "      <th>Amostra</th>\n",
              "    </tr>\n",
              "  </thead>\n",
              "  <tbody>\n",
              "    <tr>\n",
              "      <th>0</th>\n",
              "      <td>509</td>\n",
              "    </tr>\n",
              "    <tr>\n",
              "      <th>1</th>\n",
              "      <td>505</td>\n",
              "    </tr>\n",
              "    <tr>\n",
              "      <th>2</th>\n",
              "      <td>495</td>\n",
              "    </tr>\n",
              "    <tr>\n",
              "      <th>3</th>\n",
              "      <td>510</td>\n",
              "    </tr>\n",
              "    <tr>\n",
              "      <th>4</th>\n",
              "      <td>496</td>\n",
              "    </tr>\n",
              "  </tbody>\n",
              "</table>\n",
              "</div>\n",
              "      <button class=\"colab-df-convert\" onclick=\"convertToInteractive('df-94fb4bfa-0860-45ad-80c0-52bf5d8e3d91')\"\n",
              "              title=\"Convert this dataframe to an interactive table.\"\n",
              "              style=\"display:none;\">\n",
              "        \n",
              "  <svg xmlns=\"http://www.w3.org/2000/svg\" height=\"24px\"viewBox=\"0 0 24 24\"\n",
              "       width=\"24px\">\n",
              "    <path d=\"M0 0h24v24H0V0z\" fill=\"none\"/>\n",
              "    <path d=\"M18.56 5.44l.94 2.06.94-2.06 2.06-.94-2.06-.94-.94-2.06-.94 2.06-2.06.94zm-11 1L8.5 8.5l.94-2.06 2.06-.94-2.06-.94L8.5 2.5l-.94 2.06-2.06.94zm10 10l.94 2.06.94-2.06 2.06-.94-2.06-.94-.94-2.06-.94 2.06-2.06.94z\"/><path d=\"M17.41 7.96l-1.37-1.37c-.4-.4-.92-.59-1.43-.59-.52 0-1.04.2-1.43.59L10.3 9.45l-7.72 7.72c-.78.78-.78 2.05 0 2.83L4 21.41c.39.39.9.59 1.41.59.51 0 1.02-.2 1.41-.59l7.78-7.78 2.81-2.81c.8-.78.8-2.07 0-2.86zM5.41 20L4 18.59l7.72-7.72 1.47 1.35L5.41 20z\"/>\n",
              "  </svg>\n",
              "      </button>\n",
              "      \n",
              "  <style>\n",
              "    .colab-df-container {\n",
              "      display:flex;\n",
              "      flex-wrap:wrap;\n",
              "      gap: 12px;\n",
              "    }\n",
              "\n",
              "    .colab-df-convert {\n",
              "      background-color: #E8F0FE;\n",
              "      border: none;\n",
              "      border-radius: 50%;\n",
              "      cursor: pointer;\n",
              "      display: none;\n",
              "      fill: #1967D2;\n",
              "      height: 32px;\n",
              "      padding: 0 0 0 0;\n",
              "      width: 32px;\n",
              "    }\n",
              "\n",
              "    .colab-df-convert:hover {\n",
              "      background-color: #E2EBFA;\n",
              "      box-shadow: 0px 1px 2px rgba(60, 64, 67, 0.3), 0px 1px 3px 1px rgba(60, 64, 67, 0.15);\n",
              "      fill: #174EA6;\n",
              "    }\n",
              "\n",
              "    [theme=dark] .colab-df-convert {\n",
              "      background-color: #3B4455;\n",
              "      fill: #D2E3FC;\n",
              "    }\n",
              "\n",
              "    [theme=dark] .colab-df-convert:hover {\n",
              "      background-color: #434B5C;\n",
              "      box-shadow: 0px 1px 3px 1px rgba(0, 0, 0, 0.15);\n",
              "      filter: drop-shadow(0px 1px 2px rgba(0, 0, 0, 0.3));\n",
              "      fill: #FFFFFF;\n",
              "    }\n",
              "  </style>\n",
              "\n",
              "      <script>\n",
              "        const buttonEl =\n",
              "          document.querySelector('#df-94fb4bfa-0860-45ad-80c0-52bf5d8e3d91 button.colab-df-convert');\n",
              "        buttonEl.style.display =\n",
              "          google.colab.kernel.accessAllowed ? 'block' : 'none';\n",
              "\n",
              "        async function convertToInteractive(key) {\n",
              "          const element = document.querySelector('#df-94fb4bfa-0860-45ad-80c0-52bf5d8e3d91');\n",
              "          const dataTable =\n",
              "            await google.colab.kernel.invokeFunction('convertToInteractive',\n",
              "                                                     [key], {});\n",
              "          if (!dataTable) return;\n",
              "\n",
              "          const docLinkHtml = 'Like what you see? Visit the ' +\n",
              "            '<a target=\"_blank\" href=https://colab.research.google.com/notebooks/data_table.ipynb>data table notebook</a>'\n",
              "            + ' to learn more about interactive tables.';\n",
              "          element.innerHTML = '';\n",
              "          dataTable['output_type'] = 'display_data';\n",
              "          await google.colab.output.renderOutput(dataTable, element);\n",
              "          const docLink = document.createElement('div');\n",
              "          docLink.innerHTML = docLinkHtml;\n",
              "          element.appendChild(docLink);\n",
              "        }\n",
              "      </script>\n",
              "    </div>\n",
              "  </div>\n",
              "  "
            ],
            "text/plain": [
              "   Amostra\n",
              "0      509\n",
              "1      505\n",
              "2      495\n",
              "3      510\n",
              "4      496"
            ]
          },
          "metadata": {},
          "execution_count": 14
        }
      ],
      "source": [
        "amostra = pd.DataFrame(amostra, columns = ['Amostra'])\n",
        "amostra.head()"
      ]
    },
    {
      "cell_type": "code",
      "execution_count": null,
      "metadata": {
        "id": "tnjD0A_ppsjw",
        "colab": {
          "base_uri": "https://localhost:8080/"
        },
        "outputId": "92432268-db3f-4454-f031-3eba56bbf70e"
      },
      "outputs": [
        {
          "output_type": "execute_result",
          "data": {
            "text/plain": [
              "503.24"
            ]
          },
          "metadata": {},
          "execution_count": 15
        }
      ],
      "source": [
        "media_amostra = amostra.mean()[0]\n",
        "media_amostra"
      ]
    },
    {
      "cell_type": "code",
      "execution_count": null,
      "metadata": {
        "id": "JXz2IFCUpsjy",
        "colab": {
          "base_uri": "https://localhost:8080/"
        },
        "outputId": "9e607c3a-5401-48d2-dfd6-cd70230ce5a6"
      },
      "outputs": [
        {
          "output_type": "execute_result",
          "data": {
            "text/plain": [
              "Amostra    4.483803\n",
              "dtype: float64"
            ]
          },
          "metadata": {},
          "execution_count": 16
        }
      ],
      "source": [
        "desvio_padrao_amostra = amostra.std()\n",
        "desvio_padrao_amostra"
      ]
    },
    {
      "cell_type": "code",
      "execution_count": null,
      "metadata": {
        "id": "PE99TXSfpsj0"
      },
      "outputs": [],
      "source": [
        "media = 500\n",
        "significancia = 0.05\n",
        "confianca = 1 - significancia\n",
        "n = 50"
      ]
    },
    {
      "cell_type": "markdown",
      "metadata": {
        "id": "nqmFpl7wpsj2"
      },
      "source": [
        "### **Passo 1** - formulação das hipóteses $H_0$ e $H_1$\n",
        "\n",
        "#### <font color='red'>Lembre-se, a hipótese nula sempre contém a alegação de igualdade</font>"
      ]
    },
    {
      "cell_type": "markdown",
      "metadata": {
        "id": "QVcqkHZhpsj3"
      },
      "source": [
        "### $H_0: \\mu = 500$\n",
        "\n",
        "### $H_1: \\mu \\neq 500$"
      ]
    },
    {
      "cell_type": "markdown",
      "metadata": {
        "id": "MShPuVL6psj3"
      },
      "source": [
        "---"
      ]
    },
    {
      "cell_type": "markdown",
      "metadata": {
        "id": "_rAz73fzpsj4"
      },
      "source": [
        "### **Passo 2** - escolha da distribuição amostral adequada\n",
        "<img src='https://caelum-online-public.s3.amazonaws.com/1229-estatistica-parte3/01/img003.png' width=70%>"
      ]
    },
    {
      "cell_type": "markdown",
      "metadata": {
        "id": "XC1JOtU9psj4"
      },
      "source": [
        "### O tamanho da amostra é maior que 30?\n",
        "#### Resp.: Sim\n",
        "\n",
        "### O desvio padrão populacional é conhecido?\n",
        "#### Resp.: Não"
      ]
    },
    {
      "cell_type": "markdown",
      "metadata": {
        "id": "Uq-Zq_Sxpsj5"
      },
      "source": [
        "---"
      ]
    },
    {
      "cell_type": "markdown",
      "metadata": {
        "id": "V3OT4caspsj5"
      },
      "source": [
        "### **Passo 3** - fixação da significância do teste ($\\alpha$)"
      ]
    },
    {
      "cell_type": "markdown",
      "metadata": {
        "id": "wI1Nhj_vpsj6"
      },
      "source": [
        "https://docs.scipy.org/doc/scipy/reference/generated/scipy.stats.norm.html"
      ]
    },
    {
      "cell_type": "code",
      "execution_count": null,
      "metadata": {
        "id": "nUd-6AzZpsj6"
      },
      "outputs": [],
      "source": [
        "from scipy.stats import norm"
      ]
    },
    {
      "cell_type": "code",
      "execution_count": null,
      "metadata": {
        "id": "2JyYCHeQpsj8",
        "colab": {
          "base_uri": "https://localhost:8080/"
        },
        "outputId": "0b10ee0a-64ed-4109-8de3-01b5422ce684"
      },
      "outputs": [
        {
          "output_type": "execute_result",
          "data": {
            "text/plain": [
              "0.975"
            ]
          },
          "metadata": {},
          "execution_count": 19
        }
      ],
      "source": [
        "probabilidade = (0.5 + (confianca / 2))\n",
        "probabilidade"
      ]
    },
    {
      "cell_type": "markdown",
      "metadata": {
        "id": "Fu4Wbd-ipsj-"
      },
      "source": [
        "### Obtendo $z_{\\alpha/2}$"
      ]
    },
    {
      "cell_type": "code",
      "execution_count": null,
      "metadata": {
        "id": "imc3GyDLpsj_",
        "colab": {
          "base_uri": "https://localhost:8080/"
        },
        "outputId": "6167210c-6e03-4414-808d-ddb7af8190ba"
      },
      "outputs": [
        {
          "output_type": "execute_result",
          "data": {
            "text/plain": [
              "1.959963984540054"
            ]
          },
          "metadata": {},
          "execution_count": 20
        }
      ],
      "source": [
        "z_alpha_2 = norm.ppf(probabilidade)\n",
        "z_alpha_2"
      ]
    },
    {
      "cell_type": "markdown",
      "metadata": {
        "id": "d98Z21yOpskB"
      },
      "source": [
        "![Região de Aceitação](https://caelum-online-public.s3.amazonaws.com/1229-estatistica-parte3/01/img006.png)"
      ]
    },
    {
      "cell_type": "markdown",
      "metadata": {
        "id": "eyfX7pYMpskC"
      },
      "source": [
        "---"
      ]
    },
    {
      "cell_type": "markdown",
      "metadata": {
        "id": "aaLCZs0ApskC"
      },
      "source": [
        "### **Passo 4** - cálculo da estatística-teste e verificação desse valor com as áreas de aceitação e rejeição do teste\n",
        "\n",
        "# $$z = \\frac{\\bar{x} - \\mu_0}{\\frac{s}{\\sqrt{n}}}$$"
      ]
    },
    {
      "cell_type": "code",
      "execution_count": null,
      "metadata": {
        "id": "a6zMj0YzpskC",
        "colab": {
          "base_uri": "https://localhost:8080/"
        },
        "outputId": "604c9f4d-4f68-4016-cf3f-5bdabe51f84a"
      },
      "outputs": [
        {
          "output_type": "execute_result",
          "data": {
            "text/plain": [
              "Amostra    5.10956\n",
              "dtype: float64"
            ]
          },
          "metadata": {},
          "execution_count": 21
        }
      ],
      "source": [
        "z = (media_amostra - media) / (desvio_padrao_amostra / np.sqrt(n)) # Z teste\n",
        "z"
      ]
    },
    {
      "cell_type": "markdown",
      "metadata": {
        "id": "UMHqgrlupskE"
      },
      "source": [
        "![Estatística-Teste](https://caelum-online-public.s3.amazonaws.com/1229-estatistica-parte3/01/img007.png)"
      ]
    },
    {
      "cell_type": "markdown",
      "metadata": {
        "id": "tFfJX8G9pskF"
      },
      "source": [
        "---"
      ]
    },
    {
      "cell_type": "markdown",
      "metadata": {
        "id": "aqTnTTePpskF"
      },
      "source": [
        "### **Passo 5** - Aceitação ou rejeição da hipótese nula"
      ]
    },
    {
      "cell_type": "markdown",
      "metadata": {
        "id": "pD1cc4DHpskG"
      },
      "source": [
        "<img src='https://caelum-online-public.s3.amazonaws.com/1229-estatistica-parte3/01/img013.png' width=90%>"
      ]
    },
    {
      "cell_type": "markdown",
      "metadata": {
        "id": "qbnH6V15pskG"
      },
      "source": [
        "### <font color='red'>Critério do valor crítico</font>\n",
        "\n",
        "> ### Teste Bicaudal\n",
        "> ### Rejeitar $H_0$ se $z \\leq -z_{\\alpha / 2}$ ou se $z \\geq z_{\\alpha / 2}$"
      ]
    },
    {
      "cell_type": "code",
      "execution_count": null,
      "metadata": {
        "id": "-MkJyqSupskG",
        "colab": {
          "base_uri": "https://localhost:8080/"
        },
        "outputId": "92047d39-ff8a-42d8-b3fe-d025784ad488"
      },
      "outputs": [
        {
          "output_type": "execute_result",
          "data": {
            "text/plain": [
              "Amostra    False\n",
              "dtype: bool"
            ]
          },
          "metadata": {},
          "execution_count": 22
        }
      ],
      "source": [
        "z <= -z_alpha_2"
      ]
    },
    {
      "cell_type": "code",
      "execution_count": null,
      "metadata": {
        "id": "FVTIIXA3pskI",
        "colab": {
          "base_uri": "https://localhost:8080/"
        },
        "outputId": "3161675d-a462-46ca-db8e-374485b78d22"
      },
      "outputs": [
        {
          "output_type": "execute_result",
          "data": {
            "text/plain": [
              "Amostra    True\n",
              "dtype: bool"
            ]
          },
          "metadata": {},
          "execution_count": 23
        }
      ],
      "source": [
        "z >= z_alpha_2"
      ]
    },
    {
      "cell_type": "markdown",
      "metadata": {
        "id": "YX-xSnZFpskM"
      },
      "source": [
        "### <font color='green'>Conclusão: Como a média amostral $\\bar{x}$ é significativamente maior que 500 ml, rejeitamos $H_0$. Neste caso, devem ser tomadas providências para ajustar o maquinário que preenche as embalagens.</font>"
      ]
    },
    {
      "cell_type": "markdown",
      "source": [
        "### Exercício"
      ],
      "metadata": {
        "id": "gRAapBOp6yHe"
      }
    },
    {
      "cell_type": "markdown",
      "source": [
        "Um fabricante de farinha afirma que a quantidade média de farinha nas embalagens de seu principal produto é de 500 g. Um teste de pesagem em 30 embalagens amostradas ao acaso mostrou um peso médio igual à 485 g. Estudos anteriores afirmam que a distribuição dos pesos segue uma normal e que o desvio padrão populacional é igual a 20 g. Considerando um nível de significância igual a 5%, responda as seguintes questões:"
      ],
      "metadata": {
        "id": "hjMS2WbOnvNN"
      }
    },
    {
      "cell_type": "code",
      "source": [
        "md_produto = 500\n",
        "md_amostra = 485\n",
        "std_populacional = 20\n",
        "a = 30\n",
        "\n",
        "Z = (md_amostra - md_produto) / (std_populacional / np.sqrt(a))\n",
        "Z"
      ],
      "metadata": {
        "colab": {
          "base_uri": "https://localhost:8080/"
        },
        "id": "tT-HHjuAn0kR",
        "outputId": "e4f2eab9-b5a8-4e9c-f3ca-4ce653183b09"
      },
      "execution_count": null,
      "outputs": [
        {
          "output_type": "execute_result",
          "data": {
            "text/plain": [
              "-4.107919181288746"
            ]
          },
          "metadata": {},
          "execution_count": 24
        }
      ]
    },
    {
      "cell_type": "code",
      "source": [
        "Z <= z_alpha_2 or Z >= z_alpha_2 # Hipótese nula rejeitada"
      ],
      "metadata": {
        "colab": {
          "base_uri": "https://localhost:8080/"
        },
        "id": "tq-XLzWqry0D",
        "outputId": "10dd3e85-9403-4ef1-fa12-7f20b51fce2d"
      },
      "execution_count": null,
      "outputs": [
        {
          "output_type": "execute_result",
          "data": {
            "text/plain": [
              "True"
            ]
          },
          "metadata": {},
          "execution_count": 25
        }
      ]
    },
    {
      "cell_type": "code",
      "source": [
        "from scipy.stats import norm\n",
        "import numpy as np\n",
        "\n",
        "media_amostra = 485\n",
        "desvio_padrao = 20\n",
        "media = 500\n",
        "significancia = 0.05\n",
        "confianca = 1 - significancia\n",
        "n = 30\n",
        "\n",
        "probabilidade = (0.5 + (confianca / 2))\n",
        "z_alpha_2 = norm.ppf(probabilidade)\n",
        "\n",
        "Z = (media_amostra - media) / (desvio_padrao / np.sqrt(n))\n",
        "\n",
        "print('z =', round(Z, 4))\n",
        "if(Z <= -z_alpha_2 or Z >= z_alpha_2):\n",
        "    print('Rejeitar H0')\n",
        "else:\n",
        "    print('Aceitar H0')"
      ],
      "metadata": {
        "colab": {
          "base_uri": "https://localhost:8080/"
        },
        "id": "KfV_0JUlojvk",
        "outputId": "0e0e0ac2-9ff4-4b0e-af4d-9ee8a4f3e4c7"
      },
      "execution_count": null,
      "outputs": [
        {
          "output_type": "stream",
          "name": "stdout",
          "text": [
            "z = -4.1079\n",
            "Rejeitar H0\n"
          ]
        }
      ]
    },
    {
      "cell_type": "markdown",
      "metadata": {
        "id": "Aqv_KZoYpskN"
      },
      "source": [
        "### <font color='red'>Critério do $p-valor$</font>\n",
        "\n",
        "> ### Teste Bicaudal\n",
        "> ### Rejeitar $H_0$ se o valor $p\\leq\\alpha$"
      ]
    },
    {
      "cell_type": "code",
      "execution_count": null,
      "metadata": {
        "id": "ucIaKkuopskN",
        "colab": {
          "base_uri": "https://localhost:8080/"
        },
        "outputId": "8fd2ee3b-09a2-4812-e2dd-82aa4dc5ed8d"
      },
      "outputs": [
        {
          "output_type": "execute_result",
          "data": {
            "text/plain": [
              "array([3.22910317e-07])"
            ]
          },
          "metadata": {},
          "execution_count": 27
        }
      ],
      "source": [
        "# Utilizar o Z teste\n",
        "# norm.cdf utiliza o valor Z como entrada e apresenta a probabilidade como saída \n",
        "# O p_valor é a região que está fora da área de aceitação da hipótese nula\n",
        "# o termo é multiplicado por 2 devido ao fato de ser um teste bicaudal\n",
        "\n",
        "p_valor = 2 * (1 - norm.cdf(z)) \n",
        "p_valor "
      ]
    },
    {
      "cell_type": "code",
      "execution_count": null,
      "metadata": {
        "id": "wGgZS83apskO",
        "colab": {
          "base_uri": "https://localhost:8080/"
        },
        "outputId": "4549b707-65cf-4684-9a71-0a5fd17106be"
      },
      "outputs": [
        {
          "output_type": "execute_result",
          "data": {
            "text/plain": [
              "array([3.22910317e-07])"
            ]
          },
          "metadata": {},
          "execution_count": 28
        }
      ],
      "source": [
        "p_valor = 2 * (norm.sf(z)) # maior precisão com norm.sf\n",
        "p_valor"
      ]
    },
    {
      "cell_type": "code",
      "execution_count": null,
      "metadata": {
        "id": "vUHgYIHqpskR",
        "scrolled": true,
        "colab": {
          "base_uri": "https://localhost:8080/"
        },
        "outputId": "7d52b43e-86c3-4acf-94b9-dc98ffdb1cb1"
      },
      "outputs": [
        {
          "output_type": "execute_result",
          "data": {
            "text/plain": [
              "array([ True])"
            ]
          },
          "metadata": {},
          "execution_count": 29
        }
      ],
      "source": [
        "p_valor <= significancia"
      ]
    },
    {
      "cell_type": "markdown",
      "metadata": {
        "id": "YRw1O5X8pskT"
      },
      "source": [
        "https://www.statsmodels.org/stable/generated/statsmodels.stats.weightstats.ztest.html"
      ]
    },
    {
      "cell_type": "code",
      "execution_count": null,
      "metadata": {
        "id": "rg3hUlqfpskU",
        "colab": {
          "base_uri": "https://localhost:8080/"
        },
        "outputId": "262c4409-fddb-4117-ab86-04d5b85f1c09"
      },
      "outputs": [
        {
          "output_type": "stream",
          "name": "stderr",
          "text": [
            "/usr/local/lib/python3.7/dist-packages/statsmodels/tools/_testing.py:19: FutureWarning: pandas.util.testing is deprecated. Use the functions in the public API at pandas.testing instead.\n",
            "  import pandas.util.testing as tm\n"
          ]
        }
      ],
      "source": [
        "from statsmodels.stats.weightstats import ztest"
      ]
    },
    {
      "cell_type": "code",
      "execution_count": null,
      "metadata": {
        "id": "0pC3HAjzpskV",
        "colab": {
          "base_uri": "https://localhost:8080/"
        },
        "outputId": "9fe29685-9fa2-4efb-ce78-db0aaeed1731"
      },
      "outputs": [
        {
          "output_type": "execute_result",
          "data": {
            "text/plain": [
              "(array([5.10955978]), array([3.22910317e-07]))"
            ]
          },
          "metadata": {},
          "execution_count": 31
        }
      ],
      "source": [
        "ztest(x1 = amostra, value = media) # Retorna o Z crítico e o p_valor respectivamente"
      ]
    },
    {
      "cell_type": "markdown",
      "metadata": {
        "id": "X5MVCXS6pskX"
      },
      "source": [
        "https://www.statsmodels.org/dev/generated/statsmodels.stats.weightstats.DescrStatsW.html"
      ]
    },
    {
      "cell_type": "code",
      "execution_count": null,
      "metadata": {
        "id": "ke2O2P00pskX"
      },
      "outputs": [],
      "source": [
        "from statsmodels.stats.weightstats import DescrStatsW"
      ]
    },
    {
      "cell_type": "code",
      "execution_count": null,
      "metadata": {
        "id": "Dz_iOYR4pskZ"
      },
      "outputs": [],
      "source": [
        "test = DescrStatsW(amostra)"
      ]
    },
    {
      "cell_type": "code",
      "execution_count": null,
      "metadata": {
        "id": "LJBxBo5dpskb",
        "colab": {
          "base_uri": "https://localhost:8080/"
        },
        "outputId": "e5c38364-db22-4cfe-a9b8-f72aa215d38a"
      },
      "outputs": [
        {
          "output_type": "stream",
          "name": "stdout",
          "text": [
            "5.109559775991874\n",
            "3.2291031724457596e-07\n"
          ]
        }
      ],
      "source": [
        "# Retorna o Z crítico e o p_valor respectivamente\n",
        "# Como padrão, realiza o teste bicaudal.\n",
        "\n",
        "z, p_valor = test.ztest_mean(value = media) \n",
        "print(z[0])\n",
        "print(p_valor[0])"
      ]
    },
    {
      "cell_type": "markdown",
      "source": [
        "### Exercício"
      ],
      "metadata": {
        "id": "JVHfoztc61vP"
      }
    },
    {
      "cell_type": "markdown",
      "source": [
        "Considere novamente os dados do exercício anterior. Um fabricante de farinha afirma que a quantidade média de farinha nas embalagens de seu principal produto é de 500 g. Um teste de pesagem em 30 embalagens amostradas ao acaso mostrou um peso médio igual à 485 g. Estudos anteriores afirmam que a distribuição dos pesos segue uma normal e que o desvio padrão populacional é igual a 20 g. Com um nível de significância igual a 5%, teste a hipótese nula de que a média do processo é igual a 500 g e marque a alternativa que indica o p-valor do teste aplicado (considere somente 5 casas decimais)."
      ],
      "metadata": {
        "id": "FP7MpTDW3GYd"
      }
    },
    {
      "cell_type": "code",
      "source": [
        "media_amostra = 485\n",
        "desvio_padrao = 20\n",
        "media = 500\n",
        "significancia = 0.05\n",
        "confianca = 1 - significancia\n",
        "n = 30\n",
        "\n",
        "probabilidade = 0.5 + (confianca/2)\n",
        "z_alpha_2 = norm.ppf(probabilidade)\n",
        "\n",
        "Z = (media_amostra - media) / (desvio_padrao / np.sqrt(n))\n",
        "print('Z = {}'.format (round(Z, 4)))\n",
        "\n",
        "if Z <= z_alpha_2 or Z >= z_alpha_2:\n",
        "  print('H0 Rejeitada')\n",
        "else:\n",
        "  print('H0 Aceita')"
      ],
      "metadata": {
        "colab": {
          "base_uri": "https://localhost:8080/"
        },
        "id": "J9-v881r3hBb",
        "outputId": "88986240-9bfa-44e2-ab76-0b08acf9340d"
      },
      "execution_count": null,
      "outputs": [
        {
          "output_type": "stream",
          "name": "stdout",
          "text": [
            "Z = -4.1079\n",
            "H0 Rejeitada\n"
          ]
        }
      ]
    },
    {
      "cell_type": "code",
      "source": [
        "p_valor = 2 * (1 - norm.cdf(abs(Z))) # Quando Z for negativo utilizar a built-in abs()\n",
        "print('p_valor = {}'.format(round(p_valor, 5)))"
      ],
      "metadata": {
        "colab": {
          "base_uri": "https://localhost:8080/"
        },
        "id": "JVrBTLqA5g1T",
        "outputId": "bf78cd44-867a-4606-9e98-e48f701a050c"
      },
      "execution_count": null,
      "outputs": [
        {
          "output_type": "stream",
          "name": "stdout",
          "text": [
            "p_valor = 4e-05\n"
          ]
        }
      ]
    },
    {
      "cell_type": "markdown",
      "source": [
        "Nesta aula, aprendemos:\n",
        "\n",
        "- A aplicação de um teste paramétrico bicaudal\n",
        "- A execução dos passos de um teste de hipóteses\n",
        "- As regras de rejeição da hipótese nula de um teste\n",
        "- A entender e calcular o p-valor de um teste\n",
        "- A aplicação de um teste z com as ferramentas do Python"
      ],
      "metadata": {
        "id": "IKmUI_91EERv"
      }
    },
    {
      "cell_type": "markdown",
      "metadata": {
        "id": "YQQdl-Nepskv"
      },
      "source": [
        "---"
      ]
    },
    {
      "cell_type": "markdown",
      "metadata": {
        "id": "U8OWXeVtpskv"
      },
      "source": [
        "## <font color=green>3.2 Teste Unicaudal</font>\n",
        "***"
      ]
    },
    {
      "cell_type": "markdown",
      "metadata": {
        "id": "CPHPL4nWpskw"
      },
      "source": [
        "## <font color='red'>Problema</font>"
      ]
    },
    {
      "cell_type": "markdown",
      "metadata": {
        "id": "vDyxOXLvpskw"
      },
      "source": [
        "Um famoso fabricante de refrigerantes alega que uma lata de 350 ml de seu principal produto contém, **no máximo**, **37 gramas de açúcar**. Esta alegação nos leva a entender que a quantidade média de açúcar em uma lata de refrigerante deve ser **igual ou menor que 37 g**.\n",
        "\n",
        "Um consumidor desconfiado e com conhecimentos em inferência estatística resolve testar a alegação do fabricante e seleciona, aleatóriamente, em um conjunto de estabelecimentos distintos, **uma amostra de 25 latas** do refrigerante em questão. Utilizando o equipamento correto o consumidor obteve as quantidades de açúcar em todas as 25 latas de sua amostra. \n",
        "\n",
        "**Assumindo que essa população se distribua aproximadamente como uma normal e considerando um nível de significância de 5%, é possível aceitar como válida a alegação do fabricante?**"
      ]
    },
    {
      "cell_type": "markdown",
      "metadata": {
        "id": "5P5nWN0epsky"
      },
      "source": [
        "### Construindo tabela $t$ de Student\n",
        "https://docs.scipy.org/doc/scipy/reference/generated/scipy.stats.t.html"
      ]
    },
    {
      "cell_type": "code",
      "execution_count": null,
      "metadata": {
        "id": "lKuhGKPEpsky",
        "scrolled": false,
        "colab": {
          "base_uri": "https://localhost:8080/"
        },
        "outputId": "371bead2-0555-4f72-b445-bcaa67765391"
      },
      "outputs": [
        {
          "output_type": "execute_result",
          "data": {
            "text/html": [
              "\n",
              "  <div id=\"df-ca1bfb92-4582-40d1-b48c-245aa883da4c\">\n",
              "    <div class=\"colab-df-container\">\n",
              "      <div>\n",
              "<style scoped>\n",
              "    .dataframe tbody tr th:only-of-type {\n",
              "        vertical-align: middle;\n",
              "    }\n",
              "\n",
              "    .dataframe tbody tr th {\n",
              "        vertical-align: top;\n",
              "    }\n",
              "\n",
              "    .dataframe thead tr th {\n",
              "        text-align: left;\n",
              "    }\n",
              "</style>\n",
              "<table border=\"1\" class=\"dataframe\">\n",
              "  <thead>\n",
              "    <tr>\n",
              "      <th></th>\n",
              "      <th>Bicaudal</th>\n",
              "      <th>0.100</th>\n",
              "      <th>0.090</th>\n",
              "      <th>0.080</th>\n",
              "      <th>0.070</th>\n",
              "      <th>0.060</th>\n",
              "      <th>0.050</th>\n",
              "      <th>0.040</th>\n",
              "      <th>0.030</th>\n",
              "      <th>0.020</th>\n",
              "      <th>0.010</th>\n",
              "    </tr>\n",
              "    <tr>\n",
              "      <th></th>\n",
              "      <th>Unicaudal</th>\n",
              "      <th>0.050</th>\n",
              "      <th>0.045</th>\n",
              "      <th>0.040</th>\n",
              "      <th>0.035</th>\n",
              "      <th>0.030</th>\n",
              "      <th>0.025</th>\n",
              "      <th>0.020</th>\n",
              "      <th>0.015</th>\n",
              "      <th>0.010</th>\n",
              "      <th>0.005</th>\n",
              "    </tr>\n",
              "  </thead>\n",
              "  <tbody>\n",
              "    <tr>\n",
              "      <th rowspan=\"30\" valign=\"top\">Graus de liberdade (n - 1)</th>\n",
              "      <th>1</th>\n",
              "      <td>6.31375</td>\n",
              "      <td>7.02637</td>\n",
              "      <td>7.91582</td>\n",
              "      <td>9.05789</td>\n",
              "      <td>10.5789</td>\n",
              "      <td>12.7062</td>\n",
              "      <td>15.8945</td>\n",
              "      <td>21.2049</td>\n",
              "      <td>31.8205</td>\n",
              "      <td>63.6567</td>\n",
              "    </tr>\n",
              "    <tr>\n",
              "      <th>2</th>\n",
              "      <td>2.91999</td>\n",
              "      <td>3.10398</td>\n",
              "      <td>3.31976</td>\n",
              "      <td>3.57825</td>\n",
              "      <td>3.89643</td>\n",
              "      <td>4.30265</td>\n",
              "      <td>4.84873</td>\n",
              "      <td>5.64278</td>\n",
              "      <td>6.96456</td>\n",
              "      <td>9.92484</td>\n",
              "    </tr>\n",
              "    <tr>\n",
              "      <th>3</th>\n",
              "      <td>2.35336</td>\n",
              "      <td>2.47081</td>\n",
              "      <td>2.60543</td>\n",
              "      <td>2.7626</td>\n",
              "      <td>2.95051</td>\n",
              "      <td>3.18245</td>\n",
              "      <td>3.48191</td>\n",
              "      <td>3.89605</td>\n",
              "      <td>4.5407</td>\n",
              "      <td>5.84091</td>\n",
              "    </tr>\n",
              "    <tr>\n",
              "      <th>4</th>\n",
              "      <td>2.13185</td>\n",
              "      <td>2.2261</td>\n",
              "      <td>2.33287</td>\n",
              "      <td>2.45589</td>\n",
              "      <td>2.60076</td>\n",
              "      <td>2.77645</td>\n",
              "      <td>2.99853</td>\n",
              "      <td>3.29763</td>\n",
              "      <td>3.74695</td>\n",
              "      <td>4.60409</td>\n",
              "    </tr>\n",
              "    <tr>\n",
              "      <th>5</th>\n",
              "      <td>2.01505</td>\n",
              "      <td>2.09784</td>\n",
              "      <td>2.19096</td>\n",
              "      <td>2.29739</td>\n",
              "      <td>2.42158</td>\n",
              "      <td>2.57058</td>\n",
              "      <td>2.75651</td>\n",
              "      <td>3.00287</td>\n",
              "      <td>3.36493</td>\n",
              "      <td>4.03214</td>\n",
              "    </tr>\n",
              "    <tr>\n",
              "      <th>6</th>\n",
              "      <td>1.94318</td>\n",
              "      <td>2.0192</td>\n",
              "      <td>2.10431</td>\n",
              "      <td>2.20106</td>\n",
              "      <td>2.31326</td>\n",
              "      <td>2.44691</td>\n",
              "      <td>2.61224</td>\n",
              "      <td>2.82893</td>\n",
              "      <td>3.14267</td>\n",
              "      <td>3.70743</td>\n",
              "    </tr>\n",
              "    <tr>\n",
              "      <th>7</th>\n",
              "      <td>1.89458</td>\n",
              "      <td>1.96615</td>\n",
              "      <td>2.04601</td>\n",
              "      <td>2.13645</td>\n",
              "      <td>2.24088</td>\n",
              "      <td>2.36462</td>\n",
              "      <td>2.51675</td>\n",
              "      <td>2.71457</td>\n",
              "      <td>2.99795</td>\n",
              "      <td>3.49948</td>\n",
              "    </tr>\n",
              "    <tr>\n",
              "      <th>8</th>\n",
              "      <td>1.85955</td>\n",
              "      <td>1.92799</td>\n",
              "      <td>2.00415</td>\n",
              "      <td>2.09017</td>\n",
              "      <td>2.18915</td>\n",
              "      <td>2.306</td>\n",
              "      <td>2.44898</td>\n",
              "      <td>2.63381</td>\n",
              "      <td>2.89646</td>\n",
              "      <td>3.35539</td>\n",
              "    </tr>\n",
              "    <tr>\n",
              "      <th>9</th>\n",
              "      <td>1.83311</td>\n",
              "      <td>1.89922</td>\n",
              "      <td>1.97265</td>\n",
              "      <td>2.05539</td>\n",
              "      <td>2.15038</td>\n",
              "      <td>2.26216</td>\n",
              "      <td>2.39844</td>\n",
              "      <td>2.5738</td>\n",
              "      <td>2.82144</td>\n",
              "      <td>3.24984</td>\n",
              "    </tr>\n",
              "    <tr>\n",
              "      <th>10</th>\n",
              "      <td>1.81246</td>\n",
              "      <td>1.87677</td>\n",
              "      <td>1.9481</td>\n",
              "      <td>2.02833</td>\n",
              "      <td>2.12023</td>\n",
              "      <td>2.22814</td>\n",
              "      <td>2.35931</td>\n",
              "      <td>2.52748</td>\n",
              "      <td>2.76377</td>\n",
              "      <td>3.16927</td>\n",
              "    </tr>\n",
              "    <tr>\n",
              "      <th>11</th>\n",
              "      <td>1.79588</td>\n",
              "      <td>1.85877</td>\n",
              "      <td>1.92843</td>\n",
              "      <td>2.00666</td>\n",
              "      <td>2.09614</td>\n",
              "      <td>2.20099</td>\n",
              "      <td>2.32814</td>\n",
              "      <td>2.49066</td>\n",
              "      <td>2.71808</td>\n",
              "      <td>3.10581</td>\n",
              "    </tr>\n",
              "    <tr>\n",
              "      <th>12</th>\n",
              "      <td>1.78229</td>\n",
              "      <td>1.84402</td>\n",
              "      <td>1.91231</td>\n",
              "      <td>1.98893</td>\n",
              "      <td>2.07644</td>\n",
              "      <td>2.17881</td>\n",
              "      <td>2.30272</td>\n",
              "      <td>2.4607</td>\n",
              "      <td>2.681</td>\n",
              "      <td>3.05454</td>\n",
              "    </tr>\n",
              "    <tr>\n",
              "      <th>13</th>\n",
              "      <td>1.77093</td>\n",
              "      <td>1.8317</td>\n",
              "      <td>1.89887</td>\n",
              "      <td>1.97416</td>\n",
              "      <td>2.06004</td>\n",
              "      <td>2.16037</td>\n",
              "      <td>2.2816</td>\n",
              "      <td>2.43585</td>\n",
              "      <td>2.65031</td>\n",
              "      <td>3.01228</td>\n",
              "    </tr>\n",
              "    <tr>\n",
              "      <th>14</th>\n",
              "      <td>1.76131</td>\n",
              "      <td>1.82127</td>\n",
              "      <td>1.8875</td>\n",
              "      <td>1.96166</td>\n",
              "      <td>2.04617</td>\n",
              "      <td>2.14479</td>\n",
              "      <td>2.26378</td>\n",
              "      <td>2.4149</td>\n",
              "      <td>2.62449</td>\n",
              "      <td>2.97684</td>\n",
              "    </tr>\n",
              "    <tr>\n",
              "      <th>15</th>\n",
              "      <td>1.75305</td>\n",
              "      <td>1.81232</td>\n",
              "      <td>1.87774</td>\n",
              "      <td>1.95094</td>\n",
              "      <td>2.03429</td>\n",
              "      <td>2.13145</td>\n",
              "      <td>2.24854</td>\n",
              "      <td>2.39701</td>\n",
              "      <td>2.60248</td>\n",
              "      <td>2.94671</td>\n",
              "    </tr>\n",
              "    <tr>\n",
              "      <th>16</th>\n",
              "      <td>1.74588</td>\n",
              "      <td>1.80455</td>\n",
              "      <td>1.86928</td>\n",
              "      <td>1.94165</td>\n",
              "      <td>2.024</td>\n",
              "      <td>2.11991</td>\n",
              "      <td>2.23536</td>\n",
              "      <td>2.38155</td>\n",
              "      <td>2.58349</td>\n",
              "      <td>2.92078</td>\n",
              "    </tr>\n",
              "    <tr>\n",
              "      <th>17</th>\n",
              "      <td>1.73961</td>\n",
              "      <td>1.79776</td>\n",
              "      <td>1.86187</td>\n",
              "      <td>1.93353</td>\n",
              "      <td>2.015</td>\n",
              "      <td>2.10982</td>\n",
              "      <td>2.22385</td>\n",
              "      <td>2.36805</td>\n",
              "      <td>2.56693</td>\n",
              "      <td>2.89823</td>\n",
              "    </tr>\n",
              "    <tr>\n",
              "      <th>18</th>\n",
              "      <td>1.73406</td>\n",
              "      <td>1.79175</td>\n",
              "      <td>1.85534</td>\n",
              "      <td>1.92636</td>\n",
              "      <td>2.00707</td>\n",
              "      <td>2.10092</td>\n",
              "      <td>2.2137</td>\n",
              "      <td>2.35618</td>\n",
              "      <td>2.55238</td>\n",
              "      <td>2.87844</td>\n",
              "    </tr>\n",
              "    <tr>\n",
              "      <th>19</th>\n",
              "      <td>1.72913</td>\n",
              "      <td>1.78642</td>\n",
              "      <td>1.84953</td>\n",
              "      <td>1.91999</td>\n",
              "      <td>2.00002</td>\n",
              "      <td>2.09302</td>\n",
              "      <td>2.2047</td>\n",
              "      <td>2.34565</td>\n",
              "      <td>2.53948</td>\n",
              "      <td>2.86093</td>\n",
              "    </tr>\n",
              "    <tr>\n",
              "      <th>20</th>\n",
              "      <td>1.72472</td>\n",
              "      <td>1.78164</td>\n",
              "      <td>1.84433</td>\n",
              "      <td>1.91429</td>\n",
              "      <td>1.99371</td>\n",
              "      <td>2.08596</td>\n",
              "      <td>2.19666</td>\n",
              "      <td>2.33624</td>\n",
              "      <td>2.52798</td>\n",
              "      <td>2.84534</td>\n",
              "    </tr>\n",
              "    <tr>\n",
              "      <th>21</th>\n",
              "      <td>1.72074</td>\n",
              "      <td>1.77734</td>\n",
              "      <td>1.83965</td>\n",
              "      <td>1.90916</td>\n",
              "      <td>1.98804</td>\n",
              "      <td>2.07961</td>\n",
              "      <td>2.18943</td>\n",
              "      <td>2.32779</td>\n",
              "      <td>2.51765</td>\n",
              "      <td>2.83136</td>\n",
              "    </tr>\n",
              "    <tr>\n",
              "      <th>22</th>\n",
              "      <td>1.71714</td>\n",
              "      <td>1.77345</td>\n",
              "      <td>1.83542</td>\n",
              "      <td>1.90452</td>\n",
              "      <td>1.98291</td>\n",
              "      <td>2.07387</td>\n",
              "      <td>2.18289</td>\n",
              "      <td>2.32016</td>\n",
              "      <td>2.50832</td>\n",
              "      <td>2.81876</td>\n",
              "    </tr>\n",
              "    <tr>\n",
              "      <th>23</th>\n",
              "      <td>1.71387</td>\n",
              "      <td>1.76991</td>\n",
              "      <td>1.83157</td>\n",
              "      <td>1.90031</td>\n",
              "      <td>1.97825</td>\n",
              "      <td>2.06866</td>\n",
              "      <td>2.17696</td>\n",
              "      <td>2.31323</td>\n",
              "      <td>2.49987</td>\n",
              "      <td>2.80734</td>\n",
              "    </tr>\n",
              "    <tr>\n",
              "      <th>24</th>\n",
              "      <td>1.71088</td>\n",
              "      <td>1.76667</td>\n",
              "      <td>1.82805</td>\n",
              "      <td>1.89646</td>\n",
              "      <td>1.97399</td>\n",
              "      <td>2.0639</td>\n",
              "      <td>2.17154</td>\n",
              "      <td>2.30691</td>\n",
              "      <td>2.49216</td>\n",
              "      <td>2.79694</td>\n",
              "    </tr>\n",
              "    <tr>\n",
              "      <th>25</th>\n",
              "      <td>1.70814</td>\n",
              "      <td>1.76371</td>\n",
              "      <td>1.82483</td>\n",
              "      <td>1.89293</td>\n",
              "      <td>1.9701</td>\n",
              "      <td>2.05954</td>\n",
              "      <td>2.16659</td>\n",
              "      <td>2.30113</td>\n",
              "      <td>2.48511</td>\n",
              "      <td>2.78744</td>\n",
              "    </tr>\n",
              "    <tr>\n",
              "      <th>26</th>\n",
              "      <td>1.70562</td>\n",
              "      <td>1.76098</td>\n",
              "      <td>1.82186</td>\n",
              "      <td>1.88968</td>\n",
              "      <td>1.96651</td>\n",
              "      <td>2.05553</td>\n",
              "      <td>2.16203</td>\n",
              "      <td>2.29581</td>\n",
              "      <td>2.47863</td>\n",
              "      <td>2.77871</td>\n",
              "    </tr>\n",
              "    <tr>\n",
              "      <th>27</th>\n",
              "      <td>1.70329</td>\n",
              "      <td>1.75847</td>\n",
              "      <td>1.81913</td>\n",
              "      <td>1.88669</td>\n",
              "      <td>1.9632</td>\n",
              "      <td>2.05183</td>\n",
              "      <td>2.15782</td>\n",
              "      <td>2.29091</td>\n",
              "      <td>2.47266</td>\n",
              "      <td>2.77068</td>\n",
              "    </tr>\n",
              "    <tr>\n",
              "      <th>28</th>\n",
              "      <td>1.70113</td>\n",
              "      <td>1.75613</td>\n",
              "      <td>1.81659</td>\n",
              "      <td>1.88391</td>\n",
              "      <td>1.96014</td>\n",
              "      <td>2.04841</td>\n",
              "      <td>2.15393</td>\n",
              "      <td>2.28638</td>\n",
              "      <td>2.46714</td>\n",
              "      <td>2.76326</td>\n",
              "    </tr>\n",
              "    <tr>\n",
              "      <th>29</th>\n",
              "      <td>1.69913</td>\n",
              "      <td>1.75397</td>\n",
              "      <td>1.81424</td>\n",
              "      <td>1.88134</td>\n",
              "      <td>1.95729</td>\n",
              "      <td>2.04523</td>\n",
              "      <td>2.15033</td>\n",
              "      <td>2.28217</td>\n",
              "      <td>2.46202</td>\n",
              "      <td>2.75639</td>\n",
              "    </tr>\n",
              "    <tr>\n",
              "      <th>30</th>\n",
              "      <td>1.69726</td>\n",
              "      <td>1.75195</td>\n",
              "      <td>1.81205</td>\n",
              "      <td>1.87894</td>\n",
              "      <td>1.95465</td>\n",
              "      <td>2.04227</td>\n",
              "      <td>2.14697</td>\n",
              "      <td>2.27826</td>\n",
              "      <td>2.45726</td>\n",
              "      <td>2.75</td>\n",
              "    </tr>\n",
              "  </tbody>\n",
              "</table>\n",
              "</div>\n",
              "      <button class=\"colab-df-convert\" onclick=\"convertToInteractive('df-ca1bfb92-4582-40d1-b48c-245aa883da4c')\"\n",
              "              title=\"Convert this dataframe to an interactive table.\"\n",
              "              style=\"display:none;\">\n",
              "        \n",
              "  <svg xmlns=\"http://www.w3.org/2000/svg\" height=\"24px\"viewBox=\"0 0 24 24\"\n",
              "       width=\"24px\">\n",
              "    <path d=\"M0 0h24v24H0V0z\" fill=\"none\"/>\n",
              "    <path d=\"M18.56 5.44l.94 2.06.94-2.06 2.06-.94-2.06-.94-.94-2.06-.94 2.06-2.06.94zm-11 1L8.5 8.5l.94-2.06 2.06-.94-2.06-.94L8.5 2.5l-.94 2.06-2.06.94zm10 10l.94 2.06.94-2.06 2.06-.94-2.06-.94-.94-2.06-.94 2.06-2.06.94z\"/><path d=\"M17.41 7.96l-1.37-1.37c-.4-.4-.92-.59-1.43-.59-.52 0-1.04.2-1.43.59L10.3 9.45l-7.72 7.72c-.78.78-.78 2.05 0 2.83L4 21.41c.39.39.9.59 1.41.59.51 0 1.02-.2 1.41-.59l7.78-7.78 2.81-2.81c.8-.78.8-2.07 0-2.86zM5.41 20L4 18.59l7.72-7.72 1.47 1.35L5.41 20z\"/>\n",
              "  </svg>\n",
              "      </button>\n",
              "      \n",
              "  <style>\n",
              "    .colab-df-container {\n",
              "      display:flex;\n",
              "      flex-wrap:wrap;\n",
              "      gap: 12px;\n",
              "    }\n",
              "\n",
              "    .colab-df-convert {\n",
              "      background-color: #E8F0FE;\n",
              "      border: none;\n",
              "      border-radius: 50%;\n",
              "      cursor: pointer;\n",
              "      display: none;\n",
              "      fill: #1967D2;\n",
              "      height: 32px;\n",
              "      padding: 0 0 0 0;\n",
              "      width: 32px;\n",
              "    }\n",
              "\n",
              "    .colab-df-convert:hover {\n",
              "      background-color: #E2EBFA;\n",
              "      box-shadow: 0px 1px 2px rgba(60, 64, 67, 0.3), 0px 1px 3px 1px rgba(60, 64, 67, 0.15);\n",
              "      fill: #174EA6;\n",
              "    }\n",
              "\n",
              "    [theme=dark] .colab-df-convert {\n",
              "      background-color: #3B4455;\n",
              "      fill: #D2E3FC;\n",
              "    }\n",
              "\n",
              "    [theme=dark] .colab-df-convert:hover {\n",
              "      background-color: #434B5C;\n",
              "      box-shadow: 0px 1px 3px 1px rgba(0, 0, 0, 0.15);\n",
              "      filter: drop-shadow(0px 1px 2px rgba(0, 0, 0, 0.3));\n",
              "      fill: #FFFFFF;\n",
              "    }\n",
              "  </style>\n",
              "\n",
              "      <script>\n",
              "        const buttonEl =\n",
              "          document.querySelector('#df-ca1bfb92-4582-40d1-b48c-245aa883da4c button.colab-df-convert');\n",
              "        buttonEl.style.display =\n",
              "          google.colab.kernel.accessAllowed ? 'block' : 'none';\n",
              "\n",
              "        async function convertToInteractive(key) {\n",
              "          const element = document.querySelector('#df-ca1bfb92-4582-40d1-b48c-245aa883da4c');\n",
              "          const dataTable =\n",
              "            await google.colab.kernel.invokeFunction('convertToInteractive',\n",
              "                                                     [key], {});\n",
              "          if (!dataTable) return;\n",
              "\n",
              "          const docLinkHtml = 'Like what you see? Visit the ' +\n",
              "            '<a target=\"_blank\" href=https://colab.research.google.com/notebooks/data_table.ipynb>data table notebook</a>'\n",
              "            + ' to learn more about interactive tables.';\n",
              "          element.innerHTML = '';\n",
              "          dataTable['output_type'] = 'display_data';\n",
              "          await google.colab.output.renderOutput(dataTable, element);\n",
              "          const docLink = document.createElement('div');\n",
              "          docLink.innerHTML = docLinkHtml;\n",
              "          element.appendChild(docLink);\n",
              "        }\n",
              "      </script>\n",
              "    </div>\n",
              "  </div>\n",
              "  "
            ],
            "text/plain": [
              "Bicaudal                         0.100    0.090  ...    0.020    0.010\n",
              "Unicaudal                        0.050    0.045  ...    0.010    0.005\n",
              "Graus de liberdade (n - 1) 1   6.31375  7.02637  ...  31.8205  63.6567\n",
              "                           2   2.91999  3.10398  ...  6.96456  9.92484\n",
              "                           3   2.35336  2.47081  ...   4.5407  5.84091\n",
              "                           4   2.13185   2.2261  ...  3.74695  4.60409\n",
              "                           5   2.01505  2.09784  ...  3.36493  4.03214\n",
              "                           6   1.94318   2.0192  ...  3.14267  3.70743\n",
              "                           7   1.89458  1.96615  ...  2.99795  3.49948\n",
              "                           8   1.85955  1.92799  ...  2.89646  3.35539\n",
              "                           9   1.83311  1.89922  ...  2.82144  3.24984\n",
              "                           10  1.81246  1.87677  ...  2.76377  3.16927\n",
              "                           11  1.79588  1.85877  ...  2.71808  3.10581\n",
              "                           12  1.78229  1.84402  ...    2.681  3.05454\n",
              "                           13  1.77093   1.8317  ...  2.65031  3.01228\n",
              "                           14  1.76131  1.82127  ...  2.62449  2.97684\n",
              "                           15  1.75305  1.81232  ...  2.60248  2.94671\n",
              "                           16  1.74588  1.80455  ...  2.58349  2.92078\n",
              "                           17  1.73961  1.79776  ...  2.56693  2.89823\n",
              "                           18  1.73406  1.79175  ...  2.55238  2.87844\n",
              "                           19  1.72913  1.78642  ...  2.53948  2.86093\n",
              "                           20  1.72472  1.78164  ...  2.52798  2.84534\n",
              "                           21  1.72074  1.77734  ...  2.51765  2.83136\n",
              "                           22  1.71714  1.77345  ...  2.50832  2.81876\n",
              "                           23  1.71387  1.76991  ...  2.49987  2.80734\n",
              "                           24  1.71088  1.76667  ...  2.49216  2.79694\n",
              "                           25  1.70814  1.76371  ...  2.48511  2.78744\n",
              "                           26  1.70562  1.76098  ...  2.47863  2.77871\n",
              "                           27  1.70329  1.75847  ...  2.47266  2.77068\n",
              "                           28  1.70113  1.75613  ...  2.46714  2.76326\n",
              "                           29  1.69913  1.75397  ...  2.46202  2.75639\n",
              "                           30  1.69726  1.75195  ...  2.45726     2.75\n",
              "\n",
              "[30 rows x 10 columns]"
            ]
          },
          "metadata": {},
          "execution_count": 37
        }
      ],
      "source": [
        "import pandas as pd\n",
        "from scipy.stats import t as t_student\n",
        "\n",
        "tabela_t_student = pd.DataFrame(\n",
        "    [],\n",
        "    index = [i for i in range(1, 31)],\n",
        "    columns = [i / 100 for i in range(10, 0, -1)]\n",
        ")\n",
        "\n",
        "for index in tabela_t_student.index:\n",
        "  for column in tabela_t_student.columns:\n",
        "    tabela_t_student.loc[index, column] = t_student.ppf(1 - float(column) / 2, index)\n",
        "\n",
        "index = [('Graus de liberdade (n - 1)', i) for i in range(1, 31)]\n",
        "tabela_t_student.index = pd.MultiIndex.from_tuples(index)\n",
        "\n",
        "columns = [('{0:0.3f}'.format(i / 100), '{0:0.3f}'.format((i / 100) / 2)) for i in range(10, 0, -1)]\n",
        "tabela_t_student.columns = pd.MultiIndex.from_tuples(columns)\n",
        "\n",
        "tabela_t_student.rename_axis(['Bicaudal', 'Unicaudal'], axis = 1, inplace = True)\n",
        "\n",
        "tabela_t_student"
      ]
    },
    {
      "cell_type": "markdown",
      "metadata": {
        "id": "MbVu6FdNpsk0"
      },
      "source": [
        "<img src='https://caelum-online-public.s3.amazonaws.com/1229-estatistica-parte3/01/img004.png' width='250px'>\n",
        "\n",
        "As células da tabela acima são valores de $t$ para uma área ou probabilidade na cauda superior da distribuição $t$."
      ]
    },
    {
      "cell_type": "markdown",
      "metadata": {
        "id": "UXM3qdYUpsk0"
      },
      "source": [
        "---"
      ]
    },
    {
      "cell_type": "markdown",
      "metadata": {
        "id": "dDbUKs7-psk0"
      },
      "source": [
        "Os **testes unicaudais** verificam as variáveis em relação a um piso ou a um teto e avaliam os valores máximos ou mínimos esperados para os parâmetros em estudo e a chance de as estatísticas amostrais serem inferiores ou superiores a dado limite."
      ]
    },
    {
      "cell_type": "markdown",
      "metadata": {
        "id": "AvnFJnUrpsk1"
      },
      "source": [
        "<img src='https://caelum-online-public.s3.amazonaws.com/1229-estatistica-parte3/01/img008.png' width='700px'>"
      ]
    },
    {
      "cell_type": "markdown",
      "metadata": {
        "id": "IgDg23Xppsk1"
      },
      "source": [
        "### Dados do problema"
      ]
    },
    {
      "cell_type": "code",
      "execution_count": null,
      "metadata": {
        "id": "IKvYICfEpsk2"
      },
      "outputs": [],
      "source": [
        "amostra = [37.27, 36.42, 34.84, 34.60, 37.49, \n",
        "           36.53, 35.49, 36.90, 34.52, 37.30, \n",
        "           34.99, 36.55, 36.29, 36.06, 37.42, \n",
        "           34.47, 36.70, 35.86, 36.80, 36.92, \n",
        "           37.04, 36.39, 37.32, 36.64, 35.45]"
      ]
    },
    {
      "cell_type": "code",
      "execution_count": null,
      "metadata": {
        "id": "CBuciT30psk3",
        "scrolled": false,
        "colab": {
          "base_uri": "https://localhost:8080/"
        },
        "outputId": "2222b947-ddf1-4841-d891-3ad36175f58d"
      },
      "outputs": [
        {
          "output_type": "execute_result",
          "data": {
            "text/html": [
              "\n",
              "  <div id=\"df-5914634e-aa01-41c8-a841-895c309f9816\">\n",
              "    <div class=\"colab-df-container\">\n",
              "      <div>\n",
              "<style scoped>\n",
              "    .dataframe tbody tr th:only-of-type {\n",
              "        vertical-align: middle;\n",
              "    }\n",
              "\n",
              "    .dataframe tbody tr th {\n",
              "        vertical-align: top;\n",
              "    }\n",
              "\n",
              "    .dataframe thead th {\n",
              "        text-align: right;\n",
              "    }\n",
              "</style>\n",
              "<table border=\"1\" class=\"dataframe\">\n",
              "  <thead>\n",
              "    <tr style=\"text-align: right;\">\n",
              "      <th></th>\n",
              "      <th>Amostra</th>\n",
              "    </tr>\n",
              "  </thead>\n",
              "  <tbody>\n",
              "    <tr>\n",
              "      <th>0</th>\n",
              "      <td>37.27</td>\n",
              "    </tr>\n",
              "    <tr>\n",
              "      <th>1</th>\n",
              "      <td>36.42</td>\n",
              "    </tr>\n",
              "    <tr>\n",
              "      <th>2</th>\n",
              "      <td>34.84</td>\n",
              "    </tr>\n",
              "    <tr>\n",
              "      <th>3</th>\n",
              "      <td>34.60</td>\n",
              "    </tr>\n",
              "    <tr>\n",
              "      <th>4</th>\n",
              "      <td>37.49</td>\n",
              "    </tr>\n",
              "    <tr>\n",
              "      <th>5</th>\n",
              "      <td>36.53</td>\n",
              "    </tr>\n",
              "    <tr>\n",
              "      <th>6</th>\n",
              "      <td>35.49</td>\n",
              "    </tr>\n",
              "    <tr>\n",
              "      <th>7</th>\n",
              "      <td>36.90</td>\n",
              "    </tr>\n",
              "    <tr>\n",
              "      <th>8</th>\n",
              "      <td>34.52</td>\n",
              "    </tr>\n",
              "    <tr>\n",
              "      <th>9</th>\n",
              "      <td>37.30</td>\n",
              "    </tr>\n",
              "    <tr>\n",
              "      <th>10</th>\n",
              "      <td>34.99</td>\n",
              "    </tr>\n",
              "    <tr>\n",
              "      <th>11</th>\n",
              "      <td>36.55</td>\n",
              "    </tr>\n",
              "    <tr>\n",
              "      <th>12</th>\n",
              "      <td>36.29</td>\n",
              "    </tr>\n",
              "    <tr>\n",
              "      <th>13</th>\n",
              "      <td>36.06</td>\n",
              "    </tr>\n",
              "    <tr>\n",
              "      <th>14</th>\n",
              "      <td>37.42</td>\n",
              "    </tr>\n",
              "    <tr>\n",
              "      <th>15</th>\n",
              "      <td>34.47</td>\n",
              "    </tr>\n",
              "    <tr>\n",
              "      <th>16</th>\n",
              "      <td>36.70</td>\n",
              "    </tr>\n",
              "    <tr>\n",
              "      <th>17</th>\n",
              "      <td>35.86</td>\n",
              "    </tr>\n",
              "    <tr>\n",
              "      <th>18</th>\n",
              "      <td>36.80</td>\n",
              "    </tr>\n",
              "    <tr>\n",
              "      <th>19</th>\n",
              "      <td>36.92</td>\n",
              "    </tr>\n",
              "    <tr>\n",
              "      <th>20</th>\n",
              "      <td>37.04</td>\n",
              "    </tr>\n",
              "    <tr>\n",
              "      <th>21</th>\n",
              "      <td>36.39</td>\n",
              "    </tr>\n",
              "    <tr>\n",
              "      <th>22</th>\n",
              "      <td>37.32</td>\n",
              "    </tr>\n",
              "    <tr>\n",
              "      <th>23</th>\n",
              "      <td>36.64</td>\n",
              "    </tr>\n",
              "    <tr>\n",
              "      <th>24</th>\n",
              "      <td>35.45</td>\n",
              "    </tr>\n",
              "  </tbody>\n",
              "</table>\n",
              "</div>\n",
              "      <button class=\"colab-df-convert\" onclick=\"convertToInteractive('df-5914634e-aa01-41c8-a841-895c309f9816')\"\n",
              "              title=\"Convert this dataframe to an interactive table.\"\n",
              "              style=\"display:none;\">\n",
              "        \n",
              "  <svg xmlns=\"http://www.w3.org/2000/svg\" height=\"24px\"viewBox=\"0 0 24 24\"\n",
              "       width=\"24px\">\n",
              "    <path d=\"M0 0h24v24H0V0z\" fill=\"none\"/>\n",
              "    <path d=\"M18.56 5.44l.94 2.06.94-2.06 2.06-.94-2.06-.94-.94-2.06-.94 2.06-2.06.94zm-11 1L8.5 8.5l.94-2.06 2.06-.94-2.06-.94L8.5 2.5l-.94 2.06-2.06.94zm10 10l.94 2.06.94-2.06 2.06-.94-2.06-.94-.94-2.06-.94 2.06-2.06.94z\"/><path d=\"M17.41 7.96l-1.37-1.37c-.4-.4-.92-.59-1.43-.59-.52 0-1.04.2-1.43.59L10.3 9.45l-7.72 7.72c-.78.78-.78 2.05 0 2.83L4 21.41c.39.39.9.59 1.41.59.51 0 1.02-.2 1.41-.59l7.78-7.78 2.81-2.81c.8-.78.8-2.07 0-2.86zM5.41 20L4 18.59l7.72-7.72 1.47 1.35L5.41 20z\"/>\n",
              "  </svg>\n",
              "      </button>\n",
              "      \n",
              "  <style>\n",
              "    .colab-df-container {\n",
              "      display:flex;\n",
              "      flex-wrap:wrap;\n",
              "      gap: 12px;\n",
              "    }\n",
              "\n",
              "    .colab-df-convert {\n",
              "      background-color: #E8F0FE;\n",
              "      border: none;\n",
              "      border-radius: 50%;\n",
              "      cursor: pointer;\n",
              "      display: none;\n",
              "      fill: #1967D2;\n",
              "      height: 32px;\n",
              "      padding: 0 0 0 0;\n",
              "      width: 32px;\n",
              "    }\n",
              "\n",
              "    .colab-df-convert:hover {\n",
              "      background-color: #E2EBFA;\n",
              "      box-shadow: 0px 1px 2px rgba(60, 64, 67, 0.3), 0px 1px 3px 1px rgba(60, 64, 67, 0.15);\n",
              "      fill: #174EA6;\n",
              "    }\n",
              "\n",
              "    [theme=dark] .colab-df-convert {\n",
              "      background-color: #3B4455;\n",
              "      fill: #D2E3FC;\n",
              "    }\n",
              "\n",
              "    [theme=dark] .colab-df-convert:hover {\n",
              "      background-color: #434B5C;\n",
              "      box-shadow: 0px 1px 3px 1px rgba(0, 0, 0, 0.15);\n",
              "      filter: drop-shadow(0px 1px 2px rgba(0, 0, 0, 0.3));\n",
              "      fill: #FFFFFF;\n",
              "    }\n",
              "  </style>\n",
              "\n",
              "      <script>\n",
              "        const buttonEl =\n",
              "          document.querySelector('#df-5914634e-aa01-41c8-a841-895c309f9816 button.colab-df-convert');\n",
              "        buttonEl.style.display =\n",
              "          google.colab.kernel.accessAllowed ? 'block' : 'none';\n",
              "\n",
              "        async function convertToInteractive(key) {\n",
              "          const element = document.querySelector('#df-5914634e-aa01-41c8-a841-895c309f9816');\n",
              "          const dataTable =\n",
              "            await google.colab.kernel.invokeFunction('convertToInteractive',\n",
              "                                                     [key], {});\n",
              "          if (!dataTable) return;\n",
              "\n",
              "          const docLinkHtml = 'Like what you see? Visit the ' +\n",
              "            '<a target=\"_blank\" href=https://colab.research.google.com/notebooks/data_table.ipynb>data table notebook</a>'\n",
              "            + ' to learn more about interactive tables.';\n",
              "          element.innerHTML = '';\n",
              "          dataTable['output_type'] = 'display_data';\n",
              "          await google.colab.output.renderOutput(dataTable, element);\n",
              "          const docLink = document.createElement('div');\n",
              "          docLink.innerHTML = docLinkHtml;\n",
              "          element.appendChild(docLink);\n",
              "        }\n",
              "      </script>\n",
              "    </div>\n",
              "  </div>\n",
              "  "
            ],
            "text/plain": [
              "    Amostra\n",
              "0     37.27\n",
              "1     36.42\n",
              "2     34.84\n",
              "3     34.60\n",
              "4     37.49\n",
              "5     36.53\n",
              "6     35.49\n",
              "7     36.90\n",
              "8     34.52\n",
              "9     37.30\n",
              "10    34.99\n",
              "11    36.55\n",
              "12    36.29\n",
              "13    36.06\n",
              "14    37.42\n",
              "15    34.47\n",
              "16    36.70\n",
              "17    35.86\n",
              "18    36.80\n",
              "19    36.92\n",
              "20    37.04\n",
              "21    36.39\n",
              "22    37.32\n",
              "23    36.64\n",
              "24    35.45"
            ]
          },
          "metadata": {},
          "execution_count": 39
        }
      ],
      "source": [
        "amostra = pd.DataFrame(amostra, columns=['Amostra'])\n",
        "amostra"
      ]
    },
    {
      "cell_type": "code",
      "execution_count": null,
      "metadata": {
        "id": "79TBzFsdpsk4",
        "colab": {
          "base_uri": "https://localhost:8080/"
        },
        "outputId": "5fec744f-551a-4623-9630-0a9e4cfd2f44"
      },
      "outputs": [
        {
          "output_type": "execute_result",
          "data": {
            "text/plain": [
              "36.2504"
            ]
          },
          "metadata": {},
          "execution_count": 40
        }
      ],
      "source": [
        "media_amostra = amostra.mean()[0]\n",
        "media_amostra.round(4)"
      ]
    },
    {
      "cell_type": "code",
      "execution_count": null,
      "metadata": {
        "id": "S82xbyghpsk6",
        "scrolled": true,
        "colab": {
          "base_uri": "https://localhost:8080/"
        },
        "outputId": "429e3b29-30da-479b-813f-7e57e7254b58"
      },
      "outputs": [
        {
          "output_type": "execute_result",
          "data": {
            "text/plain": [
              "0.9667535018469453"
            ]
          },
          "metadata": {},
          "execution_count": 41
        }
      ],
      "source": [
        "desvio_padrao_amostra = amostra.std()[0]\n",
        "desvio_padrao_amostra"
      ]
    },
    {
      "cell_type": "code",
      "execution_count": null,
      "metadata": {
        "id": "mvtiwLUWpsk8"
      },
      "outputs": [],
      "source": [
        "media = 37\n",
        "significancia = 0.05\n",
        "confianca = 1 - significancia\n",
        "n = 25\n",
        "graus_de_liberdade = n - 1"
      ]
    },
    {
      "cell_type": "markdown",
      "metadata": {
        "id": "rpLOiPU2psk9"
      },
      "source": [
        "### **Passo 1** - formulação das hipóteses $H_0$ e $H_1$"
      ]
    },
    {
      "cell_type": "markdown",
      "metadata": {
        "id": "iMBi2jUfsc4s"
      },
      "source": [
        "\n",
        "#### <font color='red'>Lembre-se, a hipótese nula sempre contém a alegação de igualdade</font>"
      ]
    },
    {
      "cell_type": "markdown",
      "metadata": {
        "id": "8roeH10fpsk-"
      },
      "source": [
        "### $H_0: \\mu \\leq 37$\n",
        "\n",
        "### $H_1: \\mu > 37$"
      ]
    },
    {
      "cell_type": "markdown",
      "metadata": {
        "id": "uqE6JXGspsk-"
      },
      "source": [
        "---"
      ]
    },
    {
      "cell_type": "markdown",
      "metadata": {
        "id": "XsOkFtncpsk_"
      },
      "source": [
        "### **Passo 2** - escolha da distribuição amostral adequada\n",
        "<img src='https://caelum-online-public.s3.amazonaws.com/1229-estatistica-parte3/01/img003.png' width=70%>"
      ]
    },
    {
      "cell_type": "markdown",
      "metadata": {
        "id": "jpXjRqO2psk_"
      },
      "source": [
        "### O tamanho da amostra é maior que 30?\n",
        "#### Resp.: Não\n",
        "\n",
        "### Podemos afirmar que a população se distribui aproximadamente como uma normal?\n",
        "#### Resp.: Sim\n",
        "\n",
        "### O desvio padrão populacional é conhecido?\n",
        "#### Resp.: Não"
      ]
    },
    {
      "cell_type": "markdown",
      "metadata": {
        "id": "J14v2aXOpslA"
      },
      "source": [
        "---"
      ]
    },
    {
      "cell_type": "markdown",
      "metadata": {
        "id": "DQvwhQWnpslA"
      },
      "source": [
        "### **Passo 3** - fixação da significância do teste ($\\alpha$)"
      ]
    },
    {
      "cell_type": "markdown",
      "metadata": {
        "id": "Qaxh6lsapslB"
      },
      "source": [
        "https://docs.scipy.org/doc/scipy/reference/generated/scipy.stats.t.html"
      ]
    },
    {
      "cell_type": "code",
      "execution_count": null,
      "metadata": {
        "id": "-WhDZiRopslC"
      },
      "outputs": [],
      "source": [
        "from scipy.stats import t as t_student"
      ]
    },
    {
      "cell_type": "code",
      "execution_count": null,
      "metadata": {
        "id": "12t8QJMzpslD",
        "scrolled": true,
        "colab": {
          "base_uri": "https://localhost:8080/"
        },
        "outputId": "c9b2f0ca-a3f7-493b-9c89-0b44c881ecac"
      },
      "outputs": [
        {
          "output_type": "execute_result",
          "data": {
            "text/html": [
              "\n",
              "  <div id=\"df-cd3a3880-3aa2-4762-a048-e59f2fddbd60\">\n",
              "    <div class=\"colab-df-container\">\n",
              "      <div>\n",
              "<style scoped>\n",
              "    .dataframe tbody tr th:only-of-type {\n",
              "        vertical-align: middle;\n",
              "    }\n",
              "\n",
              "    .dataframe tbody tr th {\n",
              "        vertical-align: top;\n",
              "    }\n",
              "\n",
              "    .dataframe thead tr th {\n",
              "        text-align: left;\n",
              "    }\n",
              "</style>\n",
              "<table border=\"1\" class=\"dataframe\">\n",
              "  <thead>\n",
              "    <tr>\n",
              "      <th></th>\n",
              "      <th>Bicaudal</th>\n",
              "      <th>0.100</th>\n",
              "      <th>0.090</th>\n",
              "      <th>0.080</th>\n",
              "      <th>0.070</th>\n",
              "      <th>0.060</th>\n",
              "      <th>0.050</th>\n",
              "      <th>0.040</th>\n",
              "      <th>0.030</th>\n",
              "      <th>0.020</th>\n",
              "      <th>0.010</th>\n",
              "    </tr>\n",
              "    <tr>\n",
              "      <th></th>\n",
              "      <th>Unicaudal</th>\n",
              "      <th>0.050</th>\n",
              "      <th>0.045</th>\n",
              "      <th>0.040</th>\n",
              "      <th>0.035</th>\n",
              "      <th>0.030</th>\n",
              "      <th>0.025</th>\n",
              "      <th>0.020</th>\n",
              "      <th>0.015</th>\n",
              "      <th>0.010</th>\n",
              "      <th>0.005</th>\n",
              "    </tr>\n",
              "  </thead>\n",
              "  <tbody>\n",
              "    <tr>\n",
              "      <th rowspan=\"3\" valign=\"top\">Graus de liberdade (n - 1)</th>\n",
              "      <th>23</th>\n",
              "      <td>1.71387</td>\n",
              "      <td>1.76991</td>\n",
              "      <td>1.83157</td>\n",
              "      <td>1.90031</td>\n",
              "      <td>1.97825</td>\n",
              "      <td>2.06866</td>\n",
              "      <td>2.17696</td>\n",
              "      <td>2.31323</td>\n",
              "      <td>2.49987</td>\n",
              "      <td>2.80734</td>\n",
              "    </tr>\n",
              "    <tr>\n",
              "      <th>24</th>\n",
              "      <td>1.71088</td>\n",
              "      <td>1.76667</td>\n",
              "      <td>1.82805</td>\n",
              "      <td>1.89646</td>\n",
              "      <td>1.97399</td>\n",
              "      <td>2.0639</td>\n",
              "      <td>2.17154</td>\n",
              "      <td>2.30691</td>\n",
              "      <td>2.49216</td>\n",
              "      <td>2.79694</td>\n",
              "    </tr>\n",
              "    <tr>\n",
              "      <th>25</th>\n",
              "      <td>1.70814</td>\n",
              "      <td>1.76371</td>\n",
              "      <td>1.82483</td>\n",
              "      <td>1.89293</td>\n",
              "      <td>1.9701</td>\n",
              "      <td>2.05954</td>\n",
              "      <td>2.16659</td>\n",
              "      <td>2.30113</td>\n",
              "      <td>2.48511</td>\n",
              "      <td>2.78744</td>\n",
              "    </tr>\n",
              "  </tbody>\n",
              "</table>\n",
              "</div>\n",
              "      <button class=\"colab-df-convert\" onclick=\"convertToInteractive('df-cd3a3880-3aa2-4762-a048-e59f2fddbd60')\"\n",
              "              title=\"Convert this dataframe to an interactive table.\"\n",
              "              style=\"display:none;\">\n",
              "        \n",
              "  <svg xmlns=\"http://www.w3.org/2000/svg\" height=\"24px\"viewBox=\"0 0 24 24\"\n",
              "       width=\"24px\">\n",
              "    <path d=\"M0 0h24v24H0V0z\" fill=\"none\"/>\n",
              "    <path d=\"M18.56 5.44l.94 2.06.94-2.06 2.06-.94-2.06-.94-.94-2.06-.94 2.06-2.06.94zm-11 1L8.5 8.5l.94-2.06 2.06-.94-2.06-.94L8.5 2.5l-.94 2.06-2.06.94zm10 10l.94 2.06.94-2.06 2.06-.94-2.06-.94-.94-2.06-.94 2.06-2.06.94z\"/><path d=\"M17.41 7.96l-1.37-1.37c-.4-.4-.92-.59-1.43-.59-.52 0-1.04.2-1.43.59L10.3 9.45l-7.72 7.72c-.78.78-.78 2.05 0 2.83L4 21.41c.39.39.9.59 1.41.59.51 0 1.02-.2 1.41-.59l7.78-7.78 2.81-2.81c.8-.78.8-2.07 0-2.86zM5.41 20L4 18.59l7.72-7.72 1.47 1.35L5.41 20z\"/>\n",
              "  </svg>\n",
              "      </button>\n",
              "      \n",
              "  <style>\n",
              "    .colab-df-container {\n",
              "      display:flex;\n",
              "      flex-wrap:wrap;\n",
              "      gap: 12px;\n",
              "    }\n",
              "\n",
              "    .colab-df-convert {\n",
              "      background-color: #E8F0FE;\n",
              "      border: none;\n",
              "      border-radius: 50%;\n",
              "      cursor: pointer;\n",
              "      display: none;\n",
              "      fill: #1967D2;\n",
              "      height: 32px;\n",
              "      padding: 0 0 0 0;\n",
              "      width: 32px;\n",
              "    }\n",
              "\n",
              "    .colab-df-convert:hover {\n",
              "      background-color: #E2EBFA;\n",
              "      box-shadow: 0px 1px 2px rgba(60, 64, 67, 0.3), 0px 1px 3px 1px rgba(60, 64, 67, 0.15);\n",
              "      fill: #174EA6;\n",
              "    }\n",
              "\n",
              "    [theme=dark] .colab-df-convert {\n",
              "      background-color: #3B4455;\n",
              "      fill: #D2E3FC;\n",
              "    }\n",
              "\n",
              "    [theme=dark] .colab-df-convert:hover {\n",
              "      background-color: #434B5C;\n",
              "      box-shadow: 0px 1px 3px 1px rgba(0, 0, 0, 0.15);\n",
              "      filter: drop-shadow(0px 1px 2px rgba(0, 0, 0, 0.3));\n",
              "      fill: #FFFFFF;\n",
              "    }\n",
              "  </style>\n",
              "\n",
              "      <script>\n",
              "        const buttonEl =\n",
              "          document.querySelector('#df-cd3a3880-3aa2-4762-a048-e59f2fddbd60 button.colab-df-convert');\n",
              "        buttonEl.style.display =\n",
              "          google.colab.kernel.accessAllowed ? 'block' : 'none';\n",
              "\n",
              "        async function convertToInteractive(key) {\n",
              "          const element = document.querySelector('#df-cd3a3880-3aa2-4762-a048-e59f2fddbd60');\n",
              "          const dataTable =\n",
              "            await google.colab.kernel.invokeFunction('convertToInteractive',\n",
              "                                                     [key], {});\n",
              "          if (!dataTable) return;\n",
              "\n",
              "          const docLinkHtml = 'Like what you see? Visit the ' +\n",
              "            '<a target=\"_blank\" href=https://colab.research.google.com/notebooks/data_table.ipynb>data table notebook</a>'\n",
              "            + ' to learn more about interactive tables.';\n",
              "          element.innerHTML = '';\n",
              "          dataTable['output_type'] = 'display_data';\n",
              "          await google.colab.output.renderOutput(dataTable, element);\n",
              "          const docLink = document.createElement('div');\n",
              "          docLink.innerHTML = docLinkHtml;\n",
              "          element.appendChild(docLink);\n",
              "        }\n",
              "      </script>\n",
              "    </div>\n",
              "  </div>\n",
              "  "
            ],
            "text/plain": [
              "Bicaudal                         0.100    0.090  ...    0.020    0.010\n",
              "Unicaudal                        0.050    0.045  ...    0.010    0.005\n",
              "Graus de liberdade (n - 1) 23  1.71387  1.76991  ...  2.49987  2.80734\n",
              "                           24  1.71088  1.76667  ...  2.49216  2.79694\n",
              "                           25  1.70814  1.76371  ...  2.48511  2.78744\n",
              "\n",
              "[3 rows x 10 columns]"
            ]
          },
          "metadata": {},
          "execution_count": 44
        }
      ],
      "source": [
        "tabela_t_student[22:25]"
      ]
    },
    {
      "cell_type": "markdown",
      "metadata": {
        "id": "Brk3cI1npslE"
      },
      "source": [
        "### Obtendo $t_{\\alpha}$"
      ]
    },
    {
      "cell_type": "code",
      "execution_count": null,
      "metadata": {
        "id": "xXi0eYGYpslF",
        "colab": {
          "base_uri": "https://localhost:8080/"
        },
        "outputId": "606a6671-3918-4dcb-9a96-9d0e4e36de80"
      },
      "outputs": [
        {
          "output_type": "execute_result",
          "data": {
            "text/plain": [
              "1.7108820799094275"
            ]
          },
          "metadata": {},
          "execution_count": 45
        }
      ],
      "source": [
        "t_alpha = t_student.ppf(confianca, graus_de_liberdade)\n",
        "t_alpha"
      ]
    },
    {
      "cell_type": "markdown",
      "metadata": {
        "id": "xMnBzjxLpslH"
      },
      "source": [
        "![Região de Aceitação](https://caelum-online-public.s3.amazonaws.com/1229-estatistica-parte3/01/img009.png)"
      ]
    },
    {
      "cell_type": "markdown",
      "metadata": {
        "id": "Azy_uNSGpslI"
      },
      "source": [
        "---"
      ]
    },
    {
      "cell_type": "markdown",
      "metadata": {
        "id": "YN4weG-1pslI"
      },
      "source": [
        "### **Passo 4** - cálculo da estatística-teste e verificação desse valor com as áreas de aceitação e rejeição do teste\n",
        "\n",
        "# $$t = \\frac{\\bar{x} - \\mu_0}{\\frac{s}{\\sqrt{n}}}$$"
      ]
    },
    {
      "cell_type": "code",
      "execution_count": null,
      "metadata": {
        "id": "qY0DfIffpslI",
        "colab": {
          "base_uri": "https://localhost:8080/"
        },
        "outputId": "f3e9b299-49b5-44a7-e936-b831ccdb1f6a"
      },
      "outputs": [
        {
          "output_type": "execute_result",
          "data": {
            "text/plain": [
              "-3.876893119952045"
            ]
          },
          "metadata": {},
          "execution_count": 46
        }
      ],
      "source": [
        "t = (media_amostra - media) / (desvio_padrao_amostra / np.sqrt(25))\n",
        "t"
      ]
    },
    {
      "cell_type": "markdown",
      "metadata": {
        "id": "SCIchVxNpslK"
      },
      "source": [
        "![Estatística-Teste](https://caelum-online-public.s3.amazonaws.com/1229-estatistica-parte3/01/img010.png)"
      ]
    },
    {
      "cell_type": "markdown",
      "metadata": {
        "id": "NiheMfTopslK"
      },
      "source": [
        "---"
      ]
    },
    {
      "cell_type": "markdown",
      "metadata": {
        "id": "YCsJySBGpslK"
      },
      "source": [
        "### **Passo 5** - Aceitação ou rejeição da hipótese nula"
      ]
    },
    {
      "cell_type": "markdown",
      "metadata": {
        "id": "ioLyTpbWpslL"
      },
      "source": [
        "<img src='https://caelum-online-public.s3.amazonaws.com/1229-estatistica-parte3/01/img013.png' width=90%>"
      ]
    },
    {
      "cell_type": "markdown",
      "metadata": {
        "id": "TQcuPzbPpslL"
      },
      "source": [
        "### <font color='red'>Critério do valor crítico</font>\n",
        "\n",
        "> ### Teste Unicaudal Superior\n",
        "> ### Rejeitar $H_0$ se $t \\geq t_{\\alpha}$"
      ]
    },
    {
      "cell_type": "code",
      "execution_count": null,
      "metadata": {
        "id": "pkoDYMLIpslM",
        "colab": {
          "base_uri": "https://localhost:8080/"
        },
        "outputId": "73985c34-2c40-40d2-9adf-717c9719b7ef"
      },
      "outputs": [
        {
          "output_type": "execute_result",
          "data": {
            "text/plain": [
              "False"
            ]
          },
          "metadata": {},
          "execution_count": 47
        }
      ],
      "source": [
        "t >= t_alpha"
      ]
    },
    {
      "cell_type": "markdown",
      "metadata": {
        "id": "F-_AVTMJpslN"
      },
      "source": [
        "### <font color='green'>Conclusão: Com um nível de confiança de 95% não podemos rejeitar $H_0$, ou seja, a alegação do fabricante é verdadeira.</font>"
      ]
    },
    {
      "cell_type": "markdown",
      "source": [
        "### Exercício"
      ],
      "metadata": {
        "id": "Ehth8yPT-y4N"
      }
    },
    {
      "cell_type": "markdown",
      "source": [
        "A empresa Limpa Esgoto garante ser capaz de realizar o tratamento de esgoto e obter, no máximo, 150 g de impurezas para cada mil litros de esgoto tratado. Vinte amostras de mil litros de esgoto apresentaram, em média, 230 g de impurezas e desvio padrão amostral igual a 90 g.\n",
        "\n",
        "Assumindo alfa igual a 5% e população normalmente distribuída, seria possível discordar da empresa Limpa Esgoto? Assinale a alternativa que apresenta a estatística de teste e a decisão correta do teste."
      ],
      "metadata": {
        "id": "9HbnwfbA-3Ah"
      }
    },
    {
      "cell_type": "code",
      "source": [
        "md = 150\n",
        "md_amostral = 230\n",
        "dp_amostral = 90\n",
        "alfa = 0.05\n",
        "confianca = 1 - alfa\n",
        "n = 20\n",
        "gl = 19\n",
        "\n",
        "t_alfa = t_student.ppf(confianca, gl)\n",
        "t_alfa"
      ],
      "metadata": {
        "colab": {
          "base_uri": "https://localhost:8080/"
        },
        "id": "05xImwd_APQ9",
        "outputId": "aec9a254-3095-4e6d-eb44-e436b01ad3ba"
      },
      "execution_count": null,
      "outputs": [
        {
          "output_type": "execute_result",
          "data": {
            "text/plain": [
              "1.729132811521367"
            ]
          },
          "metadata": {},
          "execution_count": 48
        }
      ]
    },
    {
      "cell_type": "code",
      "source": [
        "t_teste = (md_amostral - md) / (dp_amostral / np.sqrt(n))\n",
        "t_teste"
      ],
      "metadata": {
        "colab": {
          "base_uri": "https://localhost:8080/"
        },
        "id": "L-LtFPieAU5V",
        "outputId": "57920d2f-7817-40b8-bdbf-d1d707f267d3"
      },
      "execution_count": null,
      "outputs": [
        {
          "output_type": "execute_result",
          "data": {
            "text/plain": [
              "3.9752319599996264"
            ]
          },
          "metadata": {},
          "execution_count": 49
        }
      ]
    },
    {
      "cell_type": "code",
      "source": [
        "t_teste >= t_alfa"
      ],
      "metadata": {
        "colab": {
          "base_uri": "https://localhost:8080/"
        },
        "id": "Epj9vhpAAXqe",
        "outputId": "07dcced7-9e8f-4599-d05a-f0695fc6f135"
      },
      "execution_count": null,
      "outputs": [
        {
          "output_type": "execute_result",
          "data": {
            "text/plain": [
              "True"
            ]
          },
          "metadata": {},
          "execution_count": 50
        }
      ]
    },
    {
      "cell_type": "code",
      "source": [
        "from scipy.stats import t as t_student\n",
        "import numpy as np\n",
        "\n",
        "md_amostra = 230\n",
        "dp_amostra = 90\n",
        "md = 150\n",
        "significancia = 0.05\n",
        "confianca = 1 - significancia\n",
        "n = 20\n",
        "graus_de_liberdade = n - 1\n",
        "\n",
        "t_alpha = t_student.ppf(confianca, graus_de_liberdade)\n",
        "\n",
        "t_teste = (md_amostra - md) / (dp_amostra / np.sqrt(n))\n",
        "\n",
        "print('t(alpha) =', round(t_alpha, 4))\n",
        "print('t =', round(t_teste, 4))\n",
        "if(t_teste >= t_alpha):\n",
        "    print('Rejeitar H0')\n",
        "else:\n",
        "    print('Aceitar H0')"
      ],
      "metadata": {
        "colab": {
          "base_uri": "https://localhost:8080/"
        },
        "id": "2PnGjnKmA08s",
        "outputId": "65249144-8b1e-446d-ef5e-bafed8b117db"
      },
      "execution_count": null,
      "outputs": [
        {
          "output_type": "stream",
          "name": "stdout",
          "text": [
            "t(alpha) = 1.7291\n",
            "t = 3.9752\n",
            "Rejeitar H0\n"
          ]
        }
      ]
    },
    {
      "cell_type": "markdown",
      "source": [
        "Sendo t >= t_alpha podemos rejeitar a hipótese nula, neste caso a alegação da empresa é falsa"
      ],
      "metadata": {
        "id": "IFFynpm3AZKm"
      }
    },
    {
      "cell_type": "markdown",
      "metadata": {
        "id": "7ye3tS25pslO"
      },
      "source": [
        "### <font color='red'>Critério do valor $p$</font>\n",
        "\n",
        "> ### Teste Unicaudal Superior\n",
        "> ### Rejeitar $H_0$ se o valor $p\\leq\\alpha$"
      ]
    },
    {
      "cell_type": "code",
      "execution_count": null,
      "metadata": {
        "id": "AtPMeAz4pslQ",
        "colab": {
          "base_uri": "https://localhost:8080/"
        },
        "outputId": "b62a9342-c391-4f8d-b9ef-cc4922d6e125"
      },
      "outputs": [
        {
          "output_type": "execute_result",
          "data": {
            "text/plain": [
              "-3.876893119952045"
            ]
          },
          "metadata": {},
          "execution_count": 52
        }
      ],
      "source": [
        "t"
      ]
    },
    {
      "cell_type": "code",
      "execution_count": null,
      "metadata": {
        "id": "gevdMX3apslS",
        "colab": {
          "base_uri": "https://localhost:8080/"
        },
        "outputId": "5871a804-1bb8-44d5-9f48-8b72e6589ee6"
      },
      "outputs": [
        {
          "output_type": "execute_result",
          "data": {
            "text/plain": [
              "0.9996406170303819"
            ]
          },
          "metadata": {},
          "execution_count": 53
        }
      ],
      "source": [
        "p_valor = t_student.sf(t, df = 24) # df degrees freedom\n",
        "p_valor"
      ]
    },
    {
      "cell_type": "code",
      "execution_count": null,
      "metadata": {
        "id": "_hfVEPQQpslU",
        "colab": {
          "base_uri": "https://localhost:8080/"
        },
        "outputId": "564b6ddd-6330-4a36-c902-67ebdcfb34ae"
      },
      "outputs": [
        {
          "output_type": "execute_result",
          "data": {
            "text/plain": [
              "False"
            ]
          },
          "metadata": {},
          "execution_count": 54
        }
      ],
      "source": [
        "p_valor <= significancia"
      ]
    },
    {
      "cell_type": "markdown",
      "metadata": {
        "id": "4JxGeADypslW"
      },
      "source": [
        "https://www.statsmodels.org/dev/generated/statsmodels.stats.weightstats.DescrStatsW.html"
      ]
    },
    {
      "cell_type": "code",
      "execution_count": null,
      "metadata": {
        "id": "Y1gP6yjvpslW"
      },
      "outputs": [],
      "source": [
        "from statsmodels.stats.weightstats import DescrStatsW"
      ]
    },
    {
      "cell_type": "code",
      "execution_count": null,
      "metadata": {
        "id": "7V555DeTpslX"
      },
      "outputs": [],
      "source": [
        "test = DescrStatsW(amostra)"
      ]
    },
    {
      "cell_type": "code",
      "execution_count": null,
      "metadata": {
        "id": "y36SnhnWpslY",
        "colab": {
          "base_uri": "https://localhost:8080/"
        },
        "outputId": "e1fbb693-d961-4fb1-dfb6-8bf70651158f"
      },
      "outputs": [
        {
          "output_type": "stream",
          "name": "stdout",
          "text": [
            "-3.8768931199520447\n",
            "0.9996406170303819\n",
            "24.0\n"
          ]
        }
      ],
      "source": [
        "t, p_valor, df = test.ttest_mean(value = media, alternative = 'larger')\n",
        "print(t[0])\n",
        "print(p_valor[0])\n",
        "print(df)\n",
        "\n",
        "                                                        "
      ]
    },
    {
      "cell_type": "code",
      "execution_count": null,
      "metadata": {
        "id": "CMZcYUyiz0mr",
        "colab": {
          "base_uri": "https://localhost:8080/"
        },
        "outputId": "b9c40997-0492-4d7d-e7c2-9630e443231a"
      },
      "outputs": [
        {
          "output_type": "execute_result",
          "data": {
            "text/plain": [
              "False"
            ]
          },
          "metadata": {},
          "execution_count": 58
        }
      ],
      "source": [
        "p_valor[0] <= significancia"
      ]
    },
    {
      "cell_type": "markdown",
      "source": [
        "### Exercício"
      ],
      "metadata": {
        "id": "NMNaelVNzgWn"
      }
    },
    {
      "cell_type": "markdown",
      "source": [
        "A pizzaria Muito Queijo alega que a quantidade de queijo em suas pizzas tamanho família é de, no mínimo, 350 g. Uma amostra de 35 pizzas tamanho família revelou uma média de 330 g de queijo por pizza. O desvio padrão amostral foi de 80 g.\n",
        "\n",
        "Assumindo alfa igual a 5% e população normalmente distribuída, seria possível discordar da alegação da pizzaria? Assinale a alternativa que apresenta a estatística de teste e a decisão correta do teste."
      ],
      "metadata": {
        "id": "1RfagBOjzfbi"
      }
    },
    {
      "cell_type": "markdown",
      "source": [
        "### $H_0: \\mu \\geq 350$\n",
        "\n",
        "### $H_1: \\mu < 37$"
      ],
      "metadata": {
        "id": "yXqsKanW04lI"
      }
    },
    {
      "cell_type": "code",
      "source": [
        "md = 350\n",
        "md_amostra = 330\n",
        "dp_amostra = 80\n",
        "n = 35\n",
        "\n",
        "alfa = 0.05\n",
        "confianca = 1 - alfa\n",
        "\n",
        "probabilidade = 0.5 + (confianca / 2)\n",
        "\n",
        "z_alfa = norm.ppf(probabilidade)\n",
        "z_teste = (md_amostra - md) / (dp_amostra / np.sqrt(n))\n",
        "\n",
        "if z_teste >= z_alfa:\n",
        "  print('z_teste= {}\\nz_alfa = {}'.format(round(z_teste, 4), round(z_alfa, 4)))\n",
        "  print('Rejeitar HO')\n",
        "else:\n",
        "  print('z_teste= {}\\nz_alfa = {}'.format(round(z_teste, 4), round(z_alfa, 4)))\n",
        "  print('Aceitar HO')\n",
        "\n",
        " "
      ],
      "metadata": {
        "colab": {
          "base_uri": "https://localhost:8080/"
        },
        "id": "aFsFvdvIzers",
        "outputId": "46f9dbe2-6f5b-4a7c-8e3d-3e96870c1363"
      },
      "execution_count": null,
      "outputs": [
        {
          "output_type": "stream",
          "name": "stdout",
          "text": [
            "z_teste= -1.479\n",
            "z_alfa = 1.96\n",
            "Aceitar HO\n"
          ]
        }
      ]
    },
    {
      "cell_type": "markdown",
      "source": [
        "A hipótese nula é aceita pois a média real não se distancia significamente da média teórica, sendo assim a alegação da pizzaria é verdadeira."
      ],
      "metadata": {
        "id": "COxt9qeL4VH8"
      }
    },
    {
      "cell_type": "markdown",
      "source": [
        "Nesta aula, aprendemos:\n",
        "\n",
        "- A distribuição t de Student\n",
        "- A construir e consultar uma tabela t de Student\n",
        "- A aplicação de um teste paramétrico unicaudal\n",
        "- A definição de hipóteses e obtenção de áreas críticas para um teste unicaudal\n",
        "- A aplicação de um teste t com as ferramentas do Python"
      ],
      "metadata": {
        "id": "tgDE5KRj6Abc"
      }
    },
    {
      "cell_type": "markdown",
      "metadata": {
        "id": "wlUdcJnDpsla"
      },
      "source": [
        "---"
      ]
    },
    {
      "cell_type": "markdown",
      "metadata": {
        "id": "L7_ZbBBtpslb"
      },
      "source": [
        "## <font color=green>3.4 Testes para Duas Amostras</font>\n",
        "***"
      ]
    },
    {
      "cell_type": "markdown",
      "metadata": {
        "id": "lmAJLIu8pslb"
      },
      "source": [
        "## <font color='red'>Problema</font>"
      ]
    },
    {
      "cell_type": "markdown",
      "metadata": {
        "id": "0zUUY8klpslc"
      },
      "source": [
        "Em nosso dataset temos os rendimento dos chefes de domicílio obtidos da Pesquisa Nacional por Amostra de Domicílios - PNAD no ano de 2015. Um problema bastante conhecido em nosso país diz respeito a desigualdade de renda, principalmente entre homens e mulheres.\n",
        "\n",
        "Duas amostras aleatórias, uma de **500 homens** e outra com **500 mulheres**, foram selecionadas em nosso dataset. Com o objetivo de comprovar tal desigualdade, **teste a igualdade das médias** entre estas duas amostras com um nível de **significância de 1%**."
      ]
    },
    {
      "cell_type": "markdown",
      "metadata": {
        "id": "WUknTBZgpslc"
      },
      "source": [
        "---"
      ]
    },
    {
      "cell_type": "markdown",
      "metadata": {
        "id": "gFIUL8Hgpslc"
      },
      "source": [
        "É possível também utilizar testes de hipóteses para comparar duas diferentes amostras. Neste tipo de teste se deseja decidir se uma amostra é diferente da outra."
      ]
    },
    {
      "cell_type": "markdown",
      "metadata": {
        "id": "xzGuwM4xpslc"
      },
      "source": [
        "### Seleção das amostras"
      ]
    },
    {
      "cell_type": "code",
      "execution_count": null,
      "metadata": {
        "id": "nuNSrzfYpsld",
        "scrolled": true
      },
      "outputs": [],
      "source": [
        "homens = dados.query('Sexo == 0').sample(n = 500, random_state = 101).Renda"
      ]
    },
    {
      "cell_type": "code",
      "execution_count": null,
      "metadata": {
        "id": "W-W9IOs1psle",
        "scrolled": true
      },
      "outputs": [],
      "source": [
        "mulheres = dados.query('Sexo == 1').sample(n = 500, random_state = 101).Renda"
      ]
    },
    {
      "cell_type": "markdown",
      "metadata": {
        "id": "FOFa-cHwpslg"
      },
      "source": [
        "### Dados do problema"
      ]
    },
    {
      "cell_type": "code",
      "execution_count": null,
      "metadata": {
        "id": "BGyXCbompslh",
        "colab": {
          "base_uri": "https://localhost:8080/"
        },
        "outputId": "bb395099-6b8e-4547-9b0c-0dab81e85e4e"
      },
      "outputs": [
        {
          "output_type": "execute_result",
          "data": {
            "text/plain": [
              "1357.528"
            ]
          },
          "metadata": {},
          "execution_count": 62
        }
      ],
      "source": [
        "media_amostra_M = mulheres.mean()\n",
        "media_amostra_M"
      ]
    },
    {
      "cell_type": "code",
      "execution_count": null,
      "metadata": {
        "id": "RoxFOCA3pslk",
        "colab": {
          "base_uri": "https://localhost:8080/"
        },
        "outputId": "568ca348-68d0-4410-dc8e-72dc7c061c0b"
      },
      "outputs": [
        {
          "output_type": "execute_result",
          "data": {
            "text/plain": [
              "1569.9011907484578"
            ]
          },
          "metadata": {},
          "execution_count": 63
        }
      ],
      "source": [
        "desvio_padrao_amostra_M = mulheres.std()\n",
        "desvio_padrao_amostra_M"
      ]
    },
    {
      "cell_type": "code",
      "execution_count": null,
      "metadata": {
        "id": "Of8L6Hygpsll",
        "colab": {
          "base_uri": "https://localhost:8080/"
        },
        "outputId": "9b26e63f-1726-48a1-bad3-494ef9024626"
      },
      "outputs": [
        {
          "output_type": "execute_result",
          "data": {
            "text/plain": [
              "2142.608"
            ]
          },
          "metadata": {},
          "execution_count": 64
        }
      ],
      "source": [
        "media_amostra_H = homens.mean()\n",
        "media_amostra_H"
      ]
    },
    {
      "cell_type": "code",
      "execution_count": null,
      "metadata": {
        "id": "-cSpXXTepsln",
        "colab": {
          "base_uri": "https://localhost:8080/"
        },
        "outputId": "7b16a94c-379e-4557-8456-ac8057665602"
      },
      "outputs": [
        {
          "output_type": "execute_result",
          "data": {
            "text/plain": [
              "2548.050802499875"
            ]
          },
          "metadata": {},
          "execution_count": 65
        }
      ],
      "source": [
        "desvio_padrao_amostra_H = homens.std()\n",
        "desvio_padrao_amostra_H"
      ]
    },
    {
      "cell_type": "code",
      "execution_count": null,
      "metadata": {
        "id": "Cl7kdxkUpslo"
      },
      "outputs": [],
      "source": [
        "significancia = 0.01\n",
        "confianca = 1 - significancia\n",
        "n_M = 500\n",
        "n_H = 500\n",
        "D_0 = 0"
      ]
    },
    {
      "cell_type": "markdown",
      "metadata": {
        "id": "PGoWwWwjpslp"
      },
      "source": [
        "---"
      ]
    },
    {
      "cell_type": "markdown",
      "metadata": {
        "id": "tO597Oxgpslp"
      },
      "source": [
        "### **Passo 1** - formulação das hipóteses $H_0$ e $H_1$\n",
        "\n",
        "#### <font color='red'>Lembre-se, a hipótese nula sempre contém a alegação de igualdade</font>"
      ]
    },
    {
      "cell_type": "markdown",
      "metadata": {
        "id": "LysVU-7fpslr"
      },
      "source": [
        "### $\\mu_1 \\Rightarrow$ Média das rendas dos chefes de domicílios do sexo masculino\n",
        "### $\\mu_2 \\Rightarrow$ Média das rendas dos chefes de domicílios do sexo feminino\n",
        "\n",
        "### $\n",
        "\\begin{cases}\n",
        "H_0: \\mu_1 \\leq \\mu_2\\\\\n",
        "H_1: \\mu_1 > \\mu_2\n",
        "\\end{cases}\n",
        "$\n",
        "\n",
        "### ou\n",
        "\n",
        "### $\n",
        "\\begin{cases}\n",
        "H_0: \\mu_1 -\\mu_2 \\leq 0\\\\\n",
        "H_1: \\mu_1 -\\mu_2 > 0\n",
        "\\end{cases}\n",
        "$"
      ]
    },
    {
      "cell_type": "markdown",
      "metadata": {
        "id": "ENKqbCgQpslr"
      },
      "source": [
        "---"
      ]
    },
    {
      "cell_type": "markdown",
      "metadata": {
        "id": "dBA05Y3Zpslr"
      },
      "source": [
        "### **Passo 2** - escolha da distribuição amostral adequada\n",
        "<img src='https://caelum-online-public.s3.amazonaws.com/1229-estatistica-parte3/01/img003.png' width=70%>\n",
        "\n",
        "### <font color='red'>Observação importante</font>\n",
        "> Em testes que envolvam duas amostras com o emprego da tabela $t$ de Student, o número de graus de liberdade será sempre igual a $n_1 + n_2 - 2$"
      ]
    },
    {
      "cell_type": "markdown",
      "metadata": {
        "id": "6_Q_Wtjlpsls"
      },
      "source": [
        "### O tamanho da amostra é maior que 30?\n",
        "#### Resp.: Sim\n",
        "\n",
        "### O desvio padrão populacional é conhecido?\n",
        "#### Resp.: Não"
      ]
    },
    {
      "cell_type": "markdown",
      "metadata": {
        "id": "T6sVzVjVpsls"
      },
      "source": [
        "---"
      ]
    },
    {
      "cell_type": "markdown",
      "metadata": {
        "id": "SUN4yJqzpsls"
      },
      "source": [
        "### **Passo 3** - fixação da significância do teste ($\\alpha$)"
      ]
    },
    {
      "cell_type": "code",
      "execution_count": null,
      "metadata": {
        "id": "b3Y_CZmzpsls",
        "colab": {
          "base_uri": "https://localhost:8080/"
        },
        "outputId": "5fd26010-7f73-4e85-a0ed-4357bf3db65c"
      },
      "outputs": [
        {
          "output_type": "execute_result",
          "data": {
            "text/plain": [
              "0.99"
            ]
          },
          "metadata": {},
          "execution_count": 67
        }
      ],
      "source": [
        "probabilidade = confianca\n",
        "probabilidade"
      ]
    },
    {
      "cell_type": "code",
      "execution_count": null,
      "metadata": {
        "id": "qNse2bFRpslu",
        "colab": {
          "base_uri": "https://localhost:8080/"
        },
        "outputId": "4ce82b74-e1eb-4a53-ec82-9957f87c5b82"
      },
      "outputs": [
        {
          "output_type": "execute_result",
          "data": {
            "text/plain": [
              "2.33"
            ]
          },
          "metadata": {},
          "execution_count": 68
        }
      ],
      "source": [
        "z_alpha = norm.ppf(probabilidade)\n",
        "z_alpha.round(2)"
      ]
    },
    {
      "cell_type": "markdown",
      "metadata": {
        "id": "y9u_zd8Opslv"
      },
      "source": [
        "![Região de Aceitação](https://caelum-online-public.s3.amazonaws.com/1229-estatistica-parte3/01/img011.png)"
      ]
    },
    {
      "cell_type": "markdown",
      "metadata": {
        "id": "xUhiEXRMpslv"
      },
      "source": [
        "---"
      ]
    },
    {
      "cell_type": "markdown",
      "metadata": {
        "id": "iooB1aPHpslv"
      },
      "source": [
        "### **Passo 4** - cálculo da estatística-teste e verificação desse valor com as áreas de aceitação e rejeição do teste\n",
        "\n",
        "# $$z = \\frac{(\\bar{x_1} - \\bar{x_2})-D_0}{\\sqrt{\\frac{s_1^2}{n_1} + \\frac{s_2^2}{n_2}}}$$"
      ]
    },
    {
      "cell_type": "code",
      "execution_count": null,
      "metadata": {
        "id": "AL2i9JOTpslw",
        "colab": {
          "base_uri": "https://localhost:8080/"
        },
        "outputId": "ef87935e-048d-422a-d50b-3e15ebde1bad"
      },
      "outputs": [
        {
          "output_type": "execute_result",
          "data": {
            "text/plain": [
              "5.86562005776475"
            ]
          },
          "metadata": {},
          "execution_count": 69
        }
      ],
      "source": [
        "numerador = (media_amostra_H - media_amostra_M) - D_0\n",
        "\n",
        "denominador = np.sqrt(((desvio_padrao_amostra_H ** 2)/n_H) + ((desvio_padrao_amostra_M ** 2)/n_M))\n",
        "\n",
        "z_teste = numerador / denominador\n",
        "\n",
        "z_teste"
      ]
    },
    {
      "cell_type": "markdown",
      "metadata": {
        "id": "jXrfHvH5pslx"
      },
      "source": [
        "![Estatística-Teste](https://caelum-online-public.s3.amazonaws.com/1229-estatistica-parte3/01/img012.png)"
      ]
    },
    {
      "cell_type": "markdown",
      "metadata": {
        "id": "4dn58Fc2pslx"
      },
      "source": [
        "---"
      ]
    },
    {
      "cell_type": "markdown",
      "metadata": {
        "id": "P-7NL33-pslx"
      },
      "source": [
        "### **Passo 5** - Aceitação ou rejeição da hipótese nula"
      ]
    },
    {
      "cell_type": "markdown",
      "metadata": {
        "id": "n_djxfYtpslx"
      },
      "source": [
        "<img src='https://caelum-online-public.s3.amazonaws.com/1229-estatistica-parte3/01/img014.png' width=90%>"
      ]
    },
    {
      "cell_type": "markdown",
      "metadata": {
        "id": "QrObW-BXpsly"
      },
      "source": [
        "### <font color='red'>Critério do valor crítico</font>\n",
        "\n",
        "> ### Teste Unicaudal\n",
        "> ### Rejeitar $H_0$ se $z \\geq z_{\\alpha}$"
      ]
    },
    {
      "cell_type": "code",
      "execution_count": null,
      "metadata": {
        "id": "tkJSji7gpsly",
        "colab": {
          "base_uri": "https://localhost:8080/"
        },
        "outputId": "9593c26b-5da3-43b2-9136-3f83b805d80b"
      },
      "outputs": [
        {
          "output_type": "execute_result",
          "data": {
            "text/plain": [
              "True"
            ]
          },
          "metadata": {},
          "execution_count": 70
        }
      ],
      "source": [
        "z_teste >= z_alpha"
      ]
    },
    {
      "cell_type": "markdown",
      "metadata": {
        "id": "UnBVO1uDpslz"
      },
      "source": [
        "### <font color='green'>Conclusão: Com um nível de confiança de 99% rejeitamos $H_0$, isto é, concluímos que a média das rendas dos chefes de domicílios do sexo masculino é maior que a média das rendas das chefes de domicílios do sexo feminino. Confirmando a alegação de desigualdade de renda entre os sexos.</font>"
      ]
    },
    {
      "cell_type": "markdown",
      "source": [
        "### Exercício"
      ],
      "metadata": {
        "id": "be2QkXau2ioY"
      }
    },
    {
      "cell_type": "markdown",
      "source": [
        "Um fabricante de cosméticos afirma que a adição de um novo composto químico em sua linha de shampoos consegue promover em mais de 2 centímetros o crescimento dos fios de cabelo em um período de 60 dias. Duas amostras de pessoas foram selecionadas e testadas, uma utilizando o shampoo novo (com o composto) e a outra com o shampoo antigo (sem o composto).\n",
        "\n",
        "Os resultados (crescimento dos fios de cabelo em centímetros) podem ser verificados na tabela abaixo:"
      ],
      "metadata": {
        "id": "zUuDvYWB2nF3"
      }
    },
    {
      "cell_type": "code",
      "source": [
        "shampoo_Novo = pd.Series([3.4, 4.9, 2.8, 5.5, 3.7, 2.5, 4.3, 4.6, 3.7, 3.4])\n",
        "shampoo_Antigo = pd.Series([0.3, 1.2, 1.2, 1.7, 1.1, 0.6, 1.2, 1.5, 0.5, 0.7])"
      ],
      "metadata": {
        "id": "URCbecaz3E3Y"
      },
      "execution_count": null,
      "outputs": []
    },
    {
      "cell_type": "markdown",
      "source": [
        "### $\\mu_1 \\Rightarrow$ Média de crescimento utilizando o shampoo novo\n",
        "### $\\mu_2 \\Rightarrow$ Média de crescimento utilizando o shampoo antigo\n",
        "\n",
        "### $\n",
        "\\begin{cases}\n",
        "H_0: \\mu_1 -\\mu_2 \\leq 2\\\\\n",
        "H_1: \\mu_1 -\\mu_2 > 2\n",
        "\\end{cases}\n",
        "$"
      ],
      "metadata": {
        "id": "oVWYKc02_yrk"
      }
    },
    {
      "cell_type": "markdown",
      "source": [
        "Assumindo um nível de confiança de 95% e considerando que as populações se distribuem como uma normal, podemos acreditar na afirmação do fabricante do shampoo? Assinale a alternativa que apresenta a estatística de teste e a decisão correta do teste.\n",
        "\n",
        "**Um pouco mais de teoria:** como se trata de um problema um pouco diferente do apresentado em nossa aula, vamos esclarecer alguns pontos para ajudar na solução:"
      ],
      "metadata": {
        "id": "YAaWNj3w3nlI"
      }
    },
    {
      "cell_type": "markdown",
      "source": [
        "**1)** Em testes entre duas amostras, quando realizamos a escolha da distribuição amostral adequada (passo 2) e perguntamos se n ≥ 30, temos que considerar que n = n1 + n2, onde n1 é o tamanho da primeira amostra e n2 o tamanho da segunda;\n",
        "\n",
        "\n",
        "**2)** Quando n1 + n2 ≥ 30, utilizamos z (normal), e quando n1 + n2 < 30, σ não for conhecido e as populações forem normalmente distribuídas, utilizamos t (t-Student);\n",
        "\n",
        "\n",
        "**3)** Quando utilizamos a tabela t de Student, em teste de duas amostras, os graus de liberdade são obtidos da seguinte forma: n1 + n2 - 2;\n",
        "\n",
        "\n",
        "**4)** Quando o problema nos pergunta se podemos acreditar na afirmação do fabricante, está nos indicando o que devemos testar, ou seja, a nossa hipótese alternativa (H1), que no caso é:"
      ],
      "metadata": {
        "id": "x9EkoBS-3zPW"
      }
    },
    {
      "cell_type": "markdown",
      "source": [
        "\n",
        "Onde:\n",
        "\n",
        "<br>**μ1** = Crescimento médio dos cabelos com o uso do novo shampoo</br>\n",
        "<br>**μ2** = Crescimento médio dos cabelos com o uso do shampoo antigo.</br>\n",
        "\n",
        "\n",
        "<br>**5)** Em nosso próximo vídeo, utilizaremos o ztest_ind() para solucionar problemas como este. Um teste similar ao ztest_ind(), que utiliza a distribuição t de Student, é o ttest_ind(). Aqui, você será redirecionado para a documentação. Observe que o ttest_ind() retorna a estatística de teste, o p-valor e também os graus de liberdade.</br>"
      ],
      "metadata": {
        "id": "SmE6xWnR4g7O"
      }
    },
    {
      "cell_type": "markdown",
      "source": [
        "https://www.statsmodels.org/stable/generated/statsmodels.stats.weightstats.CompareMeans.ttest_ind.html"
      ],
      "metadata": {
        "id": "BxVw-BZB45wv"
      }
    },
    {
      "cell_type": "code",
      "source": [
        "media_N = shampoo_Novo.mean()\n",
        "media_N"
      ],
      "metadata": {
        "colab": {
          "base_uri": "https://localhost:8080/"
        },
        "id": "1TPtH17z3hj2",
        "outputId": "c738851e-f944-4b9b-9ba6-b646529d886a"
      },
      "execution_count": null,
      "outputs": [
        {
          "output_type": "execute_result",
          "data": {
            "text/plain": [
              "3.8800000000000003"
            ]
          },
          "metadata": {},
          "execution_count": 72
        }
      ]
    },
    {
      "cell_type": "code",
      "source": [
        "media_A = shampoo_Antigo.mean()\n",
        "media_A"
      ],
      "metadata": {
        "colab": {
          "base_uri": "https://localhost:8080/"
        },
        "id": "z0ol0CC93hZ6",
        "outputId": "aa379ecd-26fd-4dfc-d90a-2d0493cc2625"
      },
      "execution_count": null,
      "outputs": [
        {
          "output_type": "execute_result",
          "data": {
            "text/plain": [
              "1.0"
            ]
          },
          "metadata": {},
          "execution_count": 73
        }
      ]
    },
    {
      "cell_type": "code",
      "source": [
        "dp_N = shampoo_Novo.std()\n",
        "dp_N"
      ],
      "metadata": {
        "colab": {
          "base_uri": "https://localhost:8080/"
        },
        "id": "WD5hM2Ya3hQG",
        "outputId": "124f5211-27d0-4898-fde7-a1cffa6173fa"
      },
      "execution_count": null,
      "outputs": [
        {
          "output_type": "execute_result",
          "data": {
            "text/plain": [
              "0.9402127418834526"
            ]
          },
          "metadata": {},
          "execution_count": 74
        }
      ]
    },
    {
      "cell_type": "code",
      "source": [
        "dp_A = shampoo_Antigo.std()\n",
        "dp_A"
      ],
      "metadata": {
        "colab": {
          "base_uri": "https://localhost:8080/"
        },
        "id": "7lu-am3f3hFS",
        "outputId": "c61e6c21-0e24-454a-814c-12349dfee0a2"
      },
      "execution_count": null,
      "outputs": [
        {
          "output_type": "execute_result",
          "data": {
            "text/plain": [
              "0.4546060565661952"
            ]
          },
          "metadata": {},
          "execution_count": 75
        }
      ]
    },
    {
      "cell_type": "code",
      "source": [
        "significancia = 0.05\n",
        "confianca = 1 - significancia\n",
        "n_N = len(shampoo_Novo)\n",
        "n_A = len(shampoo_Antigo)\n",
        "n = n_N + n_A\n",
        "D_0 = 2\n",
        "graus_de_liberdade = n - 2"
      ],
      "metadata": {
        "id": "MVOp6H5953aj"
      },
      "execution_count": null,
      "outputs": []
    },
    {
      "cell_type": "code",
      "source": [
        "n <= 30"
      ],
      "metadata": {
        "colab": {
          "base_uri": "https://localhost:8080/"
        },
        "id": "TarE7XGU53TQ",
        "outputId": "96cb5cc0-8df6-462f-c0c5-a5b8b02890d4"
      },
      "execution_count": null,
      "outputs": [
        {
          "output_type": "execute_result",
          "data": {
            "text/plain": [
              "True"
            ]
          },
          "metadata": {},
          "execution_count": 77
        }
      ]
    },
    {
      "cell_type": "code",
      "source": [
        "from scipy.stats import t as t_student"
      ],
      "metadata": {
        "id": "hrqOsRWq53LL"
      },
      "execution_count": null,
      "outputs": []
    },
    {
      "cell_type": "code",
      "source": [
        "tabela_t_student.iloc[16:19]"
      ],
      "metadata": {
        "colab": {
          "base_uri": "https://localhost:8080/"
        },
        "id": "GVprIqF553E9",
        "outputId": "f2d3ed7b-f9c3-4c24-c95d-41579ed6c34b"
      },
      "execution_count": null,
      "outputs": [
        {
          "output_type": "execute_result",
          "data": {
            "text/html": [
              "\n",
              "  <div id=\"df-5d2b6af2-2dbd-4087-85ec-2effcc70fceb\">\n",
              "    <div class=\"colab-df-container\">\n",
              "      <div>\n",
              "<style scoped>\n",
              "    .dataframe tbody tr th:only-of-type {\n",
              "        vertical-align: middle;\n",
              "    }\n",
              "\n",
              "    .dataframe tbody tr th {\n",
              "        vertical-align: top;\n",
              "    }\n",
              "\n",
              "    .dataframe thead tr th {\n",
              "        text-align: left;\n",
              "    }\n",
              "</style>\n",
              "<table border=\"1\" class=\"dataframe\">\n",
              "  <thead>\n",
              "    <tr>\n",
              "      <th></th>\n",
              "      <th>Bicaudal</th>\n",
              "      <th>0.100</th>\n",
              "      <th>0.090</th>\n",
              "      <th>0.080</th>\n",
              "      <th>0.070</th>\n",
              "      <th>0.060</th>\n",
              "      <th>0.050</th>\n",
              "      <th>0.040</th>\n",
              "      <th>0.030</th>\n",
              "      <th>0.020</th>\n",
              "      <th>0.010</th>\n",
              "    </tr>\n",
              "    <tr>\n",
              "      <th></th>\n",
              "      <th>Unicaudal</th>\n",
              "      <th>0.050</th>\n",
              "      <th>0.045</th>\n",
              "      <th>0.040</th>\n",
              "      <th>0.035</th>\n",
              "      <th>0.030</th>\n",
              "      <th>0.025</th>\n",
              "      <th>0.020</th>\n",
              "      <th>0.015</th>\n",
              "      <th>0.010</th>\n",
              "      <th>0.005</th>\n",
              "    </tr>\n",
              "  </thead>\n",
              "  <tbody>\n",
              "    <tr>\n",
              "      <th rowspan=\"3\" valign=\"top\">Graus de liberdade (n - 1)</th>\n",
              "      <th>17</th>\n",
              "      <td>1.73961</td>\n",
              "      <td>1.79776</td>\n",
              "      <td>1.86187</td>\n",
              "      <td>1.93353</td>\n",
              "      <td>2.015</td>\n",
              "      <td>2.10982</td>\n",
              "      <td>2.22385</td>\n",
              "      <td>2.36805</td>\n",
              "      <td>2.56693</td>\n",
              "      <td>2.89823</td>\n",
              "    </tr>\n",
              "    <tr>\n",
              "      <th>18</th>\n",
              "      <td>1.73406</td>\n",
              "      <td>1.79175</td>\n",
              "      <td>1.85534</td>\n",
              "      <td>1.92636</td>\n",
              "      <td>2.00707</td>\n",
              "      <td>2.10092</td>\n",
              "      <td>2.2137</td>\n",
              "      <td>2.35618</td>\n",
              "      <td>2.55238</td>\n",
              "      <td>2.87844</td>\n",
              "    </tr>\n",
              "    <tr>\n",
              "      <th>19</th>\n",
              "      <td>1.72913</td>\n",
              "      <td>1.78642</td>\n",
              "      <td>1.84953</td>\n",
              "      <td>1.91999</td>\n",
              "      <td>2.00002</td>\n",
              "      <td>2.09302</td>\n",
              "      <td>2.2047</td>\n",
              "      <td>2.34565</td>\n",
              "      <td>2.53948</td>\n",
              "      <td>2.86093</td>\n",
              "    </tr>\n",
              "  </tbody>\n",
              "</table>\n",
              "</div>\n",
              "      <button class=\"colab-df-convert\" onclick=\"convertToInteractive('df-5d2b6af2-2dbd-4087-85ec-2effcc70fceb')\"\n",
              "              title=\"Convert this dataframe to an interactive table.\"\n",
              "              style=\"display:none;\">\n",
              "        \n",
              "  <svg xmlns=\"http://www.w3.org/2000/svg\" height=\"24px\"viewBox=\"0 0 24 24\"\n",
              "       width=\"24px\">\n",
              "    <path d=\"M0 0h24v24H0V0z\" fill=\"none\"/>\n",
              "    <path d=\"M18.56 5.44l.94 2.06.94-2.06 2.06-.94-2.06-.94-.94-2.06-.94 2.06-2.06.94zm-11 1L8.5 8.5l.94-2.06 2.06-.94-2.06-.94L8.5 2.5l-.94 2.06-2.06.94zm10 10l.94 2.06.94-2.06 2.06-.94-2.06-.94-.94-2.06-.94 2.06-2.06.94z\"/><path d=\"M17.41 7.96l-1.37-1.37c-.4-.4-.92-.59-1.43-.59-.52 0-1.04.2-1.43.59L10.3 9.45l-7.72 7.72c-.78.78-.78 2.05 0 2.83L4 21.41c.39.39.9.59 1.41.59.51 0 1.02-.2 1.41-.59l7.78-7.78 2.81-2.81c.8-.78.8-2.07 0-2.86zM5.41 20L4 18.59l7.72-7.72 1.47 1.35L5.41 20z\"/>\n",
              "  </svg>\n",
              "      </button>\n",
              "      \n",
              "  <style>\n",
              "    .colab-df-container {\n",
              "      display:flex;\n",
              "      flex-wrap:wrap;\n",
              "      gap: 12px;\n",
              "    }\n",
              "\n",
              "    .colab-df-convert {\n",
              "      background-color: #E8F0FE;\n",
              "      border: none;\n",
              "      border-radius: 50%;\n",
              "      cursor: pointer;\n",
              "      display: none;\n",
              "      fill: #1967D2;\n",
              "      height: 32px;\n",
              "      padding: 0 0 0 0;\n",
              "      width: 32px;\n",
              "    }\n",
              "\n",
              "    .colab-df-convert:hover {\n",
              "      background-color: #E2EBFA;\n",
              "      box-shadow: 0px 1px 2px rgba(60, 64, 67, 0.3), 0px 1px 3px 1px rgba(60, 64, 67, 0.15);\n",
              "      fill: #174EA6;\n",
              "    }\n",
              "\n",
              "    [theme=dark] .colab-df-convert {\n",
              "      background-color: #3B4455;\n",
              "      fill: #D2E3FC;\n",
              "    }\n",
              "\n",
              "    [theme=dark] .colab-df-convert:hover {\n",
              "      background-color: #434B5C;\n",
              "      box-shadow: 0px 1px 3px 1px rgba(0, 0, 0, 0.15);\n",
              "      filter: drop-shadow(0px 1px 2px rgba(0, 0, 0, 0.3));\n",
              "      fill: #FFFFFF;\n",
              "    }\n",
              "  </style>\n",
              "\n",
              "      <script>\n",
              "        const buttonEl =\n",
              "          document.querySelector('#df-5d2b6af2-2dbd-4087-85ec-2effcc70fceb button.colab-df-convert');\n",
              "        buttonEl.style.display =\n",
              "          google.colab.kernel.accessAllowed ? 'block' : 'none';\n",
              "\n",
              "        async function convertToInteractive(key) {\n",
              "          const element = document.querySelector('#df-5d2b6af2-2dbd-4087-85ec-2effcc70fceb');\n",
              "          const dataTable =\n",
              "            await google.colab.kernel.invokeFunction('convertToInteractive',\n",
              "                                                     [key], {});\n",
              "          if (!dataTable) return;\n",
              "\n",
              "          const docLinkHtml = 'Like what you see? Visit the ' +\n",
              "            '<a target=\"_blank\" href=https://colab.research.google.com/notebooks/data_table.ipynb>data table notebook</a>'\n",
              "            + ' to learn more about interactive tables.';\n",
              "          element.innerHTML = '';\n",
              "          dataTable['output_type'] = 'display_data';\n",
              "          await google.colab.output.renderOutput(dataTable, element);\n",
              "          const docLink = document.createElement('div');\n",
              "          docLink.innerHTML = docLinkHtml;\n",
              "          element.appendChild(docLink);\n",
              "        }\n",
              "      </script>\n",
              "    </div>\n",
              "  </div>\n",
              "  "
            ],
            "text/plain": [
              "Bicaudal                         0.100    0.090  ...    0.020    0.010\n",
              "Unicaudal                        0.050    0.045  ...    0.010    0.005\n",
              "Graus de liberdade (n - 1) 17  1.73961  1.79776  ...  2.56693  2.89823\n",
              "                           18  1.73406  1.79175  ...  2.55238  2.87844\n",
              "                           19  1.72913  1.78642  ...  2.53948  2.86093\n",
              "\n",
              "[3 rows x 10 columns]"
            ]
          },
          "metadata": {},
          "execution_count": 79
        }
      ]
    },
    {
      "cell_type": "code",
      "source": [
        "t_alfa = 1.73406\n",
        "t_alfa"
      ],
      "metadata": {
        "colab": {
          "base_uri": "https://localhost:8080/"
        },
        "id": "CLrtt1gR8d7D",
        "outputId": "12aec55b-ec2c-4ce2-9227-1edcc64010dd"
      },
      "execution_count": null,
      "outputs": [
        {
          "output_type": "execute_result",
          "data": {
            "text/plain": [
              "1.73406"
            ]
          },
          "metadata": {},
          "execution_count": 80
        }
      ]
    },
    {
      "cell_type": "code",
      "source": [
        "t_alfa = t_student.ppf(confianca, graus_de_liberdade)\n",
        "t_alfa"
      ],
      "metadata": {
        "colab": {
          "base_uri": "https://localhost:8080/"
        },
        "id": "Z39ObtQh8z1x",
        "outputId": "ff878977-2838-4ca5-d4b4-0b4242a48e28"
      },
      "execution_count": null,
      "outputs": [
        {
          "output_type": "execute_result",
          "data": {
            "text/plain": [
              "1.7340636066175354"
            ]
          },
          "metadata": {},
          "execution_count": 81
        }
      ]
    },
    {
      "cell_type": "code",
      "source": [
        "numerador = (media_N - media_A) - D_0\n",
        "\n",
        "denominador = np.sqrt(((dp_N ** 2) / (n_N)) + ((dp_A ** 2) / (n_A)))\n",
        "\n",
        "t_teste = numerador / denominador\n",
        "\n",
        "t_teste"
      ],
      "metadata": {
        "colab": {
          "base_uri": "https://localhost:8080/"
        },
        "id": "2bo2pgFb86dM",
        "outputId": "b31683fd-98cf-4518-abfb-6168a755eaa4"
      },
      "execution_count": null,
      "outputs": [
        {
          "output_type": "execute_result",
          "data": {
            "text/plain": [
              "2.6646283978779315"
            ]
          },
          "metadata": {},
          "execution_count": 82
        }
      ]
    },
    {
      "cell_type": "code",
      "source": [
        "t_teste >= t_alfa"
      ],
      "metadata": {
        "colab": {
          "base_uri": "https://localhost:8080/"
        },
        "id": "7QZVbqNl9vR9",
        "outputId": "754419a5-b707-4ab5-c6b3-e571f88459d0"
      },
      "execution_count": null,
      "outputs": [
        {
          "output_type": "execute_result",
          "data": {
            "text/plain": [
              "True"
            ]
          },
          "metadata": {},
          "execution_count": 83
        }
      ]
    },
    {
      "cell_type": "code",
      "source": [
        "from scipy.stats import t as t_student\n",
        "import numpy as np\n",
        "import pandas as pd\n",
        "\n",
        "shampoo_Novo = pd.Series([3.4, 4.9, 2.8, 5.5, 3.7, 2.5, 4.3, 4.6, 3.7, 3.4])\n",
        "shampoo_Antigo = pd.Series([0.3, 1.2, 1.2, 1.7, 1.1, 0.6, 1.2, 1.5, 0.5, 0.7])\n",
        "\n",
        "media_A = shampoo_Novo.mean()\n",
        "desvio_padrao_A = shampoo_Novo.std()\n",
        "\n",
        "media_B = shampoo_Antigo.mean()\n",
        "desvio_padrao_B = shampoo_Antigo.std()\n",
        "\n",
        "significancia = 0.05\n",
        "confianca = 1 - significancia\n",
        "n_A = len(shampoo_Novo)\n",
        "n_B = len(shampoo_Antigo)\n",
        "D_0 = 2\n",
        "\n",
        "graus_de_liberdade = n_A + n_B - 2\n",
        "\n",
        "t_alpha = t_student.ppf(confianca, graus_de_liberdade)\n",
        "\n",
        "numerador = (media_A - media_B) - D_0\n",
        "denominador = np.sqrt((desvio_padrao_A ** 2 / n_A) + (desvio_padrao_B ** 2 / n_B))\n",
        "t = numerador / denominador\n",
        "\n",
        "print('t =', round(t, 4))\n",
        "\n",
        "if(t >= t_alpha):\n",
        "    print('Rejeitar H0')\n",
        "else:\n",
        "    print('Aceitar H0')"
      ],
      "metadata": {
        "colab": {
          "base_uri": "https://localhost:8080/"
        },
        "id": "Sy9yavEVA_8F",
        "outputId": "6839f916-11e5-4100-ac80-779471e76421"
      },
      "execution_count": null,
      "outputs": [
        {
          "output_type": "stream",
          "name": "stdout",
          "text": [
            "t = 2.6646\n",
            "Rejeitar H0\n"
          ]
        }
      ]
    },
    {
      "cell_type": "markdown",
      "source": [
        "### <font color='green'>Conclusão: Com um nível de confiança de 95% rejeitamos  $H_0$, isto é, concluímos que a média de crescimento do cabelo utilizando o shampoo novo é maior que 2 cm quando comparado com o a média de crescimento utilizando o shampoo antigo, ou seja, a alegação do fabricante é verdadeira.</font>"
      ],
      "metadata": {
        "id": "k9ycRrbB-HOD"
      }
    },
    {
      "cell_type": "markdown",
      "metadata": {
        "id": "cyuNEHfwpsl0"
      },
      "source": [
        "### <font color='red'>Critério do valor $p$</font>\n",
        "\n",
        "> ### Teste Unicaudal\n",
        "> ### Rejeitar $H_0$ se o valor $p\\leq\\alpha$"
      ]
    },
    {
      "cell_type": "markdown",
      "metadata": {
        "id": "9WgvHygWpsl0"
      },
      "source": [
        "https://www.statsmodels.org/dev/generated/statsmodels.stats.weightstats.DescrStatsW.html\n",
        "\n",
        "https://www.statsmodels.org/dev/generated/statsmodels.stats.weightstats.CompareMeans.ttest_ind.html"
      ]
    },
    {
      "cell_type": "code",
      "execution_count": null,
      "metadata": {
        "id": "UkFRl3hTpsl0"
      },
      "outputs": [],
      "source": [
        "from statsmodels.stats.weightstats import DescrStatsW, CompareMeans"
      ]
    },
    {
      "cell_type": "code",
      "execution_count": null,
      "metadata": {
        "id": "uW0uVFnFpsl1"
      },
      "outputs": [],
      "source": [
        "test_H = DescrStatsW(homens)"
      ]
    },
    {
      "cell_type": "code",
      "execution_count": null,
      "metadata": {
        "id": "kP92TQqupsl1"
      },
      "outputs": [],
      "source": [
        "test_M = DescrStatsW(mulheres)"
      ]
    },
    {
      "cell_type": "code",
      "execution_count": null,
      "metadata": {
        "id": "diOjg4G8psl2"
      },
      "outputs": [],
      "source": [
        "test_A = test_H.get_compare(test_M)"
      ]
    },
    {
      "cell_type": "code",
      "execution_count": null,
      "metadata": {
        "id": "tweh7q_spsl5",
        "colab": {
          "base_uri": "https://localhost:8080/"
        },
        "outputId": "3df62f23-798b-4498-f8c0-a1f8b44de18d"
      },
      "outputs": [
        {
          "output_type": "execute_result",
          "data": {
            "text/plain": [
              "2.2372867859458255e-09"
            ]
          },
          "metadata": {},
          "execution_count": 89
        }
      ],
      "source": [
        "z, p_valor = test_A.ztest_ind(alternative = 'larger', value = 0) # larger porque é um teste unicaudal superior, value = 0  é o valor da diferença testada\n",
        "p_valor"
      ]
    },
    {
      "cell_type": "code",
      "execution_count": null,
      "metadata": {
        "id": "qRkrt2XZhL9v"
      },
      "outputs": [],
      "source": [
        "test_B = CompareMeans(test_H, test_M)"
      ]
    },
    {
      "cell_type": "code",
      "execution_count": null,
      "metadata": {
        "id": "tSbOZem9hLvs",
        "colab": {
          "base_uri": "https://localhost:8080/"
        },
        "outputId": "6431f091-1cad-48da-f43f-47774a07d77c"
      },
      "outputs": [
        {
          "output_type": "execute_result",
          "data": {
            "text/plain": [
              "2.2372867859458255e-09"
            ]
          },
          "metadata": {},
          "execution_count": 91
        }
      ],
      "source": [
        "z, p_valor = test_B.ztest_ind(alternative = 'larger', value = 0)\n",
        "p_valor"
      ]
    },
    {
      "cell_type": "code",
      "execution_count": null,
      "metadata": {
        "id": "E3NF1BzYpsl6",
        "colab": {
          "base_uri": "https://localhost:8080/"
        },
        "outputId": "07128e44-e934-42e0-cc31-44f87a7b82b7"
      },
      "outputs": [
        {
          "output_type": "execute_result",
          "data": {
            "text/plain": [
              "True"
            ]
          },
          "metadata": {},
          "execution_count": 92
        }
      ],
      "source": [
        "significancia = 1e-02\n",
        "p_valor <= significancia"
      ]
    },
    {
      "cell_type": "markdown",
      "source": [
        "Nesta aula, aprendemos:\n",
        "\n",
        "- A aplicação de teste de comparação entre médias de amostras diferentes\n",
        "- A definição das hipóteses para testes entre duas amostras\n",
        "- A aplicação de um teste z, para duas amostras, com as ferramentas do Python"
      ],
      "metadata": {
        "id": "jZJLI4fccr0Q"
      }
    },
    {
      "cell_type": "markdown",
      "metadata": {
        "id": "0gxk-t4jpsl8"
      },
      "source": [
        "---"
      ]
    },
    {
      "cell_type": "markdown",
      "metadata": {
        "id": "IEHa9ZC_psl8"
      },
      "source": [
        "# <font color=green>4 TESTES NÃO PARAMÉTRICOS</font>\n",
        "***"
      ]
    },
    {
      "cell_type": "markdown",
      "metadata": {
        "id": "8iRwKn9Wpsl8"
      },
      "source": [
        "O trabalho com pequenas amostras pode levar a não aceitação da validade do teorema central do limite e também na impossibilidade de fazer suposições sobre a distribuição da variável avaliada. Quando isso ocorre torna-se necessária a aplicação de testes não paramétricos. Nos testes não paramétricos, não fazemos hipóteses sobre a distribuição (de probabilidade) das quais as observações são extraídas."
      ]
    },
    {
      "cell_type": "markdown",
      "metadata": {
        "id": "ngqmtRxFpsl9"
      },
      "source": [
        "## <font color='red'>Problema</font>"
      ]
    },
    {
      "cell_type": "markdown",
      "metadata": {
        "id": "Al0BiC02psl9"
      },
      "source": [
        "Antes de cada partida do campeonato nacional de futebol, as moedas utilizadas pelos árbitros devem ser verificadas para se ter certeza de que não são viciadas, ou seja, que não tendam para determinado resultado. Para isso um teste simples deve ser realizado antes de cada partida. Este teste consiste em lançar a moeda do jogo **50 vezes** e contar as frequências de **CARAS** e **COROAS** obtidas. A tabela abaixo mostra o resultado obtido no experimento:\n",
        "\n",
        "||CARA|COROA|\n",
        "|-|-|-|\n",
        "|Observado|17|33|\n",
        "|Esperado|25|25|\n",
        "\n",
        "A um **nível de significância de 5%**, é possível afirmar que a moeda não é honesta, isto é, que a moeda apresenta uma probabilidade maior de cair com a face **CARA** voltada para cima?"
      ]
    },
    {
      "cell_type": "markdown",
      "metadata": {
        "id": "56KA3Hnupsl9"
      },
      "source": [
        "## <font color=green>4.1 Teste do Qui-Quadrado ( $\\chi^2$)</font>\n",
        "***"
      ]
    },
    {
      "cell_type": "markdown",
      "metadata": {
        "id": "GxTlvB4Zpsl9"
      },
      "source": [
        "Também conhecido como teste de adequação ao ajustamento, seu nome se deve ao fato de utilizar uma variável estatística padronizada, representada pela letra grega qui ( $\\chi$) elevada ao quadrado. A tabela com os valores padronizados e como obtê-la podem ser vistos logo abaixo.\n",
        "\n",
        "O teste do $\\chi^2$ testa a hipótese nula de não haver diferença entre as frequências observadas de um determinado evento e as frequências que são realmente esperadas para este evento.\n",
        "\n",
        "Os passos de aplicação do teste são bem parecidos aos vistos para os testes paramétricos.\n",
        "\n",
        "![Região de Aceitação](https://caelum-online-public.s3.amazonaws.com/1229-estatistica-parte3/01/img017.png)"
      ]
    },
    {
      "cell_type": "markdown",
      "metadata": {
        "id": "1lbHtKGfpsl9"
      },
      "source": [
        "### Construindo tabela $\\chi^2$\n",
        "https://docs.scipy.org/doc/scipy/reference/generated/scipy.stats.chi.html"
      ]
    },
    {
      "cell_type": "code",
      "execution_count": null,
      "metadata": {
        "id": "k7sZCK8dpsl-",
        "scrolled": false,
        "colab": {
          "base_uri": "https://localhost:8080/",
          "height": 1000
        },
        "outputId": "f53aff02-863d-45a4-c818-5361c3c56de1"
      },
      "outputs": [
        {
          "output_type": "execute_result",
          "data": {
            "text/html": [
              "\n",
              "  <div id=\"df-9a24eef5-a053-431b-84e1-49ba4235797b\">\n",
              "    <div class=\"colab-df-container\">\n",
              "      <div>\n",
              "<style scoped>\n",
              "    .dataframe tbody tr th:only-of-type {\n",
              "        vertical-align: middle;\n",
              "    }\n",
              "\n",
              "    .dataframe tbody tr th {\n",
              "        vertical-align: top;\n",
              "    }\n",
              "\n",
              "    .dataframe thead th {\n",
              "        text-align: right;\n",
              "    }\n",
              "</style>\n",
              "<table border=\"1\" class=\"dataframe\">\n",
              "  <thead>\n",
              "    <tr style=\"text-align: right;\">\n",
              "      <th>p</th>\n",
              "      <th>0.005</th>\n",
              "      <th>0.010</th>\n",
              "      <th>0.025</th>\n",
              "      <th>0.050</th>\n",
              "      <th>0.100</th>\n",
              "      <th>0.250</th>\n",
              "      <th>0.500</th>\n",
              "      <th>0.750</th>\n",
              "      <th>0.900</th>\n",
              "      <th>0.950</th>\n",
              "      <th>0.975</th>\n",
              "      <th>0.990</th>\n",
              "      <th>0.995</th>\n",
              "    </tr>\n",
              "    <tr>\n",
              "      <th>Graus de Liberdade</th>\n",
              "      <th></th>\n",
              "      <th></th>\n",
              "      <th></th>\n",
              "      <th></th>\n",
              "      <th></th>\n",
              "      <th></th>\n",
              "      <th></th>\n",
              "      <th></th>\n",
              "      <th></th>\n",
              "      <th></th>\n",
              "      <th></th>\n",
              "      <th></th>\n",
              "      <th></th>\n",
              "    </tr>\n",
              "  </thead>\n",
              "  <tbody>\n",
              "    <tr>\n",
              "      <th>1</th>\n",
              "      <td>0.0000</td>\n",
              "      <td>0.0002</td>\n",
              "      <td>0.0010</td>\n",
              "      <td>0.0039</td>\n",
              "      <td>0.0158</td>\n",
              "      <td>0.1015</td>\n",
              "      <td>0.4549</td>\n",
              "      <td>1.3233</td>\n",
              "      <td>2.7055</td>\n",
              "      <td>3.8415</td>\n",
              "      <td>5.0239</td>\n",
              "      <td>6.6349</td>\n",
              "      <td>7.8794</td>\n",
              "    </tr>\n",
              "    <tr>\n",
              "      <th>2</th>\n",
              "      <td>0.0100</td>\n",
              "      <td>0.0201</td>\n",
              "      <td>0.0506</td>\n",
              "      <td>0.1026</td>\n",
              "      <td>0.2107</td>\n",
              "      <td>0.5754</td>\n",
              "      <td>1.3863</td>\n",
              "      <td>2.7726</td>\n",
              "      <td>4.6052</td>\n",
              "      <td>5.9915</td>\n",
              "      <td>7.3778</td>\n",
              "      <td>9.2103</td>\n",
              "      <td>10.5966</td>\n",
              "    </tr>\n",
              "    <tr>\n",
              "      <th>3</th>\n",
              "      <td>0.0717</td>\n",
              "      <td>0.1148</td>\n",
              "      <td>0.2158</td>\n",
              "      <td>0.3518</td>\n",
              "      <td>0.5844</td>\n",
              "      <td>1.2125</td>\n",
              "      <td>2.3660</td>\n",
              "      <td>4.1083</td>\n",
              "      <td>6.2514</td>\n",
              "      <td>7.8147</td>\n",
              "      <td>9.3484</td>\n",
              "      <td>11.3449</td>\n",
              "      <td>12.8382</td>\n",
              "    </tr>\n",
              "    <tr>\n",
              "      <th>4</th>\n",
              "      <td>0.2070</td>\n",
              "      <td>0.2971</td>\n",
              "      <td>0.4844</td>\n",
              "      <td>0.7107</td>\n",
              "      <td>1.0636</td>\n",
              "      <td>1.9226</td>\n",
              "      <td>3.3567</td>\n",
              "      <td>5.3853</td>\n",
              "      <td>7.7794</td>\n",
              "      <td>9.4877</td>\n",
              "      <td>11.1433</td>\n",
              "      <td>13.2767</td>\n",
              "      <td>14.8603</td>\n",
              "    </tr>\n",
              "    <tr>\n",
              "      <th>5</th>\n",
              "      <td>0.4117</td>\n",
              "      <td>0.5543</td>\n",
              "      <td>0.8312</td>\n",
              "      <td>1.1455</td>\n",
              "      <td>1.6103</td>\n",
              "      <td>2.6746</td>\n",
              "      <td>4.3515</td>\n",
              "      <td>6.6257</td>\n",
              "      <td>9.2364</td>\n",
              "      <td>11.0705</td>\n",
              "      <td>12.8325</td>\n",
              "      <td>15.0863</td>\n",
              "      <td>16.7496</td>\n",
              "    </tr>\n",
              "    <tr>\n",
              "      <th>6</th>\n",
              "      <td>0.6757</td>\n",
              "      <td>0.8721</td>\n",
              "      <td>1.2373</td>\n",
              "      <td>1.6354</td>\n",
              "      <td>2.2041</td>\n",
              "      <td>3.4546</td>\n",
              "      <td>5.3481</td>\n",
              "      <td>7.8408</td>\n",
              "      <td>10.6446</td>\n",
              "      <td>12.5916</td>\n",
              "      <td>14.4494</td>\n",
              "      <td>16.8119</td>\n",
              "      <td>18.5476</td>\n",
              "    </tr>\n",
              "    <tr>\n",
              "      <th>7</th>\n",
              "      <td>0.9893</td>\n",
              "      <td>1.2390</td>\n",
              "      <td>1.6899</td>\n",
              "      <td>2.1673</td>\n",
              "      <td>2.8331</td>\n",
              "      <td>4.2549</td>\n",
              "      <td>6.3458</td>\n",
              "      <td>9.0371</td>\n",
              "      <td>12.0170</td>\n",
              "      <td>14.0671</td>\n",
              "      <td>16.0128</td>\n",
              "      <td>18.4753</td>\n",
              "      <td>20.2777</td>\n",
              "    </tr>\n",
              "    <tr>\n",
              "      <th>8</th>\n",
              "      <td>1.3444</td>\n",
              "      <td>1.6465</td>\n",
              "      <td>2.1797</td>\n",
              "      <td>2.7326</td>\n",
              "      <td>3.4895</td>\n",
              "      <td>5.0706</td>\n",
              "      <td>7.3441</td>\n",
              "      <td>10.2189</td>\n",
              "      <td>13.3616</td>\n",
              "      <td>15.5073</td>\n",
              "      <td>17.5345</td>\n",
              "      <td>20.0902</td>\n",
              "      <td>21.9550</td>\n",
              "    </tr>\n",
              "    <tr>\n",
              "      <th>9</th>\n",
              "      <td>1.7349</td>\n",
              "      <td>2.0879</td>\n",
              "      <td>2.7004</td>\n",
              "      <td>3.3251</td>\n",
              "      <td>4.1682</td>\n",
              "      <td>5.8988</td>\n",
              "      <td>8.3428</td>\n",
              "      <td>11.3888</td>\n",
              "      <td>14.6837</td>\n",
              "      <td>16.9190</td>\n",
              "      <td>19.0228</td>\n",
              "      <td>21.6660</td>\n",
              "      <td>23.5894</td>\n",
              "    </tr>\n",
              "    <tr>\n",
              "      <th>10</th>\n",
              "      <td>2.1559</td>\n",
              "      <td>2.5582</td>\n",
              "      <td>3.2470</td>\n",
              "      <td>3.9403</td>\n",
              "      <td>4.8652</td>\n",
              "      <td>6.7372</td>\n",
              "      <td>9.3418</td>\n",
              "      <td>12.5489</td>\n",
              "      <td>15.9872</td>\n",
              "      <td>18.3070</td>\n",
              "      <td>20.4832</td>\n",
              "      <td>23.2093</td>\n",
              "      <td>25.1882</td>\n",
              "    </tr>\n",
              "    <tr>\n",
              "      <th>11</th>\n",
              "      <td>2.6032</td>\n",
              "      <td>3.0535</td>\n",
              "      <td>3.8157</td>\n",
              "      <td>4.5748</td>\n",
              "      <td>5.5778</td>\n",
              "      <td>7.5841</td>\n",
              "      <td>10.3410</td>\n",
              "      <td>13.7007</td>\n",
              "      <td>17.2750</td>\n",
              "      <td>19.6751</td>\n",
              "      <td>21.9200</td>\n",
              "      <td>24.7250</td>\n",
              "      <td>26.7568</td>\n",
              "    </tr>\n",
              "    <tr>\n",
              "      <th>12</th>\n",
              "      <td>3.0738</td>\n",
              "      <td>3.5706</td>\n",
              "      <td>4.4038</td>\n",
              "      <td>5.2260</td>\n",
              "      <td>6.3038</td>\n",
              "      <td>8.4384</td>\n",
              "      <td>11.3403</td>\n",
              "      <td>14.8454</td>\n",
              "      <td>18.5493</td>\n",
              "      <td>21.0261</td>\n",
              "      <td>23.3367</td>\n",
              "      <td>26.2170</td>\n",
              "      <td>28.2995</td>\n",
              "    </tr>\n",
              "    <tr>\n",
              "      <th>13</th>\n",
              "      <td>3.5650</td>\n",
              "      <td>4.1069</td>\n",
              "      <td>5.0088</td>\n",
              "      <td>5.8919</td>\n",
              "      <td>7.0415</td>\n",
              "      <td>9.2991</td>\n",
              "      <td>12.3398</td>\n",
              "      <td>15.9839</td>\n",
              "      <td>19.8119</td>\n",
              "      <td>22.3620</td>\n",
              "      <td>24.7356</td>\n",
              "      <td>27.6882</td>\n",
              "      <td>29.8195</td>\n",
              "    </tr>\n",
              "    <tr>\n",
              "      <th>14</th>\n",
              "      <td>4.0747</td>\n",
              "      <td>4.6604</td>\n",
              "      <td>5.6287</td>\n",
              "      <td>6.5706</td>\n",
              "      <td>7.7895</td>\n",
              "      <td>10.1653</td>\n",
              "      <td>13.3393</td>\n",
              "      <td>17.1169</td>\n",
              "      <td>21.0641</td>\n",
              "      <td>23.6848</td>\n",
              "      <td>26.1189</td>\n",
              "      <td>29.1412</td>\n",
              "      <td>31.3193</td>\n",
              "    </tr>\n",
              "    <tr>\n",
              "      <th>15</th>\n",
              "      <td>4.6009</td>\n",
              "      <td>5.2293</td>\n",
              "      <td>6.2621</td>\n",
              "      <td>7.2609</td>\n",
              "      <td>8.5468</td>\n",
              "      <td>11.0365</td>\n",
              "      <td>14.3389</td>\n",
              "      <td>18.2451</td>\n",
              "      <td>22.3071</td>\n",
              "      <td>24.9958</td>\n",
              "      <td>27.4884</td>\n",
              "      <td>30.5779</td>\n",
              "      <td>32.8013</td>\n",
              "    </tr>\n",
              "    <tr>\n",
              "      <th>16</th>\n",
              "      <td>5.1422</td>\n",
              "      <td>5.8122</td>\n",
              "      <td>6.9077</td>\n",
              "      <td>7.9616</td>\n",
              "      <td>9.3122</td>\n",
              "      <td>11.9122</td>\n",
              "      <td>15.3385</td>\n",
              "      <td>19.3689</td>\n",
              "      <td>23.5418</td>\n",
              "      <td>26.2962</td>\n",
              "      <td>28.8454</td>\n",
              "      <td>31.9999</td>\n",
              "      <td>34.2672</td>\n",
              "    </tr>\n",
              "    <tr>\n",
              "      <th>17</th>\n",
              "      <td>5.6972</td>\n",
              "      <td>6.4078</td>\n",
              "      <td>7.5642</td>\n",
              "      <td>8.6718</td>\n",
              "      <td>10.0852</td>\n",
              "      <td>12.7919</td>\n",
              "      <td>16.3382</td>\n",
              "      <td>20.4887</td>\n",
              "      <td>24.7690</td>\n",
              "      <td>27.5871</td>\n",
              "      <td>30.1910</td>\n",
              "      <td>33.4087</td>\n",
              "      <td>35.7185</td>\n",
              "    </tr>\n",
              "    <tr>\n",
              "      <th>18</th>\n",
              "      <td>6.2648</td>\n",
              "      <td>7.0149</td>\n",
              "      <td>8.2307</td>\n",
              "      <td>9.3905</td>\n",
              "      <td>10.8649</td>\n",
              "      <td>13.6753</td>\n",
              "      <td>17.3379</td>\n",
              "      <td>21.6049</td>\n",
              "      <td>25.9894</td>\n",
              "      <td>28.8693</td>\n",
              "      <td>31.5264</td>\n",
              "      <td>34.8053</td>\n",
              "      <td>37.1565</td>\n",
              "    </tr>\n",
              "    <tr>\n",
              "      <th>19</th>\n",
              "      <td>6.8440</td>\n",
              "      <td>7.6327</td>\n",
              "      <td>8.9065</td>\n",
              "      <td>10.1170</td>\n",
              "      <td>11.6509</td>\n",
              "      <td>14.5620</td>\n",
              "      <td>18.3377</td>\n",
              "      <td>22.7178</td>\n",
              "      <td>27.2036</td>\n",
              "      <td>30.1435</td>\n",
              "      <td>32.8523</td>\n",
              "      <td>36.1909</td>\n",
              "      <td>38.5823</td>\n",
              "    </tr>\n",
              "    <tr>\n",
              "      <th>20</th>\n",
              "      <td>7.4338</td>\n",
              "      <td>8.2604</td>\n",
              "      <td>9.5908</td>\n",
              "      <td>10.8508</td>\n",
              "      <td>12.4426</td>\n",
              "      <td>15.4518</td>\n",
              "      <td>19.3374</td>\n",
              "      <td>23.8277</td>\n",
              "      <td>28.4120</td>\n",
              "      <td>31.4104</td>\n",
              "      <td>34.1696</td>\n",
              "      <td>37.5662</td>\n",
              "      <td>39.9968</td>\n",
              "    </tr>\n",
              "    <tr>\n",
              "      <th>21</th>\n",
              "      <td>8.0337</td>\n",
              "      <td>8.8972</td>\n",
              "      <td>10.2829</td>\n",
              "      <td>11.5913</td>\n",
              "      <td>13.2396</td>\n",
              "      <td>16.3444</td>\n",
              "      <td>20.3372</td>\n",
              "      <td>24.9348</td>\n",
              "      <td>29.6151</td>\n",
              "      <td>32.6706</td>\n",
              "      <td>35.4789</td>\n",
              "      <td>38.9322</td>\n",
              "      <td>41.4011</td>\n",
              "    </tr>\n",
              "    <tr>\n",
              "      <th>22</th>\n",
              "      <td>8.6427</td>\n",
              "      <td>9.5425</td>\n",
              "      <td>10.9823</td>\n",
              "      <td>12.3380</td>\n",
              "      <td>14.0415</td>\n",
              "      <td>17.2396</td>\n",
              "      <td>21.3370</td>\n",
              "      <td>26.0393</td>\n",
              "      <td>30.8133</td>\n",
              "      <td>33.9244</td>\n",
              "      <td>36.7807</td>\n",
              "      <td>40.2894</td>\n",
              "      <td>42.7957</td>\n",
              "    </tr>\n",
              "    <tr>\n",
              "      <th>23</th>\n",
              "      <td>9.2604</td>\n",
              "      <td>10.1957</td>\n",
              "      <td>11.6886</td>\n",
              "      <td>13.0905</td>\n",
              "      <td>14.8480</td>\n",
              "      <td>18.1373</td>\n",
              "      <td>22.3369</td>\n",
              "      <td>27.1413</td>\n",
              "      <td>32.0069</td>\n",
              "      <td>35.1725</td>\n",
              "      <td>38.0756</td>\n",
              "      <td>41.6384</td>\n",
              "      <td>44.1813</td>\n",
              "    </tr>\n",
              "    <tr>\n",
              "      <th>24</th>\n",
              "      <td>9.8862</td>\n",
              "      <td>10.8564</td>\n",
              "      <td>12.4012</td>\n",
              "      <td>13.8484</td>\n",
              "      <td>15.6587</td>\n",
              "      <td>19.0373</td>\n",
              "      <td>23.3367</td>\n",
              "      <td>28.2412</td>\n",
              "      <td>33.1962</td>\n",
              "      <td>36.4150</td>\n",
              "      <td>39.3641</td>\n",
              "      <td>42.9798</td>\n",
              "      <td>45.5585</td>\n",
              "    </tr>\n",
              "    <tr>\n",
              "      <th>25</th>\n",
              "      <td>10.5197</td>\n",
              "      <td>11.5240</td>\n",
              "      <td>13.1197</td>\n",
              "      <td>14.6114</td>\n",
              "      <td>16.4734</td>\n",
              "      <td>19.9393</td>\n",
              "      <td>24.3366</td>\n",
              "      <td>29.3389</td>\n",
              "      <td>34.3816</td>\n",
              "      <td>37.6525</td>\n",
              "      <td>40.6465</td>\n",
              "      <td>44.3141</td>\n",
              "      <td>46.9279</td>\n",
              "    </tr>\n",
              "    <tr>\n",
              "      <th>26</th>\n",
              "      <td>11.1602</td>\n",
              "      <td>12.1981</td>\n",
              "      <td>13.8439</td>\n",
              "      <td>15.3792</td>\n",
              "      <td>17.2919</td>\n",
              "      <td>20.8434</td>\n",
              "      <td>25.3365</td>\n",
              "      <td>30.4346</td>\n",
              "      <td>35.5632</td>\n",
              "      <td>38.8851</td>\n",
              "      <td>41.9232</td>\n",
              "      <td>45.6417</td>\n",
              "      <td>48.2899</td>\n",
              "    </tr>\n",
              "    <tr>\n",
              "      <th>27</th>\n",
              "      <td>11.8076</td>\n",
              "      <td>12.8785</td>\n",
              "      <td>14.5734</td>\n",
              "      <td>16.1514</td>\n",
              "      <td>18.1139</td>\n",
              "      <td>21.7494</td>\n",
              "      <td>26.3363</td>\n",
              "      <td>31.5284</td>\n",
              "      <td>36.7412</td>\n",
              "      <td>40.1133</td>\n",
              "      <td>43.1945</td>\n",
              "      <td>46.9629</td>\n",
              "      <td>49.6449</td>\n",
              "    </tr>\n",
              "    <tr>\n",
              "      <th>28</th>\n",
              "      <td>12.4613</td>\n",
              "      <td>13.5647</td>\n",
              "      <td>15.3079</td>\n",
              "      <td>16.9279</td>\n",
              "      <td>18.9392</td>\n",
              "      <td>22.6572</td>\n",
              "      <td>27.3362</td>\n",
              "      <td>32.6205</td>\n",
              "      <td>37.9159</td>\n",
              "      <td>41.3371</td>\n",
              "      <td>44.4608</td>\n",
              "      <td>48.2782</td>\n",
              "      <td>50.9934</td>\n",
              "    </tr>\n",
              "    <tr>\n",
              "      <th>29</th>\n",
              "      <td>13.1211</td>\n",
              "      <td>14.2565</td>\n",
              "      <td>16.0471</td>\n",
              "      <td>17.7084</td>\n",
              "      <td>19.7677</td>\n",
              "      <td>23.5666</td>\n",
              "      <td>28.3361</td>\n",
              "      <td>33.7109</td>\n",
              "      <td>39.0875</td>\n",
              "      <td>42.5570</td>\n",
              "      <td>45.7223</td>\n",
              "      <td>49.5879</td>\n",
              "      <td>52.3356</td>\n",
              "    </tr>\n",
              "    <tr>\n",
              "      <th>30</th>\n",
              "      <td>13.7867</td>\n",
              "      <td>14.9535</td>\n",
              "      <td>16.7908</td>\n",
              "      <td>18.4927</td>\n",
              "      <td>20.5992</td>\n",
              "      <td>24.4776</td>\n",
              "      <td>29.3360</td>\n",
              "      <td>34.7997</td>\n",
              "      <td>40.2560</td>\n",
              "      <td>43.7730</td>\n",
              "      <td>46.9792</td>\n",
              "      <td>50.8922</td>\n",
              "      <td>53.6720</td>\n",
              "    </tr>\n",
              "  </tbody>\n",
              "</table>\n",
              "</div>\n",
              "      <button class=\"colab-df-convert\" onclick=\"convertToInteractive('df-9a24eef5-a053-431b-84e1-49ba4235797b')\"\n",
              "              title=\"Convert this dataframe to an interactive table.\"\n",
              "              style=\"display:none;\">\n",
              "        \n",
              "  <svg xmlns=\"http://www.w3.org/2000/svg\" height=\"24px\"viewBox=\"0 0 24 24\"\n",
              "       width=\"24px\">\n",
              "    <path d=\"M0 0h24v24H0V0z\" fill=\"none\"/>\n",
              "    <path d=\"M18.56 5.44l.94 2.06.94-2.06 2.06-.94-2.06-.94-.94-2.06-.94 2.06-2.06.94zm-11 1L8.5 8.5l.94-2.06 2.06-.94-2.06-.94L8.5 2.5l-.94 2.06-2.06.94zm10 10l.94 2.06.94-2.06 2.06-.94-2.06-.94-.94-2.06-.94 2.06-2.06.94z\"/><path d=\"M17.41 7.96l-1.37-1.37c-.4-.4-.92-.59-1.43-.59-.52 0-1.04.2-1.43.59L10.3 9.45l-7.72 7.72c-.78.78-.78 2.05 0 2.83L4 21.41c.39.39.9.59 1.41.59.51 0 1.02-.2 1.41-.59l7.78-7.78 2.81-2.81c.8-.78.8-2.07 0-2.86zM5.41 20L4 18.59l7.72-7.72 1.47 1.35L5.41 20z\"/>\n",
              "  </svg>\n",
              "      </button>\n",
              "      \n",
              "  <style>\n",
              "    .colab-df-container {\n",
              "      display:flex;\n",
              "      flex-wrap:wrap;\n",
              "      gap: 12px;\n",
              "    }\n",
              "\n",
              "    .colab-df-convert {\n",
              "      background-color: #E8F0FE;\n",
              "      border: none;\n",
              "      border-radius: 50%;\n",
              "      cursor: pointer;\n",
              "      display: none;\n",
              "      fill: #1967D2;\n",
              "      height: 32px;\n",
              "      padding: 0 0 0 0;\n",
              "      width: 32px;\n",
              "    }\n",
              "\n",
              "    .colab-df-convert:hover {\n",
              "      background-color: #E2EBFA;\n",
              "      box-shadow: 0px 1px 2px rgba(60, 64, 67, 0.3), 0px 1px 3px 1px rgba(60, 64, 67, 0.15);\n",
              "      fill: #174EA6;\n",
              "    }\n",
              "\n",
              "    [theme=dark] .colab-df-convert {\n",
              "      background-color: #3B4455;\n",
              "      fill: #D2E3FC;\n",
              "    }\n",
              "\n",
              "    [theme=dark] .colab-df-convert:hover {\n",
              "      background-color: #434B5C;\n",
              "      box-shadow: 0px 1px 3px 1px rgba(0, 0, 0, 0.15);\n",
              "      filter: drop-shadow(0px 1px 2px rgba(0, 0, 0, 0.3));\n",
              "      fill: #FFFFFF;\n",
              "    }\n",
              "  </style>\n",
              "\n",
              "      <script>\n",
              "        const buttonEl =\n",
              "          document.querySelector('#df-9a24eef5-a053-431b-84e1-49ba4235797b button.colab-df-convert');\n",
              "        buttonEl.style.display =\n",
              "          google.colab.kernel.accessAllowed ? 'block' : 'none';\n",
              "\n",
              "        async function convertToInteractive(key) {\n",
              "          const element = document.querySelector('#df-9a24eef5-a053-431b-84e1-49ba4235797b');\n",
              "          const dataTable =\n",
              "            await google.colab.kernel.invokeFunction('convertToInteractive',\n",
              "                                                     [key], {});\n",
              "          if (!dataTable) return;\n",
              "\n",
              "          const docLinkHtml = 'Like what you see? Visit the ' +\n",
              "            '<a target=\"_blank\" href=https://colab.research.google.com/notebooks/data_table.ipynb>data table notebook</a>'\n",
              "            + ' to learn more about interactive tables.';\n",
              "          element.innerHTML = '';\n",
              "          dataTable['output_type'] = 'display_data';\n",
              "          await google.colab.output.renderOutput(dataTable, element);\n",
              "          const docLink = document.createElement('div');\n",
              "          docLink.innerHTML = docLinkHtml;\n",
              "          element.appendChild(docLink);\n",
              "        }\n",
              "      </script>\n",
              "    </div>\n",
              "  </div>\n",
              "  "
            ],
            "text/plain": [
              "p                     0.005    0.010    0.025  ...    0.975    0.990    0.995\n",
              "Graus de Liberdade                             ...                           \n",
              "1                    0.0000   0.0002   0.0010  ...   5.0239   6.6349   7.8794\n",
              "2                    0.0100   0.0201   0.0506  ...   7.3778   9.2103  10.5966\n",
              "3                    0.0717   0.1148   0.2158  ...   9.3484  11.3449  12.8382\n",
              "4                    0.2070   0.2971   0.4844  ...  11.1433  13.2767  14.8603\n",
              "5                    0.4117   0.5543   0.8312  ...  12.8325  15.0863  16.7496\n",
              "6                    0.6757   0.8721   1.2373  ...  14.4494  16.8119  18.5476\n",
              "7                    0.9893   1.2390   1.6899  ...  16.0128  18.4753  20.2777\n",
              "8                    1.3444   1.6465   2.1797  ...  17.5345  20.0902  21.9550\n",
              "9                    1.7349   2.0879   2.7004  ...  19.0228  21.6660  23.5894\n",
              "10                   2.1559   2.5582   3.2470  ...  20.4832  23.2093  25.1882\n",
              "11                   2.6032   3.0535   3.8157  ...  21.9200  24.7250  26.7568\n",
              "12                   3.0738   3.5706   4.4038  ...  23.3367  26.2170  28.2995\n",
              "13                   3.5650   4.1069   5.0088  ...  24.7356  27.6882  29.8195\n",
              "14                   4.0747   4.6604   5.6287  ...  26.1189  29.1412  31.3193\n",
              "15                   4.6009   5.2293   6.2621  ...  27.4884  30.5779  32.8013\n",
              "16                   5.1422   5.8122   6.9077  ...  28.8454  31.9999  34.2672\n",
              "17                   5.6972   6.4078   7.5642  ...  30.1910  33.4087  35.7185\n",
              "18                   6.2648   7.0149   8.2307  ...  31.5264  34.8053  37.1565\n",
              "19                   6.8440   7.6327   8.9065  ...  32.8523  36.1909  38.5823\n",
              "20                   7.4338   8.2604   9.5908  ...  34.1696  37.5662  39.9968\n",
              "21                   8.0337   8.8972  10.2829  ...  35.4789  38.9322  41.4011\n",
              "22                   8.6427   9.5425  10.9823  ...  36.7807  40.2894  42.7957\n",
              "23                   9.2604  10.1957  11.6886  ...  38.0756  41.6384  44.1813\n",
              "24                   9.8862  10.8564  12.4012  ...  39.3641  42.9798  45.5585\n",
              "25                  10.5197  11.5240  13.1197  ...  40.6465  44.3141  46.9279\n",
              "26                  11.1602  12.1981  13.8439  ...  41.9232  45.6417  48.2899\n",
              "27                  11.8076  12.8785  14.5734  ...  43.1945  46.9629  49.6449\n",
              "28                  12.4613  13.5647  15.3079  ...  44.4608  48.2782  50.9934\n",
              "29                  13.1211  14.2565  16.0471  ...  45.7223  49.5879  52.3356\n",
              "30                  13.7867  14.9535  16.7908  ...  46.9792  50.8922  53.6720\n",
              "\n",
              "[30 rows x 13 columns]"
            ]
          },
          "metadata": {},
          "execution_count": 93
        }
      ],
      "source": [
        "import pandas as pd\n",
        "from scipy.stats import chi\n",
        "\n",
        "tabela_t_chi_2 = pd.DataFrame(\n",
        "    [], \n",
        "    index=[i for i in range(1, 31)],\n",
        "    columns = [0.005, 0.01, 0.025, 0.05, 0.1, 0.25, 0.5, 0.75, 0.9, 0.95, 0.975, 0.99, 0.995]\n",
        ")\n",
        "\n",
        "for index in tabela_t_chi_2.index:\n",
        "    for column in tabela_t_chi_2.columns:\n",
        "        tabela_t_chi_2.loc[index, column] = \"{0:0.4f}\".format(chi.ppf(float(column), index)**2)\n",
        "\n",
        "tabela_t_chi_2.index.name='Graus de Liberdade'\n",
        "tabela_t_chi_2.rename_axis(['p'], axis=1, inplace = True)\n",
        "\n",
        "tabela_t_chi_2"
      ]
    },
    {
      "cell_type": "markdown",
      "metadata": {
        "id": "UkzhYAPDpsl_"
      },
      "source": [
        "<img src='https://caelum-online-public.s3.amazonaws.com/1229-estatistica-parte3/01/img016.png' width='250px'>\n",
        "\n",
        "Tabela com os valores de $\\chi_p^2$ em função dos graus de liberdade $(n - 1)$ e de $p = P(\\chi^2 \\leq \\chi_p^2)$"
      ]
    },
    {
      "cell_type": "markdown",
      "metadata": {
        "id": "cCPOqVFKpsl_"
      },
      "source": [
        "## <font color='red'>Problema</font>"
      ]
    },
    {
      "cell_type": "markdown",
      "metadata": {
        "id": "GTq1wpkbpsl_"
      },
      "source": [
        "Antes de cada partida do campeonato nacional de futebol, as moedas utilizadas pelos árbitros devem ser verificadas para se ter certeza de que não são viciadas, ou seja, que não tendam para determinado resultado. Para isso um teste simples deve ser realizado antes de cada partida. Este teste consiste em lançar a moeda do jogo **50 vezes** e contar as frequências de **CARAS** e **COROAS** obtidas. A tabela abaixo mostra o resultado obtido no experimento:\n",
        "\n",
        "||CARA|COROA|\n",
        "|-|-|-|\n",
        "|Observado|17|33|\n",
        "|Esperado|25|25|\n",
        "\n",
        "A um **nível de significância de 5%**, é possível afirmar que a moeda não é honesta, isto é, que a moeda apresenta uma probabilidade maior de cair com a face **CARA** voltada para cima?"
      ]
    },
    {
      "cell_type": "markdown",
      "metadata": {
        "id": "CSlCI1wUpsl_"
      },
      "source": [
        "---"
      ]
    },
    {
      "cell_type": "markdown",
      "metadata": {
        "id": "Op26YDWnpsmA"
      },
      "source": [
        "### Dados do problema"
      ]
    },
    {
      "cell_type": "code",
      "execution_count": null,
      "metadata": {
        "id": "p5iOqxk2psmA"
      },
      "outputs": [],
      "source": [
        "F_Observada = [17, 33]\n",
        "F_Esperada = [25, 25]\n",
        "significancia = 0.05\n",
        "confianca = 1 - significancia\n",
        "k = 2 #Número de eventos possíveis\n",
        "graus_de_liberdade = k - 1"
      ]
    },
    {
      "cell_type": "markdown",
      "metadata": {
        "id": "w6A74pM-psmB"
      },
      "source": [
        "### **Passo 1** - formulação das hipóteses $H_0$ e $H_1$\n",
        "\n",
        "#### <font color='red'>Lembre-se, a hipótese nula sempre contém a alegação de igualdade</font>"
      ]
    },
    {
      "cell_type": "markdown",
      "metadata": {
        "id": "zA4AD5_8psmB"
      },
      "source": [
        "### $H_0: F_{CARA} = F_{COROA}$\n",
        "\n",
        "### $H_1: F_{CARA} \\neq F_{COROA}$"
      ]
    },
    {
      "cell_type": "markdown",
      "metadata": {
        "id": "rUtuw6_bpsmB"
      },
      "source": [
        "---"
      ]
    },
    {
      "cell_type": "markdown",
      "metadata": {
        "id": "Zi2oE6ZbpsmB"
      },
      "source": [
        "### **Passo 2** - fixação da significância do teste ($\\alpha$)"
      ]
    },
    {
      "cell_type": "markdown",
      "metadata": {
        "id": "cCL8Wyy7psmC"
      },
      "source": [
        "https://docs.scipy.org/doc/scipy/reference/generated/scipy.stats.chi.html"
      ]
    },
    {
      "cell_type": "code",
      "execution_count": null,
      "metadata": {
        "id": "5bF7GEd-psmD"
      },
      "outputs": [],
      "source": [
        "from scipy.stats import chi"
      ]
    },
    {
      "cell_type": "code",
      "execution_count": null,
      "metadata": {
        "id": "WRsJSXxGpsmE",
        "scrolled": true,
        "colab": {
          "base_uri": "https://localhost:8080/",
          "height": 175
        },
        "outputId": "0a9a13ce-1875-493f-e3b4-71d98001f306"
      },
      "outputs": [
        {
          "output_type": "execute_result",
          "data": {
            "text/html": [
              "\n",
              "  <div id=\"df-f24c4fe5-043f-4bd7-b44e-b0e5e71d1072\">\n",
              "    <div class=\"colab-df-container\">\n",
              "      <div>\n",
              "<style scoped>\n",
              "    .dataframe tbody tr th:only-of-type {\n",
              "        vertical-align: middle;\n",
              "    }\n",
              "\n",
              "    .dataframe tbody tr th {\n",
              "        vertical-align: top;\n",
              "    }\n",
              "\n",
              "    .dataframe thead th {\n",
              "        text-align: right;\n",
              "    }\n",
              "</style>\n",
              "<table border=\"1\" class=\"dataframe\">\n",
              "  <thead>\n",
              "    <tr style=\"text-align: right;\">\n",
              "      <th>p</th>\n",
              "      <th>0.005</th>\n",
              "      <th>0.010</th>\n",
              "      <th>0.025</th>\n",
              "      <th>0.050</th>\n",
              "      <th>0.100</th>\n",
              "      <th>0.250</th>\n",
              "      <th>0.500</th>\n",
              "      <th>0.750</th>\n",
              "      <th>0.900</th>\n",
              "      <th>0.950</th>\n",
              "      <th>0.975</th>\n",
              "      <th>0.990</th>\n",
              "      <th>0.995</th>\n",
              "    </tr>\n",
              "    <tr>\n",
              "      <th>Graus de Liberdade</th>\n",
              "      <th></th>\n",
              "      <th></th>\n",
              "      <th></th>\n",
              "      <th></th>\n",
              "      <th></th>\n",
              "      <th></th>\n",
              "      <th></th>\n",
              "      <th></th>\n",
              "      <th></th>\n",
              "      <th></th>\n",
              "      <th></th>\n",
              "      <th></th>\n",
              "      <th></th>\n",
              "    </tr>\n",
              "  </thead>\n",
              "  <tbody>\n",
              "    <tr>\n",
              "      <th>1</th>\n",
              "      <td>0.0000</td>\n",
              "      <td>0.0002</td>\n",
              "      <td>0.0010</td>\n",
              "      <td>0.0039</td>\n",
              "      <td>0.0158</td>\n",
              "      <td>0.1015</td>\n",
              "      <td>0.4549</td>\n",
              "      <td>1.3233</td>\n",
              "      <td>2.7055</td>\n",
              "      <td>3.8415</td>\n",
              "      <td>5.0239</td>\n",
              "      <td>6.6349</td>\n",
              "      <td>7.8794</td>\n",
              "    </tr>\n",
              "    <tr>\n",
              "      <th>2</th>\n",
              "      <td>0.0100</td>\n",
              "      <td>0.0201</td>\n",
              "      <td>0.0506</td>\n",
              "      <td>0.1026</td>\n",
              "      <td>0.2107</td>\n",
              "      <td>0.5754</td>\n",
              "      <td>1.3863</td>\n",
              "      <td>2.7726</td>\n",
              "      <td>4.6052</td>\n",
              "      <td>5.9915</td>\n",
              "      <td>7.3778</td>\n",
              "      <td>9.2103</td>\n",
              "      <td>10.5966</td>\n",
              "    </tr>\n",
              "    <tr>\n",
              "      <th>3</th>\n",
              "      <td>0.0717</td>\n",
              "      <td>0.1148</td>\n",
              "      <td>0.2158</td>\n",
              "      <td>0.3518</td>\n",
              "      <td>0.5844</td>\n",
              "      <td>1.2125</td>\n",
              "      <td>2.3660</td>\n",
              "      <td>4.1083</td>\n",
              "      <td>6.2514</td>\n",
              "      <td>7.8147</td>\n",
              "      <td>9.3484</td>\n",
              "      <td>11.3449</td>\n",
              "      <td>12.8382</td>\n",
              "    </tr>\n",
              "  </tbody>\n",
              "</table>\n",
              "</div>\n",
              "      <button class=\"colab-df-convert\" onclick=\"convertToInteractive('df-f24c4fe5-043f-4bd7-b44e-b0e5e71d1072')\"\n",
              "              title=\"Convert this dataframe to an interactive table.\"\n",
              "              style=\"display:none;\">\n",
              "        \n",
              "  <svg xmlns=\"http://www.w3.org/2000/svg\" height=\"24px\"viewBox=\"0 0 24 24\"\n",
              "       width=\"24px\">\n",
              "    <path d=\"M0 0h24v24H0V0z\" fill=\"none\"/>\n",
              "    <path d=\"M18.56 5.44l.94 2.06.94-2.06 2.06-.94-2.06-.94-.94-2.06-.94 2.06-2.06.94zm-11 1L8.5 8.5l.94-2.06 2.06-.94-2.06-.94L8.5 2.5l-.94 2.06-2.06.94zm10 10l.94 2.06.94-2.06 2.06-.94-2.06-.94-.94-2.06-.94 2.06-2.06.94z\"/><path d=\"M17.41 7.96l-1.37-1.37c-.4-.4-.92-.59-1.43-.59-.52 0-1.04.2-1.43.59L10.3 9.45l-7.72 7.72c-.78.78-.78 2.05 0 2.83L4 21.41c.39.39.9.59 1.41.59.51 0 1.02-.2 1.41-.59l7.78-7.78 2.81-2.81c.8-.78.8-2.07 0-2.86zM5.41 20L4 18.59l7.72-7.72 1.47 1.35L5.41 20z\"/>\n",
              "  </svg>\n",
              "      </button>\n",
              "      \n",
              "  <style>\n",
              "    .colab-df-container {\n",
              "      display:flex;\n",
              "      flex-wrap:wrap;\n",
              "      gap: 12px;\n",
              "    }\n",
              "\n",
              "    .colab-df-convert {\n",
              "      background-color: #E8F0FE;\n",
              "      border: none;\n",
              "      border-radius: 50%;\n",
              "      cursor: pointer;\n",
              "      display: none;\n",
              "      fill: #1967D2;\n",
              "      height: 32px;\n",
              "      padding: 0 0 0 0;\n",
              "      width: 32px;\n",
              "    }\n",
              "\n",
              "    .colab-df-convert:hover {\n",
              "      background-color: #E2EBFA;\n",
              "      box-shadow: 0px 1px 2px rgba(60, 64, 67, 0.3), 0px 1px 3px 1px rgba(60, 64, 67, 0.15);\n",
              "      fill: #174EA6;\n",
              "    }\n",
              "\n",
              "    [theme=dark] .colab-df-convert {\n",
              "      background-color: #3B4455;\n",
              "      fill: #D2E3FC;\n",
              "    }\n",
              "\n",
              "    [theme=dark] .colab-df-convert:hover {\n",
              "      background-color: #434B5C;\n",
              "      box-shadow: 0px 1px 3px 1px rgba(0, 0, 0, 0.15);\n",
              "      filter: drop-shadow(0px 1px 2px rgba(0, 0, 0, 0.3));\n",
              "      fill: #FFFFFF;\n",
              "    }\n",
              "  </style>\n",
              "\n",
              "      <script>\n",
              "        const buttonEl =\n",
              "          document.querySelector('#df-f24c4fe5-043f-4bd7-b44e-b0e5e71d1072 button.colab-df-convert');\n",
              "        buttonEl.style.display =\n",
              "          google.colab.kernel.accessAllowed ? 'block' : 'none';\n",
              "\n",
              "        async function convertToInteractive(key) {\n",
              "          const element = document.querySelector('#df-f24c4fe5-043f-4bd7-b44e-b0e5e71d1072');\n",
              "          const dataTable =\n",
              "            await google.colab.kernel.invokeFunction('convertToInteractive',\n",
              "                                                     [key], {});\n",
              "          if (!dataTable) return;\n",
              "\n",
              "          const docLinkHtml = 'Like what you see? Visit the ' +\n",
              "            '<a target=\"_blank\" href=https://colab.research.google.com/notebooks/data_table.ipynb>data table notebook</a>'\n",
              "            + ' to learn more about interactive tables.';\n",
              "          element.innerHTML = '';\n",
              "          dataTable['output_type'] = 'display_data';\n",
              "          await google.colab.output.renderOutput(dataTable, element);\n",
              "          const docLink = document.createElement('div');\n",
              "          docLink.innerHTML = docLinkHtml;\n",
              "          element.appendChild(docLink);\n",
              "        }\n",
              "      </script>\n",
              "    </div>\n",
              "  </div>\n",
              "  "
            ],
            "text/plain": [
              "p                    0.005   0.010   0.025  ...   0.975    0.990    0.995\n",
              "Graus de Liberdade                          ...                          \n",
              "1                   0.0000  0.0002  0.0010  ...  5.0239   6.6349   7.8794\n",
              "2                   0.0100  0.0201  0.0506  ...  7.3778   9.2103  10.5966\n",
              "3                   0.0717  0.1148  0.2158  ...  9.3484  11.3449  12.8382\n",
              "\n",
              "[3 rows x 13 columns]"
            ]
          },
          "metadata": {},
          "execution_count": 96
        }
      ],
      "source": [
        "tabela_t_chi_2[:3]"
      ]
    },
    {
      "cell_type": "markdown",
      "metadata": {
        "id": "0RRjHQm7psmF"
      },
      "source": [
        "### Obtendo $\\chi_{\\alpha}^2$"
      ]
    },
    {
      "cell_type": "code",
      "execution_count": null,
      "metadata": {
        "id": "6rXyih-lpsmH",
        "colab": {
          "base_uri": "https://localhost:8080/"
        },
        "outputId": "8cdb5b88-1f89-4bd1-9f56-ff8cd30463a6"
      },
      "outputs": [
        {
          "output_type": "execute_result",
          "data": {
            "text/plain": [
              "3.8414588206941245"
            ]
          },
          "metadata": {},
          "execution_count": 97
        }
      ],
      "source": [
        "chi_2_alpha = chi.ppf(confianca, graus_de_liberdade) ** 2 #elevar ao quadrado pois é qui^2\n",
        "chi_2_alpha"
      ]
    },
    {
      "cell_type": "markdown",
      "metadata": {
        "id": "aHxm3ZCupsmJ"
      },
      "source": [
        "![Região de Aceitação](https://caelum-online-public.s3.amazonaws.com/1229-estatistica-parte3/01/img018.png)"
      ]
    },
    {
      "cell_type": "markdown",
      "metadata": {
        "id": "FxLr2OnDpsmJ"
      },
      "source": [
        "---"
      ]
    },
    {
      "cell_type": "markdown",
      "metadata": {
        "id": "JcUvBM5OpsmJ"
      },
      "source": [
        "### **Passo 3** - cálculo da estatística-teste e verificação desse valor com as áreas de aceitação e rejeição do teste\n",
        "\n",
        "# $$\\chi^2 = \\sum_{i=1}^{k}{\\frac{(F_{i}^{Obs} - F_{i}^{Esp})^2}{F_{i}^{Esp}}}$$\n",
        "\n",
        "Onde\n",
        "\n",
        "$F_{i}^{Obs}$ = frequência observada para o evento $i$\n",
        "\n",
        "$F_{i}^{Esp}$ = frequência esperada para o evento $i$\n",
        "\n",
        "$k$ = total de eventos possíveis"
      ]
    },
    {
      "cell_type": "code",
      "execution_count": null,
      "metadata": {
        "id": "2b32Y6HiuT-u",
        "colab": {
          "base_uri": "https://localhost:8080/"
        },
        "outputId": "5370ba6f-4942-4003-e1ee-15b3003ff6e7"
      },
      "outputs": [
        {
          "output_type": "execute_result",
          "data": {
            "text/plain": [
              "5.12"
            ]
          },
          "metadata": {},
          "execution_count": 98
        }
      ],
      "source": [
        "chi_2 = (((F_Observada[0]) - (F_Esperada[0])) ** 2) / (F_Esperada[0]) + (((F_Observada[1]) - (F_Esperada[1])) ** 2) / (F_Esperada[1])\n",
        "chi_2"
      ]
    },
    {
      "cell_type": "code",
      "execution_count": null,
      "metadata": {
        "id": "7eL97ts8psmJ",
        "colab": {
          "base_uri": "https://localhost:8080/"
        },
        "outputId": "9bcfac8c-4c5e-4aac-8f45-f11861176f38"
      },
      "outputs": [
        {
          "output_type": "execute_result",
          "data": {
            "text/plain": [
              "5.12"
            ]
          },
          "metadata": {},
          "execution_count": 99
        }
      ],
      "source": [
        "chi_2 = 0\n",
        "for i in range(k):\n",
        "  chi_2 += (((F_Observada[i]) - (F_Esperada[i])) ** 2) / (F_Esperada[i])\n",
        "\n",
        "chi_2"
      ]
    },
    {
      "cell_type": "markdown",
      "metadata": {
        "id": "gdwiYn6ZpsmK"
      },
      "source": [
        "![Estatística-Teste](https://caelum-online-public.s3.amazonaws.com/1229-estatistica-parte3/01/img019.png)"
      ]
    },
    {
      "cell_type": "markdown",
      "metadata": {
        "id": "7v6msKABpsmK"
      },
      "source": [
        "---"
      ]
    },
    {
      "cell_type": "markdown",
      "metadata": {
        "id": "PHLhbZ3IpsmK"
      },
      "source": [
        "### **Passo 4** - Aceitação ou rejeição da hipótese nula"
      ]
    },
    {
      "cell_type": "markdown",
      "metadata": {
        "id": "tiQ0gAMGpsmL"
      },
      "source": [
        "<img src='https://caelum-online-public.s3.amazonaws.com/1229-estatistica-parte3/01/img020.png' width=80%>"
      ]
    },
    {
      "cell_type": "markdown",
      "metadata": {
        "id": "lhFLib7-psmM"
      },
      "source": [
        "### <font color='red'>Critério do valor crítico</font>\n",
        "\n",
        "> ### Rejeitar $H_0$ se $\\chi_{teste}^2 > \\chi_{\\alpha}^2$"
      ]
    },
    {
      "cell_type": "code",
      "execution_count": null,
      "metadata": {
        "id": "HSOhw7E7psmM",
        "colab": {
          "base_uri": "https://localhost:8080/"
        },
        "outputId": "9b222358-ddc6-4838-b80e-d9b38f050a43"
      },
      "outputs": [
        {
          "output_type": "execute_result",
          "data": {
            "text/plain": [
              "True"
            ]
          },
          "metadata": {},
          "execution_count": 100
        }
      ],
      "source": [
        "chi_2 > chi_2_alpha"
      ]
    },
    {
      "cell_type": "markdown",
      "metadata": {
        "id": "hvHTGAOepsmN"
      },
      "source": [
        "### <font color='green'>Conclusão: Com um nível de confiança de 95% rejeitamos a hipótese nula ($H_0$) e concluímos que as frequências observadas e esperadas são discrepantes, ou seja, a moeda não é honesta e precisa ser substituída.</font>"
      ]
    },
    {
      "cell_type": "markdown",
      "metadata": {
        "id": "VcqxUxnopsmN"
      },
      "source": [
        "### <font color='red'>Critério do valor $p$</font>\n",
        "\n",
        "> ### Rejeitar $H_0$ se o valor $p\\leq\\alpha$"
      ]
    },
    {
      "cell_type": "code",
      "execution_count": null,
      "metadata": {
        "id": "fP8w-6MZpsmO",
        "colab": {
          "base_uri": "https://localhost:8080/"
        },
        "outputId": "c53fb56b-74a0-4522-87d1-b1a4c88eaa5d"
      },
      "outputs": [
        {
          "output_type": "execute_result",
          "data": {
            "text/plain": [
              "5.12"
            ]
          },
          "metadata": {},
          "execution_count": 101
        }
      ],
      "source": [
        "chi_2"
      ]
    },
    {
      "cell_type": "code",
      "execution_count": null,
      "metadata": {
        "id": "LWCqrM2rpsmP",
        "colab": {
          "base_uri": "https://localhost:8080/"
        },
        "outputId": "d9942ac3-bc65-4145-c624-edf158b3cb1f"
      },
      "outputs": [
        {
          "output_type": "execute_result",
          "data": {
            "text/plain": [
              "2.262741699796952"
            ]
          },
          "metadata": {},
          "execution_count": 102
        }
      ],
      "source": [
        "raiz_chi_2 = np.sqrt(chi_2)\n",
        "raiz_chi_2"
      ]
    },
    {
      "cell_type": "code",
      "execution_count": null,
      "metadata": {
        "id": "uFG6yszWpsmQ",
        "colab": {
          "base_uri": "https://localhost:8080/"
        },
        "outputId": "17870dde-a724-4ff7-c595-6bd23cfb7118"
      },
      "outputs": [
        {
          "output_type": "execute_result",
          "data": {
            "text/plain": [
              "0.023651616655355978"
            ]
          },
          "metadata": {},
          "execution_count": 103
        }
      ],
      "source": [
        "p_valor = chi.sf(raiz_chi_2, df = 1)\n",
        "p_valor"
      ]
    },
    {
      "cell_type": "markdown",
      "metadata": {
        "id": "WpvavOAVpsmR"
      },
      "source": [
        "https://docs.scipy.org/doc/scipy/reference/generated/scipy.stats.chisquare.html"
      ]
    },
    {
      "cell_type": "code",
      "execution_count": null,
      "metadata": {
        "id": "Jc1RkAn6psmR"
      },
      "outputs": [],
      "source": [
        "from scipy.stats import chisquare"
      ]
    },
    {
      "cell_type": "code",
      "execution_count": null,
      "metadata": {
        "id": "jjiIlObspsmR",
        "colab": {
          "base_uri": "https://localhost:8080/"
        },
        "outputId": "a54f52c7-5961-4764-f961-eed2720e6d62"
      },
      "outputs": [
        {
          "output_type": "stream",
          "name": "stdout",
          "text": [
            "5.12\n",
            "0.023651616655356\n"
          ]
        }
      ],
      "source": [
        "chi_2, p_valor = chisquare(f_obs = F_Observada, f_exp = F_Esperada)\n",
        "print(chi_2)\n",
        "print(p_valor)"
      ]
    },
    {
      "cell_type": "code",
      "execution_count": null,
      "metadata": {
        "id": "reKBubKWpsmT",
        "colab": {
          "base_uri": "https://localhost:8080/"
        },
        "outputId": "e66c6f43-e8ce-4ceb-c1bf-14c62e472056"
      },
      "outputs": [
        {
          "output_type": "execute_result",
          "data": {
            "text/plain": [
              "True"
            ]
          },
          "metadata": {},
          "execution_count": 106
        }
      ],
      "source": [
        "p_valor <= significancia"
      ]
    },
    {
      "cell_type": "markdown",
      "source": [
        "### Exercício"
      ],
      "metadata": {
        "id": "w0yt1H92gX53"
      }
    },
    {
      "cell_type": "markdown",
      "source": [
        "A realização de um teste não paramétrico Qui-quadrado, com apenas 5 graus de liberdade, obteve-se a estatística de teste no valor de 7,45.\n",
        "\n",
        "Qual seria o p-valor para este teste?"
      ],
      "metadata": {
        "id": "7v5WIyyQgdHo"
      }
    },
    {
      "cell_type": "code",
      "source": [
        "p_value = chi.sf(np.sqrt(7.45), df = 5)\n",
        "p_value"
      ],
      "metadata": {
        "colab": {
          "base_uri": "https://localhost:8080/"
        },
        "id": "Kbk6ob0tgT3u",
        "outputId": "f7f0e42e-07e9-4c24-930a-7488830483fb"
      },
      "execution_count": null,
      "outputs": [
        {
          "output_type": "execute_result",
          "data": {
            "text/plain": [
              "0.18926579121171605"
            ]
          },
          "metadata": {},
          "execution_count": 107
        }
      ]
    },
    {
      "cell_type": "markdown",
      "source": [
        "Nesta aula, aprendemos:\n",
        "\n",
        "- A distribuição Qui-quadrado\n",
        "- A construir e consultar uma tabela de Qui-quadrado\n",
        "- A aplicação do teste não paramétrico de Qui-quadrado\n",
        "- O cálculo do p-valor com a distribuição Qui-quadrado"
      ],
      "metadata": {
        "id": "KhHFswPdg9T2"
      }
    },
    {
      "cell_type": "markdown",
      "metadata": {
        "id": "WlHU5fNNpsmU"
      },
      "source": [
        "---"
      ]
    },
    {
      "cell_type": "markdown",
      "metadata": {
        "id": "PUXdBJ9FpsmU"
      },
      "source": [
        "## <font color='red'>Problema</font>"
      ]
    },
    {
      "cell_type": "markdown",
      "metadata": {
        "id": "DXvJ2JnKpsmU"
      },
      "source": [
        "Um novo tratamento para acabar com o hábito de fumar está sendo empregado em um grupo de **35 pacientes** voluntários. De cada paciente testado foram obtidas as informações de quantidades de cigarros consumidos por dia antes e depois do término do tratamento. Assumindo um **nível de confiança de 95%** é possível concluir que, depois da aplicação do novo tratamento, houve uma mudança no hábito de fumar do grupo de pacientes testado?"
      ]
    },
    {
      "cell_type": "markdown",
      "metadata": {
        "id": "BqE_PN7IpsmU"
      },
      "source": [
        "## <font color=green>4.2 Teste Wilcoxon</font>\n",
        "### Comparação de duas populações - amostras dependentes\n",
        "***"
      ]
    },
    {
      "cell_type": "markdown",
      "metadata": {
        "id": "1MxFBYB-psmU"
      },
      "source": [
        "Empregado quando se deseja comparar duas amostras relacionadas, amostras emparelhadas. Pode ser aplicado quando se deseja testar a diferença de duas condições, isto é, quando um mesmo elemento é submetido a duas medidas."
      ]
    },
    {
      "cell_type": "markdown",
      "metadata": {
        "id": "3H67Y7P7psmV"
      },
      "source": [
        "### Dados do problema"
      ]
    },
    {
      "cell_type": "code",
      "execution_count": null,
      "metadata": {
        "id": "JBh5-HrnpsmV"
      },
      "outputs": [],
      "source": [
        "fumo = {\n",
        "    'Antes': [39, 25, 24, 50, 13, 52, 21, 29, 10, 22, 50, 15, 36, 39, 52, 48, 24, 15, 40, 41, 17, 12, 21, 49, 14, 55, 46, 22, 28, 23, 37, 17, 31, 49, 49],\n",
        "    'Depois': [16, 8, 12, 0, 14, 16, 13, 12, 19, 17, 17, 2, 15, 10, 20, 13, 0, 4, 16, 18, 16, 16, 9, 9, 18, 4, 17, 0, 11, 14, 0, 19, 2, 9, 6]\n",
        "}\n",
        "significancia = 0.05\n",
        "confianca = 1 - significancia\n",
        "n = 35"
      ]
    },
    {
      "cell_type": "code",
      "execution_count": null,
      "metadata": {
        "id": "AfEGWBp1psmW",
        "scrolled": true,
        "colab": {
          "base_uri": "https://localhost:8080/",
          "height": 206
        },
        "outputId": "5286a73b-76fb-45b7-f1c9-9a1307602667"
      },
      "outputs": [
        {
          "output_type": "execute_result",
          "data": {
            "text/html": [
              "\n",
              "  <div id=\"df-11370898-fe73-4aae-b8ef-28543c3fc4a4\">\n",
              "    <div class=\"colab-df-container\">\n",
              "      <div>\n",
              "<style scoped>\n",
              "    .dataframe tbody tr th:only-of-type {\n",
              "        vertical-align: middle;\n",
              "    }\n",
              "\n",
              "    .dataframe tbody tr th {\n",
              "        vertical-align: top;\n",
              "    }\n",
              "\n",
              "    .dataframe thead th {\n",
              "        text-align: right;\n",
              "    }\n",
              "</style>\n",
              "<table border=\"1\" class=\"dataframe\">\n",
              "  <thead>\n",
              "    <tr style=\"text-align: right;\">\n",
              "      <th></th>\n",
              "      <th>Antes</th>\n",
              "      <th>Depois</th>\n",
              "    </tr>\n",
              "  </thead>\n",
              "  <tbody>\n",
              "    <tr>\n",
              "      <th>0</th>\n",
              "      <td>39</td>\n",
              "      <td>16</td>\n",
              "    </tr>\n",
              "    <tr>\n",
              "      <th>1</th>\n",
              "      <td>25</td>\n",
              "      <td>8</td>\n",
              "    </tr>\n",
              "    <tr>\n",
              "      <th>2</th>\n",
              "      <td>24</td>\n",
              "      <td>12</td>\n",
              "    </tr>\n",
              "    <tr>\n",
              "      <th>3</th>\n",
              "      <td>50</td>\n",
              "      <td>0</td>\n",
              "    </tr>\n",
              "    <tr>\n",
              "      <th>4</th>\n",
              "      <td>13</td>\n",
              "      <td>14</td>\n",
              "    </tr>\n",
              "  </tbody>\n",
              "</table>\n",
              "</div>\n",
              "      <button class=\"colab-df-convert\" onclick=\"convertToInteractive('df-11370898-fe73-4aae-b8ef-28543c3fc4a4')\"\n",
              "              title=\"Convert this dataframe to an interactive table.\"\n",
              "              style=\"display:none;\">\n",
              "        \n",
              "  <svg xmlns=\"http://www.w3.org/2000/svg\" height=\"24px\"viewBox=\"0 0 24 24\"\n",
              "       width=\"24px\">\n",
              "    <path d=\"M0 0h24v24H0V0z\" fill=\"none\"/>\n",
              "    <path d=\"M18.56 5.44l.94 2.06.94-2.06 2.06-.94-2.06-.94-.94-2.06-.94 2.06-2.06.94zm-11 1L8.5 8.5l.94-2.06 2.06-.94-2.06-.94L8.5 2.5l-.94 2.06-2.06.94zm10 10l.94 2.06.94-2.06 2.06-.94-2.06-.94-.94-2.06-.94 2.06-2.06.94z\"/><path d=\"M17.41 7.96l-1.37-1.37c-.4-.4-.92-.59-1.43-.59-.52 0-1.04.2-1.43.59L10.3 9.45l-7.72 7.72c-.78.78-.78 2.05 0 2.83L4 21.41c.39.39.9.59 1.41.59.51 0 1.02-.2 1.41-.59l7.78-7.78 2.81-2.81c.8-.78.8-2.07 0-2.86zM5.41 20L4 18.59l7.72-7.72 1.47 1.35L5.41 20z\"/>\n",
              "  </svg>\n",
              "      </button>\n",
              "      \n",
              "  <style>\n",
              "    .colab-df-container {\n",
              "      display:flex;\n",
              "      flex-wrap:wrap;\n",
              "      gap: 12px;\n",
              "    }\n",
              "\n",
              "    .colab-df-convert {\n",
              "      background-color: #E8F0FE;\n",
              "      border: none;\n",
              "      border-radius: 50%;\n",
              "      cursor: pointer;\n",
              "      display: none;\n",
              "      fill: #1967D2;\n",
              "      height: 32px;\n",
              "      padding: 0 0 0 0;\n",
              "      width: 32px;\n",
              "    }\n",
              "\n",
              "    .colab-df-convert:hover {\n",
              "      background-color: #E2EBFA;\n",
              "      box-shadow: 0px 1px 2px rgba(60, 64, 67, 0.3), 0px 1px 3px 1px rgba(60, 64, 67, 0.15);\n",
              "      fill: #174EA6;\n",
              "    }\n",
              "\n",
              "    [theme=dark] .colab-df-convert {\n",
              "      background-color: #3B4455;\n",
              "      fill: #D2E3FC;\n",
              "    }\n",
              "\n",
              "    [theme=dark] .colab-df-convert:hover {\n",
              "      background-color: #434B5C;\n",
              "      box-shadow: 0px 1px 3px 1px rgba(0, 0, 0, 0.15);\n",
              "      filter: drop-shadow(0px 1px 2px rgba(0, 0, 0, 0.3));\n",
              "      fill: #FFFFFF;\n",
              "    }\n",
              "  </style>\n",
              "\n",
              "      <script>\n",
              "        const buttonEl =\n",
              "          document.querySelector('#df-11370898-fe73-4aae-b8ef-28543c3fc4a4 button.colab-df-convert');\n",
              "        buttonEl.style.display =\n",
              "          google.colab.kernel.accessAllowed ? 'block' : 'none';\n",
              "\n",
              "        async function convertToInteractive(key) {\n",
              "          const element = document.querySelector('#df-11370898-fe73-4aae-b8ef-28543c3fc4a4');\n",
              "          const dataTable =\n",
              "            await google.colab.kernel.invokeFunction('convertToInteractive',\n",
              "                                                     [key], {});\n",
              "          if (!dataTable) return;\n",
              "\n",
              "          const docLinkHtml = 'Like what you see? Visit the ' +\n",
              "            '<a target=\"_blank\" href=https://colab.research.google.com/notebooks/data_table.ipynb>data table notebook</a>'\n",
              "            + ' to learn more about interactive tables.';\n",
              "          element.innerHTML = '';\n",
              "          dataTable['output_type'] = 'display_data';\n",
              "          await google.colab.output.renderOutput(dataTable, element);\n",
              "          const docLink = document.createElement('div');\n",
              "          docLink.innerHTML = docLinkHtml;\n",
              "          element.appendChild(docLink);\n",
              "        }\n",
              "      </script>\n",
              "    </div>\n",
              "  </div>\n",
              "  "
            ],
            "text/plain": [
              "   Antes  Depois\n",
              "0     39      16\n",
              "1     25       8\n",
              "2     24      12\n",
              "3     50       0\n",
              "4     13      14"
            ]
          },
          "metadata": {},
          "execution_count": 109
        }
      ],
      "source": [
        "fumo = pd.DataFrame(fumo)\n",
        "fumo.head()"
      ]
    },
    {
      "cell_type": "code",
      "execution_count": null,
      "metadata": {
        "id": "oNQvLLR8psmX",
        "colab": {
          "base_uri": "https://localhost:8080/"
        },
        "outputId": "e9f71f85-68b8-4c80-d8bf-7531746611ba"
      },
      "outputs": [
        {
          "output_type": "execute_result",
          "data": {
            "text/plain": [
              "31.857142857142858"
            ]
          },
          "metadata": {},
          "execution_count": 110
        }
      ],
      "source": [
        "media_antes = fumo.Antes.mean()\n",
        "media_antes"
      ]
    },
    {
      "cell_type": "code",
      "execution_count": null,
      "metadata": {
        "id": "wOgIYP0upsmZ",
        "colab": {
          "base_uri": "https://localhost:8080/"
        },
        "outputId": "200d267e-01cc-4b42-9fc2-03a13cbe8b28"
      },
      "outputs": [
        {
          "output_type": "execute_result",
          "data": {
            "text/plain": [
              "11.2"
            ]
          },
          "metadata": {},
          "execution_count": 111
        }
      ],
      "source": [
        "media_depois = fumo.Depois.mean()\n",
        "media_depois"
      ]
    },
    {
      "cell_type": "markdown",
      "metadata": {
        "id": "gvnOmelVpsma"
      },
      "source": [
        "### **Passo 1** - formulação das hipóteses $H_0$ e $H_1$\n",
        "\n",
        "#### <font color='red'>Lembre-se, a hipótese nula sempre contém a alegação de igualdade</font>"
      ]
    },
    {
      "cell_type": "markdown",
      "metadata": {
        "id": "1AXOiD_epsma"
      },
      "source": [
        "### $H_0: \\mu_{antes} = \\mu_{depois}$\n",
        "\n",
        "### $H_1: \\mu_{antes} > \\mu_{depois}$"
      ]
    },
    {
      "cell_type": "markdown",
      "metadata": {
        "id": "degUD6b2psmb"
      },
      "source": [
        "---"
      ]
    },
    {
      "cell_type": "markdown",
      "metadata": {
        "id": "3jrV_c2Opsmb"
      },
      "source": [
        "### **Passo 2** - escolha da distribuição amostral adequada"
      ]
    },
    {
      "cell_type": "markdown",
      "metadata": {
        "id": "vF-9xAPzpsmc"
      },
      "source": [
        "### O tamanho da amostra é maior que 20?\n",
        "#### Resp.: Sim"
      ]
    },
    {
      "cell_type": "markdown",
      "metadata": {
        "id": "tvxXutrGpsmc"
      },
      "source": [
        "---"
      ]
    },
    {
      "cell_type": "markdown",
      "metadata": {
        "id": "aihd76Wkpsmc"
      },
      "source": [
        "### **Passo 3** - fixação da significância do teste ($\\alpha$)"
      ]
    },
    {
      "cell_type": "markdown",
      "metadata": {
        "id": "XF6AA8qLpsmc"
      },
      "source": [
        "### Obtendo $z_{\\alpha/2}$"
      ]
    },
    {
      "cell_type": "code",
      "execution_count": null,
      "metadata": {
        "id": "PTmwCAq9psme",
        "colab": {
          "base_uri": "https://localhost:8080/"
        },
        "outputId": "e8829b70-6440-4d85-a86a-82623c79d997"
      },
      "outputs": [
        {
          "output_type": "execute_result",
          "data": {
            "text/plain": [
              "0.975"
            ]
          },
          "metadata": {},
          "execution_count": 112
        }
      ],
      "source": [
        "probabilidade = (0.5 + (confianca / 2))\n",
        "probabilidade"
      ]
    },
    {
      "cell_type": "code",
      "execution_count": null,
      "metadata": {
        "id": "UsRrnCnXpsmd",
        "colab": {
          "base_uri": "https://localhost:8080/"
        },
        "outputId": "9ac5bdb4-53e9-4d3a-df97-b83eeb730521"
      },
      "outputs": [
        {
          "output_type": "execute_result",
          "data": {
            "text/plain": [
              "1.96"
            ]
          },
          "metadata": {},
          "execution_count": 113
        }
      ],
      "source": [
        "z_alpha_2 = norm.ppf(probabilidade)\n",
        "z_alpha_2.round(2)"
      ]
    },
    {
      "cell_type": "markdown",
      "metadata": {
        "id": "S2dqQHQJpsmf"
      },
      "source": [
        "![Região de Aceitação](https://caelum-online-public.s3.amazonaws.com/1229-estatistica-parte3/01/img006.png)"
      ]
    },
    {
      "cell_type": "markdown",
      "metadata": {
        "id": "z0iEZ685psmf"
      },
      "source": [
        "---"
      ]
    },
    {
      "cell_type": "markdown",
      "metadata": {
        "id": "zpYLf-dZpsmg"
      },
      "source": [
        "### **Passo 4** - cálculo da estatística-teste e verificação desse valor com as áreas de aceitação e rejeição do teste\n",
        "\n",
        "# $$Z = \\frac{T - \\mu_T}{\\sigma_T}$$\n",
        "\n",
        "Onde\n",
        "\n",
        "## $T$ = menor das somas de postos de mesmo sinal\n",
        "\n",
        "# $$\\mu_T = \\frac{n(n+1)}{4}$$\n",
        "# $$\\sigma_T = \\sqrt{\\frac{n(n + 1)(2n + 1)}{24}}$$"
      ]
    },
    {
      "cell_type": "markdown",
      "metadata": {
        "id": "ZTY9IuIIpsmg"
      },
      "source": [
        "### Construindo a tabela com os postos"
      ]
    },
    {
      "cell_type": "code",
      "execution_count": null,
      "metadata": {
        "id": "o0fp6m3iqIlu",
        "colab": {
          "base_uri": "https://localhost:8080/",
          "height": 206
        },
        "outputId": "cb318314-db4f-4aa0-8c46-de215bbfe97f"
      },
      "outputs": [
        {
          "output_type": "execute_result",
          "data": {
            "text/html": [
              "\n",
              "  <div id=\"df-4f79c1f9-9796-409d-b61d-b2c726b02630\">\n",
              "    <div class=\"colab-df-container\">\n",
              "      <div>\n",
              "<style scoped>\n",
              "    .dataframe tbody tr th:only-of-type {\n",
              "        vertical-align: middle;\n",
              "    }\n",
              "\n",
              "    .dataframe tbody tr th {\n",
              "        vertical-align: top;\n",
              "    }\n",
              "\n",
              "    .dataframe thead th {\n",
              "        text-align: right;\n",
              "    }\n",
              "</style>\n",
              "<table border=\"1\" class=\"dataframe\">\n",
              "  <thead>\n",
              "    <tr style=\"text-align: right;\">\n",
              "      <th></th>\n",
              "      <th>Antes</th>\n",
              "      <th>Depois</th>\n",
              "    </tr>\n",
              "  </thead>\n",
              "  <tbody>\n",
              "    <tr>\n",
              "      <th>0</th>\n",
              "      <td>39</td>\n",
              "      <td>16</td>\n",
              "    </tr>\n",
              "    <tr>\n",
              "      <th>1</th>\n",
              "      <td>25</td>\n",
              "      <td>8</td>\n",
              "    </tr>\n",
              "    <tr>\n",
              "      <th>2</th>\n",
              "      <td>24</td>\n",
              "      <td>12</td>\n",
              "    </tr>\n",
              "    <tr>\n",
              "      <th>3</th>\n",
              "      <td>50</td>\n",
              "      <td>0</td>\n",
              "    </tr>\n",
              "    <tr>\n",
              "      <th>4</th>\n",
              "      <td>13</td>\n",
              "      <td>14</td>\n",
              "    </tr>\n",
              "  </tbody>\n",
              "</table>\n",
              "</div>\n",
              "      <button class=\"colab-df-convert\" onclick=\"convertToInteractive('df-4f79c1f9-9796-409d-b61d-b2c726b02630')\"\n",
              "              title=\"Convert this dataframe to an interactive table.\"\n",
              "              style=\"display:none;\">\n",
              "        \n",
              "  <svg xmlns=\"http://www.w3.org/2000/svg\" height=\"24px\"viewBox=\"0 0 24 24\"\n",
              "       width=\"24px\">\n",
              "    <path d=\"M0 0h24v24H0V0z\" fill=\"none\"/>\n",
              "    <path d=\"M18.56 5.44l.94 2.06.94-2.06 2.06-.94-2.06-.94-.94-2.06-.94 2.06-2.06.94zm-11 1L8.5 8.5l.94-2.06 2.06-.94-2.06-.94L8.5 2.5l-.94 2.06-2.06.94zm10 10l.94 2.06.94-2.06 2.06-.94-2.06-.94-.94-2.06-.94 2.06-2.06.94z\"/><path d=\"M17.41 7.96l-1.37-1.37c-.4-.4-.92-.59-1.43-.59-.52 0-1.04.2-1.43.59L10.3 9.45l-7.72 7.72c-.78.78-.78 2.05 0 2.83L4 21.41c.39.39.9.59 1.41.59.51 0 1.02-.2 1.41-.59l7.78-7.78 2.81-2.81c.8-.78.8-2.07 0-2.86zM5.41 20L4 18.59l7.72-7.72 1.47 1.35L5.41 20z\"/>\n",
              "  </svg>\n",
              "      </button>\n",
              "      \n",
              "  <style>\n",
              "    .colab-df-container {\n",
              "      display:flex;\n",
              "      flex-wrap:wrap;\n",
              "      gap: 12px;\n",
              "    }\n",
              "\n",
              "    .colab-df-convert {\n",
              "      background-color: #E8F0FE;\n",
              "      border: none;\n",
              "      border-radius: 50%;\n",
              "      cursor: pointer;\n",
              "      display: none;\n",
              "      fill: #1967D2;\n",
              "      height: 32px;\n",
              "      padding: 0 0 0 0;\n",
              "      width: 32px;\n",
              "    }\n",
              "\n",
              "    .colab-df-convert:hover {\n",
              "      background-color: #E2EBFA;\n",
              "      box-shadow: 0px 1px 2px rgba(60, 64, 67, 0.3), 0px 1px 3px 1px rgba(60, 64, 67, 0.15);\n",
              "      fill: #174EA6;\n",
              "    }\n",
              "\n",
              "    [theme=dark] .colab-df-convert {\n",
              "      background-color: #3B4455;\n",
              "      fill: #D2E3FC;\n",
              "    }\n",
              "\n",
              "    [theme=dark] .colab-df-convert:hover {\n",
              "      background-color: #434B5C;\n",
              "      box-shadow: 0px 1px 3px 1px rgba(0, 0, 0, 0.15);\n",
              "      filter: drop-shadow(0px 1px 2px rgba(0, 0, 0, 0.3));\n",
              "      fill: #FFFFFF;\n",
              "    }\n",
              "  </style>\n",
              "\n",
              "      <script>\n",
              "        const buttonEl =\n",
              "          document.querySelector('#df-4f79c1f9-9796-409d-b61d-b2c726b02630 button.colab-df-convert');\n",
              "        buttonEl.style.display =\n",
              "          google.colab.kernel.accessAllowed ? 'block' : 'none';\n",
              "\n",
              "        async function convertToInteractive(key) {\n",
              "          const element = document.querySelector('#df-4f79c1f9-9796-409d-b61d-b2c726b02630');\n",
              "          const dataTable =\n",
              "            await google.colab.kernel.invokeFunction('convertToInteractive',\n",
              "                                                     [key], {});\n",
              "          if (!dataTable) return;\n",
              "\n",
              "          const docLinkHtml = 'Like what you see? Visit the ' +\n",
              "            '<a target=\"_blank\" href=https://colab.research.google.com/notebooks/data_table.ipynb>data table notebook</a>'\n",
              "            + ' to learn more about interactive tables.';\n",
              "          element.innerHTML = '';\n",
              "          dataTable['output_type'] = 'display_data';\n",
              "          await google.colab.output.renderOutput(dataTable, element);\n",
              "          const docLink = document.createElement('div');\n",
              "          docLink.innerHTML = docLinkHtml;\n",
              "          element.appendChild(docLink);\n",
              "        }\n",
              "      </script>\n",
              "    </div>\n",
              "  </div>\n",
              "  "
            ],
            "text/plain": [
              "   Antes  Depois\n",
              "0     39      16\n",
              "1     25       8\n",
              "2     24      12\n",
              "3     50       0\n",
              "4     13      14"
            ]
          },
          "metadata": {},
          "execution_count": 114
        }
      ],
      "source": [
        "fumo.head()"
      ]
    },
    {
      "cell_type": "code",
      "execution_count": null,
      "metadata": {
        "id": "T4KmZijZotWj",
        "colab": {
          "base_uri": "https://localhost:8080/",
          "height": 206
        },
        "outputId": "ae0b8d2f-b829-470a-e3f2-7f52ff824a75"
      },
      "outputs": [
        {
          "output_type": "execute_result",
          "data": {
            "text/html": [
              "\n",
              "  <div id=\"df-90001113-91e3-4dac-b57b-feacb85a05e1\">\n",
              "    <div class=\"colab-df-container\">\n",
              "      <div>\n",
              "<style scoped>\n",
              "    .dataframe tbody tr th:only-of-type {\n",
              "        vertical-align: middle;\n",
              "    }\n",
              "\n",
              "    .dataframe tbody tr th {\n",
              "        vertical-align: top;\n",
              "    }\n",
              "\n",
              "    .dataframe thead th {\n",
              "        text-align: right;\n",
              "    }\n",
              "</style>\n",
              "<table border=\"1\" class=\"dataframe\">\n",
              "  <thead>\n",
              "    <tr style=\"text-align: right;\">\n",
              "      <th></th>\n",
              "      <th>Antes</th>\n",
              "      <th>Depois</th>\n",
              "      <th>Dif</th>\n",
              "    </tr>\n",
              "  </thead>\n",
              "  <tbody>\n",
              "    <tr>\n",
              "      <th>0</th>\n",
              "      <td>39</td>\n",
              "      <td>16</td>\n",
              "      <td>-23</td>\n",
              "    </tr>\n",
              "    <tr>\n",
              "      <th>1</th>\n",
              "      <td>25</td>\n",
              "      <td>8</td>\n",
              "      <td>-17</td>\n",
              "    </tr>\n",
              "    <tr>\n",
              "      <th>2</th>\n",
              "      <td>24</td>\n",
              "      <td>12</td>\n",
              "      <td>-12</td>\n",
              "    </tr>\n",
              "    <tr>\n",
              "      <th>3</th>\n",
              "      <td>50</td>\n",
              "      <td>0</td>\n",
              "      <td>-50</td>\n",
              "    </tr>\n",
              "    <tr>\n",
              "      <th>4</th>\n",
              "      <td>13</td>\n",
              "      <td>14</td>\n",
              "      <td>1</td>\n",
              "    </tr>\n",
              "  </tbody>\n",
              "</table>\n",
              "</div>\n",
              "      <button class=\"colab-df-convert\" onclick=\"convertToInteractive('df-90001113-91e3-4dac-b57b-feacb85a05e1')\"\n",
              "              title=\"Convert this dataframe to an interactive table.\"\n",
              "              style=\"display:none;\">\n",
              "        \n",
              "  <svg xmlns=\"http://www.w3.org/2000/svg\" height=\"24px\"viewBox=\"0 0 24 24\"\n",
              "       width=\"24px\">\n",
              "    <path d=\"M0 0h24v24H0V0z\" fill=\"none\"/>\n",
              "    <path d=\"M18.56 5.44l.94 2.06.94-2.06 2.06-.94-2.06-.94-.94-2.06-.94 2.06-2.06.94zm-11 1L8.5 8.5l.94-2.06 2.06-.94-2.06-.94L8.5 2.5l-.94 2.06-2.06.94zm10 10l.94 2.06.94-2.06 2.06-.94-2.06-.94-.94-2.06-.94 2.06-2.06.94z\"/><path d=\"M17.41 7.96l-1.37-1.37c-.4-.4-.92-.59-1.43-.59-.52 0-1.04.2-1.43.59L10.3 9.45l-7.72 7.72c-.78.78-.78 2.05 0 2.83L4 21.41c.39.39.9.59 1.41.59.51 0 1.02-.2 1.41-.59l7.78-7.78 2.81-2.81c.8-.78.8-2.07 0-2.86zM5.41 20L4 18.59l7.72-7.72 1.47 1.35L5.41 20z\"/>\n",
              "  </svg>\n",
              "      </button>\n",
              "      \n",
              "  <style>\n",
              "    .colab-df-container {\n",
              "      display:flex;\n",
              "      flex-wrap:wrap;\n",
              "      gap: 12px;\n",
              "    }\n",
              "\n",
              "    .colab-df-convert {\n",
              "      background-color: #E8F0FE;\n",
              "      border: none;\n",
              "      border-radius: 50%;\n",
              "      cursor: pointer;\n",
              "      display: none;\n",
              "      fill: #1967D2;\n",
              "      height: 32px;\n",
              "      padding: 0 0 0 0;\n",
              "      width: 32px;\n",
              "    }\n",
              "\n",
              "    .colab-df-convert:hover {\n",
              "      background-color: #E2EBFA;\n",
              "      box-shadow: 0px 1px 2px rgba(60, 64, 67, 0.3), 0px 1px 3px 1px rgba(60, 64, 67, 0.15);\n",
              "      fill: #174EA6;\n",
              "    }\n",
              "\n",
              "    [theme=dark] .colab-df-convert {\n",
              "      background-color: #3B4455;\n",
              "      fill: #D2E3FC;\n",
              "    }\n",
              "\n",
              "    [theme=dark] .colab-df-convert:hover {\n",
              "      background-color: #434B5C;\n",
              "      box-shadow: 0px 1px 3px 1px rgba(0, 0, 0, 0.15);\n",
              "      filter: drop-shadow(0px 1px 2px rgba(0, 0, 0, 0.3));\n",
              "      fill: #FFFFFF;\n",
              "    }\n",
              "  </style>\n",
              "\n",
              "      <script>\n",
              "        const buttonEl =\n",
              "          document.querySelector('#df-90001113-91e3-4dac-b57b-feacb85a05e1 button.colab-df-convert');\n",
              "        buttonEl.style.display =\n",
              "          google.colab.kernel.accessAllowed ? 'block' : 'none';\n",
              "\n",
              "        async function convertToInteractive(key) {\n",
              "          const element = document.querySelector('#df-90001113-91e3-4dac-b57b-feacb85a05e1');\n",
              "          const dataTable =\n",
              "            await google.colab.kernel.invokeFunction('convertToInteractive',\n",
              "                                                     [key], {});\n",
              "          if (!dataTable) return;\n",
              "\n",
              "          const docLinkHtml = 'Like what you see? Visit the ' +\n",
              "            '<a target=\"_blank\" href=https://colab.research.google.com/notebooks/data_table.ipynb>data table notebook</a>'\n",
              "            + ' to learn more about interactive tables.';\n",
              "          element.innerHTML = '';\n",
              "          dataTable['output_type'] = 'display_data';\n",
              "          await google.colab.output.renderOutput(dataTable, element);\n",
              "          const docLink = document.createElement('div');\n",
              "          docLink.innerHTML = docLinkHtml;\n",
              "          element.appendChild(docLink);\n",
              "        }\n",
              "      </script>\n",
              "    </div>\n",
              "  </div>\n",
              "  "
            ],
            "text/plain": [
              "   Antes  Depois  Dif\n",
              "0     39      16  -23\n",
              "1     25       8  -17\n",
              "2     24      12  -12\n",
              "3     50       0  -50\n",
              "4     13      14    1"
            ]
          },
          "metadata": {},
          "execution_count": 115
        }
      ],
      "source": [
        "fumo['Dif'] = fumo.Depois - fumo.Antes\n",
        "fumo.head()"
      ]
    },
    {
      "cell_type": "code",
      "execution_count": null,
      "metadata": {
        "id": "c4fvYVrdotTL",
        "colab": {
          "base_uri": "https://localhost:8080/",
          "height": 206
        },
        "outputId": "4924ccf6-3827-4a97-91bf-58a566bc5328"
      },
      "outputs": [
        {
          "output_type": "execute_result",
          "data": {
            "text/html": [
              "\n",
              "  <div id=\"df-c2865be6-7eb3-47a0-8017-e4ed3b837cf8\">\n",
              "    <div class=\"colab-df-container\">\n",
              "      <div>\n",
              "<style scoped>\n",
              "    .dataframe tbody tr th:only-of-type {\n",
              "        vertical-align: middle;\n",
              "    }\n",
              "\n",
              "    .dataframe tbody tr th {\n",
              "        vertical-align: top;\n",
              "    }\n",
              "\n",
              "    .dataframe thead th {\n",
              "        text-align: right;\n",
              "    }\n",
              "</style>\n",
              "<table border=\"1\" class=\"dataframe\">\n",
              "  <thead>\n",
              "    <tr style=\"text-align: right;\">\n",
              "      <th></th>\n",
              "      <th>Antes</th>\n",
              "      <th>Depois</th>\n",
              "      <th>Dif</th>\n",
              "      <th>|Dif|</th>\n",
              "    </tr>\n",
              "  </thead>\n",
              "  <tbody>\n",
              "    <tr>\n",
              "      <th>0</th>\n",
              "      <td>39</td>\n",
              "      <td>16</td>\n",
              "      <td>-23</td>\n",
              "      <td>23</td>\n",
              "    </tr>\n",
              "    <tr>\n",
              "      <th>1</th>\n",
              "      <td>25</td>\n",
              "      <td>8</td>\n",
              "      <td>-17</td>\n",
              "      <td>17</td>\n",
              "    </tr>\n",
              "    <tr>\n",
              "      <th>2</th>\n",
              "      <td>24</td>\n",
              "      <td>12</td>\n",
              "      <td>-12</td>\n",
              "      <td>12</td>\n",
              "    </tr>\n",
              "    <tr>\n",
              "      <th>3</th>\n",
              "      <td>50</td>\n",
              "      <td>0</td>\n",
              "      <td>-50</td>\n",
              "      <td>50</td>\n",
              "    </tr>\n",
              "    <tr>\n",
              "      <th>4</th>\n",
              "      <td>13</td>\n",
              "      <td>14</td>\n",
              "      <td>1</td>\n",
              "      <td>1</td>\n",
              "    </tr>\n",
              "  </tbody>\n",
              "</table>\n",
              "</div>\n",
              "      <button class=\"colab-df-convert\" onclick=\"convertToInteractive('df-c2865be6-7eb3-47a0-8017-e4ed3b837cf8')\"\n",
              "              title=\"Convert this dataframe to an interactive table.\"\n",
              "              style=\"display:none;\">\n",
              "        \n",
              "  <svg xmlns=\"http://www.w3.org/2000/svg\" height=\"24px\"viewBox=\"0 0 24 24\"\n",
              "       width=\"24px\">\n",
              "    <path d=\"M0 0h24v24H0V0z\" fill=\"none\"/>\n",
              "    <path d=\"M18.56 5.44l.94 2.06.94-2.06 2.06-.94-2.06-.94-.94-2.06-.94 2.06-2.06.94zm-11 1L8.5 8.5l.94-2.06 2.06-.94-2.06-.94L8.5 2.5l-.94 2.06-2.06.94zm10 10l.94 2.06.94-2.06 2.06-.94-2.06-.94-.94-2.06-.94 2.06-2.06.94z\"/><path d=\"M17.41 7.96l-1.37-1.37c-.4-.4-.92-.59-1.43-.59-.52 0-1.04.2-1.43.59L10.3 9.45l-7.72 7.72c-.78.78-.78 2.05 0 2.83L4 21.41c.39.39.9.59 1.41.59.51 0 1.02-.2 1.41-.59l7.78-7.78 2.81-2.81c.8-.78.8-2.07 0-2.86zM5.41 20L4 18.59l7.72-7.72 1.47 1.35L5.41 20z\"/>\n",
              "  </svg>\n",
              "      </button>\n",
              "      \n",
              "  <style>\n",
              "    .colab-df-container {\n",
              "      display:flex;\n",
              "      flex-wrap:wrap;\n",
              "      gap: 12px;\n",
              "    }\n",
              "\n",
              "    .colab-df-convert {\n",
              "      background-color: #E8F0FE;\n",
              "      border: none;\n",
              "      border-radius: 50%;\n",
              "      cursor: pointer;\n",
              "      display: none;\n",
              "      fill: #1967D2;\n",
              "      height: 32px;\n",
              "      padding: 0 0 0 0;\n",
              "      width: 32px;\n",
              "    }\n",
              "\n",
              "    .colab-df-convert:hover {\n",
              "      background-color: #E2EBFA;\n",
              "      box-shadow: 0px 1px 2px rgba(60, 64, 67, 0.3), 0px 1px 3px 1px rgba(60, 64, 67, 0.15);\n",
              "      fill: #174EA6;\n",
              "    }\n",
              "\n",
              "    [theme=dark] .colab-df-convert {\n",
              "      background-color: #3B4455;\n",
              "      fill: #D2E3FC;\n",
              "    }\n",
              "\n",
              "    [theme=dark] .colab-df-convert:hover {\n",
              "      background-color: #434B5C;\n",
              "      box-shadow: 0px 1px 3px 1px rgba(0, 0, 0, 0.15);\n",
              "      filter: drop-shadow(0px 1px 2px rgba(0, 0, 0, 0.3));\n",
              "      fill: #FFFFFF;\n",
              "    }\n",
              "  </style>\n",
              "\n",
              "      <script>\n",
              "        const buttonEl =\n",
              "          document.querySelector('#df-c2865be6-7eb3-47a0-8017-e4ed3b837cf8 button.colab-df-convert');\n",
              "        buttonEl.style.display =\n",
              "          google.colab.kernel.accessAllowed ? 'block' : 'none';\n",
              "\n",
              "        async function convertToInteractive(key) {\n",
              "          const element = document.querySelector('#df-c2865be6-7eb3-47a0-8017-e4ed3b837cf8');\n",
              "          const dataTable =\n",
              "            await google.colab.kernel.invokeFunction('convertToInteractive',\n",
              "                                                     [key], {});\n",
              "          if (!dataTable) return;\n",
              "\n",
              "          const docLinkHtml = 'Like what you see? Visit the ' +\n",
              "            '<a target=\"_blank\" href=https://colab.research.google.com/notebooks/data_table.ipynb>data table notebook</a>'\n",
              "            + ' to learn more about interactive tables.';\n",
              "          element.innerHTML = '';\n",
              "          dataTable['output_type'] = 'display_data';\n",
              "          await google.colab.output.renderOutput(dataTable, element);\n",
              "          const docLink = document.createElement('div');\n",
              "          docLink.innerHTML = docLinkHtml;\n",
              "          element.appendChild(docLink);\n",
              "        }\n",
              "      </script>\n",
              "    </div>\n",
              "  </div>\n",
              "  "
            ],
            "text/plain": [
              "   Antes  Depois  Dif  |Dif|\n",
              "0     39      16  -23     23\n",
              "1     25       8  -17     17\n",
              "2     24      12  -12     12\n",
              "3     50       0  -50     50\n",
              "4     13      14    1      1"
            ]
          },
          "metadata": {},
          "execution_count": 116
        }
      ],
      "source": [
        "fumo['|Dif|'] = fumo.Dif.abs()\n",
        "fumo.head()"
      ]
    },
    {
      "cell_type": "code",
      "execution_count": null,
      "metadata": {
        "id": "hwqK3Uu7otP7",
        "colab": {
          "base_uri": "https://localhost:8080/",
          "height": 206
        },
        "outputId": "306ff333-595a-46ea-9f01-9dd912470af2"
      },
      "outputs": [
        {
          "output_type": "execute_result",
          "data": {
            "text/html": [
              "\n",
              "  <div id=\"df-5fa54b70-bb97-4fea-a773-cb98bd8ced5b\">\n",
              "    <div class=\"colab-df-container\">\n",
              "      <div>\n",
              "<style scoped>\n",
              "    .dataframe tbody tr th:only-of-type {\n",
              "        vertical-align: middle;\n",
              "    }\n",
              "\n",
              "    .dataframe tbody tr th {\n",
              "        vertical-align: top;\n",
              "    }\n",
              "\n",
              "    .dataframe thead th {\n",
              "        text-align: right;\n",
              "    }\n",
              "</style>\n",
              "<table border=\"1\" class=\"dataframe\">\n",
              "  <thead>\n",
              "    <tr style=\"text-align: right;\">\n",
              "      <th></th>\n",
              "      <th>Antes</th>\n",
              "      <th>Depois</th>\n",
              "      <th>Dif</th>\n",
              "      <th>|Dif|</th>\n",
              "    </tr>\n",
              "  </thead>\n",
              "  <tbody>\n",
              "    <tr>\n",
              "      <th>4</th>\n",
              "      <td>13</td>\n",
              "      <td>14</td>\n",
              "      <td>1</td>\n",
              "      <td>1</td>\n",
              "    </tr>\n",
              "    <tr>\n",
              "      <th>20</th>\n",
              "      <td>17</td>\n",
              "      <td>16</td>\n",
              "      <td>-1</td>\n",
              "      <td>1</td>\n",
              "    </tr>\n",
              "    <tr>\n",
              "      <th>31</th>\n",
              "      <td>17</td>\n",
              "      <td>19</td>\n",
              "      <td>2</td>\n",
              "      <td>2</td>\n",
              "    </tr>\n",
              "    <tr>\n",
              "      <th>21</th>\n",
              "      <td>12</td>\n",
              "      <td>16</td>\n",
              "      <td>4</td>\n",
              "      <td>4</td>\n",
              "    </tr>\n",
              "    <tr>\n",
              "      <th>24</th>\n",
              "      <td>14</td>\n",
              "      <td>18</td>\n",
              "      <td>4</td>\n",
              "      <td>4</td>\n",
              "    </tr>\n",
              "  </tbody>\n",
              "</table>\n",
              "</div>\n",
              "      <button class=\"colab-df-convert\" onclick=\"convertToInteractive('df-5fa54b70-bb97-4fea-a773-cb98bd8ced5b')\"\n",
              "              title=\"Convert this dataframe to an interactive table.\"\n",
              "              style=\"display:none;\">\n",
              "        \n",
              "  <svg xmlns=\"http://www.w3.org/2000/svg\" height=\"24px\"viewBox=\"0 0 24 24\"\n",
              "       width=\"24px\">\n",
              "    <path d=\"M0 0h24v24H0V0z\" fill=\"none\"/>\n",
              "    <path d=\"M18.56 5.44l.94 2.06.94-2.06 2.06-.94-2.06-.94-.94-2.06-.94 2.06-2.06.94zm-11 1L8.5 8.5l.94-2.06 2.06-.94-2.06-.94L8.5 2.5l-.94 2.06-2.06.94zm10 10l.94 2.06.94-2.06 2.06-.94-2.06-.94-.94-2.06-.94 2.06-2.06.94z\"/><path d=\"M17.41 7.96l-1.37-1.37c-.4-.4-.92-.59-1.43-.59-.52 0-1.04.2-1.43.59L10.3 9.45l-7.72 7.72c-.78.78-.78 2.05 0 2.83L4 21.41c.39.39.9.59 1.41.59.51 0 1.02-.2 1.41-.59l7.78-7.78 2.81-2.81c.8-.78.8-2.07 0-2.86zM5.41 20L4 18.59l7.72-7.72 1.47 1.35L5.41 20z\"/>\n",
              "  </svg>\n",
              "      </button>\n",
              "      \n",
              "  <style>\n",
              "    .colab-df-container {\n",
              "      display:flex;\n",
              "      flex-wrap:wrap;\n",
              "      gap: 12px;\n",
              "    }\n",
              "\n",
              "    .colab-df-convert {\n",
              "      background-color: #E8F0FE;\n",
              "      border: none;\n",
              "      border-radius: 50%;\n",
              "      cursor: pointer;\n",
              "      display: none;\n",
              "      fill: #1967D2;\n",
              "      height: 32px;\n",
              "      padding: 0 0 0 0;\n",
              "      width: 32px;\n",
              "    }\n",
              "\n",
              "    .colab-df-convert:hover {\n",
              "      background-color: #E2EBFA;\n",
              "      box-shadow: 0px 1px 2px rgba(60, 64, 67, 0.3), 0px 1px 3px 1px rgba(60, 64, 67, 0.15);\n",
              "      fill: #174EA6;\n",
              "    }\n",
              "\n",
              "    [theme=dark] .colab-df-convert {\n",
              "      background-color: #3B4455;\n",
              "      fill: #D2E3FC;\n",
              "    }\n",
              "\n",
              "    [theme=dark] .colab-df-convert:hover {\n",
              "      background-color: #434B5C;\n",
              "      box-shadow: 0px 1px 3px 1px rgba(0, 0, 0, 0.15);\n",
              "      filter: drop-shadow(0px 1px 2px rgba(0, 0, 0, 0.3));\n",
              "      fill: #FFFFFF;\n",
              "    }\n",
              "  </style>\n",
              "\n",
              "      <script>\n",
              "        const buttonEl =\n",
              "          document.querySelector('#df-5fa54b70-bb97-4fea-a773-cb98bd8ced5b button.colab-df-convert');\n",
              "        buttonEl.style.display =\n",
              "          google.colab.kernel.accessAllowed ? 'block' : 'none';\n",
              "\n",
              "        async function convertToInteractive(key) {\n",
              "          const element = document.querySelector('#df-5fa54b70-bb97-4fea-a773-cb98bd8ced5b');\n",
              "          const dataTable =\n",
              "            await google.colab.kernel.invokeFunction('convertToInteractive',\n",
              "                                                     [key], {});\n",
              "          if (!dataTable) return;\n",
              "\n",
              "          const docLinkHtml = 'Like what you see? Visit the ' +\n",
              "            '<a target=\"_blank\" href=https://colab.research.google.com/notebooks/data_table.ipynb>data table notebook</a>'\n",
              "            + ' to learn more about interactive tables.';\n",
              "          element.innerHTML = '';\n",
              "          dataTable['output_type'] = 'display_data';\n",
              "          await google.colab.output.renderOutput(dataTable, element);\n",
              "          const docLink = document.createElement('div');\n",
              "          docLink.innerHTML = docLinkHtml;\n",
              "          element.appendChild(docLink);\n",
              "        }\n",
              "      </script>\n",
              "    </div>\n",
              "  </div>\n",
              "  "
            ],
            "text/plain": [
              "    Antes  Depois  Dif  |Dif|\n",
              "4      13      14    1      1\n",
              "20     17      16   -1      1\n",
              "31     17      19    2      2\n",
              "21     12      16    4      4\n",
              "24     14      18    4      4"
            ]
          },
          "metadata": {},
          "execution_count": 117
        }
      ],
      "source": [
        "fumo.sort_values(by = '|Dif|', inplace = True)\n",
        "fumo.head()"
      ]
    },
    {
      "cell_type": "code",
      "execution_count": null,
      "metadata": {
        "id": "K_JKSwLHotMx",
        "colab": {
          "base_uri": "https://localhost:8080/",
          "height": 206
        },
        "outputId": "7d07d0f0-15b5-467a-f821-6eb44e1cfa35"
      },
      "outputs": [
        {
          "output_type": "execute_result",
          "data": {
            "text/html": [
              "\n",
              "  <div id=\"df-b33f8bc3-3abb-4c24-8d32-11860c2f0eea\">\n",
              "    <div class=\"colab-df-container\">\n",
              "      <div>\n",
              "<style scoped>\n",
              "    .dataframe tbody tr th:only-of-type {\n",
              "        vertical-align: middle;\n",
              "    }\n",
              "\n",
              "    .dataframe tbody tr th {\n",
              "        vertical-align: top;\n",
              "    }\n",
              "\n",
              "    .dataframe thead th {\n",
              "        text-align: right;\n",
              "    }\n",
              "</style>\n",
              "<table border=\"1\" class=\"dataframe\">\n",
              "  <thead>\n",
              "    <tr style=\"text-align: right;\">\n",
              "      <th></th>\n",
              "      <th>Antes</th>\n",
              "      <th>Depois</th>\n",
              "      <th>Dif</th>\n",
              "      <th>|Dif|</th>\n",
              "      <th>Posto</th>\n",
              "    </tr>\n",
              "  </thead>\n",
              "  <tbody>\n",
              "    <tr>\n",
              "      <th>4</th>\n",
              "      <td>13</td>\n",
              "      <td>14</td>\n",
              "      <td>1</td>\n",
              "      <td>1</td>\n",
              "      <td>1</td>\n",
              "    </tr>\n",
              "    <tr>\n",
              "      <th>20</th>\n",
              "      <td>17</td>\n",
              "      <td>16</td>\n",
              "      <td>-1</td>\n",
              "      <td>1</td>\n",
              "      <td>2</td>\n",
              "    </tr>\n",
              "    <tr>\n",
              "      <th>31</th>\n",
              "      <td>17</td>\n",
              "      <td>19</td>\n",
              "      <td>2</td>\n",
              "      <td>2</td>\n",
              "      <td>3</td>\n",
              "    </tr>\n",
              "    <tr>\n",
              "      <th>21</th>\n",
              "      <td>12</td>\n",
              "      <td>16</td>\n",
              "      <td>4</td>\n",
              "      <td>4</td>\n",
              "      <td>4</td>\n",
              "    </tr>\n",
              "    <tr>\n",
              "      <th>24</th>\n",
              "      <td>14</td>\n",
              "      <td>18</td>\n",
              "      <td>4</td>\n",
              "      <td>4</td>\n",
              "      <td>5</td>\n",
              "    </tr>\n",
              "  </tbody>\n",
              "</table>\n",
              "</div>\n",
              "      <button class=\"colab-df-convert\" onclick=\"convertToInteractive('df-b33f8bc3-3abb-4c24-8d32-11860c2f0eea')\"\n",
              "              title=\"Convert this dataframe to an interactive table.\"\n",
              "              style=\"display:none;\">\n",
              "        \n",
              "  <svg xmlns=\"http://www.w3.org/2000/svg\" height=\"24px\"viewBox=\"0 0 24 24\"\n",
              "       width=\"24px\">\n",
              "    <path d=\"M0 0h24v24H0V0z\" fill=\"none\"/>\n",
              "    <path d=\"M18.56 5.44l.94 2.06.94-2.06 2.06-.94-2.06-.94-.94-2.06-.94 2.06-2.06.94zm-11 1L8.5 8.5l.94-2.06 2.06-.94-2.06-.94L8.5 2.5l-.94 2.06-2.06.94zm10 10l.94 2.06.94-2.06 2.06-.94-2.06-.94-.94-2.06-.94 2.06-2.06.94z\"/><path d=\"M17.41 7.96l-1.37-1.37c-.4-.4-.92-.59-1.43-.59-.52 0-1.04.2-1.43.59L10.3 9.45l-7.72 7.72c-.78.78-.78 2.05 0 2.83L4 21.41c.39.39.9.59 1.41.59.51 0 1.02-.2 1.41-.59l7.78-7.78 2.81-2.81c.8-.78.8-2.07 0-2.86zM5.41 20L4 18.59l7.72-7.72 1.47 1.35L5.41 20z\"/>\n",
              "  </svg>\n",
              "      </button>\n",
              "      \n",
              "  <style>\n",
              "    .colab-df-container {\n",
              "      display:flex;\n",
              "      flex-wrap:wrap;\n",
              "      gap: 12px;\n",
              "    }\n",
              "\n",
              "    .colab-df-convert {\n",
              "      background-color: #E8F0FE;\n",
              "      border: none;\n",
              "      border-radius: 50%;\n",
              "      cursor: pointer;\n",
              "      display: none;\n",
              "      fill: #1967D2;\n",
              "      height: 32px;\n",
              "      padding: 0 0 0 0;\n",
              "      width: 32px;\n",
              "    }\n",
              "\n",
              "    .colab-df-convert:hover {\n",
              "      background-color: #E2EBFA;\n",
              "      box-shadow: 0px 1px 2px rgba(60, 64, 67, 0.3), 0px 1px 3px 1px rgba(60, 64, 67, 0.15);\n",
              "      fill: #174EA6;\n",
              "    }\n",
              "\n",
              "    [theme=dark] .colab-df-convert {\n",
              "      background-color: #3B4455;\n",
              "      fill: #D2E3FC;\n",
              "    }\n",
              "\n",
              "    [theme=dark] .colab-df-convert:hover {\n",
              "      background-color: #434B5C;\n",
              "      box-shadow: 0px 1px 3px 1px rgba(0, 0, 0, 0.15);\n",
              "      filter: drop-shadow(0px 1px 2px rgba(0, 0, 0, 0.3));\n",
              "      fill: #FFFFFF;\n",
              "    }\n",
              "  </style>\n",
              "\n",
              "      <script>\n",
              "        const buttonEl =\n",
              "          document.querySelector('#df-b33f8bc3-3abb-4c24-8d32-11860c2f0eea button.colab-df-convert');\n",
              "        buttonEl.style.display =\n",
              "          google.colab.kernel.accessAllowed ? 'block' : 'none';\n",
              "\n",
              "        async function convertToInteractive(key) {\n",
              "          const element = document.querySelector('#df-b33f8bc3-3abb-4c24-8d32-11860c2f0eea');\n",
              "          const dataTable =\n",
              "            await google.colab.kernel.invokeFunction('convertToInteractive',\n",
              "                                                     [key], {});\n",
              "          if (!dataTable) return;\n",
              "\n",
              "          const docLinkHtml = 'Like what you see? Visit the ' +\n",
              "            '<a target=\"_blank\" href=https://colab.research.google.com/notebooks/data_table.ipynb>data table notebook</a>'\n",
              "            + ' to learn more about interactive tables.';\n",
              "          element.innerHTML = '';\n",
              "          dataTable['output_type'] = 'display_data';\n",
              "          await google.colab.output.renderOutput(dataTable, element);\n",
              "          const docLink = document.createElement('div');\n",
              "          docLink.innerHTML = docLinkHtml;\n",
              "          element.appendChild(docLink);\n",
              "        }\n",
              "      </script>\n",
              "    </div>\n",
              "  </div>\n",
              "  "
            ],
            "text/plain": [
              "    Antes  Depois  Dif  |Dif|  Posto\n",
              "4      13      14    1      1      1\n",
              "20     17      16   -1      1      2\n",
              "31     17      19    2      2      3\n",
              "21     12      16    4      4      4\n",
              "24     14      18    4      4      5"
            ]
          },
          "metadata": {},
          "execution_count": 118
        }
      ],
      "source": [
        "fumo['Posto'] = range(1, len(fumo) + 1)\n",
        "fumo.head()"
      ]
    },
    {
      "cell_type": "code",
      "execution_count": null,
      "metadata": {
        "id": "h8TXHLh1otJh",
        "colab": {
          "base_uri": "https://localhost:8080/",
          "height": 238
        },
        "outputId": "afb5b8f7-f621-4d23-81dc-30fc61c2787f"
      },
      "outputs": [
        {
          "output_type": "execute_result",
          "data": {
            "text/html": [
              "\n",
              "  <div id=\"df-5e20e324-45cb-4ead-aa1c-070fde731616\">\n",
              "    <div class=\"colab-df-container\">\n",
              "      <div>\n",
              "<style scoped>\n",
              "    .dataframe tbody tr th:only-of-type {\n",
              "        vertical-align: middle;\n",
              "    }\n",
              "\n",
              "    .dataframe tbody tr th {\n",
              "        vertical-align: top;\n",
              "    }\n",
              "\n",
              "    .dataframe thead th {\n",
              "        text-align: right;\n",
              "    }\n",
              "</style>\n",
              "<table border=\"1\" class=\"dataframe\">\n",
              "  <thead>\n",
              "    <tr style=\"text-align: right;\">\n",
              "      <th></th>\n",
              "      <th>Posto</th>\n",
              "    </tr>\n",
              "    <tr>\n",
              "      <th>|Dif|</th>\n",
              "      <th></th>\n",
              "    </tr>\n",
              "  </thead>\n",
              "  <tbody>\n",
              "    <tr>\n",
              "      <th>1</th>\n",
              "      <td>1.5</td>\n",
              "    </tr>\n",
              "    <tr>\n",
              "      <th>2</th>\n",
              "      <td>3.0</td>\n",
              "    </tr>\n",
              "    <tr>\n",
              "      <th>4</th>\n",
              "      <td>4.5</td>\n",
              "    </tr>\n",
              "    <tr>\n",
              "      <th>5</th>\n",
              "      <td>6.0</td>\n",
              "    </tr>\n",
              "    <tr>\n",
              "      <th>8</th>\n",
              "      <td>7.0</td>\n",
              "    </tr>\n",
              "  </tbody>\n",
              "</table>\n",
              "</div>\n",
              "      <button class=\"colab-df-convert\" onclick=\"convertToInteractive('df-5e20e324-45cb-4ead-aa1c-070fde731616')\"\n",
              "              title=\"Convert this dataframe to an interactive table.\"\n",
              "              style=\"display:none;\">\n",
              "        \n",
              "  <svg xmlns=\"http://www.w3.org/2000/svg\" height=\"24px\"viewBox=\"0 0 24 24\"\n",
              "       width=\"24px\">\n",
              "    <path d=\"M0 0h24v24H0V0z\" fill=\"none\"/>\n",
              "    <path d=\"M18.56 5.44l.94 2.06.94-2.06 2.06-.94-2.06-.94-.94-2.06-.94 2.06-2.06.94zm-11 1L8.5 8.5l.94-2.06 2.06-.94-2.06-.94L8.5 2.5l-.94 2.06-2.06.94zm10 10l.94 2.06.94-2.06 2.06-.94-2.06-.94-.94-2.06-.94 2.06-2.06.94z\"/><path d=\"M17.41 7.96l-1.37-1.37c-.4-.4-.92-.59-1.43-.59-.52 0-1.04.2-1.43.59L10.3 9.45l-7.72 7.72c-.78.78-.78 2.05 0 2.83L4 21.41c.39.39.9.59 1.41.59.51 0 1.02-.2 1.41-.59l7.78-7.78 2.81-2.81c.8-.78.8-2.07 0-2.86zM5.41 20L4 18.59l7.72-7.72 1.47 1.35L5.41 20z\"/>\n",
              "  </svg>\n",
              "      </button>\n",
              "      \n",
              "  <style>\n",
              "    .colab-df-container {\n",
              "      display:flex;\n",
              "      flex-wrap:wrap;\n",
              "      gap: 12px;\n",
              "    }\n",
              "\n",
              "    .colab-df-convert {\n",
              "      background-color: #E8F0FE;\n",
              "      border: none;\n",
              "      border-radius: 50%;\n",
              "      cursor: pointer;\n",
              "      display: none;\n",
              "      fill: #1967D2;\n",
              "      height: 32px;\n",
              "      padding: 0 0 0 0;\n",
              "      width: 32px;\n",
              "    }\n",
              "\n",
              "    .colab-df-convert:hover {\n",
              "      background-color: #E2EBFA;\n",
              "      box-shadow: 0px 1px 2px rgba(60, 64, 67, 0.3), 0px 1px 3px 1px rgba(60, 64, 67, 0.15);\n",
              "      fill: #174EA6;\n",
              "    }\n",
              "\n",
              "    [theme=dark] .colab-df-convert {\n",
              "      background-color: #3B4455;\n",
              "      fill: #D2E3FC;\n",
              "    }\n",
              "\n",
              "    [theme=dark] .colab-df-convert:hover {\n",
              "      background-color: #434B5C;\n",
              "      box-shadow: 0px 1px 3px 1px rgba(0, 0, 0, 0.15);\n",
              "      filter: drop-shadow(0px 1px 2px rgba(0, 0, 0, 0.3));\n",
              "      fill: #FFFFFF;\n",
              "    }\n",
              "  </style>\n",
              "\n",
              "      <script>\n",
              "        const buttonEl =\n",
              "          document.querySelector('#df-5e20e324-45cb-4ead-aa1c-070fde731616 button.colab-df-convert');\n",
              "        buttonEl.style.display =\n",
              "          google.colab.kernel.accessAllowed ? 'block' : 'none';\n",
              "\n",
              "        async function convertToInteractive(key) {\n",
              "          const element = document.querySelector('#df-5e20e324-45cb-4ead-aa1c-070fde731616');\n",
              "          const dataTable =\n",
              "            await google.colab.kernel.invokeFunction('convertToInteractive',\n",
              "                                                     [key], {});\n",
              "          if (!dataTable) return;\n",
              "\n",
              "          const docLinkHtml = 'Like what you see? Visit the ' +\n",
              "            '<a target=\"_blank\" href=https://colab.research.google.com/notebooks/data_table.ipynb>data table notebook</a>'\n",
              "            + ' to learn more about interactive tables.';\n",
              "          element.innerHTML = '';\n",
              "          dataTable['output_type'] = 'display_data';\n",
              "          await google.colab.output.renderOutput(dataTable, element);\n",
              "          const docLink = document.createElement('div');\n",
              "          docLink.innerHTML = docLinkHtml;\n",
              "          element.appendChild(docLink);\n",
              "        }\n",
              "      </script>\n",
              "    </div>\n",
              "  </div>\n",
              "  "
            ],
            "text/plain": [
              "       Posto\n",
              "|Dif|       \n",
              "1        1.5\n",
              "2        3.0\n",
              "4        4.5\n",
              "5        6.0\n",
              "8        7.0"
            ]
          },
          "metadata": {},
          "execution_count": 119
        }
      ],
      "source": [
        "posto = fumo[['|Dif|', 'Posto']].groupby(['|Dif|']).mean()\n",
        "posto.head()"
      ]
    },
    {
      "cell_type": "code",
      "execution_count": null,
      "metadata": {
        "id": "fjX9_aRIotGD",
        "colab": {
          "base_uri": "https://localhost:8080/",
          "height": 206
        },
        "outputId": "301acdc5-b797-4887-81b3-b8654996ce8d"
      },
      "outputs": [
        {
          "output_type": "execute_result",
          "data": {
            "text/html": [
              "\n",
              "  <div id=\"df-632d1ea1-f15d-42df-8162-db0c1e03c35b\">\n",
              "    <div class=\"colab-df-container\">\n",
              "      <div>\n",
              "<style scoped>\n",
              "    .dataframe tbody tr th:only-of-type {\n",
              "        vertical-align: middle;\n",
              "    }\n",
              "\n",
              "    .dataframe tbody tr th {\n",
              "        vertical-align: top;\n",
              "    }\n",
              "\n",
              "    .dataframe thead th {\n",
              "        text-align: right;\n",
              "    }\n",
              "</style>\n",
              "<table border=\"1\" class=\"dataframe\">\n",
              "  <thead>\n",
              "    <tr style=\"text-align: right;\">\n",
              "      <th></th>\n",
              "      <th>|Dif|</th>\n",
              "      <th>Posto</th>\n",
              "    </tr>\n",
              "  </thead>\n",
              "  <tbody>\n",
              "    <tr>\n",
              "      <th>0</th>\n",
              "      <td>1</td>\n",
              "      <td>1.5</td>\n",
              "    </tr>\n",
              "    <tr>\n",
              "      <th>1</th>\n",
              "      <td>2</td>\n",
              "      <td>3.0</td>\n",
              "    </tr>\n",
              "    <tr>\n",
              "      <th>2</th>\n",
              "      <td>4</td>\n",
              "      <td>4.5</td>\n",
              "    </tr>\n",
              "    <tr>\n",
              "      <th>3</th>\n",
              "      <td>5</td>\n",
              "      <td>6.0</td>\n",
              "    </tr>\n",
              "    <tr>\n",
              "      <th>4</th>\n",
              "      <td>8</td>\n",
              "      <td>7.0</td>\n",
              "    </tr>\n",
              "  </tbody>\n",
              "</table>\n",
              "</div>\n",
              "      <button class=\"colab-df-convert\" onclick=\"convertToInteractive('df-632d1ea1-f15d-42df-8162-db0c1e03c35b')\"\n",
              "              title=\"Convert this dataframe to an interactive table.\"\n",
              "              style=\"display:none;\">\n",
              "        \n",
              "  <svg xmlns=\"http://www.w3.org/2000/svg\" height=\"24px\"viewBox=\"0 0 24 24\"\n",
              "       width=\"24px\">\n",
              "    <path d=\"M0 0h24v24H0V0z\" fill=\"none\"/>\n",
              "    <path d=\"M18.56 5.44l.94 2.06.94-2.06 2.06-.94-2.06-.94-.94-2.06-.94 2.06-2.06.94zm-11 1L8.5 8.5l.94-2.06 2.06-.94-2.06-.94L8.5 2.5l-.94 2.06-2.06.94zm10 10l.94 2.06.94-2.06 2.06-.94-2.06-.94-.94-2.06-.94 2.06-2.06.94z\"/><path d=\"M17.41 7.96l-1.37-1.37c-.4-.4-.92-.59-1.43-.59-.52 0-1.04.2-1.43.59L10.3 9.45l-7.72 7.72c-.78.78-.78 2.05 0 2.83L4 21.41c.39.39.9.59 1.41.59.51 0 1.02-.2 1.41-.59l7.78-7.78 2.81-2.81c.8-.78.8-2.07 0-2.86zM5.41 20L4 18.59l7.72-7.72 1.47 1.35L5.41 20z\"/>\n",
              "  </svg>\n",
              "      </button>\n",
              "      \n",
              "  <style>\n",
              "    .colab-df-container {\n",
              "      display:flex;\n",
              "      flex-wrap:wrap;\n",
              "      gap: 12px;\n",
              "    }\n",
              "\n",
              "    .colab-df-convert {\n",
              "      background-color: #E8F0FE;\n",
              "      border: none;\n",
              "      border-radius: 50%;\n",
              "      cursor: pointer;\n",
              "      display: none;\n",
              "      fill: #1967D2;\n",
              "      height: 32px;\n",
              "      padding: 0 0 0 0;\n",
              "      width: 32px;\n",
              "    }\n",
              "\n",
              "    .colab-df-convert:hover {\n",
              "      background-color: #E2EBFA;\n",
              "      box-shadow: 0px 1px 2px rgba(60, 64, 67, 0.3), 0px 1px 3px 1px rgba(60, 64, 67, 0.15);\n",
              "      fill: #174EA6;\n",
              "    }\n",
              "\n",
              "    [theme=dark] .colab-df-convert {\n",
              "      background-color: #3B4455;\n",
              "      fill: #D2E3FC;\n",
              "    }\n",
              "\n",
              "    [theme=dark] .colab-df-convert:hover {\n",
              "      background-color: #434B5C;\n",
              "      box-shadow: 0px 1px 3px 1px rgba(0, 0, 0, 0.15);\n",
              "      filter: drop-shadow(0px 1px 2px rgba(0, 0, 0, 0.3));\n",
              "      fill: #FFFFFF;\n",
              "    }\n",
              "  </style>\n",
              "\n",
              "      <script>\n",
              "        const buttonEl =\n",
              "          document.querySelector('#df-632d1ea1-f15d-42df-8162-db0c1e03c35b button.colab-df-convert');\n",
              "        buttonEl.style.display =\n",
              "          google.colab.kernel.accessAllowed ? 'block' : 'none';\n",
              "\n",
              "        async function convertToInteractive(key) {\n",
              "          const element = document.querySelector('#df-632d1ea1-f15d-42df-8162-db0c1e03c35b');\n",
              "          const dataTable =\n",
              "            await google.colab.kernel.invokeFunction('convertToInteractive',\n",
              "                                                     [key], {});\n",
              "          if (!dataTable) return;\n",
              "\n",
              "          const docLinkHtml = 'Like what you see? Visit the ' +\n",
              "            '<a target=\"_blank\" href=https://colab.research.google.com/notebooks/data_table.ipynb>data table notebook</a>'\n",
              "            + ' to learn more about interactive tables.';\n",
              "          element.innerHTML = '';\n",
              "          dataTable['output_type'] = 'display_data';\n",
              "          await google.colab.output.renderOutput(dataTable, element);\n",
              "          const docLink = document.createElement('div');\n",
              "          docLink.innerHTML = docLinkHtml;\n",
              "          element.appendChild(docLink);\n",
              "        }\n",
              "      </script>\n",
              "    </div>\n",
              "  </div>\n",
              "  "
            ],
            "text/plain": [
              "   |Dif|  Posto\n",
              "0      1    1.5\n",
              "1      2    3.0\n",
              "2      4    4.5\n",
              "3      5    6.0\n",
              "4      8    7.0"
            ]
          },
          "metadata": {},
          "execution_count": 120
        }
      ],
      "source": [
        "posto.reset_index(inplace = True)\n",
        "posto.head()"
      ]
    },
    {
      "cell_type": "code",
      "execution_count": null,
      "metadata": {
        "id": "uk79v15dotCn",
        "colab": {
          "base_uri": "https://localhost:8080/",
          "height": 206
        },
        "outputId": "872ecbd6-07f9-4445-cb06-a79112bc3f87"
      },
      "outputs": [
        {
          "output_type": "execute_result",
          "data": {
            "text/html": [
              "\n",
              "  <div id=\"df-cc4a571e-3802-4f22-9dc6-403a8e26d6a1\">\n",
              "    <div class=\"colab-df-container\">\n",
              "      <div>\n",
              "<style scoped>\n",
              "    .dataframe tbody tr th:only-of-type {\n",
              "        vertical-align: middle;\n",
              "    }\n",
              "\n",
              "    .dataframe tbody tr th {\n",
              "        vertical-align: top;\n",
              "    }\n",
              "\n",
              "    .dataframe thead th {\n",
              "        text-align: right;\n",
              "    }\n",
              "</style>\n",
              "<table border=\"1\" class=\"dataframe\">\n",
              "  <thead>\n",
              "    <tr style=\"text-align: right;\">\n",
              "      <th></th>\n",
              "      <th>Antes</th>\n",
              "      <th>Depois</th>\n",
              "      <th>Dif</th>\n",
              "      <th>|Dif|</th>\n",
              "    </tr>\n",
              "  </thead>\n",
              "  <tbody>\n",
              "    <tr>\n",
              "      <th>4</th>\n",
              "      <td>13</td>\n",
              "      <td>14</td>\n",
              "      <td>1</td>\n",
              "      <td>1</td>\n",
              "    </tr>\n",
              "    <tr>\n",
              "      <th>20</th>\n",
              "      <td>17</td>\n",
              "      <td>16</td>\n",
              "      <td>-1</td>\n",
              "      <td>1</td>\n",
              "    </tr>\n",
              "    <tr>\n",
              "      <th>31</th>\n",
              "      <td>17</td>\n",
              "      <td>19</td>\n",
              "      <td>2</td>\n",
              "      <td>2</td>\n",
              "    </tr>\n",
              "    <tr>\n",
              "      <th>21</th>\n",
              "      <td>12</td>\n",
              "      <td>16</td>\n",
              "      <td>4</td>\n",
              "      <td>4</td>\n",
              "    </tr>\n",
              "    <tr>\n",
              "      <th>24</th>\n",
              "      <td>14</td>\n",
              "      <td>18</td>\n",
              "      <td>4</td>\n",
              "      <td>4</td>\n",
              "    </tr>\n",
              "  </tbody>\n",
              "</table>\n",
              "</div>\n",
              "      <button class=\"colab-df-convert\" onclick=\"convertToInteractive('df-cc4a571e-3802-4f22-9dc6-403a8e26d6a1')\"\n",
              "              title=\"Convert this dataframe to an interactive table.\"\n",
              "              style=\"display:none;\">\n",
              "        \n",
              "  <svg xmlns=\"http://www.w3.org/2000/svg\" height=\"24px\"viewBox=\"0 0 24 24\"\n",
              "       width=\"24px\">\n",
              "    <path d=\"M0 0h24v24H0V0z\" fill=\"none\"/>\n",
              "    <path d=\"M18.56 5.44l.94 2.06.94-2.06 2.06-.94-2.06-.94-.94-2.06-.94 2.06-2.06.94zm-11 1L8.5 8.5l.94-2.06 2.06-.94-2.06-.94L8.5 2.5l-.94 2.06-2.06.94zm10 10l.94 2.06.94-2.06 2.06-.94-2.06-.94-.94-2.06-.94 2.06-2.06.94z\"/><path d=\"M17.41 7.96l-1.37-1.37c-.4-.4-.92-.59-1.43-.59-.52 0-1.04.2-1.43.59L10.3 9.45l-7.72 7.72c-.78.78-.78 2.05 0 2.83L4 21.41c.39.39.9.59 1.41.59.51 0 1.02-.2 1.41-.59l7.78-7.78 2.81-2.81c.8-.78.8-2.07 0-2.86zM5.41 20L4 18.59l7.72-7.72 1.47 1.35L5.41 20z\"/>\n",
              "  </svg>\n",
              "      </button>\n",
              "      \n",
              "  <style>\n",
              "    .colab-df-container {\n",
              "      display:flex;\n",
              "      flex-wrap:wrap;\n",
              "      gap: 12px;\n",
              "    }\n",
              "\n",
              "    .colab-df-convert {\n",
              "      background-color: #E8F0FE;\n",
              "      border: none;\n",
              "      border-radius: 50%;\n",
              "      cursor: pointer;\n",
              "      display: none;\n",
              "      fill: #1967D2;\n",
              "      height: 32px;\n",
              "      padding: 0 0 0 0;\n",
              "      width: 32px;\n",
              "    }\n",
              "\n",
              "    .colab-df-convert:hover {\n",
              "      background-color: #E2EBFA;\n",
              "      box-shadow: 0px 1px 2px rgba(60, 64, 67, 0.3), 0px 1px 3px 1px rgba(60, 64, 67, 0.15);\n",
              "      fill: #174EA6;\n",
              "    }\n",
              "\n",
              "    [theme=dark] .colab-df-convert {\n",
              "      background-color: #3B4455;\n",
              "      fill: #D2E3FC;\n",
              "    }\n",
              "\n",
              "    [theme=dark] .colab-df-convert:hover {\n",
              "      background-color: #434B5C;\n",
              "      box-shadow: 0px 1px 3px 1px rgba(0, 0, 0, 0.15);\n",
              "      filter: drop-shadow(0px 1px 2px rgba(0, 0, 0, 0.3));\n",
              "      fill: #FFFFFF;\n",
              "    }\n",
              "  </style>\n",
              "\n",
              "      <script>\n",
              "        const buttonEl =\n",
              "          document.querySelector('#df-cc4a571e-3802-4f22-9dc6-403a8e26d6a1 button.colab-df-convert');\n",
              "        buttonEl.style.display =\n",
              "          google.colab.kernel.accessAllowed ? 'block' : 'none';\n",
              "\n",
              "        async function convertToInteractive(key) {\n",
              "          const element = document.querySelector('#df-cc4a571e-3802-4f22-9dc6-403a8e26d6a1');\n",
              "          const dataTable =\n",
              "            await google.colab.kernel.invokeFunction('convertToInteractive',\n",
              "                                                     [key], {});\n",
              "          if (!dataTable) return;\n",
              "\n",
              "          const docLinkHtml = 'Like what you see? Visit the ' +\n",
              "            '<a target=\"_blank\" href=https://colab.research.google.com/notebooks/data_table.ipynb>data table notebook</a>'\n",
              "            + ' to learn more about interactive tables.';\n",
              "          element.innerHTML = '';\n",
              "          dataTable['output_type'] = 'display_data';\n",
              "          await google.colab.output.renderOutput(dataTable, element);\n",
              "          const docLink = document.createElement('div');\n",
              "          docLink.innerHTML = docLinkHtml;\n",
              "          element.appendChild(docLink);\n",
              "        }\n",
              "      </script>\n",
              "    </div>\n",
              "  </div>\n",
              "  "
            ],
            "text/plain": [
              "    Antes  Depois  Dif  |Dif|\n",
              "4      13      14    1      1\n",
              "20     17      16   -1      1\n",
              "31     17      19    2      2\n",
              "21     12      16    4      4\n",
              "24     14      18    4      4"
            ]
          },
          "metadata": {},
          "execution_count": 121
        }
      ],
      "source": [
        "fumo.drop(['Posto'], axis = 1, inplace = True)\n",
        "fumo.head()"
      ]
    },
    {
      "cell_type": "code",
      "execution_count": null,
      "metadata": {
        "id": "qCdc7pGgos_T",
        "colab": {
          "base_uri": "https://localhost:8080/",
          "height": 206
        },
        "outputId": "73c73c74-2465-4bb1-d335-720efdfba6c7"
      },
      "outputs": [
        {
          "output_type": "execute_result",
          "data": {
            "text/html": [
              "\n",
              "  <div id=\"df-323ff5e6-fb24-4a57-baa6-408fc29346f2\">\n",
              "    <div class=\"colab-df-container\">\n",
              "      <div>\n",
              "<style scoped>\n",
              "    .dataframe tbody tr th:only-of-type {\n",
              "        vertical-align: middle;\n",
              "    }\n",
              "\n",
              "    .dataframe tbody tr th {\n",
              "        vertical-align: top;\n",
              "    }\n",
              "\n",
              "    .dataframe thead th {\n",
              "        text-align: right;\n",
              "    }\n",
              "</style>\n",
              "<table border=\"1\" class=\"dataframe\">\n",
              "  <thead>\n",
              "    <tr style=\"text-align: right;\">\n",
              "      <th></th>\n",
              "      <th>Antes</th>\n",
              "      <th>Depois</th>\n",
              "      <th>Dif</th>\n",
              "      <th>|Dif|</th>\n",
              "      <th>Posto</th>\n",
              "    </tr>\n",
              "  </thead>\n",
              "  <tbody>\n",
              "    <tr>\n",
              "      <th>0</th>\n",
              "      <td>13</td>\n",
              "      <td>14</td>\n",
              "      <td>1</td>\n",
              "      <td>1</td>\n",
              "      <td>1.5</td>\n",
              "    </tr>\n",
              "    <tr>\n",
              "      <th>1</th>\n",
              "      <td>17</td>\n",
              "      <td>16</td>\n",
              "      <td>-1</td>\n",
              "      <td>1</td>\n",
              "      <td>1.5</td>\n",
              "    </tr>\n",
              "    <tr>\n",
              "      <th>2</th>\n",
              "      <td>17</td>\n",
              "      <td>19</td>\n",
              "      <td>2</td>\n",
              "      <td>2</td>\n",
              "      <td>3.0</td>\n",
              "    </tr>\n",
              "    <tr>\n",
              "      <th>3</th>\n",
              "      <td>12</td>\n",
              "      <td>16</td>\n",
              "      <td>4</td>\n",
              "      <td>4</td>\n",
              "      <td>4.5</td>\n",
              "    </tr>\n",
              "    <tr>\n",
              "      <th>4</th>\n",
              "      <td>14</td>\n",
              "      <td>18</td>\n",
              "      <td>4</td>\n",
              "      <td>4</td>\n",
              "      <td>4.5</td>\n",
              "    </tr>\n",
              "  </tbody>\n",
              "</table>\n",
              "</div>\n",
              "      <button class=\"colab-df-convert\" onclick=\"convertToInteractive('df-323ff5e6-fb24-4a57-baa6-408fc29346f2')\"\n",
              "              title=\"Convert this dataframe to an interactive table.\"\n",
              "              style=\"display:none;\">\n",
              "        \n",
              "  <svg xmlns=\"http://www.w3.org/2000/svg\" height=\"24px\"viewBox=\"0 0 24 24\"\n",
              "       width=\"24px\">\n",
              "    <path d=\"M0 0h24v24H0V0z\" fill=\"none\"/>\n",
              "    <path d=\"M18.56 5.44l.94 2.06.94-2.06 2.06-.94-2.06-.94-.94-2.06-.94 2.06-2.06.94zm-11 1L8.5 8.5l.94-2.06 2.06-.94-2.06-.94L8.5 2.5l-.94 2.06-2.06.94zm10 10l.94 2.06.94-2.06 2.06-.94-2.06-.94-.94-2.06-.94 2.06-2.06.94z\"/><path d=\"M17.41 7.96l-1.37-1.37c-.4-.4-.92-.59-1.43-.59-.52 0-1.04.2-1.43.59L10.3 9.45l-7.72 7.72c-.78.78-.78 2.05 0 2.83L4 21.41c.39.39.9.59 1.41.59.51 0 1.02-.2 1.41-.59l7.78-7.78 2.81-2.81c.8-.78.8-2.07 0-2.86zM5.41 20L4 18.59l7.72-7.72 1.47 1.35L5.41 20z\"/>\n",
              "  </svg>\n",
              "      </button>\n",
              "      \n",
              "  <style>\n",
              "    .colab-df-container {\n",
              "      display:flex;\n",
              "      flex-wrap:wrap;\n",
              "      gap: 12px;\n",
              "    }\n",
              "\n",
              "    .colab-df-convert {\n",
              "      background-color: #E8F0FE;\n",
              "      border: none;\n",
              "      border-radius: 50%;\n",
              "      cursor: pointer;\n",
              "      display: none;\n",
              "      fill: #1967D2;\n",
              "      height: 32px;\n",
              "      padding: 0 0 0 0;\n",
              "      width: 32px;\n",
              "    }\n",
              "\n",
              "    .colab-df-convert:hover {\n",
              "      background-color: #E2EBFA;\n",
              "      box-shadow: 0px 1px 2px rgba(60, 64, 67, 0.3), 0px 1px 3px 1px rgba(60, 64, 67, 0.15);\n",
              "      fill: #174EA6;\n",
              "    }\n",
              "\n",
              "    [theme=dark] .colab-df-convert {\n",
              "      background-color: #3B4455;\n",
              "      fill: #D2E3FC;\n",
              "    }\n",
              "\n",
              "    [theme=dark] .colab-df-convert:hover {\n",
              "      background-color: #434B5C;\n",
              "      box-shadow: 0px 1px 3px 1px rgba(0, 0, 0, 0.15);\n",
              "      filter: drop-shadow(0px 1px 2px rgba(0, 0, 0, 0.3));\n",
              "      fill: #FFFFFF;\n",
              "    }\n",
              "  </style>\n",
              "\n",
              "      <script>\n",
              "        const buttonEl =\n",
              "          document.querySelector('#df-323ff5e6-fb24-4a57-baa6-408fc29346f2 button.colab-df-convert');\n",
              "        buttonEl.style.display =\n",
              "          google.colab.kernel.accessAllowed ? 'block' : 'none';\n",
              "\n",
              "        async function convertToInteractive(key) {\n",
              "          const element = document.querySelector('#df-323ff5e6-fb24-4a57-baa6-408fc29346f2');\n",
              "          const dataTable =\n",
              "            await google.colab.kernel.invokeFunction('convertToInteractive',\n",
              "                                                     [key], {});\n",
              "          if (!dataTable) return;\n",
              "\n",
              "          const docLinkHtml = 'Like what you see? Visit the ' +\n",
              "            '<a target=\"_blank\" href=https://colab.research.google.com/notebooks/data_table.ipynb>data table notebook</a>'\n",
              "            + ' to learn more about interactive tables.';\n",
              "          element.innerHTML = '';\n",
              "          dataTable['output_type'] = 'display_data';\n",
              "          await google.colab.output.renderOutput(dataTable, element);\n",
              "          const docLink = document.createElement('div');\n",
              "          docLink.innerHTML = docLinkHtml;\n",
              "          element.appendChild(docLink);\n",
              "        }\n",
              "      </script>\n",
              "    </div>\n",
              "  </div>\n",
              "  "
            ],
            "text/plain": [
              "   Antes  Depois  Dif  |Dif|  Posto\n",
              "0     13      14    1      1    1.5\n",
              "1     17      16   -1      1    1.5\n",
              "2     17      19    2      2    3.0\n",
              "3     12      16    4      4    4.5\n",
              "4     14      18    4      4    4.5"
            ]
          },
          "metadata": {},
          "execution_count": 122
        }
      ],
      "source": [
        "fumo = fumo.merge(posto, left_on = '|Dif|', right_on = '|Dif|', how = 'left')\n",
        "fumo.head()"
      ]
    },
    {
      "cell_type": "code",
      "execution_count": null,
      "metadata": {
        "id": "R2Nyk4E_os77",
        "colab": {
          "base_uri": "https://localhost:8080/",
          "height": 206
        },
        "outputId": "fa77b987-d4f5-442e-81f0-e71ba77c8380"
      },
      "outputs": [
        {
          "output_type": "execute_result",
          "data": {
            "text/html": [
              "\n",
              "  <div id=\"df-a5214ea8-a5ec-4a23-9072-5d1d4b5529b6\">\n",
              "    <div class=\"colab-df-container\">\n",
              "      <div>\n",
              "<style scoped>\n",
              "    .dataframe tbody tr th:only-of-type {\n",
              "        vertical-align: middle;\n",
              "    }\n",
              "\n",
              "    .dataframe tbody tr th {\n",
              "        vertical-align: top;\n",
              "    }\n",
              "\n",
              "    .dataframe thead th {\n",
              "        text-align: right;\n",
              "    }\n",
              "</style>\n",
              "<table border=\"1\" class=\"dataframe\">\n",
              "  <thead>\n",
              "    <tr style=\"text-align: right;\">\n",
              "      <th></th>\n",
              "      <th>Antes</th>\n",
              "      <th>Depois</th>\n",
              "      <th>Dif</th>\n",
              "      <th>|Dif|</th>\n",
              "      <th>Posto</th>\n",
              "      <th>Posto (+)</th>\n",
              "    </tr>\n",
              "  </thead>\n",
              "  <tbody>\n",
              "    <tr>\n",
              "      <th>0</th>\n",
              "      <td>13</td>\n",
              "      <td>14</td>\n",
              "      <td>1</td>\n",
              "      <td>1</td>\n",
              "      <td>1.5</td>\n",
              "      <td>1.5</td>\n",
              "    </tr>\n",
              "    <tr>\n",
              "      <th>1</th>\n",
              "      <td>17</td>\n",
              "      <td>16</td>\n",
              "      <td>-1</td>\n",
              "      <td>1</td>\n",
              "      <td>1.5</td>\n",
              "      <td>0.0</td>\n",
              "    </tr>\n",
              "    <tr>\n",
              "      <th>2</th>\n",
              "      <td>17</td>\n",
              "      <td>19</td>\n",
              "      <td>2</td>\n",
              "      <td>2</td>\n",
              "      <td>3.0</td>\n",
              "      <td>3.0</td>\n",
              "    </tr>\n",
              "    <tr>\n",
              "      <th>3</th>\n",
              "      <td>12</td>\n",
              "      <td>16</td>\n",
              "      <td>4</td>\n",
              "      <td>4</td>\n",
              "      <td>4.5</td>\n",
              "      <td>4.5</td>\n",
              "    </tr>\n",
              "    <tr>\n",
              "      <th>4</th>\n",
              "      <td>14</td>\n",
              "      <td>18</td>\n",
              "      <td>4</td>\n",
              "      <td>4</td>\n",
              "      <td>4.5</td>\n",
              "      <td>4.5</td>\n",
              "    </tr>\n",
              "  </tbody>\n",
              "</table>\n",
              "</div>\n",
              "      <button class=\"colab-df-convert\" onclick=\"convertToInteractive('df-a5214ea8-a5ec-4a23-9072-5d1d4b5529b6')\"\n",
              "              title=\"Convert this dataframe to an interactive table.\"\n",
              "              style=\"display:none;\">\n",
              "        \n",
              "  <svg xmlns=\"http://www.w3.org/2000/svg\" height=\"24px\"viewBox=\"0 0 24 24\"\n",
              "       width=\"24px\">\n",
              "    <path d=\"M0 0h24v24H0V0z\" fill=\"none\"/>\n",
              "    <path d=\"M18.56 5.44l.94 2.06.94-2.06 2.06-.94-2.06-.94-.94-2.06-.94 2.06-2.06.94zm-11 1L8.5 8.5l.94-2.06 2.06-.94-2.06-.94L8.5 2.5l-.94 2.06-2.06.94zm10 10l.94 2.06.94-2.06 2.06-.94-2.06-.94-.94-2.06-.94 2.06-2.06.94z\"/><path d=\"M17.41 7.96l-1.37-1.37c-.4-.4-.92-.59-1.43-.59-.52 0-1.04.2-1.43.59L10.3 9.45l-7.72 7.72c-.78.78-.78 2.05 0 2.83L4 21.41c.39.39.9.59 1.41.59.51 0 1.02-.2 1.41-.59l7.78-7.78 2.81-2.81c.8-.78.8-2.07 0-2.86zM5.41 20L4 18.59l7.72-7.72 1.47 1.35L5.41 20z\"/>\n",
              "  </svg>\n",
              "      </button>\n",
              "      \n",
              "  <style>\n",
              "    .colab-df-container {\n",
              "      display:flex;\n",
              "      flex-wrap:wrap;\n",
              "      gap: 12px;\n",
              "    }\n",
              "\n",
              "    .colab-df-convert {\n",
              "      background-color: #E8F0FE;\n",
              "      border: none;\n",
              "      border-radius: 50%;\n",
              "      cursor: pointer;\n",
              "      display: none;\n",
              "      fill: #1967D2;\n",
              "      height: 32px;\n",
              "      padding: 0 0 0 0;\n",
              "      width: 32px;\n",
              "    }\n",
              "\n",
              "    .colab-df-convert:hover {\n",
              "      background-color: #E2EBFA;\n",
              "      box-shadow: 0px 1px 2px rgba(60, 64, 67, 0.3), 0px 1px 3px 1px rgba(60, 64, 67, 0.15);\n",
              "      fill: #174EA6;\n",
              "    }\n",
              "\n",
              "    [theme=dark] .colab-df-convert {\n",
              "      background-color: #3B4455;\n",
              "      fill: #D2E3FC;\n",
              "    }\n",
              "\n",
              "    [theme=dark] .colab-df-convert:hover {\n",
              "      background-color: #434B5C;\n",
              "      box-shadow: 0px 1px 3px 1px rgba(0, 0, 0, 0.15);\n",
              "      filter: drop-shadow(0px 1px 2px rgba(0, 0, 0, 0.3));\n",
              "      fill: #FFFFFF;\n",
              "    }\n",
              "  </style>\n",
              "\n",
              "      <script>\n",
              "        const buttonEl =\n",
              "          document.querySelector('#df-a5214ea8-a5ec-4a23-9072-5d1d4b5529b6 button.colab-df-convert');\n",
              "        buttonEl.style.display =\n",
              "          google.colab.kernel.accessAllowed ? 'block' : 'none';\n",
              "\n",
              "        async function convertToInteractive(key) {\n",
              "          const element = document.querySelector('#df-a5214ea8-a5ec-4a23-9072-5d1d4b5529b6');\n",
              "          const dataTable =\n",
              "            await google.colab.kernel.invokeFunction('convertToInteractive',\n",
              "                                                     [key], {});\n",
              "          if (!dataTable) return;\n",
              "\n",
              "          const docLinkHtml = 'Like what you see? Visit the ' +\n",
              "            '<a target=\"_blank\" href=https://colab.research.google.com/notebooks/data_table.ipynb>data table notebook</a>'\n",
              "            + ' to learn more about interactive tables.';\n",
              "          element.innerHTML = '';\n",
              "          dataTable['output_type'] = 'display_data';\n",
              "          await google.colab.output.renderOutput(dataTable, element);\n",
              "          const docLink = document.createElement('div');\n",
              "          docLink.innerHTML = docLinkHtml;\n",
              "          element.appendChild(docLink);\n",
              "        }\n",
              "      </script>\n",
              "    </div>\n",
              "  </div>\n",
              "  "
            ],
            "text/plain": [
              "   Antes  Depois  Dif  |Dif|  Posto  Posto (+)\n",
              "0     13      14    1      1    1.5        1.5\n",
              "1     17      16   -1      1    1.5        0.0\n",
              "2     17      19    2      2    3.0        3.0\n",
              "3     12      16    4      4    4.5        4.5\n",
              "4     14      18    4      4    4.5        4.5"
            ]
          },
          "metadata": {},
          "execution_count": 123
        }
      ],
      "source": [
        "fumo['Posto (+)'] = fumo.apply(lambda x: x.Posto if x.Dif > 0 else 0, axis = 1)\n",
        "fumo.head()"
      ]
    },
    {
      "cell_type": "code",
      "execution_count": null,
      "metadata": {
        "id": "PoL2W6c7os4d",
        "colab": {
          "base_uri": "https://localhost:8080/",
          "height": 206
        },
        "outputId": "bb6c2627-bf12-4912-ef50-247dbce22e70"
      },
      "outputs": [
        {
          "output_type": "execute_result",
          "data": {
            "text/html": [
              "\n",
              "  <div id=\"df-f2db1ed3-983b-4f09-9a3f-13797317d7a4\">\n",
              "    <div class=\"colab-df-container\">\n",
              "      <div>\n",
              "<style scoped>\n",
              "    .dataframe tbody tr th:only-of-type {\n",
              "        vertical-align: middle;\n",
              "    }\n",
              "\n",
              "    .dataframe tbody tr th {\n",
              "        vertical-align: top;\n",
              "    }\n",
              "\n",
              "    .dataframe thead th {\n",
              "        text-align: right;\n",
              "    }\n",
              "</style>\n",
              "<table border=\"1\" class=\"dataframe\">\n",
              "  <thead>\n",
              "    <tr style=\"text-align: right;\">\n",
              "      <th></th>\n",
              "      <th>Antes</th>\n",
              "      <th>Depois</th>\n",
              "      <th>Dif</th>\n",
              "      <th>|Dif|</th>\n",
              "      <th>Posto</th>\n",
              "      <th>Posto (+)</th>\n",
              "      <th>Posto (-)</th>\n",
              "    </tr>\n",
              "  </thead>\n",
              "  <tbody>\n",
              "    <tr>\n",
              "      <th>0</th>\n",
              "      <td>13</td>\n",
              "      <td>14</td>\n",
              "      <td>1</td>\n",
              "      <td>1</td>\n",
              "      <td>1.5</td>\n",
              "      <td>1.5</td>\n",
              "      <td>0.0</td>\n",
              "    </tr>\n",
              "    <tr>\n",
              "      <th>1</th>\n",
              "      <td>17</td>\n",
              "      <td>16</td>\n",
              "      <td>-1</td>\n",
              "      <td>1</td>\n",
              "      <td>1.5</td>\n",
              "      <td>0.0</td>\n",
              "      <td>1.5</td>\n",
              "    </tr>\n",
              "    <tr>\n",
              "      <th>2</th>\n",
              "      <td>17</td>\n",
              "      <td>19</td>\n",
              "      <td>2</td>\n",
              "      <td>2</td>\n",
              "      <td>3.0</td>\n",
              "      <td>3.0</td>\n",
              "      <td>0.0</td>\n",
              "    </tr>\n",
              "    <tr>\n",
              "      <th>3</th>\n",
              "      <td>12</td>\n",
              "      <td>16</td>\n",
              "      <td>4</td>\n",
              "      <td>4</td>\n",
              "      <td>4.5</td>\n",
              "      <td>4.5</td>\n",
              "      <td>0.0</td>\n",
              "    </tr>\n",
              "    <tr>\n",
              "      <th>4</th>\n",
              "      <td>14</td>\n",
              "      <td>18</td>\n",
              "      <td>4</td>\n",
              "      <td>4</td>\n",
              "      <td>4.5</td>\n",
              "      <td>4.5</td>\n",
              "      <td>0.0</td>\n",
              "    </tr>\n",
              "  </tbody>\n",
              "</table>\n",
              "</div>\n",
              "      <button class=\"colab-df-convert\" onclick=\"convertToInteractive('df-f2db1ed3-983b-4f09-9a3f-13797317d7a4')\"\n",
              "              title=\"Convert this dataframe to an interactive table.\"\n",
              "              style=\"display:none;\">\n",
              "        \n",
              "  <svg xmlns=\"http://www.w3.org/2000/svg\" height=\"24px\"viewBox=\"0 0 24 24\"\n",
              "       width=\"24px\">\n",
              "    <path d=\"M0 0h24v24H0V0z\" fill=\"none\"/>\n",
              "    <path d=\"M18.56 5.44l.94 2.06.94-2.06 2.06-.94-2.06-.94-.94-2.06-.94 2.06-2.06.94zm-11 1L8.5 8.5l.94-2.06 2.06-.94-2.06-.94L8.5 2.5l-.94 2.06-2.06.94zm10 10l.94 2.06.94-2.06 2.06-.94-2.06-.94-.94-2.06-.94 2.06-2.06.94z\"/><path d=\"M17.41 7.96l-1.37-1.37c-.4-.4-.92-.59-1.43-.59-.52 0-1.04.2-1.43.59L10.3 9.45l-7.72 7.72c-.78.78-.78 2.05 0 2.83L4 21.41c.39.39.9.59 1.41.59.51 0 1.02-.2 1.41-.59l7.78-7.78 2.81-2.81c.8-.78.8-2.07 0-2.86zM5.41 20L4 18.59l7.72-7.72 1.47 1.35L5.41 20z\"/>\n",
              "  </svg>\n",
              "      </button>\n",
              "      \n",
              "  <style>\n",
              "    .colab-df-container {\n",
              "      display:flex;\n",
              "      flex-wrap:wrap;\n",
              "      gap: 12px;\n",
              "    }\n",
              "\n",
              "    .colab-df-convert {\n",
              "      background-color: #E8F0FE;\n",
              "      border: none;\n",
              "      border-radius: 50%;\n",
              "      cursor: pointer;\n",
              "      display: none;\n",
              "      fill: #1967D2;\n",
              "      height: 32px;\n",
              "      padding: 0 0 0 0;\n",
              "      width: 32px;\n",
              "    }\n",
              "\n",
              "    .colab-df-convert:hover {\n",
              "      background-color: #E2EBFA;\n",
              "      box-shadow: 0px 1px 2px rgba(60, 64, 67, 0.3), 0px 1px 3px 1px rgba(60, 64, 67, 0.15);\n",
              "      fill: #174EA6;\n",
              "    }\n",
              "\n",
              "    [theme=dark] .colab-df-convert {\n",
              "      background-color: #3B4455;\n",
              "      fill: #D2E3FC;\n",
              "    }\n",
              "\n",
              "    [theme=dark] .colab-df-convert:hover {\n",
              "      background-color: #434B5C;\n",
              "      box-shadow: 0px 1px 3px 1px rgba(0, 0, 0, 0.15);\n",
              "      filter: drop-shadow(0px 1px 2px rgba(0, 0, 0, 0.3));\n",
              "      fill: #FFFFFF;\n",
              "    }\n",
              "  </style>\n",
              "\n",
              "      <script>\n",
              "        const buttonEl =\n",
              "          document.querySelector('#df-f2db1ed3-983b-4f09-9a3f-13797317d7a4 button.colab-df-convert');\n",
              "        buttonEl.style.display =\n",
              "          google.colab.kernel.accessAllowed ? 'block' : 'none';\n",
              "\n",
              "        async function convertToInteractive(key) {\n",
              "          const element = document.querySelector('#df-f2db1ed3-983b-4f09-9a3f-13797317d7a4');\n",
              "          const dataTable =\n",
              "            await google.colab.kernel.invokeFunction('convertToInteractive',\n",
              "                                                     [key], {});\n",
              "          if (!dataTable) return;\n",
              "\n",
              "          const docLinkHtml = 'Like what you see? Visit the ' +\n",
              "            '<a target=\"_blank\" href=https://colab.research.google.com/notebooks/data_table.ipynb>data table notebook</a>'\n",
              "            + ' to learn more about interactive tables.';\n",
              "          element.innerHTML = '';\n",
              "          dataTable['output_type'] = 'display_data';\n",
              "          await google.colab.output.renderOutput(dataTable, element);\n",
              "          const docLink = document.createElement('div');\n",
              "          docLink.innerHTML = docLinkHtml;\n",
              "          element.appendChild(docLink);\n",
              "        }\n",
              "      </script>\n",
              "    </div>\n",
              "  </div>\n",
              "  "
            ],
            "text/plain": [
              "   Antes  Depois  Dif  |Dif|  Posto  Posto (+)  Posto (-)\n",
              "0     13      14    1      1    1.5        1.5        0.0\n",
              "1     17      16   -1      1    1.5        0.0        1.5\n",
              "2     17      19    2      2    3.0        3.0        0.0\n",
              "3     12      16    4      4    4.5        4.5        0.0\n",
              "4     14      18    4      4    4.5        4.5        0.0"
            ]
          },
          "metadata": {},
          "execution_count": 124
        }
      ],
      "source": [
        "fumo['Posto (-)'] = fumo.apply(lambda x: x.Posto if x.Dif < 0 else 0, axis = 1)\n",
        "fumo.head()"
      ]
    },
    {
      "cell_type": "code",
      "execution_count": null,
      "metadata": {
        "id": "kIu3BKAwos0z",
        "colab": {
          "base_uri": "https://localhost:8080/",
          "height": 206
        },
        "outputId": "0afa05a3-ed4c-4fcb-8770-4b28d83dfd34"
      },
      "outputs": [
        {
          "output_type": "execute_result",
          "data": {
            "text/html": [
              "\n",
              "  <div id=\"df-8706e0f6-7996-497a-b9fa-775cd972f556\">\n",
              "    <div class=\"colab-df-container\">\n",
              "      <div>\n",
              "<style scoped>\n",
              "    .dataframe tbody tr th:only-of-type {\n",
              "        vertical-align: middle;\n",
              "    }\n",
              "\n",
              "    .dataframe tbody tr th {\n",
              "        vertical-align: top;\n",
              "    }\n",
              "\n",
              "    .dataframe thead th {\n",
              "        text-align: right;\n",
              "    }\n",
              "</style>\n",
              "<table border=\"1\" class=\"dataframe\">\n",
              "  <thead>\n",
              "    <tr style=\"text-align: right;\">\n",
              "      <th></th>\n",
              "      <th>Antes</th>\n",
              "      <th>Depois</th>\n",
              "      <th>Dif</th>\n",
              "      <th>|Dif|</th>\n",
              "      <th>Posto (+)</th>\n",
              "      <th>Posto (-)</th>\n",
              "    </tr>\n",
              "  </thead>\n",
              "  <tbody>\n",
              "    <tr>\n",
              "      <th>0</th>\n",
              "      <td>13</td>\n",
              "      <td>14</td>\n",
              "      <td>1</td>\n",
              "      <td>1</td>\n",
              "      <td>1.5</td>\n",
              "      <td>0.0</td>\n",
              "    </tr>\n",
              "    <tr>\n",
              "      <th>1</th>\n",
              "      <td>17</td>\n",
              "      <td>16</td>\n",
              "      <td>-1</td>\n",
              "      <td>1</td>\n",
              "      <td>0.0</td>\n",
              "      <td>1.5</td>\n",
              "    </tr>\n",
              "    <tr>\n",
              "      <th>2</th>\n",
              "      <td>17</td>\n",
              "      <td>19</td>\n",
              "      <td>2</td>\n",
              "      <td>2</td>\n",
              "      <td>3.0</td>\n",
              "      <td>0.0</td>\n",
              "    </tr>\n",
              "    <tr>\n",
              "      <th>3</th>\n",
              "      <td>12</td>\n",
              "      <td>16</td>\n",
              "      <td>4</td>\n",
              "      <td>4</td>\n",
              "      <td>4.5</td>\n",
              "      <td>0.0</td>\n",
              "    </tr>\n",
              "    <tr>\n",
              "      <th>4</th>\n",
              "      <td>14</td>\n",
              "      <td>18</td>\n",
              "      <td>4</td>\n",
              "      <td>4</td>\n",
              "      <td>4.5</td>\n",
              "      <td>0.0</td>\n",
              "    </tr>\n",
              "  </tbody>\n",
              "</table>\n",
              "</div>\n",
              "      <button class=\"colab-df-convert\" onclick=\"convertToInteractive('df-8706e0f6-7996-497a-b9fa-775cd972f556')\"\n",
              "              title=\"Convert this dataframe to an interactive table.\"\n",
              "              style=\"display:none;\">\n",
              "        \n",
              "  <svg xmlns=\"http://www.w3.org/2000/svg\" height=\"24px\"viewBox=\"0 0 24 24\"\n",
              "       width=\"24px\">\n",
              "    <path d=\"M0 0h24v24H0V0z\" fill=\"none\"/>\n",
              "    <path d=\"M18.56 5.44l.94 2.06.94-2.06 2.06-.94-2.06-.94-.94-2.06-.94 2.06-2.06.94zm-11 1L8.5 8.5l.94-2.06 2.06-.94-2.06-.94L8.5 2.5l-.94 2.06-2.06.94zm10 10l.94 2.06.94-2.06 2.06-.94-2.06-.94-.94-2.06-.94 2.06-2.06.94z\"/><path d=\"M17.41 7.96l-1.37-1.37c-.4-.4-.92-.59-1.43-.59-.52 0-1.04.2-1.43.59L10.3 9.45l-7.72 7.72c-.78.78-.78 2.05 0 2.83L4 21.41c.39.39.9.59 1.41.59.51 0 1.02-.2 1.41-.59l7.78-7.78 2.81-2.81c.8-.78.8-2.07 0-2.86zM5.41 20L4 18.59l7.72-7.72 1.47 1.35L5.41 20z\"/>\n",
              "  </svg>\n",
              "      </button>\n",
              "      \n",
              "  <style>\n",
              "    .colab-df-container {\n",
              "      display:flex;\n",
              "      flex-wrap:wrap;\n",
              "      gap: 12px;\n",
              "    }\n",
              "\n",
              "    .colab-df-convert {\n",
              "      background-color: #E8F0FE;\n",
              "      border: none;\n",
              "      border-radius: 50%;\n",
              "      cursor: pointer;\n",
              "      display: none;\n",
              "      fill: #1967D2;\n",
              "      height: 32px;\n",
              "      padding: 0 0 0 0;\n",
              "      width: 32px;\n",
              "    }\n",
              "\n",
              "    .colab-df-convert:hover {\n",
              "      background-color: #E2EBFA;\n",
              "      box-shadow: 0px 1px 2px rgba(60, 64, 67, 0.3), 0px 1px 3px 1px rgba(60, 64, 67, 0.15);\n",
              "      fill: #174EA6;\n",
              "    }\n",
              "\n",
              "    [theme=dark] .colab-df-convert {\n",
              "      background-color: #3B4455;\n",
              "      fill: #D2E3FC;\n",
              "    }\n",
              "\n",
              "    [theme=dark] .colab-df-convert:hover {\n",
              "      background-color: #434B5C;\n",
              "      box-shadow: 0px 1px 3px 1px rgba(0, 0, 0, 0.15);\n",
              "      filter: drop-shadow(0px 1px 2px rgba(0, 0, 0, 0.3));\n",
              "      fill: #FFFFFF;\n",
              "    }\n",
              "  </style>\n",
              "\n",
              "      <script>\n",
              "        const buttonEl =\n",
              "          document.querySelector('#df-8706e0f6-7996-497a-b9fa-775cd972f556 button.colab-df-convert');\n",
              "        buttonEl.style.display =\n",
              "          google.colab.kernel.accessAllowed ? 'block' : 'none';\n",
              "\n",
              "        async function convertToInteractive(key) {\n",
              "          const element = document.querySelector('#df-8706e0f6-7996-497a-b9fa-775cd972f556');\n",
              "          const dataTable =\n",
              "            await google.colab.kernel.invokeFunction('convertToInteractive',\n",
              "                                                     [key], {});\n",
              "          if (!dataTable) return;\n",
              "\n",
              "          const docLinkHtml = 'Like what you see? Visit the ' +\n",
              "            '<a target=\"_blank\" href=https://colab.research.google.com/notebooks/data_table.ipynb>data table notebook</a>'\n",
              "            + ' to learn more about interactive tables.';\n",
              "          element.innerHTML = '';\n",
              "          dataTable['output_type'] = 'display_data';\n",
              "          await google.colab.output.renderOutput(dataTable, element);\n",
              "          const docLink = document.createElement('div');\n",
              "          docLink.innerHTML = docLinkHtml;\n",
              "          element.appendChild(docLink);\n",
              "        }\n",
              "      </script>\n",
              "    </div>\n",
              "  </div>\n",
              "  "
            ],
            "text/plain": [
              "   Antes  Depois  Dif  |Dif|  Posto (+)  Posto (-)\n",
              "0     13      14    1      1        1.5        0.0\n",
              "1     17      16   -1      1        0.0        1.5\n",
              "2     17      19    2      2        3.0        0.0\n",
              "3     12      16    4      4        4.5        0.0\n",
              "4     14      18    4      4        4.5        0.0"
            ]
          },
          "metadata": {},
          "execution_count": 125
        }
      ],
      "source": [
        "fumo.drop(['Posto'], axis = 1, inplace = True)\n",
        "fumo.head()"
      ]
    },
    {
      "cell_type": "markdown",
      "metadata": {
        "id": "QrhSJfAipsmh"
      },
      "source": [
        "### Obter $T$\n",
        "\n",
        "## $T$ = menor das somas de postos de mesmo sinal"
      ]
    },
    {
      "cell_type": "code",
      "execution_count": null,
      "metadata": {
        "id": "TTWy-3OQpsmh",
        "colab": {
          "base_uri": "https://localhost:8080/"
        },
        "outputId": "9a4d491c-554c-4c21-fb12-c97e87b01fb1"
      },
      "outputs": [
        {
          "output_type": "execute_result",
          "data": {
            "text/plain": [
              "22.0"
            ]
          },
          "metadata": {},
          "execution_count": 126
        }
      ],
      "source": [
        "T = min(fumo['Posto (+)'].sum(), fumo['Posto (-)'].sum())\n",
        "T"
      ]
    },
    {
      "cell_type": "markdown",
      "metadata": {
        "id": "3y4Tn1y4psmi"
      },
      "source": [
        "### Obter $\\mu_T$\n",
        "\n",
        "# $$\\mu_T = \\frac{n(n+1)}{4}$$\n"
      ]
    },
    {
      "cell_type": "code",
      "execution_count": null,
      "metadata": {
        "id": "0KhV5ph6psmi",
        "colab": {
          "base_uri": "https://localhost:8080/"
        },
        "outputId": "2c839c5e-4fdb-4adb-b558-3b350ff8a43e"
      },
      "outputs": [
        {
          "output_type": "execute_result",
          "data": {
            "text/plain": [
              "315.0"
            ]
          },
          "metadata": {},
          "execution_count": 127
        }
      ],
      "source": [
        "mu = (n * (n + 1)) / 4\n",
        "mu"
      ]
    },
    {
      "cell_type": "markdown",
      "metadata": {
        "id": "ZqFb-m08psmj"
      },
      "source": [
        "### Obter $\\sigma_T$\n",
        "\n",
        "# $$\\sigma_T = \\sqrt{\\frac{n(n + 1)(2n + 1)}{24}}$$"
      ]
    },
    {
      "cell_type": "code",
      "execution_count": null,
      "metadata": {
        "id": "c6dypGFSpsmj",
        "colab": {
          "base_uri": "https://localhost:8080/"
        },
        "outputId": "f30ee429-9d19-4198-9287-d4af6a75244e"
      },
      "outputs": [
        {
          "output_type": "execute_result",
          "data": {
            "text/plain": [
              "61.053255441458646"
            ]
          },
          "metadata": {},
          "execution_count": 128
        }
      ],
      "source": [
        "sigma_T = np.sqrt((n * (n + 1) * ((2 * n) + 1)) / 24)\n",
        "sigma_T"
      ]
    },
    {
      "cell_type": "markdown",
      "metadata": {
        "id": "qEk2CUKApsmk"
      },
      "source": [
        "### Obter $Z_{teste}$\n",
        "\n",
        "# $$Z = \\frac{T - \\mu_T}{\\sigma_T}$$"
      ]
    },
    {
      "cell_type": "code",
      "execution_count": null,
      "metadata": {
        "id": "KqPQgbBEpsmk",
        "colab": {
          "base_uri": "https://localhost:8080/"
        },
        "outputId": "d93613da-9505-4c72-db96-ef62b2af4fac"
      },
      "outputs": [
        {
          "output_type": "execute_result",
          "data": {
            "text/plain": [
              "-4.799088891843698"
            ]
          },
          "metadata": {},
          "execution_count": 129
        }
      ],
      "source": [
        "Z_teste = (T - mu) / sigma_T\n",
        "Z_teste"
      ]
    },
    {
      "cell_type": "markdown",
      "metadata": {
        "id": "iMpU26IZpsmm"
      },
      "source": [
        "![Estatística-Teste](https://caelum-online-public.s3.amazonaws.com/1229-estatistica-parte3/01/img021.png)"
      ]
    },
    {
      "cell_type": "markdown",
      "metadata": {
        "id": "XFgoaLzSpsmm"
      },
      "source": [
        "---"
      ]
    },
    {
      "cell_type": "markdown",
      "metadata": {
        "id": "YYGhG-lSpsmm"
      },
      "source": [
        "### **Passo 5** - Aceitação ou rejeição da hipótese nula"
      ]
    },
    {
      "cell_type": "markdown",
      "metadata": {
        "id": "pDOdx-Vqpsmm"
      },
      "source": [
        "<img src='https://caelum-online-public.s3.amazonaws.com/1229-estatistica-parte3/01/img022.png' width='80%'>"
      ]
    },
    {
      "cell_type": "markdown",
      "metadata": {
        "id": "ODKOD-rkpsmm"
      },
      "source": [
        "### <font color='red'>Critério do valor crítico</font>\n",
        "\n",
        "> ### Rejeitar $H_0$ se $Z \\leq -z_{\\alpha / 2}$ ou se $Z \\geq z_{\\alpha / 2}$"
      ]
    },
    {
      "cell_type": "code",
      "execution_count": null,
      "metadata": {
        "id": "Gmp8dB6Apsmm",
        "colab": {
          "base_uri": "https://localhost:8080/"
        },
        "outputId": "99303a49-7823-45e9-9c98-9f62686bd51f"
      },
      "outputs": [
        {
          "output_type": "execute_result",
          "data": {
            "text/plain": [
              "True"
            ]
          },
          "metadata": {},
          "execution_count": 130
        }
      ],
      "source": [
        "Z_teste <= (-z_alpha_2) or Z_teste >= z_alpha_2"
      ]
    },
    {
      "cell_type": "markdown",
      "metadata": {
        "id": "n0gtzn53psmo"
      },
      "source": [
        "### <font color='green'>Conclusão: Rejeitamos a hipótese de que não existe diferença entre os grupos, isto é, existe uma diferença entre as médias de cigarros fumados pelos pacientes antes e depois do tratamento. E como é possível verificar através das médias de cigarros fumados por dia antes (31.86) e depois (11.2) do tratamento, podemos concluir que o tratamento apresentou resultado satisfatório.</font>"
      ]
    },
    {
      "cell_type": "markdown",
      "metadata": {
        "id": "8bP36mQ-psmp"
      },
      "source": [
        "### <font color='red'>Critério do valor $p$</font>\n",
        "\n",
        "> ### Rejeitar $H_0$ se o valor $p\\leq\\alpha$"
      ]
    },
    {
      "cell_type": "markdown",
      "metadata": {
        "id": "H8kFeqh1psmp"
      },
      "source": [
        "https://docs.scipy.org/doc/scipy/reference/generated/scipy.stats.wilcoxon.html"
      ]
    },
    {
      "cell_type": "code",
      "execution_count": null,
      "metadata": {
        "id": "bgWrxnBmpsmp"
      },
      "outputs": [],
      "source": [
        "from scipy.stats import wilcoxon"
      ]
    },
    {
      "cell_type": "code",
      "execution_count": null,
      "metadata": {
        "id": "PsdWRoHCpsmp",
        "colab": {
          "base_uri": "https://localhost:8080/"
        },
        "outputId": "5033e999-2226-475d-e3d7-8905320b7b0a"
      },
      "outputs": [
        {
          "output_type": "stream",
          "name": "stdout",
          "text": [
            "22.0\n",
            "1.584310018505865e-06\n"
          ]
        }
      ],
      "source": [
        "T, p_valor = wilcoxon(fumo.Antes, fumo.Depois)\n",
        "print(T)\n",
        "print(p_valor)"
      ]
    },
    {
      "cell_type": "code",
      "execution_count": null,
      "metadata": {
        "id": "Qk13I21vpsmq",
        "scrolled": true,
        "colab": {
          "base_uri": "https://localhost:8080/"
        },
        "outputId": "3bf47490-d834-4931-98a0-f12a78c45ee5"
      },
      "outputs": [
        {
          "output_type": "execute_result",
          "data": {
            "text/plain": [
              "True"
            ]
          },
          "metadata": {},
          "execution_count": 133
        }
      ],
      "source": [
        "p_valor <= significancia"
      ]
    },
    {
      "cell_type": "markdown",
      "source": [
        "### Exercício"
      ],
      "metadata": {
        "id": "j9wlu0fT9Yq7"
      }
    },
    {
      "cell_type": "markdown",
      "source": [
        "Desconfiado da eficiência dos cursos e materiais de estudo online da Alura, um professor resolveu realizar um teste com um grupo de 14 alunos de sua classe. Para isto, ele submeteu estes alunos a duas etapas distintas e logo depois de cada etapa, aplicou uma avaliação. Na etapa inicial, foram oferecidas aulas normais, sem a utilização do material de apoio da Alura. Na segunda etapa, foram também oferecidas aulas normais, mas com a utilização do material de apoio da Alura. As notas obtidas pelos alunos estão na tabela abaixo:"
      ],
      "metadata": {
        "id": "FQ2hR7Fm9cB8"
      }
    },
    {
      "cell_type": "code",
      "source": [
        "notas = {\n",
        "    'Antes': [7, 8, 6, 6, 10, 4, 2, 5, 9, 2, 4, 9, 1, 10],\n",
        "    'Depois': [10, 10, 9, 9, 9, 7, 5, 8, 10, 6, 3, 7, 4, 8]\n",
        "}\n",
        "significancia = 0.1\n",
        "confianca = 1 - significancia\n",
        "n = 14"
      ],
      "metadata": {
        "id": "9jG15CEr9a7y"
      },
      "execution_count": null,
      "outputs": []
    },
    {
      "cell_type": "code",
      "source": [
        "notas = pd.DataFrame(notas)\n",
        "notas"
      ],
      "metadata": {
        "colab": {
          "base_uri": "https://localhost:8080/",
          "height": 488
        },
        "id": "luwOwdoj-oHk",
        "outputId": "ceba922e-bac4-4cf4-f146-273f131eb983"
      },
      "execution_count": null,
      "outputs": [
        {
          "output_type": "execute_result",
          "data": {
            "text/html": [
              "\n",
              "  <div id=\"df-721268c0-abb4-469d-bfdb-73b3bff047e4\">\n",
              "    <div class=\"colab-df-container\">\n",
              "      <div>\n",
              "<style scoped>\n",
              "    .dataframe tbody tr th:only-of-type {\n",
              "        vertical-align: middle;\n",
              "    }\n",
              "\n",
              "    .dataframe tbody tr th {\n",
              "        vertical-align: top;\n",
              "    }\n",
              "\n",
              "    .dataframe thead th {\n",
              "        text-align: right;\n",
              "    }\n",
              "</style>\n",
              "<table border=\"1\" class=\"dataframe\">\n",
              "  <thead>\n",
              "    <tr style=\"text-align: right;\">\n",
              "      <th></th>\n",
              "      <th>Antes</th>\n",
              "      <th>Depois</th>\n",
              "    </tr>\n",
              "  </thead>\n",
              "  <tbody>\n",
              "    <tr>\n",
              "      <th>0</th>\n",
              "      <td>7</td>\n",
              "      <td>10</td>\n",
              "    </tr>\n",
              "    <tr>\n",
              "      <th>1</th>\n",
              "      <td>8</td>\n",
              "      <td>10</td>\n",
              "    </tr>\n",
              "    <tr>\n",
              "      <th>2</th>\n",
              "      <td>6</td>\n",
              "      <td>9</td>\n",
              "    </tr>\n",
              "    <tr>\n",
              "      <th>3</th>\n",
              "      <td>6</td>\n",
              "      <td>9</td>\n",
              "    </tr>\n",
              "    <tr>\n",
              "      <th>4</th>\n",
              "      <td>10</td>\n",
              "      <td>9</td>\n",
              "    </tr>\n",
              "    <tr>\n",
              "      <th>5</th>\n",
              "      <td>4</td>\n",
              "      <td>7</td>\n",
              "    </tr>\n",
              "    <tr>\n",
              "      <th>6</th>\n",
              "      <td>2</td>\n",
              "      <td>5</td>\n",
              "    </tr>\n",
              "    <tr>\n",
              "      <th>7</th>\n",
              "      <td>5</td>\n",
              "      <td>8</td>\n",
              "    </tr>\n",
              "    <tr>\n",
              "      <th>8</th>\n",
              "      <td>9</td>\n",
              "      <td>10</td>\n",
              "    </tr>\n",
              "    <tr>\n",
              "      <th>9</th>\n",
              "      <td>2</td>\n",
              "      <td>6</td>\n",
              "    </tr>\n",
              "    <tr>\n",
              "      <th>10</th>\n",
              "      <td>4</td>\n",
              "      <td>3</td>\n",
              "    </tr>\n",
              "    <tr>\n",
              "      <th>11</th>\n",
              "      <td>9</td>\n",
              "      <td>7</td>\n",
              "    </tr>\n",
              "    <tr>\n",
              "      <th>12</th>\n",
              "      <td>1</td>\n",
              "      <td>4</td>\n",
              "    </tr>\n",
              "    <tr>\n",
              "      <th>13</th>\n",
              "      <td>10</td>\n",
              "      <td>8</td>\n",
              "    </tr>\n",
              "  </tbody>\n",
              "</table>\n",
              "</div>\n",
              "      <button class=\"colab-df-convert\" onclick=\"convertToInteractive('df-721268c0-abb4-469d-bfdb-73b3bff047e4')\"\n",
              "              title=\"Convert this dataframe to an interactive table.\"\n",
              "              style=\"display:none;\">\n",
              "        \n",
              "  <svg xmlns=\"http://www.w3.org/2000/svg\" height=\"24px\"viewBox=\"0 0 24 24\"\n",
              "       width=\"24px\">\n",
              "    <path d=\"M0 0h24v24H0V0z\" fill=\"none\"/>\n",
              "    <path d=\"M18.56 5.44l.94 2.06.94-2.06 2.06-.94-2.06-.94-.94-2.06-.94 2.06-2.06.94zm-11 1L8.5 8.5l.94-2.06 2.06-.94-2.06-.94L8.5 2.5l-.94 2.06-2.06.94zm10 10l.94 2.06.94-2.06 2.06-.94-2.06-.94-.94-2.06-.94 2.06-2.06.94z\"/><path d=\"M17.41 7.96l-1.37-1.37c-.4-.4-.92-.59-1.43-.59-.52 0-1.04.2-1.43.59L10.3 9.45l-7.72 7.72c-.78.78-.78 2.05 0 2.83L4 21.41c.39.39.9.59 1.41.59.51 0 1.02-.2 1.41-.59l7.78-7.78 2.81-2.81c.8-.78.8-2.07 0-2.86zM5.41 20L4 18.59l7.72-7.72 1.47 1.35L5.41 20z\"/>\n",
              "  </svg>\n",
              "      </button>\n",
              "      \n",
              "  <style>\n",
              "    .colab-df-container {\n",
              "      display:flex;\n",
              "      flex-wrap:wrap;\n",
              "      gap: 12px;\n",
              "    }\n",
              "\n",
              "    .colab-df-convert {\n",
              "      background-color: #E8F0FE;\n",
              "      border: none;\n",
              "      border-radius: 50%;\n",
              "      cursor: pointer;\n",
              "      display: none;\n",
              "      fill: #1967D2;\n",
              "      height: 32px;\n",
              "      padding: 0 0 0 0;\n",
              "      width: 32px;\n",
              "    }\n",
              "\n",
              "    .colab-df-convert:hover {\n",
              "      background-color: #E2EBFA;\n",
              "      box-shadow: 0px 1px 2px rgba(60, 64, 67, 0.3), 0px 1px 3px 1px rgba(60, 64, 67, 0.15);\n",
              "      fill: #174EA6;\n",
              "    }\n",
              "\n",
              "    [theme=dark] .colab-df-convert {\n",
              "      background-color: #3B4455;\n",
              "      fill: #D2E3FC;\n",
              "    }\n",
              "\n",
              "    [theme=dark] .colab-df-convert:hover {\n",
              "      background-color: #434B5C;\n",
              "      box-shadow: 0px 1px 3px 1px rgba(0, 0, 0, 0.15);\n",
              "      filter: drop-shadow(0px 1px 2px rgba(0, 0, 0, 0.3));\n",
              "      fill: #FFFFFF;\n",
              "    }\n",
              "  </style>\n",
              "\n",
              "      <script>\n",
              "        const buttonEl =\n",
              "          document.querySelector('#df-721268c0-abb4-469d-bfdb-73b3bff047e4 button.colab-df-convert');\n",
              "        buttonEl.style.display =\n",
              "          google.colab.kernel.accessAllowed ? 'block' : 'none';\n",
              "\n",
              "        async function convertToInteractive(key) {\n",
              "          const element = document.querySelector('#df-721268c0-abb4-469d-bfdb-73b3bff047e4');\n",
              "          const dataTable =\n",
              "            await google.colab.kernel.invokeFunction('convertToInteractive',\n",
              "                                                     [key], {});\n",
              "          if (!dataTable) return;\n",
              "\n",
              "          const docLinkHtml = 'Like what you see? Visit the ' +\n",
              "            '<a target=\"_blank\" href=https://colab.research.google.com/notebooks/data_table.ipynb>data table notebook</a>'\n",
              "            + ' to learn more about interactive tables.';\n",
              "          element.innerHTML = '';\n",
              "          dataTable['output_type'] = 'display_data';\n",
              "          await google.colab.output.renderOutput(dataTable, element);\n",
              "          const docLink = document.createElement('div');\n",
              "          docLink.innerHTML = docLinkHtml;\n",
              "          element.appendChild(docLink);\n",
              "        }\n",
              "      </script>\n",
              "    </div>\n",
              "  </div>\n",
              "  "
            ],
            "text/plain": [
              "    Antes  Depois\n",
              "0       7      10\n",
              "1       8      10\n",
              "2       6       9\n",
              "3       6       9\n",
              "4      10       9\n",
              "5       4       7\n",
              "6       2       5\n",
              "7       5       8\n",
              "8       9      10\n",
              "9       2       6\n",
              "10      4       3\n",
              "11      9       7\n",
              "12      1       4\n",
              "13     10       8"
            ]
          },
          "metadata": {},
          "execution_count": 135
        }
      ]
    },
    {
      "cell_type": "markdown",
      "source": [
        "Assinale a alternativa que apresenta o resultado do teste, não paramétrico de Wilcoxon, aplicado pelo professor (estatística de teste T e decisão do teste). Considere um nível de significância de 10%."
      ],
      "metadata": {
        "id": "mRhNPJZz-W_l"
      }
    },
    {
      "cell_type": "code",
      "source": [
        "T, p_valor = wilcoxon(notas.Antes, notas.Depois)\n",
        "print(T)\n",
        "print(p_valor)"
      ],
      "metadata": {
        "colab": {
          "base_uri": "https://localhost:8080/"
        },
        "id": "B9vfHHyX-fXz",
        "outputId": "64e3c39b-bdd4-43fa-f37e-ce48c7db2917"
      },
      "execution_count": null,
      "outputs": [
        {
          "output_type": "stream",
          "name": "stdout",
          "text": [
            "14.0\n",
            "0.01405249884356315\n"
          ]
        }
      ]
    },
    {
      "cell_type": "code",
      "source": [
        "p_valor <= significancia"
      ],
      "metadata": {
        "colab": {
          "base_uri": "https://localhost:8080/"
        },
        "id": "01I3zaMc-59u",
        "outputId": "5ac6e59b-25a0-47fc-d019-0448d5d71c99"
      },
      "execution_count": null,
      "outputs": [
        {
          "output_type": "execute_result",
          "data": {
            "text/plain": [
              "True"
            ]
          },
          "metadata": {},
          "execution_count": 137
        }
      ]
    },
    {
      "cell_type": "code",
      "source": [
        "from scipy.stats import wilcoxon\n",
        "\n",
        "sem_Alura = pd.Series([ 7,  8, 6, 6, 10, 4, 2, 5,  9, 2, 4, 9, 1, 10])\n",
        "com_Alura = pd.Series([10, 10, 9, 9,  9, 7, 5, 8, 10, 6, 3, 7, 4,  8])\n",
        "\n",
        "significancia = 0.10\n",
        "\n",
        "T, p_valor = wilcoxon(sem_Alura, com_Alura)\n",
        "print('T =', T)\n",
        "\n",
        "if(p_valor <= significancia):\n",
        "    print('Rejeitar H0')\n",
        "else:\n",
        "    print('Aceitar H0')"
      ],
      "metadata": {
        "colab": {
          "base_uri": "https://localhost:8080/"
        },
        "id": "pQwpA89d_Y-G",
        "outputId": "78b1b6fa-0c07-49ca-c9fc-b9255912c8ed"
      },
      "execution_count": null,
      "outputs": [
        {
          "output_type": "stream",
          "name": "stdout",
          "text": [
            "T = 14.0\n",
            "Rejeitar H0\n"
          ]
        }
      ]
    },
    {
      "cell_type": "markdown",
      "source": [
        "Sendo p_valor <= significancia, podemos rejeitar a hipótese nula e afirmar que o curso da Alura demonstrou um aumento significativo no desempenho dos alunos nas atividades avaliativas aplicadas pelo professor."
      ],
      "metadata": {
        "id": "XtkhP4gI-93y"
      }
    },
    {
      "cell_type": "markdown",
      "metadata": {
        "id": "ZGNui18Xpsms"
      },
      "source": [
        "---"
      ]
    },
    {
      "cell_type": "markdown",
      "metadata": {
        "id": "sIs_74V5psms"
      },
      "source": [
        "## <font color='red'>Problema</font>"
      ]
    },
    {
      "cell_type": "markdown",
      "metadata": {
        "id": "Rk4GknKUpsms"
      },
      "source": [
        "Em nosso dataset temos os rendimento dos chefes de domicílio obtidos da Pesquisa Nacional por Amostra de Domicílios - PNAD no ano de 2015. Um problema bastante conhecido em nosso país diz respeito a desigualdade de renda, principalmente entre homens e mulheres.\n",
        "\n",
        "Duas amostras aleatórias, uma de **6 homens** e outra com **8 mulheres**, foram selecionadas em nosso dataset. Com o objetivo de comprovar tal desigualdade **teste a igualdade das médias** entra estas duas amostras com um nível de **significância de 5%**."
      ]
    },
    {
      "cell_type": "markdown",
      "metadata": {
        "id": "iHBuQumppsmt"
      },
      "source": [
        "## <font color=green>4.3 Teste de Mann-Whitney</font>\n",
        "### Comparação de duas populações - amostras independentes\n",
        "***"
      ]
    },
    {
      "cell_type": "markdown",
      "metadata": {
        "id": "bDyY8UUPpsmt"
      },
      "source": [
        "Mann-Whitney é um teste não paramétrico utilizado para verificar se duas amostras independentes foram selecionadas a partir de populações que têm a mesma média. Por ser um teste não paramétrico, Mann-Whitney torna-se uma alternativa ao teste paramétrico de comparação de médias."
      ]
    },
    {
      "cell_type": "markdown",
      "metadata": {
        "id": "DjWTAICFpsmt"
      },
      "source": [
        "### Seleção das amostras"
      ]
    },
    {
      "cell_type": "code",
      "execution_count": null,
      "metadata": {
        "id": "k_MCXHjIpsmt",
        "scrolled": true
      },
      "outputs": [],
      "source": [
        "mulheres = dados.query('Sexo == 1 and Renda > 0').sample(n = 8, random_state = 101).Renda"
      ]
    },
    {
      "cell_type": "code",
      "execution_count": null,
      "metadata": {
        "id": "whXUtsKLpsmu",
        "scrolled": true
      },
      "outputs": [],
      "source": [
        "homens = dados.query('Sexo == 0 and Renda > 0').sample(n = 6, random_state = 101).Renda"
      ]
    },
    {
      "cell_type": "markdown",
      "metadata": {
        "id": "HvQY_Wwjpsmx"
      },
      "source": [
        "### Dados do problema"
      ]
    },
    {
      "cell_type": "code",
      "execution_count": null,
      "metadata": {
        "id": "3fz8oLQspsmx",
        "colab": {
          "base_uri": "https://localhost:8080/"
        },
        "outputId": "7efd577f-a59a-4d2d-a5ac-f4b794078fd6"
      },
      "outputs": [
        {
          "output_type": "execute_result",
          "data": {
            "text/plain": [
              "1090.75"
            ]
          },
          "metadata": {},
          "execution_count": 141
        }
      ],
      "source": [
        "media_amostra_M = mulheres.mean()\n",
        "media_amostra_M"
      ]
    },
    {
      "cell_type": "code",
      "execution_count": null,
      "metadata": {
        "id": "qJa9ykpJpsmz",
        "colab": {
          "base_uri": "https://localhost:8080/"
        },
        "outputId": "bb46d4da-65f2-4873-8e8f-ef84f7dc80bf"
      },
      "outputs": [
        {
          "output_type": "execute_result",
          "data": {
            "text/plain": [
              "1341.6666666666667"
            ]
          },
          "metadata": {},
          "execution_count": 142
        }
      ],
      "source": [
        "media_amostra_H = homens.mean()\n",
        "media_amostra_H"
      ]
    },
    {
      "cell_type": "code",
      "execution_count": null,
      "metadata": {
        "id": "9_cFuYzJpsm1"
      },
      "outputs": [],
      "source": [
        "significancia = 0.05\n",
        "confianca = 1 - significancia\n",
        "n_1 = len(homens) # no teste de Mann-Whitney as amostras de menor numero são adotadas como primeiro elemento\n",
        "n_2 = len(mulheres)"
      ]
    },
    {
      "cell_type": "markdown",
      "metadata": {
        "id": "rnHNRcb5psm1"
      },
      "source": [
        "### **Passo 1** - formulação das hipóteses $H_0$ e $H_1$\n",
        "\n",
        "#### <font color='red'>Lembre-se, a hipótese nula sempre contém a alegação de igualdade</font>"
      ]
    },
    {
      "cell_type": "markdown",
      "metadata": {
        "id": "F-q66nqDpsm2"
      },
      "source": [
        "### $\\mu_m \\Rightarrow$ Média das rendas dos chefes de domicílios do sexo feminino\n",
        "### $\\mu_h \\Rightarrow$ Média das rendas dos chefes de domicílios do sexo masculino\n",
        "\n",
        "### $\n",
        "\\begin{cases}\n",
        "H_0: \\mu_m = \\mu_h\\\\\n",
        "H_1: \\mu_m < \\mu_h\n",
        "\\end{cases}\n",
        "$"
      ]
    },
    {
      "cell_type": "markdown",
      "metadata": {
        "id": "-A8XaMDnpsm3"
      },
      "source": [
        "---"
      ]
    },
    {
      "cell_type": "markdown",
      "metadata": {
        "id": "VhpHwyi3psm3"
      },
      "source": [
        "### **Passo 2** - escolha da distribuição amostral adequada"
      ]
    },
    {
      "cell_type": "markdown",
      "metadata": {
        "id": "hh2UhSRApsm4"
      },
      "source": [
        "Deve-se optar pela distribuição **$t$ de Student**, já que nada é mencionado sobre a distribuição da população, o desvio padrão populacional é desconhecido e o número de elementos investigados é menor que 30."
      ]
    },
    {
      "cell_type": "markdown",
      "metadata": {
        "id": "PP_3zdrWpsm4"
      },
      "source": [
        "---"
      ]
    },
    {
      "cell_type": "markdown",
      "metadata": {
        "id": "RALoS1ddpsm4"
      },
      "source": [
        "### **Passo 3** - fixação da significância do teste ($\\alpha$)"
      ]
    },
    {
      "cell_type": "markdown",
      "metadata": {
        "id": "0Ohhw-i5psm4"
      },
      "source": [
        "### Obtendo $t_{\\alpha}$"
      ]
    },
    {
      "cell_type": "code",
      "execution_count": null,
      "metadata": {
        "id": "oVNraTWypsm4",
        "colab": {
          "base_uri": "https://localhost:8080/"
        },
        "outputId": "6e3d628d-6983-4f6a-d365-8545585188bb"
      },
      "outputs": [
        {
          "output_type": "execute_result",
          "data": {
            "text/plain": [
              "12"
            ]
          },
          "metadata": {},
          "execution_count": 144
        }
      ],
      "source": [
        "graus_de_liberdade = n_1 + n_2 - 2\n",
        "graus_de_liberdade"
      ]
    },
    {
      "cell_type": "code",
      "execution_count": null,
      "metadata": {
        "id": "px40muD3psm6",
        "scrolled": true,
        "colab": {
          "base_uri": "https://localhost:8080/",
          "height": 175
        },
        "outputId": "9968007f-daf5-4de9-d640-a6cb8918fd6f"
      },
      "outputs": [
        {
          "output_type": "execute_result",
          "data": {
            "text/html": [
              "\n",
              "  <div id=\"df-55729733-02ee-4c70-8be9-312a30051332\">\n",
              "    <div class=\"colab-df-container\">\n",
              "      <div>\n",
              "<style scoped>\n",
              "    .dataframe tbody tr th:only-of-type {\n",
              "        vertical-align: middle;\n",
              "    }\n",
              "\n",
              "    .dataframe tbody tr th {\n",
              "        vertical-align: top;\n",
              "    }\n",
              "\n",
              "    .dataframe thead tr th {\n",
              "        text-align: left;\n",
              "    }\n",
              "</style>\n",
              "<table border=\"1\" class=\"dataframe\">\n",
              "  <thead>\n",
              "    <tr>\n",
              "      <th></th>\n",
              "      <th>Bicaudal</th>\n",
              "      <th>0.100</th>\n",
              "      <th>0.090</th>\n",
              "      <th>0.080</th>\n",
              "      <th>0.070</th>\n",
              "      <th>0.060</th>\n",
              "      <th>0.050</th>\n",
              "      <th>0.040</th>\n",
              "      <th>0.030</th>\n",
              "      <th>0.020</th>\n",
              "      <th>0.010</th>\n",
              "    </tr>\n",
              "    <tr>\n",
              "      <th></th>\n",
              "      <th>Unicaudal</th>\n",
              "      <th>0.050</th>\n",
              "      <th>0.045</th>\n",
              "      <th>0.040</th>\n",
              "      <th>0.035</th>\n",
              "      <th>0.030</th>\n",
              "      <th>0.025</th>\n",
              "      <th>0.020</th>\n",
              "      <th>0.015</th>\n",
              "      <th>0.010</th>\n",
              "      <th>0.005</th>\n",
              "    </tr>\n",
              "  </thead>\n",
              "  <tbody>\n",
              "    <tr>\n",
              "      <th rowspan=\"3\" valign=\"top\">Graus de liberdade (n - 1)</th>\n",
              "      <th>11</th>\n",
              "      <td>1.79588</td>\n",
              "      <td>1.85877</td>\n",
              "      <td>1.92843</td>\n",
              "      <td>2.00666</td>\n",
              "      <td>2.09614</td>\n",
              "      <td>2.20099</td>\n",
              "      <td>2.32814</td>\n",
              "      <td>2.49066</td>\n",
              "      <td>2.71808</td>\n",
              "      <td>3.10581</td>\n",
              "    </tr>\n",
              "    <tr>\n",
              "      <th>12</th>\n",
              "      <td>1.78229</td>\n",
              "      <td>1.84402</td>\n",
              "      <td>1.91231</td>\n",
              "      <td>1.98893</td>\n",
              "      <td>2.07644</td>\n",
              "      <td>2.17881</td>\n",
              "      <td>2.30272</td>\n",
              "      <td>2.4607</td>\n",
              "      <td>2.681</td>\n",
              "      <td>3.05454</td>\n",
              "    </tr>\n",
              "    <tr>\n",
              "      <th>13</th>\n",
              "      <td>1.77093</td>\n",
              "      <td>1.8317</td>\n",
              "      <td>1.89887</td>\n",
              "      <td>1.97416</td>\n",
              "      <td>2.06004</td>\n",
              "      <td>2.16037</td>\n",
              "      <td>2.2816</td>\n",
              "      <td>2.43585</td>\n",
              "      <td>2.65031</td>\n",
              "      <td>3.01228</td>\n",
              "    </tr>\n",
              "  </tbody>\n",
              "</table>\n",
              "</div>\n",
              "      <button class=\"colab-df-convert\" onclick=\"convertToInteractive('df-55729733-02ee-4c70-8be9-312a30051332')\"\n",
              "              title=\"Convert this dataframe to an interactive table.\"\n",
              "              style=\"display:none;\">\n",
              "        \n",
              "  <svg xmlns=\"http://www.w3.org/2000/svg\" height=\"24px\"viewBox=\"0 0 24 24\"\n",
              "       width=\"24px\">\n",
              "    <path d=\"M0 0h24v24H0V0z\" fill=\"none\"/>\n",
              "    <path d=\"M18.56 5.44l.94 2.06.94-2.06 2.06-.94-2.06-.94-.94-2.06-.94 2.06-2.06.94zm-11 1L8.5 8.5l.94-2.06 2.06-.94-2.06-.94L8.5 2.5l-.94 2.06-2.06.94zm10 10l.94 2.06.94-2.06 2.06-.94-2.06-.94-.94-2.06-.94 2.06-2.06.94z\"/><path d=\"M17.41 7.96l-1.37-1.37c-.4-.4-.92-.59-1.43-.59-.52 0-1.04.2-1.43.59L10.3 9.45l-7.72 7.72c-.78.78-.78 2.05 0 2.83L4 21.41c.39.39.9.59 1.41.59.51 0 1.02-.2 1.41-.59l7.78-7.78 2.81-2.81c.8-.78.8-2.07 0-2.86zM5.41 20L4 18.59l7.72-7.72 1.47 1.35L5.41 20z\"/>\n",
              "  </svg>\n",
              "      </button>\n",
              "      \n",
              "  <style>\n",
              "    .colab-df-container {\n",
              "      display:flex;\n",
              "      flex-wrap:wrap;\n",
              "      gap: 12px;\n",
              "    }\n",
              "\n",
              "    .colab-df-convert {\n",
              "      background-color: #E8F0FE;\n",
              "      border: none;\n",
              "      border-radius: 50%;\n",
              "      cursor: pointer;\n",
              "      display: none;\n",
              "      fill: #1967D2;\n",
              "      height: 32px;\n",
              "      padding: 0 0 0 0;\n",
              "      width: 32px;\n",
              "    }\n",
              "\n",
              "    .colab-df-convert:hover {\n",
              "      background-color: #E2EBFA;\n",
              "      box-shadow: 0px 1px 2px rgba(60, 64, 67, 0.3), 0px 1px 3px 1px rgba(60, 64, 67, 0.15);\n",
              "      fill: #174EA6;\n",
              "    }\n",
              "\n",
              "    [theme=dark] .colab-df-convert {\n",
              "      background-color: #3B4455;\n",
              "      fill: #D2E3FC;\n",
              "    }\n",
              "\n",
              "    [theme=dark] .colab-df-convert:hover {\n",
              "      background-color: #434B5C;\n",
              "      box-shadow: 0px 1px 3px 1px rgba(0, 0, 0, 0.15);\n",
              "      filter: drop-shadow(0px 1px 2px rgba(0, 0, 0, 0.3));\n",
              "      fill: #FFFFFF;\n",
              "    }\n",
              "  </style>\n",
              "\n",
              "      <script>\n",
              "        const buttonEl =\n",
              "          document.querySelector('#df-55729733-02ee-4c70-8be9-312a30051332 button.colab-df-convert');\n",
              "        buttonEl.style.display =\n",
              "          google.colab.kernel.accessAllowed ? 'block' : 'none';\n",
              "\n",
              "        async function convertToInteractive(key) {\n",
              "          const element = document.querySelector('#df-55729733-02ee-4c70-8be9-312a30051332');\n",
              "          const dataTable =\n",
              "            await google.colab.kernel.invokeFunction('convertToInteractive',\n",
              "                                                     [key], {});\n",
              "          if (!dataTable) return;\n",
              "\n",
              "          const docLinkHtml = 'Like what you see? Visit the ' +\n",
              "            '<a target=\"_blank\" href=https://colab.research.google.com/notebooks/data_table.ipynb>data table notebook</a>'\n",
              "            + ' to learn more about interactive tables.';\n",
              "          element.innerHTML = '';\n",
              "          dataTable['output_type'] = 'display_data';\n",
              "          await google.colab.output.renderOutput(dataTable, element);\n",
              "          const docLink = document.createElement('div');\n",
              "          docLink.innerHTML = docLinkHtml;\n",
              "          element.appendChild(docLink);\n",
              "        }\n",
              "      </script>\n",
              "    </div>\n",
              "  </div>\n",
              "  "
            ],
            "text/plain": [
              "Bicaudal                         0.100    0.090  ...    0.020    0.010\n",
              "Unicaudal                        0.050    0.045  ...    0.010    0.005\n",
              "Graus de liberdade (n - 1) 11  1.79588  1.85877  ...  2.71808  3.10581\n",
              "                           12  1.78229  1.84402  ...    2.681  3.05454\n",
              "                           13  1.77093   1.8317  ...  2.65031  3.01228\n",
              "\n",
              "[3 rows x 10 columns]"
            ]
          },
          "metadata": {},
          "execution_count": 145
        }
      ],
      "source": [
        "tabela_t_student[10:13]"
      ]
    },
    {
      "cell_type": "code",
      "execution_count": null,
      "metadata": {
        "id": "5iCApoGNpsm7",
        "colab": {
          "base_uri": "https://localhost:8080/"
        },
        "outputId": "767e6ffa-5245-432b-d31f-d5f105e839e6"
      },
      "outputs": [
        {
          "output_type": "execute_result",
          "data": {
            "text/plain": [
              "-1.78"
            ]
          },
          "metadata": {},
          "execution_count": 146
        }
      ],
      "source": [
        "t_alpha = t_student.ppf(significancia, graus_de_liberdade)\n",
        "t_alpha.round(2)"
      ]
    },
    {
      "cell_type": "markdown",
      "metadata": {
        "id": "Hv5Wk8G0psm7"
      },
      "source": [
        "![Região de Aceitação](https://caelum-online-public.s3.amazonaws.com/1229-estatistica-parte3/01/img023.png)"
      ]
    },
    {
      "cell_type": "markdown",
      "metadata": {
        "id": "qF2QVjmtpsm7"
      },
      "source": [
        "---"
      ]
    },
    {
      "cell_type": "markdown",
      "metadata": {
        "id": "mD62Ibrupsm8"
      },
      "source": [
        "### **Passo 4** - cálculo da estatística-teste e verificação desse valor com as áreas de aceitação e rejeição do teste\n",
        "## 1. Definir os n's:\n",
        "### $n_1$ = nº de elementos do menor grupo\n",
        "### $n_2$ = nº de elementos do maior grupo\n",
        "---\n",
        "## 2. Obter a soma dos postos\n",
        "### $R_1$ = soma dos postos do grupo $n_1$\n",
        "### $R_2$ = soma dos postos do grupo $n_2$\n",
        "---\n",
        "## 3. Obter as estatísticas\n",
        "# $$u_1 = n_1 \\times n_2 + \\frac{n_1 \\times (n_1 + 1)}{2} - R_1$$\n",
        "# $$u_2 = n_1 \\times n_2 + \\frac{n_2 \\times (n_2 + 1)}{2} - R_2$$\n",
        "---\n",
        "## 4. Selecionar o menor U\n",
        "# $$u = min(u_1, u_2)$$\n",
        "---\n",
        "## 5. Obter a estatística de teste\n",
        "# $$Z = \\frac{u - \\mu{(u)}}{\\sigma{(u)}}$$\n",
        "\n",
        "Onde\n",
        "\n",
        "# $$\\mu{(u)} = \\frac{n_1 \\times n_2}{2}$$\n",
        "# $$\\sigma{(u)} = \\sqrt{\\frac{n_1 \\times n_2 \\times (n_1 + n_2 + 1)}{12}}$$"
      ]
    },
    {
      "cell_type": "markdown",
      "metadata": {
        "id": "DsVNwKjOpsm8"
      },
      "source": [
        "### Obtendo os postos"
      ]
    },
    {
      "cell_type": "code",
      "execution_count": null,
      "metadata": {
        "id": "mjUNCgykpsm8",
        "colab": {
          "base_uri": "https://localhost:8080/",
          "height": 238
        },
        "outputId": "85eb4cd6-a68a-4925-b8e3-17ab8a09598f"
      },
      "outputs": [
        {
          "output_type": "execute_result",
          "data": {
            "text/html": [
              "\n",
              "  <div id=\"df-e967a652-8645-437b-bf75-63aaedfcba76\">\n",
              "    <div class=\"colab-df-container\">\n",
              "      <div>\n",
              "<style scoped>\n",
              "    .dataframe tbody tr th:only-of-type {\n",
              "        vertical-align: middle;\n",
              "    }\n",
              "\n",
              "    .dataframe tbody tr th {\n",
              "        vertical-align: top;\n",
              "    }\n",
              "\n",
              "    .dataframe thead th {\n",
              "        text-align: right;\n",
              "    }\n",
              "</style>\n",
              "<table border=\"1\" class=\"dataframe\">\n",
              "  <thead>\n",
              "    <tr style=\"text-align: right;\">\n",
              "      <th></th>\n",
              "      <th>Renda</th>\n",
              "      <th>Sexo</th>\n",
              "    </tr>\n",
              "  </thead>\n",
              "  <tbody>\n",
              "    <tr>\n",
              "      <th>67872</th>\n",
              "      <td>1200</td>\n",
              "      <td>Homens</td>\n",
              "    </tr>\n",
              "    <tr>\n",
              "      <th>30211</th>\n",
              "      <td>2000</td>\n",
              "      <td>Homens</td>\n",
              "    </tr>\n",
              "    <tr>\n",
              "      <th>64406</th>\n",
              "      <td>850</td>\n",
              "      <td>Homens</td>\n",
              "    </tr>\n",
              "    <tr>\n",
              "      <th>26519</th>\n",
              "      <td>800</td>\n",
              "      <td>Homens</td>\n",
              "    </tr>\n",
              "    <tr>\n",
              "      <th>61540</th>\n",
              "      <td>2000</td>\n",
              "      <td>Homens</td>\n",
              "    </tr>\n",
              "    <tr>\n",
              "      <th>17422</th>\n",
              "      <td>1200</td>\n",
              "      <td>Homens</td>\n",
              "    </tr>\n",
              "  </tbody>\n",
              "</table>\n",
              "</div>\n",
              "      <button class=\"colab-df-convert\" onclick=\"convertToInteractive('df-e967a652-8645-437b-bf75-63aaedfcba76')\"\n",
              "              title=\"Convert this dataframe to an interactive table.\"\n",
              "              style=\"display:none;\">\n",
              "        \n",
              "  <svg xmlns=\"http://www.w3.org/2000/svg\" height=\"24px\"viewBox=\"0 0 24 24\"\n",
              "       width=\"24px\">\n",
              "    <path d=\"M0 0h24v24H0V0z\" fill=\"none\"/>\n",
              "    <path d=\"M18.56 5.44l.94 2.06.94-2.06 2.06-.94-2.06-.94-.94-2.06-.94 2.06-2.06.94zm-11 1L8.5 8.5l.94-2.06 2.06-.94-2.06-.94L8.5 2.5l-.94 2.06-2.06.94zm10 10l.94 2.06.94-2.06 2.06-.94-2.06-.94-.94-2.06-.94 2.06-2.06.94z\"/><path d=\"M17.41 7.96l-1.37-1.37c-.4-.4-.92-.59-1.43-.59-.52 0-1.04.2-1.43.59L10.3 9.45l-7.72 7.72c-.78.78-.78 2.05 0 2.83L4 21.41c.39.39.9.59 1.41.59.51 0 1.02-.2 1.41-.59l7.78-7.78 2.81-2.81c.8-.78.8-2.07 0-2.86zM5.41 20L4 18.59l7.72-7.72 1.47 1.35L5.41 20z\"/>\n",
              "  </svg>\n",
              "      </button>\n",
              "      \n",
              "  <style>\n",
              "    .colab-df-container {\n",
              "      display:flex;\n",
              "      flex-wrap:wrap;\n",
              "      gap: 12px;\n",
              "    }\n",
              "\n",
              "    .colab-df-convert {\n",
              "      background-color: #E8F0FE;\n",
              "      border: none;\n",
              "      border-radius: 50%;\n",
              "      cursor: pointer;\n",
              "      display: none;\n",
              "      fill: #1967D2;\n",
              "      height: 32px;\n",
              "      padding: 0 0 0 0;\n",
              "      width: 32px;\n",
              "    }\n",
              "\n",
              "    .colab-df-convert:hover {\n",
              "      background-color: #E2EBFA;\n",
              "      box-shadow: 0px 1px 2px rgba(60, 64, 67, 0.3), 0px 1px 3px 1px rgba(60, 64, 67, 0.15);\n",
              "      fill: #174EA6;\n",
              "    }\n",
              "\n",
              "    [theme=dark] .colab-df-convert {\n",
              "      background-color: #3B4455;\n",
              "      fill: #D2E3FC;\n",
              "    }\n",
              "\n",
              "    [theme=dark] .colab-df-convert:hover {\n",
              "      background-color: #434B5C;\n",
              "      box-shadow: 0px 1px 3px 1px rgba(0, 0, 0, 0.15);\n",
              "      filter: drop-shadow(0px 1px 2px rgba(0, 0, 0, 0.3));\n",
              "      fill: #FFFFFF;\n",
              "    }\n",
              "  </style>\n",
              "\n",
              "      <script>\n",
              "        const buttonEl =\n",
              "          document.querySelector('#df-e967a652-8645-437b-bf75-63aaedfcba76 button.colab-df-convert');\n",
              "        buttonEl.style.display =\n",
              "          google.colab.kernel.accessAllowed ? 'block' : 'none';\n",
              "\n",
              "        async function convertToInteractive(key) {\n",
              "          const element = document.querySelector('#df-e967a652-8645-437b-bf75-63aaedfcba76');\n",
              "          const dataTable =\n",
              "            await google.colab.kernel.invokeFunction('convertToInteractive',\n",
              "                                                     [key], {});\n",
              "          if (!dataTable) return;\n",
              "\n",
              "          const docLinkHtml = 'Like what you see? Visit the ' +\n",
              "            '<a target=\"_blank\" href=https://colab.research.google.com/notebooks/data_table.ipynb>data table notebook</a>'\n",
              "            + ' to learn more about interactive tables.';\n",
              "          element.innerHTML = '';\n",
              "          dataTable['output_type'] = 'display_data';\n",
              "          await google.colab.output.renderOutput(dataTable, element);\n",
              "          const docLink = document.createElement('div');\n",
              "          docLink.innerHTML = docLinkHtml;\n",
              "          element.appendChild(docLink);\n",
              "        }\n",
              "      </script>\n",
              "    </div>\n",
              "  </div>\n",
              "  "
            ],
            "text/plain": [
              "       Renda    Sexo\n",
              "67872   1200  Homens\n",
              "30211   2000  Homens\n",
              "64406    850  Homens\n",
              "26519    800  Homens\n",
              "61540   2000  Homens\n",
              "17422   1200  Homens"
            ]
          },
          "metadata": {},
          "execution_count": 147
        }
      ],
      "source": [
        "H = pd.DataFrame(homens)\n",
        "H['Sexo'] = 'Homens'\n",
        "H"
      ]
    },
    {
      "cell_type": "code",
      "execution_count": null,
      "metadata": {
        "id": "y68IGk4o8mgB",
        "colab": {
          "base_uri": "https://localhost:8080/",
          "height": 300
        },
        "outputId": "e2f53072-90ec-44ca-eec8-e7faf4700ae2"
      },
      "outputs": [
        {
          "output_type": "execute_result",
          "data": {
            "text/html": [
              "\n",
              "  <div id=\"df-909fb226-e0f2-4a8c-83f7-918b7939d079\">\n",
              "    <div class=\"colab-df-container\">\n",
              "      <div>\n",
              "<style scoped>\n",
              "    .dataframe tbody tr th:only-of-type {\n",
              "        vertical-align: middle;\n",
              "    }\n",
              "\n",
              "    .dataframe tbody tr th {\n",
              "        vertical-align: top;\n",
              "    }\n",
              "\n",
              "    .dataframe thead th {\n",
              "        text-align: right;\n",
              "    }\n",
              "</style>\n",
              "<table border=\"1\" class=\"dataframe\">\n",
              "  <thead>\n",
              "    <tr style=\"text-align: right;\">\n",
              "      <th></th>\n",
              "      <th>Renda</th>\n",
              "      <th>Sexo</th>\n",
              "    </tr>\n",
              "  </thead>\n",
              "  <tbody>\n",
              "    <tr>\n",
              "      <th>6251</th>\n",
              "      <td>1100</td>\n",
              "      <td>Mulheres</td>\n",
              "    </tr>\n",
              "    <tr>\n",
              "      <th>34764</th>\n",
              "      <td>400</td>\n",
              "      <td>Mulheres</td>\n",
              "    </tr>\n",
              "    <tr>\n",
              "      <th>40596</th>\n",
              "      <td>788</td>\n",
              "      <td>Mulheres</td>\n",
              "    </tr>\n",
              "    <tr>\n",
              "      <th>11303</th>\n",
              "      <td>4300</td>\n",
              "      <td>Mulheres</td>\n",
              "    </tr>\n",
              "    <tr>\n",
              "      <th>22733</th>\n",
              "      <td>250</td>\n",
              "      <td>Mulheres</td>\n",
              "    </tr>\n",
              "    <tr>\n",
              "      <th>24707</th>\n",
              "      <td>400</td>\n",
              "      <td>Mulheres</td>\n",
              "    </tr>\n",
              "    <tr>\n",
              "      <th>60340</th>\n",
              "      <td>700</td>\n",
              "      <td>Mulheres</td>\n",
              "    </tr>\n",
              "    <tr>\n",
              "      <th>17035</th>\n",
              "      <td>788</td>\n",
              "      <td>Mulheres</td>\n",
              "    </tr>\n",
              "  </tbody>\n",
              "</table>\n",
              "</div>\n",
              "      <button class=\"colab-df-convert\" onclick=\"convertToInteractive('df-909fb226-e0f2-4a8c-83f7-918b7939d079')\"\n",
              "              title=\"Convert this dataframe to an interactive table.\"\n",
              "              style=\"display:none;\">\n",
              "        \n",
              "  <svg xmlns=\"http://www.w3.org/2000/svg\" height=\"24px\"viewBox=\"0 0 24 24\"\n",
              "       width=\"24px\">\n",
              "    <path d=\"M0 0h24v24H0V0z\" fill=\"none\"/>\n",
              "    <path d=\"M18.56 5.44l.94 2.06.94-2.06 2.06-.94-2.06-.94-.94-2.06-.94 2.06-2.06.94zm-11 1L8.5 8.5l.94-2.06 2.06-.94-2.06-.94L8.5 2.5l-.94 2.06-2.06.94zm10 10l.94 2.06.94-2.06 2.06-.94-2.06-.94-.94-2.06-.94 2.06-2.06.94z\"/><path d=\"M17.41 7.96l-1.37-1.37c-.4-.4-.92-.59-1.43-.59-.52 0-1.04.2-1.43.59L10.3 9.45l-7.72 7.72c-.78.78-.78 2.05 0 2.83L4 21.41c.39.39.9.59 1.41.59.51 0 1.02-.2 1.41-.59l7.78-7.78 2.81-2.81c.8-.78.8-2.07 0-2.86zM5.41 20L4 18.59l7.72-7.72 1.47 1.35L5.41 20z\"/>\n",
              "  </svg>\n",
              "      </button>\n",
              "      \n",
              "  <style>\n",
              "    .colab-df-container {\n",
              "      display:flex;\n",
              "      flex-wrap:wrap;\n",
              "      gap: 12px;\n",
              "    }\n",
              "\n",
              "    .colab-df-convert {\n",
              "      background-color: #E8F0FE;\n",
              "      border: none;\n",
              "      border-radius: 50%;\n",
              "      cursor: pointer;\n",
              "      display: none;\n",
              "      fill: #1967D2;\n",
              "      height: 32px;\n",
              "      padding: 0 0 0 0;\n",
              "      width: 32px;\n",
              "    }\n",
              "\n",
              "    .colab-df-convert:hover {\n",
              "      background-color: #E2EBFA;\n",
              "      box-shadow: 0px 1px 2px rgba(60, 64, 67, 0.3), 0px 1px 3px 1px rgba(60, 64, 67, 0.15);\n",
              "      fill: #174EA6;\n",
              "    }\n",
              "\n",
              "    [theme=dark] .colab-df-convert {\n",
              "      background-color: #3B4455;\n",
              "      fill: #D2E3FC;\n",
              "    }\n",
              "\n",
              "    [theme=dark] .colab-df-convert:hover {\n",
              "      background-color: #434B5C;\n",
              "      box-shadow: 0px 1px 3px 1px rgba(0, 0, 0, 0.15);\n",
              "      filter: drop-shadow(0px 1px 2px rgba(0, 0, 0, 0.3));\n",
              "      fill: #FFFFFF;\n",
              "    }\n",
              "  </style>\n",
              "\n",
              "      <script>\n",
              "        const buttonEl =\n",
              "          document.querySelector('#df-909fb226-e0f2-4a8c-83f7-918b7939d079 button.colab-df-convert');\n",
              "        buttonEl.style.display =\n",
              "          google.colab.kernel.accessAllowed ? 'block' : 'none';\n",
              "\n",
              "        async function convertToInteractive(key) {\n",
              "          const element = document.querySelector('#df-909fb226-e0f2-4a8c-83f7-918b7939d079');\n",
              "          const dataTable =\n",
              "            await google.colab.kernel.invokeFunction('convertToInteractive',\n",
              "                                                     [key], {});\n",
              "          if (!dataTable) return;\n",
              "\n",
              "          const docLinkHtml = 'Like what you see? Visit the ' +\n",
              "            '<a target=\"_blank\" href=https://colab.research.google.com/notebooks/data_table.ipynb>data table notebook</a>'\n",
              "            + ' to learn more about interactive tables.';\n",
              "          element.innerHTML = '';\n",
              "          dataTable['output_type'] = 'display_data';\n",
              "          await google.colab.output.renderOutput(dataTable, element);\n",
              "          const docLink = document.createElement('div');\n",
              "          docLink.innerHTML = docLinkHtml;\n",
              "          element.appendChild(docLink);\n",
              "        }\n",
              "      </script>\n",
              "    </div>\n",
              "  </div>\n",
              "  "
            ],
            "text/plain": [
              "       Renda      Sexo\n",
              "6251    1100  Mulheres\n",
              "34764    400  Mulheres\n",
              "40596    788  Mulheres\n",
              "11303   4300  Mulheres\n",
              "22733    250  Mulheres\n",
              "24707    400  Mulheres\n",
              "60340    700  Mulheres\n",
              "17035    788  Mulheres"
            ]
          },
          "metadata": {},
          "execution_count": 148
        }
      ],
      "source": [
        "M = pd.DataFrame(mulheres)\n",
        "M['Sexo'] = 'Mulheres'\n",
        "M"
      ]
    },
    {
      "cell_type": "code",
      "execution_count": null,
      "metadata": {
        "id": "HFVjaj4f8mOi",
        "colab": {
          "base_uri": "https://localhost:8080/",
          "height": 488
        },
        "outputId": "23efc472-b035-4dbe-aaee-674bb68a01d3"
      },
      "outputs": [
        {
          "output_type": "execute_result",
          "data": {
            "text/html": [
              "\n",
              "  <div id=\"df-b756170c-d0b1-4896-a82a-e039f6c83eb8\">\n",
              "    <div class=\"colab-df-container\">\n",
              "      <div>\n",
              "<style scoped>\n",
              "    .dataframe tbody tr th:only-of-type {\n",
              "        vertical-align: middle;\n",
              "    }\n",
              "\n",
              "    .dataframe tbody tr th {\n",
              "        vertical-align: top;\n",
              "    }\n",
              "\n",
              "    .dataframe thead th {\n",
              "        text-align: right;\n",
              "    }\n",
              "</style>\n",
              "<table border=\"1\" class=\"dataframe\">\n",
              "  <thead>\n",
              "    <tr style=\"text-align: right;\">\n",
              "      <th></th>\n",
              "      <th>Renda</th>\n",
              "      <th>Sexo</th>\n",
              "    </tr>\n",
              "  </thead>\n",
              "  <tbody>\n",
              "    <tr>\n",
              "      <th>0</th>\n",
              "      <td>1200</td>\n",
              "      <td>Homens</td>\n",
              "    </tr>\n",
              "    <tr>\n",
              "      <th>1</th>\n",
              "      <td>2000</td>\n",
              "      <td>Homens</td>\n",
              "    </tr>\n",
              "    <tr>\n",
              "      <th>2</th>\n",
              "      <td>850</td>\n",
              "      <td>Homens</td>\n",
              "    </tr>\n",
              "    <tr>\n",
              "      <th>3</th>\n",
              "      <td>800</td>\n",
              "      <td>Homens</td>\n",
              "    </tr>\n",
              "    <tr>\n",
              "      <th>4</th>\n",
              "      <td>2000</td>\n",
              "      <td>Homens</td>\n",
              "    </tr>\n",
              "    <tr>\n",
              "      <th>5</th>\n",
              "      <td>1200</td>\n",
              "      <td>Homens</td>\n",
              "    </tr>\n",
              "    <tr>\n",
              "      <th>6</th>\n",
              "      <td>1100</td>\n",
              "      <td>Mulheres</td>\n",
              "    </tr>\n",
              "    <tr>\n",
              "      <th>7</th>\n",
              "      <td>400</td>\n",
              "      <td>Mulheres</td>\n",
              "    </tr>\n",
              "    <tr>\n",
              "      <th>8</th>\n",
              "      <td>788</td>\n",
              "      <td>Mulheres</td>\n",
              "    </tr>\n",
              "    <tr>\n",
              "      <th>9</th>\n",
              "      <td>4300</td>\n",
              "      <td>Mulheres</td>\n",
              "    </tr>\n",
              "    <tr>\n",
              "      <th>10</th>\n",
              "      <td>250</td>\n",
              "      <td>Mulheres</td>\n",
              "    </tr>\n",
              "    <tr>\n",
              "      <th>11</th>\n",
              "      <td>400</td>\n",
              "      <td>Mulheres</td>\n",
              "    </tr>\n",
              "    <tr>\n",
              "      <th>12</th>\n",
              "      <td>700</td>\n",
              "      <td>Mulheres</td>\n",
              "    </tr>\n",
              "    <tr>\n",
              "      <th>13</th>\n",
              "      <td>788</td>\n",
              "      <td>Mulheres</td>\n",
              "    </tr>\n",
              "  </tbody>\n",
              "</table>\n",
              "</div>\n",
              "      <button class=\"colab-df-convert\" onclick=\"convertToInteractive('df-b756170c-d0b1-4896-a82a-e039f6c83eb8')\"\n",
              "              title=\"Convert this dataframe to an interactive table.\"\n",
              "              style=\"display:none;\">\n",
              "        \n",
              "  <svg xmlns=\"http://www.w3.org/2000/svg\" height=\"24px\"viewBox=\"0 0 24 24\"\n",
              "       width=\"24px\">\n",
              "    <path d=\"M0 0h24v24H0V0z\" fill=\"none\"/>\n",
              "    <path d=\"M18.56 5.44l.94 2.06.94-2.06 2.06-.94-2.06-.94-.94-2.06-.94 2.06-2.06.94zm-11 1L8.5 8.5l.94-2.06 2.06-.94-2.06-.94L8.5 2.5l-.94 2.06-2.06.94zm10 10l.94 2.06.94-2.06 2.06-.94-2.06-.94-.94-2.06-.94 2.06-2.06.94z\"/><path d=\"M17.41 7.96l-1.37-1.37c-.4-.4-.92-.59-1.43-.59-.52 0-1.04.2-1.43.59L10.3 9.45l-7.72 7.72c-.78.78-.78 2.05 0 2.83L4 21.41c.39.39.9.59 1.41.59.51 0 1.02-.2 1.41-.59l7.78-7.78 2.81-2.81c.8-.78.8-2.07 0-2.86zM5.41 20L4 18.59l7.72-7.72 1.47 1.35L5.41 20z\"/>\n",
              "  </svg>\n",
              "      </button>\n",
              "      \n",
              "  <style>\n",
              "    .colab-df-container {\n",
              "      display:flex;\n",
              "      flex-wrap:wrap;\n",
              "      gap: 12px;\n",
              "    }\n",
              "\n",
              "    .colab-df-convert {\n",
              "      background-color: #E8F0FE;\n",
              "      border: none;\n",
              "      border-radius: 50%;\n",
              "      cursor: pointer;\n",
              "      display: none;\n",
              "      fill: #1967D2;\n",
              "      height: 32px;\n",
              "      padding: 0 0 0 0;\n",
              "      width: 32px;\n",
              "    }\n",
              "\n",
              "    .colab-df-convert:hover {\n",
              "      background-color: #E2EBFA;\n",
              "      box-shadow: 0px 1px 2px rgba(60, 64, 67, 0.3), 0px 1px 3px 1px rgba(60, 64, 67, 0.15);\n",
              "      fill: #174EA6;\n",
              "    }\n",
              "\n",
              "    [theme=dark] .colab-df-convert {\n",
              "      background-color: #3B4455;\n",
              "      fill: #D2E3FC;\n",
              "    }\n",
              "\n",
              "    [theme=dark] .colab-df-convert:hover {\n",
              "      background-color: #434B5C;\n",
              "      box-shadow: 0px 1px 3px 1px rgba(0, 0, 0, 0.15);\n",
              "      filter: drop-shadow(0px 1px 2px rgba(0, 0, 0, 0.3));\n",
              "      fill: #FFFFFF;\n",
              "    }\n",
              "  </style>\n",
              "\n",
              "      <script>\n",
              "        const buttonEl =\n",
              "          document.querySelector('#df-b756170c-d0b1-4896-a82a-e039f6c83eb8 button.colab-df-convert');\n",
              "        buttonEl.style.display =\n",
              "          google.colab.kernel.accessAllowed ? 'block' : 'none';\n",
              "\n",
              "        async function convertToInteractive(key) {\n",
              "          const element = document.querySelector('#df-b756170c-d0b1-4896-a82a-e039f6c83eb8');\n",
              "          const dataTable =\n",
              "            await google.colab.kernel.invokeFunction('convertToInteractive',\n",
              "                                                     [key], {});\n",
              "          if (!dataTable) return;\n",
              "\n",
              "          const docLinkHtml = 'Like what you see? Visit the ' +\n",
              "            '<a target=\"_blank\" href=https://colab.research.google.com/notebooks/data_table.ipynb>data table notebook</a>'\n",
              "            + ' to learn more about interactive tables.';\n",
              "          element.innerHTML = '';\n",
              "          dataTable['output_type'] = 'display_data';\n",
              "          await google.colab.output.renderOutput(dataTable, element);\n",
              "          const docLink = document.createElement('div');\n",
              "          docLink.innerHTML = docLinkHtml;\n",
              "          element.appendChild(docLink);\n",
              "        }\n",
              "      </script>\n",
              "    </div>\n",
              "  </div>\n",
              "  "
            ],
            "text/plain": [
              "    Renda      Sexo\n",
              "0    1200    Homens\n",
              "1    2000    Homens\n",
              "2     850    Homens\n",
              "3     800    Homens\n",
              "4    2000    Homens\n",
              "5    1200    Homens\n",
              "6    1100  Mulheres\n",
              "7     400  Mulheres\n",
              "8     788  Mulheres\n",
              "9    4300  Mulheres\n",
              "10    250  Mulheres\n",
              "11    400  Mulheres\n",
              "12    700  Mulheres\n",
              "13    788  Mulheres"
            ]
          },
          "metadata": {},
          "execution_count": 149
        }
      ],
      "source": [
        "sexo = H.append(M)\n",
        "sexo.reset_index(inplace = True, drop = True)\n",
        "sexo"
      ]
    },
    {
      "cell_type": "code",
      "execution_count": null,
      "metadata": {
        "id": "cpN2H9kFpsm-",
        "colab": {
          "base_uri": "https://localhost:8080/",
          "height": 488
        },
        "outputId": "91f82380-bba9-4aa7-f39f-1f001b9dc3b4"
      },
      "outputs": [
        {
          "output_type": "execute_result",
          "data": {
            "text/html": [
              "\n",
              "  <div id=\"df-ad727dbc-2399-4114-9ca1-0808f6fedf78\">\n",
              "    <div class=\"colab-df-container\">\n",
              "      <div>\n",
              "<style scoped>\n",
              "    .dataframe tbody tr th:only-of-type {\n",
              "        vertical-align: middle;\n",
              "    }\n",
              "\n",
              "    .dataframe tbody tr th {\n",
              "        vertical-align: top;\n",
              "    }\n",
              "\n",
              "    .dataframe thead th {\n",
              "        text-align: right;\n",
              "    }\n",
              "</style>\n",
              "<table border=\"1\" class=\"dataframe\">\n",
              "  <thead>\n",
              "    <tr style=\"text-align: right;\">\n",
              "      <th></th>\n",
              "      <th>Renda</th>\n",
              "      <th>Sexo</th>\n",
              "    </tr>\n",
              "  </thead>\n",
              "  <tbody>\n",
              "    <tr>\n",
              "      <th>10</th>\n",
              "      <td>250</td>\n",
              "      <td>Mulheres</td>\n",
              "    </tr>\n",
              "    <tr>\n",
              "      <th>7</th>\n",
              "      <td>400</td>\n",
              "      <td>Mulheres</td>\n",
              "    </tr>\n",
              "    <tr>\n",
              "      <th>11</th>\n",
              "      <td>400</td>\n",
              "      <td>Mulheres</td>\n",
              "    </tr>\n",
              "    <tr>\n",
              "      <th>12</th>\n",
              "      <td>700</td>\n",
              "      <td>Mulheres</td>\n",
              "    </tr>\n",
              "    <tr>\n",
              "      <th>8</th>\n",
              "      <td>788</td>\n",
              "      <td>Mulheres</td>\n",
              "    </tr>\n",
              "    <tr>\n",
              "      <th>13</th>\n",
              "      <td>788</td>\n",
              "      <td>Mulheres</td>\n",
              "    </tr>\n",
              "    <tr>\n",
              "      <th>3</th>\n",
              "      <td>800</td>\n",
              "      <td>Homens</td>\n",
              "    </tr>\n",
              "    <tr>\n",
              "      <th>2</th>\n",
              "      <td>850</td>\n",
              "      <td>Homens</td>\n",
              "    </tr>\n",
              "    <tr>\n",
              "      <th>6</th>\n",
              "      <td>1100</td>\n",
              "      <td>Mulheres</td>\n",
              "    </tr>\n",
              "    <tr>\n",
              "      <th>0</th>\n",
              "      <td>1200</td>\n",
              "      <td>Homens</td>\n",
              "    </tr>\n",
              "    <tr>\n",
              "      <th>5</th>\n",
              "      <td>1200</td>\n",
              "      <td>Homens</td>\n",
              "    </tr>\n",
              "    <tr>\n",
              "      <th>1</th>\n",
              "      <td>2000</td>\n",
              "      <td>Homens</td>\n",
              "    </tr>\n",
              "    <tr>\n",
              "      <th>4</th>\n",
              "      <td>2000</td>\n",
              "      <td>Homens</td>\n",
              "    </tr>\n",
              "    <tr>\n",
              "      <th>9</th>\n",
              "      <td>4300</td>\n",
              "      <td>Mulheres</td>\n",
              "    </tr>\n",
              "  </tbody>\n",
              "</table>\n",
              "</div>\n",
              "      <button class=\"colab-df-convert\" onclick=\"convertToInteractive('df-ad727dbc-2399-4114-9ca1-0808f6fedf78')\"\n",
              "              title=\"Convert this dataframe to an interactive table.\"\n",
              "              style=\"display:none;\">\n",
              "        \n",
              "  <svg xmlns=\"http://www.w3.org/2000/svg\" height=\"24px\"viewBox=\"0 0 24 24\"\n",
              "       width=\"24px\">\n",
              "    <path d=\"M0 0h24v24H0V0z\" fill=\"none\"/>\n",
              "    <path d=\"M18.56 5.44l.94 2.06.94-2.06 2.06-.94-2.06-.94-.94-2.06-.94 2.06-2.06.94zm-11 1L8.5 8.5l.94-2.06 2.06-.94-2.06-.94L8.5 2.5l-.94 2.06-2.06.94zm10 10l.94 2.06.94-2.06 2.06-.94-2.06-.94-.94-2.06-.94 2.06-2.06.94z\"/><path d=\"M17.41 7.96l-1.37-1.37c-.4-.4-.92-.59-1.43-.59-.52 0-1.04.2-1.43.59L10.3 9.45l-7.72 7.72c-.78.78-.78 2.05 0 2.83L4 21.41c.39.39.9.59 1.41.59.51 0 1.02-.2 1.41-.59l7.78-7.78 2.81-2.81c.8-.78.8-2.07 0-2.86zM5.41 20L4 18.59l7.72-7.72 1.47 1.35L5.41 20z\"/>\n",
              "  </svg>\n",
              "      </button>\n",
              "      \n",
              "  <style>\n",
              "    .colab-df-container {\n",
              "      display:flex;\n",
              "      flex-wrap:wrap;\n",
              "      gap: 12px;\n",
              "    }\n",
              "\n",
              "    .colab-df-convert {\n",
              "      background-color: #E8F0FE;\n",
              "      border: none;\n",
              "      border-radius: 50%;\n",
              "      cursor: pointer;\n",
              "      display: none;\n",
              "      fill: #1967D2;\n",
              "      height: 32px;\n",
              "      padding: 0 0 0 0;\n",
              "      width: 32px;\n",
              "    }\n",
              "\n",
              "    .colab-df-convert:hover {\n",
              "      background-color: #E2EBFA;\n",
              "      box-shadow: 0px 1px 2px rgba(60, 64, 67, 0.3), 0px 1px 3px 1px rgba(60, 64, 67, 0.15);\n",
              "      fill: #174EA6;\n",
              "    }\n",
              "\n",
              "    [theme=dark] .colab-df-convert {\n",
              "      background-color: #3B4455;\n",
              "      fill: #D2E3FC;\n",
              "    }\n",
              "\n",
              "    [theme=dark] .colab-df-convert:hover {\n",
              "      background-color: #434B5C;\n",
              "      box-shadow: 0px 1px 3px 1px rgba(0, 0, 0, 0.15);\n",
              "      filter: drop-shadow(0px 1px 2px rgba(0, 0, 0, 0.3));\n",
              "      fill: #FFFFFF;\n",
              "    }\n",
              "  </style>\n",
              "\n",
              "      <script>\n",
              "        const buttonEl =\n",
              "          document.querySelector('#df-ad727dbc-2399-4114-9ca1-0808f6fedf78 button.colab-df-convert');\n",
              "        buttonEl.style.display =\n",
              "          google.colab.kernel.accessAllowed ? 'block' : 'none';\n",
              "\n",
              "        async function convertToInteractive(key) {\n",
              "          const element = document.querySelector('#df-ad727dbc-2399-4114-9ca1-0808f6fedf78');\n",
              "          const dataTable =\n",
              "            await google.colab.kernel.invokeFunction('convertToInteractive',\n",
              "                                                     [key], {});\n",
              "          if (!dataTable) return;\n",
              "\n",
              "          const docLinkHtml = 'Like what you see? Visit the ' +\n",
              "            '<a target=\"_blank\" href=https://colab.research.google.com/notebooks/data_table.ipynb>data table notebook</a>'\n",
              "            + ' to learn more about interactive tables.';\n",
              "          element.innerHTML = '';\n",
              "          dataTable['output_type'] = 'display_data';\n",
              "          await google.colab.output.renderOutput(dataTable, element);\n",
              "          const docLink = document.createElement('div');\n",
              "          docLink.innerHTML = docLinkHtml;\n",
              "          element.appendChild(docLink);\n",
              "        }\n",
              "      </script>\n",
              "    </div>\n",
              "  </div>\n",
              "  "
            ],
            "text/plain": [
              "    Renda      Sexo\n",
              "10    250  Mulheres\n",
              "7     400  Mulheres\n",
              "11    400  Mulheres\n",
              "12    700  Mulheres\n",
              "8     788  Mulheres\n",
              "13    788  Mulheres\n",
              "3     800    Homens\n",
              "2     850    Homens\n",
              "6    1100  Mulheres\n",
              "0    1200    Homens\n",
              "5    1200    Homens\n",
              "1    2000    Homens\n",
              "4    2000    Homens\n",
              "9    4300  Mulheres"
            ]
          },
          "metadata": {},
          "execution_count": 150
        }
      ],
      "source": [
        "sexo.sort_values(by = 'Renda', inplace = True)\n",
        "sexo"
      ]
    },
    {
      "cell_type": "code",
      "execution_count": null,
      "metadata": {
        "id": "YCT6KsRS8-by",
        "colab": {
          "base_uri": "https://localhost:8080/",
          "height": 488
        },
        "outputId": "ff37ada6-df27-4f19-f097-b13d193ee33d"
      },
      "outputs": [
        {
          "output_type": "execute_result",
          "data": {
            "text/html": [
              "\n",
              "  <div id=\"df-5c796cd1-4116-4261-b5b8-0c9b319367ae\">\n",
              "    <div class=\"colab-df-container\">\n",
              "      <div>\n",
              "<style scoped>\n",
              "    .dataframe tbody tr th:only-of-type {\n",
              "        vertical-align: middle;\n",
              "    }\n",
              "\n",
              "    .dataframe tbody tr th {\n",
              "        vertical-align: top;\n",
              "    }\n",
              "\n",
              "    .dataframe thead th {\n",
              "        text-align: right;\n",
              "    }\n",
              "</style>\n",
              "<table border=\"1\" class=\"dataframe\">\n",
              "  <thead>\n",
              "    <tr style=\"text-align: right;\">\n",
              "      <th></th>\n",
              "      <th>Renda</th>\n",
              "      <th>Sexo</th>\n",
              "      <th>Posto</th>\n",
              "    </tr>\n",
              "  </thead>\n",
              "  <tbody>\n",
              "    <tr>\n",
              "      <th>10</th>\n",
              "      <td>250</td>\n",
              "      <td>Mulheres</td>\n",
              "      <td>1</td>\n",
              "    </tr>\n",
              "    <tr>\n",
              "      <th>7</th>\n",
              "      <td>400</td>\n",
              "      <td>Mulheres</td>\n",
              "      <td>2</td>\n",
              "    </tr>\n",
              "    <tr>\n",
              "      <th>11</th>\n",
              "      <td>400</td>\n",
              "      <td>Mulheres</td>\n",
              "      <td>3</td>\n",
              "    </tr>\n",
              "    <tr>\n",
              "      <th>12</th>\n",
              "      <td>700</td>\n",
              "      <td>Mulheres</td>\n",
              "      <td>4</td>\n",
              "    </tr>\n",
              "    <tr>\n",
              "      <th>8</th>\n",
              "      <td>788</td>\n",
              "      <td>Mulheres</td>\n",
              "      <td>5</td>\n",
              "    </tr>\n",
              "    <tr>\n",
              "      <th>13</th>\n",
              "      <td>788</td>\n",
              "      <td>Mulheres</td>\n",
              "      <td>6</td>\n",
              "    </tr>\n",
              "    <tr>\n",
              "      <th>3</th>\n",
              "      <td>800</td>\n",
              "      <td>Homens</td>\n",
              "      <td>7</td>\n",
              "    </tr>\n",
              "    <tr>\n",
              "      <th>2</th>\n",
              "      <td>850</td>\n",
              "      <td>Homens</td>\n",
              "      <td>8</td>\n",
              "    </tr>\n",
              "    <tr>\n",
              "      <th>6</th>\n",
              "      <td>1100</td>\n",
              "      <td>Mulheres</td>\n",
              "      <td>9</td>\n",
              "    </tr>\n",
              "    <tr>\n",
              "      <th>0</th>\n",
              "      <td>1200</td>\n",
              "      <td>Homens</td>\n",
              "      <td>10</td>\n",
              "    </tr>\n",
              "    <tr>\n",
              "      <th>5</th>\n",
              "      <td>1200</td>\n",
              "      <td>Homens</td>\n",
              "      <td>11</td>\n",
              "    </tr>\n",
              "    <tr>\n",
              "      <th>1</th>\n",
              "      <td>2000</td>\n",
              "      <td>Homens</td>\n",
              "      <td>12</td>\n",
              "    </tr>\n",
              "    <tr>\n",
              "      <th>4</th>\n",
              "      <td>2000</td>\n",
              "      <td>Homens</td>\n",
              "      <td>13</td>\n",
              "    </tr>\n",
              "    <tr>\n",
              "      <th>9</th>\n",
              "      <td>4300</td>\n",
              "      <td>Mulheres</td>\n",
              "      <td>14</td>\n",
              "    </tr>\n",
              "  </tbody>\n",
              "</table>\n",
              "</div>\n",
              "      <button class=\"colab-df-convert\" onclick=\"convertToInteractive('df-5c796cd1-4116-4261-b5b8-0c9b319367ae')\"\n",
              "              title=\"Convert this dataframe to an interactive table.\"\n",
              "              style=\"display:none;\">\n",
              "        \n",
              "  <svg xmlns=\"http://www.w3.org/2000/svg\" height=\"24px\"viewBox=\"0 0 24 24\"\n",
              "       width=\"24px\">\n",
              "    <path d=\"M0 0h24v24H0V0z\" fill=\"none\"/>\n",
              "    <path d=\"M18.56 5.44l.94 2.06.94-2.06 2.06-.94-2.06-.94-.94-2.06-.94 2.06-2.06.94zm-11 1L8.5 8.5l.94-2.06 2.06-.94-2.06-.94L8.5 2.5l-.94 2.06-2.06.94zm10 10l.94 2.06.94-2.06 2.06-.94-2.06-.94-.94-2.06-.94 2.06-2.06.94z\"/><path d=\"M17.41 7.96l-1.37-1.37c-.4-.4-.92-.59-1.43-.59-.52 0-1.04.2-1.43.59L10.3 9.45l-7.72 7.72c-.78.78-.78 2.05 0 2.83L4 21.41c.39.39.9.59 1.41.59.51 0 1.02-.2 1.41-.59l7.78-7.78 2.81-2.81c.8-.78.8-2.07 0-2.86zM5.41 20L4 18.59l7.72-7.72 1.47 1.35L5.41 20z\"/>\n",
              "  </svg>\n",
              "      </button>\n",
              "      \n",
              "  <style>\n",
              "    .colab-df-container {\n",
              "      display:flex;\n",
              "      flex-wrap:wrap;\n",
              "      gap: 12px;\n",
              "    }\n",
              "\n",
              "    .colab-df-convert {\n",
              "      background-color: #E8F0FE;\n",
              "      border: none;\n",
              "      border-radius: 50%;\n",
              "      cursor: pointer;\n",
              "      display: none;\n",
              "      fill: #1967D2;\n",
              "      height: 32px;\n",
              "      padding: 0 0 0 0;\n",
              "      width: 32px;\n",
              "    }\n",
              "\n",
              "    .colab-df-convert:hover {\n",
              "      background-color: #E2EBFA;\n",
              "      box-shadow: 0px 1px 2px rgba(60, 64, 67, 0.3), 0px 1px 3px 1px rgba(60, 64, 67, 0.15);\n",
              "      fill: #174EA6;\n",
              "    }\n",
              "\n",
              "    [theme=dark] .colab-df-convert {\n",
              "      background-color: #3B4455;\n",
              "      fill: #D2E3FC;\n",
              "    }\n",
              "\n",
              "    [theme=dark] .colab-df-convert:hover {\n",
              "      background-color: #434B5C;\n",
              "      box-shadow: 0px 1px 3px 1px rgba(0, 0, 0, 0.15);\n",
              "      filter: drop-shadow(0px 1px 2px rgba(0, 0, 0, 0.3));\n",
              "      fill: #FFFFFF;\n",
              "    }\n",
              "  </style>\n",
              "\n",
              "      <script>\n",
              "        const buttonEl =\n",
              "          document.querySelector('#df-5c796cd1-4116-4261-b5b8-0c9b319367ae button.colab-df-convert');\n",
              "        buttonEl.style.display =\n",
              "          google.colab.kernel.accessAllowed ? 'block' : 'none';\n",
              "\n",
              "        async function convertToInteractive(key) {\n",
              "          const element = document.querySelector('#df-5c796cd1-4116-4261-b5b8-0c9b319367ae');\n",
              "          const dataTable =\n",
              "            await google.colab.kernel.invokeFunction('convertToInteractive',\n",
              "                                                     [key], {});\n",
              "          if (!dataTable) return;\n",
              "\n",
              "          const docLinkHtml = 'Like what you see? Visit the ' +\n",
              "            '<a target=\"_blank\" href=https://colab.research.google.com/notebooks/data_table.ipynb>data table notebook</a>'\n",
              "            + ' to learn more about interactive tables.';\n",
              "          element.innerHTML = '';\n",
              "          dataTable['output_type'] = 'display_data';\n",
              "          await google.colab.output.renderOutput(dataTable, element);\n",
              "          const docLink = document.createElement('div');\n",
              "          docLink.innerHTML = docLinkHtml;\n",
              "          element.appendChild(docLink);\n",
              "        }\n",
              "      </script>\n",
              "    </div>\n",
              "  </div>\n",
              "  "
            ],
            "text/plain": [
              "    Renda      Sexo  Posto\n",
              "10    250  Mulheres      1\n",
              "7     400  Mulheres      2\n",
              "11    400  Mulheres      3\n",
              "12    700  Mulheres      4\n",
              "8     788  Mulheres      5\n",
              "13    788  Mulheres      6\n",
              "3     800    Homens      7\n",
              "2     850    Homens      8\n",
              "6    1100  Mulheres      9\n",
              "0    1200    Homens     10\n",
              "5    1200    Homens     11\n",
              "1    2000    Homens     12\n",
              "4    2000    Homens     13\n",
              "9    4300  Mulheres     14"
            ]
          },
          "metadata": {},
          "execution_count": 151
        }
      ],
      "source": [
        "sexo['Posto'] = range(1, len(sexo) + 1)\n",
        "sexo"
      ]
    },
    {
      "cell_type": "code",
      "execution_count": null,
      "metadata": {
        "id": "tEuMTSSU8-OE",
        "colab": {
          "base_uri": "https://localhost:8080/",
          "height": 394
        },
        "outputId": "f186a6f2-aee8-40d1-d10d-5ec02a2ba76e"
      },
      "outputs": [
        {
          "output_type": "execute_result",
          "data": {
            "text/html": [
              "\n",
              "  <div id=\"df-9464e1f4-b5f0-4ea2-ba98-04aa33103dde\">\n",
              "    <div class=\"colab-df-container\">\n",
              "      <div>\n",
              "<style scoped>\n",
              "    .dataframe tbody tr th:only-of-type {\n",
              "        vertical-align: middle;\n",
              "    }\n",
              "\n",
              "    .dataframe tbody tr th {\n",
              "        vertical-align: top;\n",
              "    }\n",
              "\n",
              "    .dataframe thead th {\n",
              "        text-align: right;\n",
              "    }\n",
              "</style>\n",
              "<table border=\"1\" class=\"dataframe\">\n",
              "  <thead>\n",
              "    <tr style=\"text-align: right;\">\n",
              "      <th></th>\n",
              "      <th>Posto</th>\n",
              "    </tr>\n",
              "    <tr>\n",
              "      <th>Renda</th>\n",
              "      <th></th>\n",
              "    </tr>\n",
              "  </thead>\n",
              "  <tbody>\n",
              "    <tr>\n",
              "      <th>250</th>\n",
              "      <td>1.0</td>\n",
              "    </tr>\n",
              "    <tr>\n",
              "      <th>400</th>\n",
              "      <td>2.5</td>\n",
              "    </tr>\n",
              "    <tr>\n",
              "      <th>700</th>\n",
              "      <td>4.0</td>\n",
              "    </tr>\n",
              "    <tr>\n",
              "      <th>788</th>\n",
              "      <td>5.5</td>\n",
              "    </tr>\n",
              "    <tr>\n",
              "      <th>800</th>\n",
              "      <td>7.0</td>\n",
              "    </tr>\n",
              "    <tr>\n",
              "      <th>850</th>\n",
              "      <td>8.0</td>\n",
              "    </tr>\n",
              "    <tr>\n",
              "      <th>1100</th>\n",
              "      <td>9.0</td>\n",
              "    </tr>\n",
              "    <tr>\n",
              "      <th>1200</th>\n",
              "      <td>10.5</td>\n",
              "    </tr>\n",
              "    <tr>\n",
              "      <th>2000</th>\n",
              "      <td>12.5</td>\n",
              "    </tr>\n",
              "    <tr>\n",
              "      <th>4300</th>\n",
              "      <td>14.0</td>\n",
              "    </tr>\n",
              "  </tbody>\n",
              "</table>\n",
              "</div>\n",
              "      <button class=\"colab-df-convert\" onclick=\"convertToInteractive('df-9464e1f4-b5f0-4ea2-ba98-04aa33103dde')\"\n",
              "              title=\"Convert this dataframe to an interactive table.\"\n",
              "              style=\"display:none;\">\n",
              "        \n",
              "  <svg xmlns=\"http://www.w3.org/2000/svg\" height=\"24px\"viewBox=\"0 0 24 24\"\n",
              "       width=\"24px\">\n",
              "    <path d=\"M0 0h24v24H0V0z\" fill=\"none\"/>\n",
              "    <path d=\"M18.56 5.44l.94 2.06.94-2.06 2.06-.94-2.06-.94-.94-2.06-.94 2.06-2.06.94zm-11 1L8.5 8.5l.94-2.06 2.06-.94-2.06-.94L8.5 2.5l-.94 2.06-2.06.94zm10 10l.94 2.06.94-2.06 2.06-.94-2.06-.94-.94-2.06-.94 2.06-2.06.94z\"/><path d=\"M17.41 7.96l-1.37-1.37c-.4-.4-.92-.59-1.43-.59-.52 0-1.04.2-1.43.59L10.3 9.45l-7.72 7.72c-.78.78-.78 2.05 0 2.83L4 21.41c.39.39.9.59 1.41.59.51 0 1.02-.2 1.41-.59l7.78-7.78 2.81-2.81c.8-.78.8-2.07 0-2.86zM5.41 20L4 18.59l7.72-7.72 1.47 1.35L5.41 20z\"/>\n",
              "  </svg>\n",
              "      </button>\n",
              "      \n",
              "  <style>\n",
              "    .colab-df-container {\n",
              "      display:flex;\n",
              "      flex-wrap:wrap;\n",
              "      gap: 12px;\n",
              "    }\n",
              "\n",
              "    .colab-df-convert {\n",
              "      background-color: #E8F0FE;\n",
              "      border: none;\n",
              "      border-radius: 50%;\n",
              "      cursor: pointer;\n",
              "      display: none;\n",
              "      fill: #1967D2;\n",
              "      height: 32px;\n",
              "      padding: 0 0 0 0;\n",
              "      width: 32px;\n",
              "    }\n",
              "\n",
              "    .colab-df-convert:hover {\n",
              "      background-color: #E2EBFA;\n",
              "      box-shadow: 0px 1px 2px rgba(60, 64, 67, 0.3), 0px 1px 3px 1px rgba(60, 64, 67, 0.15);\n",
              "      fill: #174EA6;\n",
              "    }\n",
              "\n",
              "    [theme=dark] .colab-df-convert {\n",
              "      background-color: #3B4455;\n",
              "      fill: #D2E3FC;\n",
              "    }\n",
              "\n",
              "    [theme=dark] .colab-df-convert:hover {\n",
              "      background-color: #434B5C;\n",
              "      box-shadow: 0px 1px 3px 1px rgba(0, 0, 0, 0.15);\n",
              "      filter: drop-shadow(0px 1px 2px rgba(0, 0, 0, 0.3));\n",
              "      fill: #FFFFFF;\n",
              "    }\n",
              "  </style>\n",
              "\n",
              "      <script>\n",
              "        const buttonEl =\n",
              "          document.querySelector('#df-9464e1f4-b5f0-4ea2-ba98-04aa33103dde button.colab-df-convert');\n",
              "        buttonEl.style.display =\n",
              "          google.colab.kernel.accessAllowed ? 'block' : 'none';\n",
              "\n",
              "        async function convertToInteractive(key) {\n",
              "          const element = document.querySelector('#df-9464e1f4-b5f0-4ea2-ba98-04aa33103dde');\n",
              "          const dataTable =\n",
              "            await google.colab.kernel.invokeFunction('convertToInteractive',\n",
              "                                                     [key], {});\n",
              "          if (!dataTable) return;\n",
              "\n",
              "          const docLinkHtml = 'Like what you see? Visit the ' +\n",
              "            '<a target=\"_blank\" href=https://colab.research.google.com/notebooks/data_table.ipynb>data table notebook</a>'\n",
              "            + ' to learn more about interactive tables.';\n",
              "          element.innerHTML = '';\n",
              "          dataTable['output_type'] = 'display_data';\n",
              "          await google.colab.output.renderOutput(dataTable, element);\n",
              "          const docLink = document.createElement('div');\n",
              "          docLink.innerHTML = docLinkHtml;\n",
              "          element.appendChild(docLink);\n",
              "        }\n",
              "      </script>\n",
              "    </div>\n",
              "  </div>\n",
              "  "
            ],
            "text/plain": [
              "       Posto\n",
              "Renda       \n",
              "250      1.0\n",
              "400      2.5\n",
              "700      4.0\n",
              "788      5.5\n",
              "800      7.0\n",
              "850      8.0\n",
              "1100     9.0\n",
              "1200    10.5\n",
              "2000    12.5\n",
              "4300    14.0"
            ]
          },
          "metadata": {},
          "execution_count": 152
        }
      ],
      "source": [
        "posto = sexo[['Renda', 'Posto']].groupby(['Renda']).mean()\n",
        "posto"
      ]
    },
    {
      "cell_type": "code",
      "execution_count": null,
      "metadata": {
        "id": "S9rtsrl88-LB",
        "colab": {
          "base_uri": "https://localhost:8080/",
          "height": 363
        },
        "outputId": "815752b1-b162-48b6-b76b-29f5316ea6ba"
      },
      "outputs": [
        {
          "output_type": "execute_result",
          "data": {
            "text/html": [
              "\n",
              "  <div id=\"df-a4250312-b994-44a5-8891-c9826be94030\">\n",
              "    <div class=\"colab-df-container\">\n",
              "      <div>\n",
              "<style scoped>\n",
              "    .dataframe tbody tr th:only-of-type {\n",
              "        vertical-align: middle;\n",
              "    }\n",
              "\n",
              "    .dataframe tbody tr th {\n",
              "        vertical-align: top;\n",
              "    }\n",
              "\n",
              "    .dataframe thead th {\n",
              "        text-align: right;\n",
              "    }\n",
              "</style>\n",
              "<table border=\"1\" class=\"dataframe\">\n",
              "  <thead>\n",
              "    <tr style=\"text-align: right;\">\n",
              "      <th></th>\n",
              "      <th>Renda</th>\n",
              "      <th>Posto</th>\n",
              "    </tr>\n",
              "  </thead>\n",
              "  <tbody>\n",
              "    <tr>\n",
              "      <th>0</th>\n",
              "      <td>250</td>\n",
              "      <td>1.0</td>\n",
              "    </tr>\n",
              "    <tr>\n",
              "      <th>1</th>\n",
              "      <td>400</td>\n",
              "      <td>2.5</td>\n",
              "    </tr>\n",
              "    <tr>\n",
              "      <th>2</th>\n",
              "      <td>700</td>\n",
              "      <td>4.0</td>\n",
              "    </tr>\n",
              "    <tr>\n",
              "      <th>3</th>\n",
              "      <td>788</td>\n",
              "      <td>5.5</td>\n",
              "    </tr>\n",
              "    <tr>\n",
              "      <th>4</th>\n",
              "      <td>800</td>\n",
              "      <td>7.0</td>\n",
              "    </tr>\n",
              "    <tr>\n",
              "      <th>5</th>\n",
              "      <td>850</td>\n",
              "      <td>8.0</td>\n",
              "    </tr>\n",
              "    <tr>\n",
              "      <th>6</th>\n",
              "      <td>1100</td>\n",
              "      <td>9.0</td>\n",
              "    </tr>\n",
              "    <tr>\n",
              "      <th>7</th>\n",
              "      <td>1200</td>\n",
              "      <td>10.5</td>\n",
              "    </tr>\n",
              "    <tr>\n",
              "      <th>8</th>\n",
              "      <td>2000</td>\n",
              "      <td>12.5</td>\n",
              "    </tr>\n",
              "    <tr>\n",
              "      <th>9</th>\n",
              "      <td>4300</td>\n",
              "      <td>14.0</td>\n",
              "    </tr>\n",
              "  </tbody>\n",
              "</table>\n",
              "</div>\n",
              "      <button class=\"colab-df-convert\" onclick=\"convertToInteractive('df-a4250312-b994-44a5-8891-c9826be94030')\"\n",
              "              title=\"Convert this dataframe to an interactive table.\"\n",
              "              style=\"display:none;\">\n",
              "        \n",
              "  <svg xmlns=\"http://www.w3.org/2000/svg\" height=\"24px\"viewBox=\"0 0 24 24\"\n",
              "       width=\"24px\">\n",
              "    <path d=\"M0 0h24v24H0V0z\" fill=\"none\"/>\n",
              "    <path d=\"M18.56 5.44l.94 2.06.94-2.06 2.06-.94-2.06-.94-.94-2.06-.94 2.06-2.06.94zm-11 1L8.5 8.5l.94-2.06 2.06-.94-2.06-.94L8.5 2.5l-.94 2.06-2.06.94zm10 10l.94 2.06.94-2.06 2.06-.94-2.06-.94-.94-2.06-.94 2.06-2.06.94z\"/><path d=\"M17.41 7.96l-1.37-1.37c-.4-.4-.92-.59-1.43-.59-.52 0-1.04.2-1.43.59L10.3 9.45l-7.72 7.72c-.78.78-.78 2.05 0 2.83L4 21.41c.39.39.9.59 1.41.59.51 0 1.02-.2 1.41-.59l7.78-7.78 2.81-2.81c.8-.78.8-2.07 0-2.86zM5.41 20L4 18.59l7.72-7.72 1.47 1.35L5.41 20z\"/>\n",
              "  </svg>\n",
              "      </button>\n",
              "      \n",
              "  <style>\n",
              "    .colab-df-container {\n",
              "      display:flex;\n",
              "      flex-wrap:wrap;\n",
              "      gap: 12px;\n",
              "    }\n",
              "\n",
              "    .colab-df-convert {\n",
              "      background-color: #E8F0FE;\n",
              "      border: none;\n",
              "      border-radius: 50%;\n",
              "      cursor: pointer;\n",
              "      display: none;\n",
              "      fill: #1967D2;\n",
              "      height: 32px;\n",
              "      padding: 0 0 0 0;\n",
              "      width: 32px;\n",
              "    }\n",
              "\n",
              "    .colab-df-convert:hover {\n",
              "      background-color: #E2EBFA;\n",
              "      box-shadow: 0px 1px 2px rgba(60, 64, 67, 0.3), 0px 1px 3px 1px rgba(60, 64, 67, 0.15);\n",
              "      fill: #174EA6;\n",
              "    }\n",
              "\n",
              "    [theme=dark] .colab-df-convert {\n",
              "      background-color: #3B4455;\n",
              "      fill: #D2E3FC;\n",
              "    }\n",
              "\n",
              "    [theme=dark] .colab-df-convert:hover {\n",
              "      background-color: #434B5C;\n",
              "      box-shadow: 0px 1px 3px 1px rgba(0, 0, 0, 0.15);\n",
              "      filter: drop-shadow(0px 1px 2px rgba(0, 0, 0, 0.3));\n",
              "      fill: #FFFFFF;\n",
              "    }\n",
              "  </style>\n",
              "\n",
              "      <script>\n",
              "        const buttonEl =\n",
              "          document.querySelector('#df-a4250312-b994-44a5-8891-c9826be94030 button.colab-df-convert');\n",
              "        buttonEl.style.display =\n",
              "          google.colab.kernel.accessAllowed ? 'block' : 'none';\n",
              "\n",
              "        async function convertToInteractive(key) {\n",
              "          const element = document.querySelector('#df-a4250312-b994-44a5-8891-c9826be94030');\n",
              "          const dataTable =\n",
              "            await google.colab.kernel.invokeFunction('convertToInteractive',\n",
              "                                                     [key], {});\n",
              "          if (!dataTable) return;\n",
              "\n",
              "          const docLinkHtml = 'Like what you see? Visit the ' +\n",
              "            '<a target=\"_blank\" href=https://colab.research.google.com/notebooks/data_table.ipynb>data table notebook</a>'\n",
              "            + ' to learn more about interactive tables.';\n",
              "          element.innerHTML = '';\n",
              "          dataTable['output_type'] = 'display_data';\n",
              "          await google.colab.output.renderOutput(dataTable, element);\n",
              "          const docLink = document.createElement('div');\n",
              "          docLink.innerHTML = docLinkHtml;\n",
              "          element.appendChild(docLink);\n",
              "        }\n",
              "      </script>\n",
              "    </div>\n",
              "  </div>\n",
              "  "
            ],
            "text/plain": [
              "   Renda  Posto\n",
              "0    250    1.0\n",
              "1    400    2.5\n",
              "2    700    4.0\n",
              "3    788    5.5\n",
              "4    800    7.0\n",
              "5    850    8.0\n",
              "6   1100    9.0\n",
              "7   1200   10.5\n",
              "8   2000   12.5\n",
              "9   4300   14.0"
            ]
          },
          "metadata": {},
          "execution_count": 153
        }
      ],
      "source": [
        "posto.reset_index(inplace = True)\n",
        "posto"
      ]
    },
    {
      "cell_type": "code",
      "execution_count": null,
      "metadata": {
        "id": "w0sqa3j-8-H6",
        "colab": {
          "base_uri": "https://localhost:8080/",
          "height": 488
        },
        "outputId": "a3a385c5-9cbf-4c88-b942-3b6cc5f56936"
      },
      "outputs": [
        {
          "output_type": "execute_result",
          "data": {
            "text/html": [
              "\n",
              "  <div id=\"df-61862db4-1aec-4c49-a2a9-c53803affdc7\">\n",
              "    <div class=\"colab-df-container\">\n",
              "      <div>\n",
              "<style scoped>\n",
              "    .dataframe tbody tr th:only-of-type {\n",
              "        vertical-align: middle;\n",
              "    }\n",
              "\n",
              "    .dataframe tbody tr th {\n",
              "        vertical-align: top;\n",
              "    }\n",
              "\n",
              "    .dataframe thead th {\n",
              "        text-align: right;\n",
              "    }\n",
              "</style>\n",
              "<table border=\"1\" class=\"dataframe\">\n",
              "  <thead>\n",
              "    <tr style=\"text-align: right;\">\n",
              "      <th></th>\n",
              "      <th>Renda</th>\n",
              "      <th>Sexo</th>\n",
              "    </tr>\n",
              "  </thead>\n",
              "  <tbody>\n",
              "    <tr>\n",
              "      <th>10</th>\n",
              "      <td>250</td>\n",
              "      <td>Mulheres</td>\n",
              "    </tr>\n",
              "    <tr>\n",
              "      <th>7</th>\n",
              "      <td>400</td>\n",
              "      <td>Mulheres</td>\n",
              "    </tr>\n",
              "    <tr>\n",
              "      <th>11</th>\n",
              "      <td>400</td>\n",
              "      <td>Mulheres</td>\n",
              "    </tr>\n",
              "    <tr>\n",
              "      <th>12</th>\n",
              "      <td>700</td>\n",
              "      <td>Mulheres</td>\n",
              "    </tr>\n",
              "    <tr>\n",
              "      <th>8</th>\n",
              "      <td>788</td>\n",
              "      <td>Mulheres</td>\n",
              "    </tr>\n",
              "    <tr>\n",
              "      <th>13</th>\n",
              "      <td>788</td>\n",
              "      <td>Mulheres</td>\n",
              "    </tr>\n",
              "    <tr>\n",
              "      <th>3</th>\n",
              "      <td>800</td>\n",
              "      <td>Homens</td>\n",
              "    </tr>\n",
              "    <tr>\n",
              "      <th>2</th>\n",
              "      <td>850</td>\n",
              "      <td>Homens</td>\n",
              "    </tr>\n",
              "    <tr>\n",
              "      <th>6</th>\n",
              "      <td>1100</td>\n",
              "      <td>Mulheres</td>\n",
              "    </tr>\n",
              "    <tr>\n",
              "      <th>0</th>\n",
              "      <td>1200</td>\n",
              "      <td>Homens</td>\n",
              "    </tr>\n",
              "    <tr>\n",
              "      <th>5</th>\n",
              "      <td>1200</td>\n",
              "      <td>Homens</td>\n",
              "    </tr>\n",
              "    <tr>\n",
              "      <th>1</th>\n",
              "      <td>2000</td>\n",
              "      <td>Homens</td>\n",
              "    </tr>\n",
              "    <tr>\n",
              "      <th>4</th>\n",
              "      <td>2000</td>\n",
              "      <td>Homens</td>\n",
              "    </tr>\n",
              "    <tr>\n",
              "      <th>9</th>\n",
              "      <td>4300</td>\n",
              "      <td>Mulheres</td>\n",
              "    </tr>\n",
              "  </tbody>\n",
              "</table>\n",
              "</div>\n",
              "      <button class=\"colab-df-convert\" onclick=\"convertToInteractive('df-61862db4-1aec-4c49-a2a9-c53803affdc7')\"\n",
              "              title=\"Convert this dataframe to an interactive table.\"\n",
              "              style=\"display:none;\">\n",
              "        \n",
              "  <svg xmlns=\"http://www.w3.org/2000/svg\" height=\"24px\"viewBox=\"0 0 24 24\"\n",
              "       width=\"24px\">\n",
              "    <path d=\"M0 0h24v24H0V0z\" fill=\"none\"/>\n",
              "    <path d=\"M18.56 5.44l.94 2.06.94-2.06 2.06-.94-2.06-.94-.94-2.06-.94 2.06-2.06.94zm-11 1L8.5 8.5l.94-2.06 2.06-.94-2.06-.94L8.5 2.5l-.94 2.06-2.06.94zm10 10l.94 2.06.94-2.06 2.06-.94-2.06-.94-.94-2.06-.94 2.06-2.06.94z\"/><path d=\"M17.41 7.96l-1.37-1.37c-.4-.4-.92-.59-1.43-.59-.52 0-1.04.2-1.43.59L10.3 9.45l-7.72 7.72c-.78.78-.78 2.05 0 2.83L4 21.41c.39.39.9.59 1.41.59.51 0 1.02-.2 1.41-.59l7.78-7.78 2.81-2.81c.8-.78.8-2.07 0-2.86zM5.41 20L4 18.59l7.72-7.72 1.47 1.35L5.41 20z\"/>\n",
              "  </svg>\n",
              "      </button>\n",
              "      \n",
              "  <style>\n",
              "    .colab-df-container {\n",
              "      display:flex;\n",
              "      flex-wrap:wrap;\n",
              "      gap: 12px;\n",
              "    }\n",
              "\n",
              "    .colab-df-convert {\n",
              "      background-color: #E8F0FE;\n",
              "      border: none;\n",
              "      border-radius: 50%;\n",
              "      cursor: pointer;\n",
              "      display: none;\n",
              "      fill: #1967D2;\n",
              "      height: 32px;\n",
              "      padding: 0 0 0 0;\n",
              "      width: 32px;\n",
              "    }\n",
              "\n",
              "    .colab-df-convert:hover {\n",
              "      background-color: #E2EBFA;\n",
              "      box-shadow: 0px 1px 2px rgba(60, 64, 67, 0.3), 0px 1px 3px 1px rgba(60, 64, 67, 0.15);\n",
              "      fill: #174EA6;\n",
              "    }\n",
              "\n",
              "    [theme=dark] .colab-df-convert {\n",
              "      background-color: #3B4455;\n",
              "      fill: #D2E3FC;\n",
              "    }\n",
              "\n",
              "    [theme=dark] .colab-df-convert:hover {\n",
              "      background-color: #434B5C;\n",
              "      box-shadow: 0px 1px 3px 1px rgba(0, 0, 0, 0.15);\n",
              "      filter: drop-shadow(0px 1px 2px rgba(0, 0, 0, 0.3));\n",
              "      fill: #FFFFFF;\n",
              "    }\n",
              "  </style>\n",
              "\n",
              "      <script>\n",
              "        const buttonEl =\n",
              "          document.querySelector('#df-61862db4-1aec-4c49-a2a9-c53803affdc7 button.colab-df-convert');\n",
              "        buttonEl.style.display =\n",
              "          google.colab.kernel.accessAllowed ? 'block' : 'none';\n",
              "\n",
              "        async function convertToInteractive(key) {\n",
              "          const element = document.querySelector('#df-61862db4-1aec-4c49-a2a9-c53803affdc7');\n",
              "          const dataTable =\n",
              "            await google.colab.kernel.invokeFunction('convertToInteractive',\n",
              "                                                     [key], {});\n",
              "          if (!dataTable) return;\n",
              "\n",
              "          const docLinkHtml = 'Like what you see? Visit the ' +\n",
              "            '<a target=\"_blank\" href=https://colab.research.google.com/notebooks/data_table.ipynb>data table notebook</a>'\n",
              "            + ' to learn more about interactive tables.';\n",
              "          element.innerHTML = '';\n",
              "          dataTable['output_type'] = 'display_data';\n",
              "          await google.colab.output.renderOutput(dataTable, element);\n",
              "          const docLink = document.createElement('div');\n",
              "          docLink.innerHTML = docLinkHtml;\n",
              "          element.appendChild(docLink);\n",
              "        }\n",
              "      </script>\n",
              "    </div>\n",
              "  </div>\n",
              "  "
            ],
            "text/plain": [
              "    Renda      Sexo\n",
              "10    250  Mulheres\n",
              "7     400  Mulheres\n",
              "11    400  Mulheres\n",
              "12    700  Mulheres\n",
              "8     788  Mulheres\n",
              "13    788  Mulheres\n",
              "3     800    Homens\n",
              "2     850    Homens\n",
              "6    1100  Mulheres\n",
              "0    1200    Homens\n",
              "5    1200    Homens\n",
              "1    2000    Homens\n",
              "4    2000    Homens\n",
              "9    4300  Mulheres"
            ]
          },
          "metadata": {},
          "execution_count": 154
        }
      ],
      "source": [
        "sexo.drop(['Posto'], axis = 1, inplace = True)\n",
        "sexo"
      ]
    },
    {
      "cell_type": "code",
      "execution_count": null,
      "metadata": {
        "id": "K4Qn49E78-Ed",
        "colab": {
          "base_uri": "https://localhost:8080/",
          "height": 488
        },
        "outputId": "9baa3f65-947a-4eaa-9234-10bd0dd48761"
      },
      "outputs": [
        {
          "output_type": "execute_result",
          "data": {
            "text/html": [
              "\n",
              "  <div id=\"df-75a97d9d-9a2d-452c-8adb-9e495a31ce14\">\n",
              "    <div class=\"colab-df-container\">\n",
              "      <div>\n",
              "<style scoped>\n",
              "    .dataframe tbody tr th:only-of-type {\n",
              "        vertical-align: middle;\n",
              "    }\n",
              "\n",
              "    .dataframe tbody tr th {\n",
              "        vertical-align: top;\n",
              "    }\n",
              "\n",
              "    .dataframe thead th {\n",
              "        text-align: right;\n",
              "    }\n",
              "</style>\n",
              "<table border=\"1\" class=\"dataframe\">\n",
              "  <thead>\n",
              "    <tr style=\"text-align: right;\">\n",
              "      <th></th>\n",
              "      <th>Renda</th>\n",
              "      <th>Sexo</th>\n",
              "      <th>Posto</th>\n",
              "    </tr>\n",
              "  </thead>\n",
              "  <tbody>\n",
              "    <tr>\n",
              "      <th>0</th>\n",
              "      <td>250</td>\n",
              "      <td>Mulheres</td>\n",
              "      <td>1.0</td>\n",
              "    </tr>\n",
              "    <tr>\n",
              "      <th>1</th>\n",
              "      <td>400</td>\n",
              "      <td>Mulheres</td>\n",
              "      <td>2.5</td>\n",
              "    </tr>\n",
              "    <tr>\n",
              "      <th>2</th>\n",
              "      <td>400</td>\n",
              "      <td>Mulheres</td>\n",
              "      <td>2.5</td>\n",
              "    </tr>\n",
              "    <tr>\n",
              "      <th>3</th>\n",
              "      <td>700</td>\n",
              "      <td>Mulheres</td>\n",
              "      <td>4.0</td>\n",
              "    </tr>\n",
              "    <tr>\n",
              "      <th>4</th>\n",
              "      <td>788</td>\n",
              "      <td>Mulheres</td>\n",
              "      <td>5.5</td>\n",
              "    </tr>\n",
              "    <tr>\n",
              "      <th>5</th>\n",
              "      <td>788</td>\n",
              "      <td>Mulheres</td>\n",
              "      <td>5.5</td>\n",
              "    </tr>\n",
              "    <tr>\n",
              "      <th>6</th>\n",
              "      <td>800</td>\n",
              "      <td>Homens</td>\n",
              "      <td>7.0</td>\n",
              "    </tr>\n",
              "    <tr>\n",
              "      <th>7</th>\n",
              "      <td>850</td>\n",
              "      <td>Homens</td>\n",
              "      <td>8.0</td>\n",
              "    </tr>\n",
              "    <tr>\n",
              "      <th>8</th>\n",
              "      <td>1100</td>\n",
              "      <td>Mulheres</td>\n",
              "      <td>9.0</td>\n",
              "    </tr>\n",
              "    <tr>\n",
              "      <th>9</th>\n",
              "      <td>1200</td>\n",
              "      <td>Homens</td>\n",
              "      <td>10.5</td>\n",
              "    </tr>\n",
              "    <tr>\n",
              "      <th>10</th>\n",
              "      <td>1200</td>\n",
              "      <td>Homens</td>\n",
              "      <td>10.5</td>\n",
              "    </tr>\n",
              "    <tr>\n",
              "      <th>11</th>\n",
              "      <td>2000</td>\n",
              "      <td>Homens</td>\n",
              "      <td>12.5</td>\n",
              "    </tr>\n",
              "    <tr>\n",
              "      <th>12</th>\n",
              "      <td>2000</td>\n",
              "      <td>Homens</td>\n",
              "      <td>12.5</td>\n",
              "    </tr>\n",
              "    <tr>\n",
              "      <th>13</th>\n",
              "      <td>4300</td>\n",
              "      <td>Mulheres</td>\n",
              "      <td>14.0</td>\n",
              "    </tr>\n",
              "  </tbody>\n",
              "</table>\n",
              "</div>\n",
              "      <button class=\"colab-df-convert\" onclick=\"convertToInteractive('df-75a97d9d-9a2d-452c-8adb-9e495a31ce14')\"\n",
              "              title=\"Convert this dataframe to an interactive table.\"\n",
              "              style=\"display:none;\">\n",
              "        \n",
              "  <svg xmlns=\"http://www.w3.org/2000/svg\" height=\"24px\"viewBox=\"0 0 24 24\"\n",
              "       width=\"24px\">\n",
              "    <path d=\"M0 0h24v24H0V0z\" fill=\"none\"/>\n",
              "    <path d=\"M18.56 5.44l.94 2.06.94-2.06 2.06-.94-2.06-.94-.94-2.06-.94 2.06-2.06.94zm-11 1L8.5 8.5l.94-2.06 2.06-.94-2.06-.94L8.5 2.5l-.94 2.06-2.06.94zm10 10l.94 2.06.94-2.06 2.06-.94-2.06-.94-.94-2.06-.94 2.06-2.06.94z\"/><path d=\"M17.41 7.96l-1.37-1.37c-.4-.4-.92-.59-1.43-.59-.52 0-1.04.2-1.43.59L10.3 9.45l-7.72 7.72c-.78.78-.78 2.05 0 2.83L4 21.41c.39.39.9.59 1.41.59.51 0 1.02-.2 1.41-.59l7.78-7.78 2.81-2.81c.8-.78.8-2.07 0-2.86zM5.41 20L4 18.59l7.72-7.72 1.47 1.35L5.41 20z\"/>\n",
              "  </svg>\n",
              "      </button>\n",
              "      \n",
              "  <style>\n",
              "    .colab-df-container {\n",
              "      display:flex;\n",
              "      flex-wrap:wrap;\n",
              "      gap: 12px;\n",
              "    }\n",
              "\n",
              "    .colab-df-convert {\n",
              "      background-color: #E8F0FE;\n",
              "      border: none;\n",
              "      border-radius: 50%;\n",
              "      cursor: pointer;\n",
              "      display: none;\n",
              "      fill: #1967D2;\n",
              "      height: 32px;\n",
              "      padding: 0 0 0 0;\n",
              "      width: 32px;\n",
              "    }\n",
              "\n",
              "    .colab-df-convert:hover {\n",
              "      background-color: #E2EBFA;\n",
              "      box-shadow: 0px 1px 2px rgba(60, 64, 67, 0.3), 0px 1px 3px 1px rgba(60, 64, 67, 0.15);\n",
              "      fill: #174EA6;\n",
              "    }\n",
              "\n",
              "    [theme=dark] .colab-df-convert {\n",
              "      background-color: #3B4455;\n",
              "      fill: #D2E3FC;\n",
              "    }\n",
              "\n",
              "    [theme=dark] .colab-df-convert:hover {\n",
              "      background-color: #434B5C;\n",
              "      box-shadow: 0px 1px 3px 1px rgba(0, 0, 0, 0.15);\n",
              "      filter: drop-shadow(0px 1px 2px rgba(0, 0, 0, 0.3));\n",
              "      fill: #FFFFFF;\n",
              "    }\n",
              "  </style>\n",
              "\n",
              "      <script>\n",
              "        const buttonEl =\n",
              "          document.querySelector('#df-75a97d9d-9a2d-452c-8adb-9e495a31ce14 button.colab-df-convert');\n",
              "        buttonEl.style.display =\n",
              "          google.colab.kernel.accessAllowed ? 'block' : 'none';\n",
              "\n",
              "        async function convertToInteractive(key) {\n",
              "          const element = document.querySelector('#df-75a97d9d-9a2d-452c-8adb-9e495a31ce14');\n",
              "          const dataTable =\n",
              "            await google.colab.kernel.invokeFunction('convertToInteractive',\n",
              "                                                     [key], {});\n",
              "          if (!dataTable) return;\n",
              "\n",
              "          const docLinkHtml = 'Like what you see? Visit the ' +\n",
              "            '<a target=\"_blank\" href=https://colab.research.google.com/notebooks/data_table.ipynb>data table notebook</a>'\n",
              "            + ' to learn more about interactive tables.';\n",
              "          element.innerHTML = '';\n",
              "          dataTable['output_type'] = 'display_data';\n",
              "          await google.colab.output.renderOutput(dataTable, element);\n",
              "          const docLink = document.createElement('div');\n",
              "          docLink.innerHTML = docLinkHtml;\n",
              "          element.appendChild(docLink);\n",
              "        }\n",
              "      </script>\n",
              "    </div>\n",
              "  </div>\n",
              "  "
            ],
            "text/plain": [
              "    Renda      Sexo  Posto\n",
              "0     250  Mulheres    1.0\n",
              "1     400  Mulheres    2.5\n",
              "2     400  Mulheres    2.5\n",
              "3     700  Mulheres    4.0\n",
              "4     788  Mulheres    5.5\n",
              "5     788  Mulheres    5.5\n",
              "6     800    Homens    7.0\n",
              "7     850    Homens    8.0\n",
              "8    1100  Mulheres    9.0\n",
              "9    1200    Homens   10.5\n",
              "10   1200    Homens   10.5\n",
              "11   2000    Homens   12.5\n",
              "12   2000    Homens   12.5\n",
              "13   4300  Mulheres   14.0"
            ]
          },
          "metadata": {},
          "execution_count": 155
        }
      ],
      "source": [
        "sexo = sexo.merge(posto, left_on = 'Renda', right_on = 'Renda', how = 'left')\n",
        "sexo"
      ]
    },
    {
      "cell_type": "markdown",
      "metadata": {
        "id": "LFcpe4l_psm-"
      },
      "source": [
        "### Obtendo $R$\n",
        "\n",
        "### $R_1$ = soma dos postos do grupo $n_1$\n",
        "### $R_2$ = soma dos postos do grupo $n_2$"
      ]
    },
    {
      "cell_type": "code",
      "execution_count": null,
      "metadata": {
        "id": "Y3OnPJ7_psm_",
        "colab": {
          "base_uri": "https://localhost:8080/",
          "height": 143
        },
        "outputId": "92d556b1-a7cf-4435-92f4-1829d4682a57"
      },
      "outputs": [
        {
          "output_type": "execute_result",
          "data": {
            "text/html": [
              "\n",
              "  <div id=\"df-d1026aa1-c0db-4c30-9989-ddff28ea7a92\">\n",
              "    <div class=\"colab-df-container\">\n",
              "      <div>\n",
              "<style scoped>\n",
              "    .dataframe tbody tr th:only-of-type {\n",
              "        vertical-align: middle;\n",
              "    }\n",
              "\n",
              "    .dataframe tbody tr th {\n",
              "        vertical-align: top;\n",
              "    }\n",
              "\n",
              "    .dataframe thead th {\n",
              "        text-align: right;\n",
              "    }\n",
              "</style>\n",
              "<table border=\"1\" class=\"dataframe\">\n",
              "  <thead>\n",
              "    <tr style=\"text-align: right;\">\n",
              "      <th></th>\n",
              "      <th>Posto</th>\n",
              "    </tr>\n",
              "    <tr>\n",
              "      <th>Sexo</th>\n",
              "      <th></th>\n",
              "    </tr>\n",
              "  </thead>\n",
              "  <tbody>\n",
              "    <tr>\n",
              "      <th>Homens</th>\n",
              "      <td>61.0</td>\n",
              "    </tr>\n",
              "    <tr>\n",
              "      <th>Mulheres</th>\n",
              "      <td>44.0</td>\n",
              "    </tr>\n",
              "  </tbody>\n",
              "</table>\n",
              "</div>\n",
              "      <button class=\"colab-df-convert\" onclick=\"convertToInteractive('df-d1026aa1-c0db-4c30-9989-ddff28ea7a92')\"\n",
              "              title=\"Convert this dataframe to an interactive table.\"\n",
              "              style=\"display:none;\">\n",
              "        \n",
              "  <svg xmlns=\"http://www.w3.org/2000/svg\" height=\"24px\"viewBox=\"0 0 24 24\"\n",
              "       width=\"24px\">\n",
              "    <path d=\"M0 0h24v24H0V0z\" fill=\"none\"/>\n",
              "    <path d=\"M18.56 5.44l.94 2.06.94-2.06 2.06-.94-2.06-.94-.94-2.06-.94 2.06-2.06.94zm-11 1L8.5 8.5l.94-2.06 2.06-.94-2.06-.94L8.5 2.5l-.94 2.06-2.06.94zm10 10l.94 2.06.94-2.06 2.06-.94-2.06-.94-.94-2.06-.94 2.06-2.06.94z\"/><path d=\"M17.41 7.96l-1.37-1.37c-.4-.4-.92-.59-1.43-.59-.52 0-1.04.2-1.43.59L10.3 9.45l-7.72 7.72c-.78.78-.78 2.05 0 2.83L4 21.41c.39.39.9.59 1.41.59.51 0 1.02-.2 1.41-.59l7.78-7.78 2.81-2.81c.8-.78.8-2.07 0-2.86zM5.41 20L4 18.59l7.72-7.72 1.47 1.35L5.41 20z\"/>\n",
              "  </svg>\n",
              "      </button>\n",
              "      \n",
              "  <style>\n",
              "    .colab-df-container {\n",
              "      display:flex;\n",
              "      flex-wrap:wrap;\n",
              "      gap: 12px;\n",
              "    }\n",
              "\n",
              "    .colab-df-convert {\n",
              "      background-color: #E8F0FE;\n",
              "      border: none;\n",
              "      border-radius: 50%;\n",
              "      cursor: pointer;\n",
              "      display: none;\n",
              "      fill: #1967D2;\n",
              "      height: 32px;\n",
              "      padding: 0 0 0 0;\n",
              "      width: 32px;\n",
              "    }\n",
              "\n",
              "    .colab-df-convert:hover {\n",
              "      background-color: #E2EBFA;\n",
              "      box-shadow: 0px 1px 2px rgba(60, 64, 67, 0.3), 0px 1px 3px 1px rgba(60, 64, 67, 0.15);\n",
              "      fill: #174EA6;\n",
              "    }\n",
              "\n",
              "    [theme=dark] .colab-df-convert {\n",
              "      background-color: #3B4455;\n",
              "      fill: #D2E3FC;\n",
              "    }\n",
              "\n",
              "    [theme=dark] .colab-df-convert:hover {\n",
              "      background-color: #434B5C;\n",
              "      box-shadow: 0px 1px 3px 1px rgba(0, 0, 0, 0.15);\n",
              "      filter: drop-shadow(0px 1px 2px rgba(0, 0, 0, 0.3));\n",
              "      fill: #FFFFFF;\n",
              "    }\n",
              "  </style>\n",
              "\n",
              "      <script>\n",
              "        const buttonEl =\n",
              "          document.querySelector('#df-d1026aa1-c0db-4c30-9989-ddff28ea7a92 button.colab-df-convert');\n",
              "        buttonEl.style.display =\n",
              "          google.colab.kernel.accessAllowed ? 'block' : 'none';\n",
              "\n",
              "        async function convertToInteractive(key) {\n",
              "          const element = document.querySelector('#df-d1026aa1-c0db-4c30-9989-ddff28ea7a92');\n",
              "          const dataTable =\n",
              "            await google.colab.kernel.invokeFunction('convertToInteractive',\n",
              "                                                     [key], {});\n",
              "          if (!dataTable) return;\n",
              "\n",
              "          const docLinkHtml = 'Like what you see? Visit the ' +\n",
              "            '<a target=\"_blank\" href=https://colab.research.google.com/notebooks/data_table.ipynb>data table notebook</a>'\n",
              "            + ' to learn more about interactive tables.';\n",
              "          element.innerHTML = '';\n",
              "          dataTable['output_type'] = 'display_data';\n",
              "          await google.colab.output.renderOutput(dataTable, element);\n",
              "          const docLink = document.createElement('div');\n",
              "          docLink.innerHTML = docLinkHtml;\n",
              "          element.appendChild(docLink);\n",
              "        }\n",
              "      </script>\n",
              "    </div>\n",
              "  </div>\n",
              "  "
            ],
            "text/plain": [
              "          Posto\n",
              "Sexo           \n",
              "Homens     61.0\n",
              "Mulheres   44.0"
            ]
          },
          "metadata": {},
          "execution_count": 156
        }
      ],
      "source": [
        "Temp = sexo[['Sexo', 'Posto']].groupby('Sexo').sum()\n",
        "Temp"
      ]
    },
    {
      "cell_type": "code",
      "execution_count": null,
      "metadata": {
        "id": "mkbp_OgepsnA",
        "colab": {
          "base_uri": "https://localhost:8080/"
        },
        "outputId": "8899e6c8-177e-48df-ef83-7d6afaf70b91"
      },
      "outputs": [
        {
          "output_type": "execute_result",
          "data": {
            "text/plain": [
              "61.0"
            ]
          },
          "metadata": {},
          "execution_count": 157
        }
      ],
      "source": [
        "R_1 = Temp.loc['Homens'][0]\n",
        "R_1"
      ]
    },
    {
      "cell_type": "code",
      "execution_count": null,
      "metadata": {
        "id": "zZuZTlp0psnB",
        "colab": {
          "base_uri": "https://localhost:8080/"
        },
        "outputId": "0d06ec51-de36-48cf-ee01-3d67d09a88c9"
      },
      "outputs": [
        {
          "output_type": "execute_result",
          "data": {
            "text/plain": [
              "44.0"
            ]
          },
          "metadata": {},
          "execution_count": 158
        }
      ],
      "source": [
        "R_2 = Temp.loc['Mulheres'][0]\n",
        "R_2"
      ]
    },
    {
      "cell_type": "markdown",
      "metadata": {
        "id": "VheEyfc8psnC"
      },
      "source": [
        "### Obter $u$\n",
        "\n",
        "# $$u_1 = n_1 \\times n_2 + \\frac{n_1 \\times (n_1 + 1)}{2} - R_1$$\n",
        "# $$u_2 = n_1 \\times n_2 + \\frac{n_2 \\times (n_2 + 1)}{2} - R_2$$\n",
        "\n",
        "# $$u = min(u_1, u_2)$$\n"
      ]
    },
    {
      "cell_type": "code",
      "execution_count": null,
      "metadata": {
        "id": "zUr2AlPcpsnC",
        "colab": {
          "base_uri": "https://localhost:8080/"
        },
        "outputId": "5ff6f0dd-ec72-4973-b66b-42312a31b04e"
      },
      "outputs": [
        {
          "output_type": "execute_result",
          "data": {
            "text/plain": [
              "8.0"
            ]
          },
          "metadata": {},
          "execution_count": 159
        }
      ],
      "source": [
        "u_1 = (n_1 * n_2) + (n_1 * (n_1 + 1) / 2) - R_1\n",
        "u_1 "
      ]
    },
    {
      "cell_type": "code",
      "execution_count": null,
      "metadata": {
        "id": "rFYBYtf9psnE",
        "colab": {
          "base_uri": "https://localhost:8080/"
        },
        "outputId": "cbc4413e-45ef-418f-ce0d-90ca58f15406"
      },
      "outputs": [
        {
          "output_type": "execute_result",
          "data": {
            "text/plain": [
              "40.0"
            ]
          },
          "metadata": {},
          "execution_count": 160
        }
      ],
      "source": [
        "u_2 = (n_1 * n_2) + (n_2 * (n_2 + 1) / 2) - R_2\n",
        "u_2"
      ]
    },
    {
      "cell_type": "code",
      "execution_count": null,
      "metadata": {
        "id": "2TodtD_jpsnF",
        "colab": {
          "base_uri": "https://localhost:8080/"
        },
        "outputId": "64df9cac-9a93-4b0a-f9d9-9d1c6f40f2f5"
      },
      "outputs": [
        {
          "output_type": "execute_result",
          "data": {
            "text/plain": [
              "8.0"
            ]
          },
          "metadata": {},
          "execution_count": 161
        }
      ],
      "source": [
        "u = min(u_1, u_2)\n",
        "u"
      ]
    },
    {
      "cell_type": "markdown",
      "metadata": {
        "id": "v9JqAVXTpsnH"
      },
      "source": [
        "### Obter $\\mu{(u)}$\n",
        "\n",
        "# $$\\mu{(u)} = \\frac{n_1 \\times n_2}{2}$$"
      ]
    },
    {
      "cell_type": "code",
      "execution_count": null,
      "metadata": {
        "id": "ANX33u8upsnH",
        "colab": {
          "base_uri": "https://localhost:8080/"
        },
        "outputId": "9b34ec4e-dfda-49b2-97b2-afd4c665811e"
      },
      "outputs": [
        {
          "output_type": "execute_result",
          "data": {
            "text/plain": [
              "24.0"
            ]
          },
          "metadata": {},
          "execution_count": 162
        }
      ],
      "source": [
        "mu_u = (n_1 * n_2) / 2\n",
        "mu_u"
      ]
    },
    {
      "cell_type": "markdown",
      "metadata": {
        "id": "mAEF6gUVpsnI"
      },
      "source": [
        "### Obter $\\sigma{(u)}$\n",
        "\n",
        "# $$\\sigma{(u)} = \\sqrt{\\frac{n_1 \\times n_2 \\times (n_1 + n_2 + 1)}{12}}$$"
      ]
    },
    {
      "cell_type": "code",
      "execution_count": null,
      "metadata": {
        "id": "fyoNElj2psnI",
        "colab": {
          "base_uri": "https://localhost:8080/"
        },
        "outputId": "26739129-f89a-44ff-9b33-52ba8de986ed"
      },
      "outputs": [
        {
          "output_type": "execute_result",
          "data": {
            "text/plain": [
              "7.75"
            ]
          },
          "metadata": {},
          "execution_count": 163
        }
      ],
      "source": [
        "sigma_u = np.sqrt((n_1 * n_2 * (n_1 + n_2 + 1)) / 12)\n",
        "sigma_u.round(2)"
      ]
    },
    {
      "cell_type": "markdown",
      "metadata": {
        "id": "T_s3WFVtpsnI"
      },
      "source": [
        "### Obter $Z$\n",
        "\n",
        "# $$Z = \\frac{u - \\mu{(u)}}{\\sigma{(u)}}$$"
      ]
    },
    {
      "cell_type": "code",
      "execution_count": null,
      "metadata": {
        "id": "YwySSfs1psnJ",
        "colab": {
          "base_uri": "https://localhost:8080/"
        },
        "outputId": "478019c3-2c7c-4859-9b70-1fc42cfff7c4"
      },
      "outputs": [
        {
          "output_type": "execute_result",
          "data": {
            "text/plain": [
              "-2.07"
            ]
          },
          "metadata": {},
          "execution_count": 164
        }
      ],
      "source": [
        "z_teste = (u - mu_u) / sigma_u\n",
        "z_teste.round(2)"
      ]
    },
    {
      "cell_type": "markdown",
      "metadata": {
        "id": "ET0XFyyTpsnJ"
      },
      "source": [
        "![Estatística-Teste](https://caelum-online-public.s3.amazonaws.com/1229-estatistica-parte3/01/img024.png)"
      ]
    },
    {
      "cell_type": "markdown",
      "metadata": {
        "id": "qSMrqg9lpsnJ"
      },
      "source": [
        "---"
      ]
    },
    {
      "cell_type": "markdown",
      "metadata": {
        "id": "04hb7sbUpsnK"
      },
      "source": [
        "### **Passo 5** - Aceitação ou rejeição da hipótese nula"
      ]
    },
    {
      "cell_type": "markdown",
      "metadata": {
        "id": "u_jtIZQYpsnK"
      },
      "source": [
        "<img src='https://caelum-online-public.s3.amazonaws.com/1229-estatistica-parte3/01/img025.png' width='80%'>"
      ]
    },
    {
      "cell_type": "markdown",
      "metadata": {
        "id": "tKXPtt7ypsnK"
      },
      "source": [
        "### <font color='red'>Critério do valor crítico</font>\n",
        "\n",
        "> ### Rejeitar $H_0$ se $Z \\leq -t_{\\alpha}$"
      ]
    },
    {
      "cell_type": "code",
      "source": [
        ""
      ],
      "metadata": {
        "id": "isWhWq2Qy-FP"
      },
      "execution_count": null,
      "outputs": []
    },
    {
      "cell_type": "code",
      "execution_count": null,
      "metadata": {
        "id": "YUnoj7r5psnK",
        "colab": {
          "base_uri": "https://localhost:8080/"
        },
        "outputId": "89f334f1-4636-47b1-b1a5-cc3be9919d7d"
      },
      "outputs": [
        {
          "output_type": "execute_result",
          "data": {
            "text/plain": [
              "True"
            ]
          },
          "metadata": {},
          "execution_count": 165
        }
      ],
      "source": [
        "z_teste <= t_alpha # t_alpha já é negativo"
      ]
    },
    {
      "cell_type": "markdown",
      "metadata": {
        "id": "2vh3CcxgpsnM"
      },
      "source": [
        "### <font color='green'>Conclusão: Rejeitamos a hipótese de que não existe diferença entre os grupos, isto é, concluímos que a média das rendas dos chefes de domicílios do sexo feminino é menor que a média das rendas dos chefes de domicílios do sexo masculino. Confirmando a alegação de desigualdade de renda entre os sexos.</font>"
      ]
    },
    {
      "cell_type": "markdown",
      "metadata": {
        "id": "EJiw3TwCpsnM"
      },
      "source": [
        "### <font color='red'>Critério do valor $p$</font>\n",
        "\n",
        "> ### Rejeitar $H_0$ se o valor $p\\leq\\alpha$"
      ]
    },
    {
      "cell_type": "markdown",
      "metadata": {
        "id": "U__FbtXEpsnM"
      },
      "source": [
        "https://docs.scipy.org/doc/scipy/reference/generated/scipy.stats.mannwhitneyu.html"
      ]
    },
    {
      "cell_type": "code",
      "execution_count": null,
      "metadata": {
        "id": "b21fe4hQpsnM"
      },
      "outputs": [],
      "source": [
        "from scipy.stats import mannwhitneyu"
      ]
    },
    {
      "cell_type": "code",
      "execution_count": null,
      "metadata": {
        "id": "xBG8n1qPpsnN",
        "colab": {
          "base_uri": "https://localhost:8080/"
        },
        "outputId": "9bbfb5b6-70ae-4f13-d8a1-66bc07fcf9e3"
      },
      "outputs": [
        {
          "output_type": "stream",
          "name": "stdout",
          "text": [
            "8.0\n",
            "0.022221119551528605\n"
          ]
        }
      ],
      "source": [
        "u, p_valor = mannwhitneyu(mulheres, homens, alternative = 'less') # Teste unicaudal inferior\n",
        "print(u)\n",
        "print(p_valor)"
      ]
    },
    {
      "cell_type": "code",
      "execution_count": null,
      "metadata": {
        "id": "DIo9w6wNpsnO",
        "colab": {
          "base_uri": "https://localhost:8080/"
        },
        "outputId": "5daca465-779e-4936-9b09-bc8568886308"
      },
      "outputs": [
        {
          "output_type": "execute_result",
          "data": {
            "text/plain": [
              "True"
            ]
          },
          "metadata": {},
          "execution_count": 168
        }
      ],
      "source": [
        "p_valor <= significancia"
      ]
    },
    {
      "cell_type": "markdown",
      "source": [
        "### Exercício"
      ],
      "metadata": {
        "id": "m2T2rIFP1q4d"
      }
    },
    {
      "cell_type": "markdown",
      "metadata": {
        "id": "aydvymEdpsnO"
      },
      "source": [
        "---"
      ]
    },
    {
      "cell_type": "markdown",
      "source": [
        "Um professor acredita que alunos que praticam exercícios físicos têm uma performance média escolar superior àquela obtida por alunos que não praticam. Para provar sua teoria, selecionou duas amostras aleatórias, uma com 9 alunos que não praticam exercícios físicos e outra com 10 alunos que cultivam o hábito de se exercitar. A tabela abaixo mostra as notas dos alunos no último ano:"
      ],
      "metadata": {
        "id": "6H8f_-E_1t5m"
      }
    },
    {
      "cell_type": "code",
      "source": [
        "from scipy.stats import mannwhitneyu\n",
        "\n",
        "sem_exercicios = pd.Series([ 7, 6, 7, 8, 6, 8, 6, 9, 5])\n",
        "com_exercicios = pd.Series([8, 7, 6, 6, 8, 6, 10, 6, 7, 8])"
      ],
      "metadata": {
        "id": "-VZTJUxC1uhK"
      },
      "execution_count": null,
      "outputs": []
    },
    {
      "cell_type": "markdown",
      "source": [
        "Teste a hipótese da média das notas dos alunos que praticam exercícios ser maior que a média das notas dos alunos que não praticam. Assinale a alternativa que apresenta o resultado do teste (estatística de teste u e decisão do teste). Considere um nível de significância de 10%."
      ],
      "metadata": {
        "id": "SjK27Ebp2Y6n"
      }
    },
    {
      "cell_type": "code",
      "source": [
        "significancia = 0.10\n",
        "\n",
        "u, p_valor = mannwhitneyu(com_exercicios, sem_exercicios, alternative = 'greater') # Ficar atento na ordem das series\n",
        "print('u =', u)\n",
        "\n",
        "if(p_valor <= significancia):\n",
        "    print('Rejeitar H0')\n",
        "else:\n",
        "    print('Aceitar H0')"
      ],
      "metadata": {
        "colab": {
          "base_uri": "https://localhost:8080/"
        },
        "id": "jWRL7Rhu2e46",
        "outputId": "d369c8f5-652b-46e4-d87c-d8e4e555aa85"
      },
      "execution_count": null,
      "outputs": [
        {
          "output_type": "stream",
          "name": "stdout",
          "text": [
            "u = 50.0\n",
            "Aceitar H0\n"
          ]
        }
      ]
    },
    {
      "cell_type": "markdown",
      "source": [
        "Nesta aula, aprendemos:\n",
        "\n",
        "- A aplicação de testes não paramétricos de comparação entre amostras dependentes\n",
        "- A elaboração do teste não paramétrico de Wilcoxon\n",
        "- A aplicação de testes não paramétricos de comparação entre amostras independentes\n",
        "- A elaboração do teste não paramétrico de Mann-Whitney\n",
        "- A utilização do ferramental Python para aplicação dos testes de Wilcoxon e Mann-Whitney"
      ],
      "metadata": {
        "id": "raB8Z-1b4Gga"
      }
    }
  ],
  "metadata": {
    "colab": {
      "collapsed_sections": [
        "cVgsZ_E3jQKg",
        "nk65O0lepz57"
      ],
      "name": "Curso_de_Estatística_Parte_3.ipynb",
      "provenance": [],
      "include_colab_link": true
    },
    "kernelspec": {
      "display_name": "Python 3",
      "language": "python",
      "name": "python3"
    },
    "language_info": {
      "codemirror_mode": {
        "name": "ipython",
        "version": 3
      },
      "file_extension": ".py",
      "mimetype": "text/x-python",
      "name": "python",
      "nbconvert_exporter": "python",
      "pygments_lexer": "ipython3",
      "version": "3.6.5"
    }
  },
  "nbformat": 4,
  "nbformat_minor": 0
}